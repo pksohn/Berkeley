{
 "cells": [
  {
   "cell_type": "code",
   "execution_count": 309,
   "metadata": {
    "collapsed": false
   },
   "outputs": [],
   "source": [
    "import pandas as pd\n",
    "import numpy as np\n",
    "import os\n",
    "import re\n",
    "import geocoder"
   ]
  },
  {
   "cell_type": "code",
   "execution_count": 310,
   "metadata": {
    "collapsed": false
   },
   "outputs": [],
   "source": [
    "# Get to TSP top folder\n",
    "topdir = \"C:\\Users\\pksohn\\Box Sync\\Berkeley Coursework\\CE259 Public Transportation Systems\\TSP Final Project\"\n",
    "os.chdir(topdir)"
   ]
  },
  {
   "cell_type": "code",
   "execution_count": 311,
   "metadata": {
    "collapsed": false,
    "scrolled": true
   },
   "outputs": [
    {
     "name": "stdout",
     "output_type": "stream",
     "text": [
      "TSP Final Project\n",
      ".ipynb_checkpoints\n",
      "California-Dwell-Q1-2015\n",
      "California-Dwell-Q2-2015\n",
      "California-Dwell-Q3-2015\n",
      "California-Timing_Cards\n",
      "California-Travel_Times-Q1-2015\n",
      "California-Travel_Times-Q2-2015\n",
      "California-Travel_Times-Q3-2015\n"
     ]
    }
   ],
   "source": [
    "# List folders in directory\n",
    "\n",
    "folders = [x[0] for x in os.walk(topdir)]\n",
    "for i in folders:\n",
    "    print i.split(\"\\\\\")[-1]"
   ]
  },
  {
   "cell_type": "code",
   "execution_count": 312,
   "metadata": {
    "collapsed": true
   },
   "outputs": [],
   "source": [
    "# create dataframe for aggregated dwell \n",
    "dwell = pd.DataFrame(columns = [\"quarter\",\"bus\",\"Time\",\"DW\"])"
   ]
  },
  {
   "cell_type": "code",
   "execution_count": 313,
   "metadata": {
    "collapsed": false
   },
   "outputs": [
    {
     "name": "stdout",
     "output_type": "stream",
     "text": [
      "California-Dwell-Q1-2015\n",
      "California-Dwell-Q2-2015\n",
      "California-Dwell-Q3-2015\n"
     ]
    }
   ],
   "source": [
    "# Get dwell folders\n",
    "\n",
    "dwell_folders = [x for x in folders if \"Dwell\" in x]\n",
    "for i in dwell_folders:\n",
    "    print i.split(\"\\\\\")[-1]"
   ]
  },
  {
   "cell_type": "code",
   "execution_count": 314,
   "metadata": {
    "collapsed": false
   },
   "outputs": [
    {
     "name": "stdout",
     "output_type": "stream",
     "text": [
      "California-Dwell-Q1-2015\n",
      "File: 3822_01BX_OB.csv, Length: 50\n",
      "File: 3822_01_OB.csv, Length: 913\n",
      "File: 3822_1BX_OB.csv, Length: 215\n",
      "File: 3822_1_OB.csv, Length: 3649\n",
      "File: 3823_01BX_IB.csv, Length: 108\n",
      "File: 3823_01_IB.csv, Length: 902\n",
      "File: 3823_1BX_IB.csv, Length: 473\n",
      "File: 3823_1_IB.csv, Length: 3609\n",
      "File: 3824_01BX_OB.csv, Length: 50\n",
      "File: 3824_01_OB.csv, Length: 914\n",
      "File: 3824_1BX_OB.csv, Length: 211\n",
      "File: 3824_1_OB.csv, Length: 3652\n",
      "File: 3825_01_IB.csv, Length: 904\n",
      "File: 3825_1_IB.csv, Length: 3605\n",
      "File: 3827_01AX_IB.csv, Length: 59\n",
      "File: 3827_01_IB.csv, Length: 903\n",
      "File: 3827_1AX_IB.csv, Length: 273\n",
      "File: 3827_1_IB.csv, Length: 3601\n",
      "File: 3828_01AX_OB.csv, Length: 46\n",
      "File: 3828_01_OB.csv, Length: 895\n",
      "File: 3828_1AX_OB.csv, Length: 190\n",
      "File: 3828_1_OB.csv, Length: 3583\n",
      "File: 3830_01AX_IB.csv, Length: 59\n",
      "File: 3830_01_IB.csv, Length: 901\n",
      "File: 3830_1AX_IB.csv, Length: 273\n",
      "File: 3830_1_IB.csv, Length: 3596\n",
      "File: 3831_01AX_OB.csv, Length: 47\n",
      "File: 3831_01_OB (1).csv, Length: 894\n",
      "File: 3831_01_OB.csv, Length: 894\n",
      "File: 3831_1AX_OB.csv, Length: 191\n",
      "File: 3831_1_OB.csv, Length: 3583\n",
      "File: 3832_01AX_IB.csv, Length: 59\n",
      "File: 3832_01_IB.csv, Length: 902\n",
      "File: 3832_1AX_IB.csv, Length: 273\n",
      "File: 3832_1_IB.csv, Length: 3596\n",
      "File: 3846_01BX_IB.csv, Length: 107\n",
      "File: 3846_01_IB.csv, Length: 902\n",
      "File: 3846_1BX_IB.csv, Length: 475\n",
      "File: 3846_1_IB.csv, Length: 3617\n",
      "File: 3886_01AX_OB.csv, Length: 47\n",
      "File: 3886_01_OB.csv, Length: 896\n",
      "File: 3886_1AX_OB.csv, Length: 191\n",
      "File: 3886_1_OB.csv, Length: 3588\n",
      "File: 7160_01AX_OB.csv, Length: 47\n",
      "File: 7160_01_OB.csv, Length: 898\n",
      "File: 7160_1AX_OB.csv, Length: 192\n",
      "File: 7160_1_OB.csv, Length: 3590\n",
      "California-Dwell-Q2-2015\n",
      "File: 3822_1BX_OB.csv, Length: 222\n",
      "File: 3822_1_OB.csv, Length: 6257\n",
      "File: 3823_1BX_IB.csv, Length: 931\n",
      "File: 3823_1_IB.csv, Length: 6199\n",
      "File: 3824_1BX_OB.csv, Length: 220\n",
      "File: 3824_1_OB.csv, Length: 6263\n",
      "File: 3825_1_IB.csv, Length: 6192\n",
      "File: 3827_1AX_IB.csv, Length: 424\n",
      "File: 3827_1_IB.csv, Length: 6192\n",
      "File: 3828_1AX_OB.csv, Length: 171\n",
      "File: 3828_1_OB.csv, Length: 6198\n",
      "File: 3830_1AX_IB.csv, Length: 424\n",
      "File: 3830_1_IB.csv, Length: 6184\n",
      "File: 3831_1AX_OB.csv, Length: 171\n",
      "File: 3831_1_OB.csv, Length: 6200\n",
      "File: 3832_1AX_IB.csv, Length: 424\n",
      "File: 3832_1_IB.csv, Length: 6193\n",
      "File: 3846_1BX_IB.csv, Length: 937\n",
      "File: 3846_1_IB.csv, Length: 6213\n",
      "File: 3886_1AX_OB.csv, Length: 171\n",
      "File: 3886_1_OB.csv, Length: 6200\n",
      "File: 7160_1AX_OB.csv, Length: 174\n",
      "File: 7160_1_OB.csv, Length: 6200\n",
      "California-Dwell-Q3-2015\n",
      "File: 3822_1BX_OB (1).csv, Length: 171\n",
      "File: 3822_1_OB.csv, Length: 5053\n",
      "File: 3823_1BX_IB.csv, Length: 664\n",
      "File: 3823_1_IB.csv, Length: 5002\n",
      "File: 3824_1BX_OB.csv, Length: 170\n",
      "File: 3824_1_OB.csv, Length: 5059\n",
      "File: 3825_1_IB.csv, Length: 4996\n",
      "File: 3827_1AX_IB.csv, Length: 369\n",
      "File: 3827_1_IB.csv, Length: 4996\n",
      "File: 3828_1AX_OB.csv, Length: 140\n",
      "File: 3828_1_OB.csv, Length: 4997\n",
      "File: 3830_1AX_IB.csv, Length: 367\n",
      "File: 3830_1_IB.csv, Length: 4998\n",
      "File: 3831_1AX_OB.csv, Length: 140\n",
      "File: 3831_1_OB.csv, Length: 4995\n",
      "File: 3832_1AX_IB.csv, Length: 367\n",
      "File: 3832_1_IB.csv, Length: 4998\n",
      "File: 3846_1BX_IB.csv, Length: 667\n",
      "File: 3846_1_IB.csv, Length: 5015\n",
      "File: 3886_1AX_OB.csv, Length: 140\n",
      "File: 3886_1_OB.csv, Length: 4993\n",
      "File: 7160_1AX_OB.csv, Length: 141\n",
      "File: 7160_1_OB.csv, Length: 4996\n",
      "TOTAL DATAFRAME LENGTH: 200817\n"
     ]
    }
   ],
   "source": [
    "# Iterate over dwell folders\n",
    "\n",
    "for folder in dwell_folders:\n",
    "    foldername = folder.split(\"\\\\\")[-1]\n",
    "    print foldername\n",
    "    \n",
    "    csv_list = [i for i in os.walk(folder)][0][2]\n",
    "    for c in csv_list:\n",
    "        tempdf = pd.read_csv(folder + \"\\\\\" + c)\n",
    "        tempdf[\"quarter\"] = folder.split(\"\\\\\")[-1]\n",
    "        tempdf[\"bus\"] = c.split(\".\")[0]\n",
    "        dwell = dwell.append(tempdf)\n",
    "        print \"File: \" + str(c) + \", Length: \" + str(len(tempdf))\n",
    "\n",
    "print \"TOTAL DATAFRAME LENGTH: \" + str(len(dwell))"
   ]
  },
  {
   "cell_type": "code",
   "execution_count": 315,
   "metadata": {
    "collapsed": true
   },
   "outputs": [],
   "source": [
    "#Save dwelltimes to CSV\n",
    "dwell.to_csv(\"dwell.csv\")"
   ]
  },
  {
   "cell_type": "code",
   "execution_count": 316,
   "metadata": {
    "collapsed": true
   },
   "outputs": [],
   "source": [
    "# create dataframe for aggregated travel times \n",
    "tt = pd.DataFrame(columns = [\"quarter\",\"bus\",\"Time\",\"TT\"])"
   ]
  },
  {
   "cell_type": "code",
   "execution_count": 317,
   "metadata": {
    "collapsed": false
   },
   "outputs": [
    {
     "name": "stdout",
     "output_type": "stream",
     "text": [
      "California-Dwell-Q1-2015\n",
      "California-Dwell-Q2-2015\n",
      "California-Dwell-Q3-2015\n"
     ]
    }
   ],
   "source": [
    "# Get tt folders\n",
    "\n",
    "tt_folders = [x for x in folders if \"Travel_Times\" in x]\n",
    "for i in dwell_folders:\n",
    "    print i.split(\"\\\\\")[-1]"
   ]
  },
  {
   "cell_type": "code",
   "execution_count": 318,
   "metadata": {
    "collapsed": false,
    "scrolled": true
   },
   "outputs": [
    {
     "name": "stdout",
     "output_type": "stream",
     "text": [
      "California-Travel_Times-Q1-2015\n",
      "File: 3822_01BX_OB.csv, Length: 50\n",
      "File: 3822_1BX_OB.csv, Length: 215\n",
      "File: 3822_1_OB (1).csv, Length: 3643\n",
      "File: 3822_1_OB.csv, Length: 3643\n",
      "File: 3823_01BX_IB.csv, Length: 108\n",
      "File: 3823_01_IB.csv, Length: 902\n",
      "File: 3823_1BX_IB.csv, Length: 473\n",
      "File: 3823_1_IB.csv, Length: 3598\n",
      "File: 3824_01BX_OB.csv, Length: 50\n",
      "File: 3824_01_OB.csv, Length: 913\n",
      "File: 3824_1BX_OB.csv, Length: 211\n",
      "File: 3824_1_OB.csv, Length: 3645\n",
      "File: 3825_01_IB.csv, Length: 901\n",
      "File: 3825_1_IB.csv, Length: 3594\n",
      "File: 3827_01AX_IB.csv, Length: 59\n",
      "File: 3827_01_IB.csv, Length: 901\n",
      "File: 3827_1AX_IB.csv, Length: 273\n",
      "File: 3827_1_IB.csv, Length: 3594\n",
      "File: 3828_01AX_OB.csv, Length: 46\n",
      "File: 3828_01_OB.csv, Length: 895\n",
      "File: 3828_1AX_OB.csv, Length: 190\n",
      "File: 3828_1_OB.csv, Length: 3582\n",
      "File: 3830_01AX_IB.csv, Length: 59\n",
      "File: 3830_01_IB.csv, Length: 901\n",
      "File: 3830_1AX_IB.csv, Length: 273\n",
      "File: 3830_1_IB.csv, Length: 3591\n",
      "File: 3831_01AX_OB.csv, Length: 46\n",
      "File: 3831_01_OB.csv, Length: 894\n",
      "File: 3831_1AX_OB.csv, Length: 190\n",
      "File: 3831_1_OB.csv, Length: 3581\n",
      "File: 3832_01AX_IB.csv, Length: 59\n",
      "File: 3832_01_IB.csv, Length: 901\n",
      "File: 3832_1AX_IB.csv, Length: 272\n",
      "File: 3832_1_IB.csv, Length: 3588\n",
      "File: 3846_01BX_IB.csv, Length: 107\n",
      "File: 3846_01_IB.csv, Length: 900\n",
      "File: 3846_1BX_IB.csv, Length: 472\n",
      "File: 3846_1_IB.csv, Length: 3604\n",
      "File: 3886_01AX_OB.csv, Length: 47\n",
      "File: 3886_01_OB.csv, Length: 894\n",
      "File: 3886_1AX_OB.csv, Length: 191\n",
      "File: 3886_1_OB.csv, Length: 3583\n",
      "File: 7160_01AX_OB.csv, Length: 7\n",
      "File: 7160_01_OB.csv, Length: 896\n",
      "File: 7160_1AX_OB.csv, Length: 31\n",
      "File: 7160_1_OB.csv, Length: 3588\n",
      "California-Travel_Times-Q2-2015\n",
      "File: 3822_1BX_OB.csv, Length: 222\n",
      "File: 3822_1_OB.csv, Length: 6247\n",
      "File: 3823_1BX_IB.csv, Length: 931\n",
      "File: 3823_1_IB.csv, Length: 6188\n",
      "File: 3824_1_OB.csv, Length: 6254\n",
      "File: 3825_1_IB.csv, Length: 6185\n",
      "File: 3827_1AX_IB.csv, Length: 424\n",
      "File: 3827_1_IB.csv, Length: 6184\n",
      "File: 3828_1AX_OB.csv, Length: 171\n",
      "File: 3828_1_OB.csv, Length: 6198\n",
      "File: 3830_1AX_IB.csv, Length: 424\n",
      "File: 3830_1_IB.csv, Length: 6184\n",
      "File: 3831_1AX_OB.csv, Length: 171\n",
      "File: 3831_1_OB.csv, Length: 6198\n",
      "File: 3832_1AX_IB.csv, Length: 424\n",
      "File: 3832_1_IB.csv, Length: 6183\n",
      "File: 3846_1BX_IB.csv, Length: 927\n",
      "File: 3846_1_IB.csv, Length: 6195\n",
      "File: 3886_1AX_OB.csv, Length: 171\n",
      "File: 3886_1_OB.csv, Length: 6198\n",
      "File: 7160_1AX_OB.csv, Length: 112\n",
      "File: 7160_1_OB.csv, Length: 6196\n",
      "California-Travel_Times-Q3-2015\n",
      "File: 3822_1BX_OB.csv, Length: 171\n",
      "File: 3822_1_OB.csv, Length: 5051\n",
      "File: 3823_1BX_IB.csv, Length: 664\n",
      "File: 3823_1_IB.csv, Length: 4994\n",
      "File: 3824_1BX_OB.csv, Length: 168\n",
      "File: 3824_1_OB.csv, Length: 5051\n",
      "File: 3825_1_IB.csv, Length: 4994\n",
      "File: 3827_1AX_IB.csv, Length: 367\n",
      "File: 3827_1_IB.csv, Length: 4993\n",
      "File: 3828_1AX_OB.csv, Length: 140\n",
      "File: 3828_1_OB.csv, Length: 4991\n",
      "File: 3830_1AX_IB.csv, Length: 367\n",
      "File: 3830_1_IB.csv, Length: 4995\n",
      "File: 3831_1AX_OB.csv, Length: 140\n",
      "File: 3831_1_OB.csv, Length: 4995\n",
      "File: 3832_1AX_IB.csv, Length: 366\n",
      "File: 3832_1_IB.csv, Length: 4997\n",
      "File: 3846_1BX_IB.csv, Length: 664\n",
      "File: 3846_1_IB.csv, Length: 4998\n",
      "File: 3886_1AX_OB.csv, Length: 139\n",
      "File: 3886_1_OB.csv, Length: 4993\n",
      "File: 7160_1AX_OB.csv, Length: 132\n",
      "File: 7160_1_OB.csv, Length: 4996\n",
      "TOTAL DATAFRAME LENGTH: 201914\n"
     ]
    }
   ],
   "source": [
    "# Iterate over tt folders\n",
    "\n",
    "for folder in tt_folders:\n",
    "    foldername = folder.split(\"\\\\\")[-1]\n",
    "    print foldername\n",
    "    \n",
    "    csv_list = [i for i in os.walk(folder)][0][2]\n",
    "    for c in csv_list:\n",
    "        tempdf = pd.read_csv(folder + \"\\\\\" + c)\n",
    "        tempdf[\"quarter\"] = folder.split(\"\\\\\")[-1]\n",
    "        tempdf[\"bus\"] = c.split(\".\")[0]\n",
    "        tt = tt.append(tempdf)\n",
    "        print \"File: \" + str(c) + \", Length: \" + str(len(tempdf))\n",
    "\n",
    "print \"TOTAL DATAFRAME LENGTH: \" + str(len(tt))"
   ]
  },
  {
   "cell_type": "code",
   "execution_count": 319,
   "metadata": {
    "collapsed": false
   },
   "outputs": [],
   "source": [
    "# split stop and bus information \n",
    "tt[\"stop_number\"] = tt[\"bus\"].apply(lambda x: x.split(\"_\")[0])\n",
    "tt[\"stop_number\"] = tt[\"stop_number\"].astype(str)\n",
    "tt[\"bus_number\"] = tt[\"bus\"].apply(lambda x: x.split(\"_\")[1])\n",
    "tt[\"direction\"] = tt[\"bus\"].apply(lambda x: x.split(\"_\")[2])"
   ]
  },
  {
   "cell_type": "code",
   "execution_count": 320,
   "metadata": {
    "collapsed": false
   },
   "outputs": [],
   "source": [
    "# add stop IDs\n",
    "\n",
    "cal_stops = pd.read_csv(\"california_stops.csv\")\n",
    "cal_stops[\"stop_number\"] = cal_stops[\"stop_number\"].astype(str)\n",
    "cal_stops[\"stop_number\"] = cal_stops[\"stop_number\"].str[1:]\n",
    "cal_stops.head()\n",
    "\n",
    "# merge stop ids with location and direction\n",
    "tt = tt.merge(cal_stops,how=\"left\",on=[\"stop_number\",\"bus_number\",\"direction\"])"
   ]
  },
  {
   "cell_type": "code",
   "execution_count": 321,
   "metadata": {
    "collapsed": false
   },
   "outputs": [],
   "source": [
    "# Convert to datetime\n",
    "tt[\"Datetime\"] = pd.to_datetime(tt.Time)"
   ]
  },
  {
   "cell_type": "code",
   "execution_count": 322,
   "metadata": {
    "collapsed": false
   },
   "outputs": [],
   "source": [
    "# geocode stop locations\n",
    "\n",
    "geocode = pd.DataFrame(tt.stop_location.unique())\n",
    "geocode = geocode.drop(geocode.index[[0]])\n",
    "geocode[\"latitude\"] = None\n",
    "geocode[\"longitude\"] = None\n",
    "geocode.columns = [\"stop_location\",\"latitude\",\"longitude\"]\n",
    "for i in geocode.index:\n",
    "    latlng = geocode.loc[i,\"latitude\"] = geocoder.google(geocode.loc[i,\"stop_location\"] + \", San Francisco, CA\").latlng\n",
    "    geocode.loc[i,\"latitude\"] = latlng[0]\n",
    "    geocode.loc[i,\"longitude\"] = latlng[1]\n",
    "tt = tt.merge(geocode,how=\"left\",on=\"stop_location\")"
   ]
  },
  {
   "cell_type": "code",
   "execution_count": 323,
   "metadata": {
    "collapsed": false
   },
   "outputs": [],
   "source": [
    "# view unique stop names and directions\n",
    "\n",
    "groupprint = tt.groupby([\"bus_number\",\"stop_location\",\"direction\",\"stop_number\"]).count()\n",
    "\n",
    "# export to csv to manually add green extension times and stop locations\n",
    "# groupprint.to_csv(\"groupprint.csv\")"
   ]
  },
  {
   "cell_type": "code",
   "execution_count": 324,
   "metadata": {
    "collapsed": true
   },
   "outputs": [],
   "source": [
    "# import manually added variables on green extension times and stop locations\n",
    "\n",
    "stop_loc = pd.read_csv(\"stop_loc.csv\")\n",
    "stop_loc = stop_loc.drop(\"stop_location\",1)\n",
    "stop_loc.stop_number = stop_loc.stop_number.astype(str)\n",
    "tt = tt.merge(stop_loc,how=\"left\",on=[\"bus_number\",\"direction\",\"stop_number\"])"
   ]
  },
  {
   "cell_type": "code",
   "execution_count": 325,
   "metadata": {
    "collapsed": false
   },
   "outputs": [],
   "source": [
    "# match quarters to TSP phase\n",
    "TSP_install = {\n",
    "    \"California-Travel_Times-Q1-2015\":\"Before\",\n",
    "    \"California-Travel_Times-Q2-2015\":\"During\",\n",
    "    \"California-Travel_Times-Q3-2015\":\"After\"\n",
    "}\n",
    "TSP_phase = pd.DataFrame.from_dict(TSP_install,\"index\")\n",
    "TSP_phase.columns = [\"TSP_phase\"]\n",
    "tt = tt.merge(TSP_phase,how=\"left\",left_on=\"quarter\",right_index=True)"
   ]
  },
  {
   "cell_type": "code",
   "execution_count": 326,
   "metadata": {
    "collapsed": true
   },
   "outputs": [],
   "source": [
    "#Save TT to CSV\n",
    "tt.to_csv(\"tt.csv\")"
   ]
  },
  {
   "cell_type": "code",
   "execution_count": 327,
   "metadata": {
    "collapsed": false
   },
   "outputs": [
    {
     "name": "stdout",
     "output_type": "stream",
     "text": [
      "201914 182617\n"
     ]
    }
   ],
   "source": [
    "# drop rows with Nan for EDA assignment and save to csv\n",
    "\n",
    "eda = tt.dropna(axis=0)\n",
    "print len(tt), len(eda)\n",
    "eda.to_csv(\"travel_times_eda.csv\")"
   ]
  },
  {
   "cell_type": "code",
   "execution_count": 328,
   "metadata": {
    "collapsed": false
   },
   "outputs": [
    {
     "data": {
      "text/html": [
       "<div>\n",
       "<table border=\"1\" class=\"dataframe\">\n",
       "  <thead>\n",
       "    <tr style=\"text-align: right;\">\n",
       "      <th></th>\n",
       "      <th>TT</th>\n",
       "      <th>Time</th>\n",
       "      <th>bus</th>\n",
       "      <th>quarter</th>\n",
       "      <th>stop_number</th>\n",
       "      <th>bus_number</th>\n",
       "      <th>direction</th>\n",
       "      <th>stop_location</th>\n",
       "      <th>Datetime</th>\n",
       "      <th>latitude</th>\n",
       "      <th>longitude</th>\n",
       "      <th>green_ext</th>\n",
       "      <th>stop_place</th>\n",
       "      <th>TSP_phase</th>\n",
       "    </tr>\n",
       "  </thead>\n",
       "  <tbody>\n",
       "    <tr>\n",
       "      <th>3908</th>\n",
       "      <td>70</td>\n",
       "      <td>2015-01-31T04:30:49</td>\n",
       "      <td>3822_1_OB</td>\n",
       "      <td>California-Travel_Times-Q1-2015</td>\n",
       "      <td>3822</td>\n",
       "      <td>1</td>\n",
       "      <td>OB</td>\n",
       "      <td>California St &amp; 4th Ave</td>\n",
       "      <td>2015-01-31 04:30:49</td>\n",
       "      <td>37.7853</td>\n",
       "      <td>-122.462</td>\n",
       "      <td>14</td>\n",
       "      <td>Near</td>\n",
       "      <td>Before</td>\n",
       "    </tr>\n",
       "    <tr>\n",
       "      <th>3909</th>\n",
       "      <td>49</td>\n",
       "      <td>2015-01-31T05:41:41</td>\n",
       "      <td>3822_1_OB</td>\n",
       "      <td>California-Travel_Times-Q1-2015</td>\n",
       "      <td>3822</td>\n",
       "      <td>1</td>\n",
       "      <td>OB</td>\n",
       "      <td>California St &amp; 4th Ave</td>\n",
       "      <td>2015-01-31 05:41:41</td>\n",
       "      <td>37.7853</td>\n",
       "      <td>-122.462</td>\n",
       "      <td>14</td>\n",
       "      <td>Near</td>\n",
       "      <td>Before</td>\n",
       "    </tr>\n",
       "    <tr>\n",
       "      <th>3910</th>\n",
       "      <td>33</td>\n",
       "      <td>2015-01-31T06:09:39</td>\n",
       "      <td>3822_1_OB</td>\n",
       "      <td>California-Travel_Times-Q1-2015</td>\n",
       "      <td>3822</td>\n",
       "      <td>1</td>\n",
       "      <td>OB</td>\n",
       "      <td>California St &amp; 4th Ave</td>\n",
       "      <td>2015-01-31 06:09:39</td>\n",
       "      <td>37.7853</td>\n",
       "      <td>-122.462</td>\n",
       "      <td>14</td>\n",
       "      <td>Near</td>\n",
       "      <td>Before</td>\n",
       "    </tr>\n",
       "    <tr>\n",
       "      <th>3911</th>\n",
       "      <td>40</td>\n",
       "      <td>2015-01-31T10:57:01</td>\n",
       "      <td>3822_1_OB</td>\n",
       "      <td>California-Travel_Times-Q1-2015</td>\n",
       "      <td>3822</td>\n",
       "      <td>1</td>\n",
       "      <td>OB</td>\n",
       "      <td>California St &amp; 4th Ave</td>\n",
       "      <td>2015-01-31 10:57:01</td>\n",
       "      <td>37.7853</td>\n",
       "      <td>-122.462</td>\n",
       "      <td>14</td>\n",
       "      <td>Near</td>\n",
       "      <td>Before</td>\n",
       "    </tr>\n",
       "    <tr>\n",
       "      <th>3912</th>\n",
       "      <td>31</td>\n",
       "      <td>2015-01-31T12:07:45</td>\n",
       "      <td>3822_1_OB</td>\n",
       "      <td>California-Travel_Times-Q1-2015</td>\n",
       "      <td>3822</td>\n",
       "      <td>1</td>\n",
       "      <td>OB</td>\n",
       "      <td>California St &amp; 4th Ave</td>\n",
       "      <td>2015-01-31 12:07:45</td>\n",
       "      <td>37.7853</td>\n",
       "      <td>-122.462</td>\n",
       "      <td>14</td>\n",
       "      <td>Near</td>\n",
       "      <td>Before</td>\n",
       "    </tr>\n",
       "  </tbody>\n",
       "</table>\n",
       "</div>"
      ],
      "text/plain": [
       "      TT                 Time        bus                          quarter  \\\n",
       "3908  70  2015-01-31T04:30:49  3822_1_OB  California-Travel_Times-Q1-2015   \n",
       "3909  49  2015-01-31T05:41:41  3822_1_OB  California-Travel_Times-Q1-2015   \n",
       "3910  33  2015-01-31T06:09:39  3822_1_OB  California-Travel_Times-Q1-2015   \n",
       "3911  40  2015-01-31T10:57:01  3822_1_OB  California-Travel_Times-Q1-2015   \n",
       "3912  31  2015-01-31T12:07:45  3822_1_OB  California-Travel_Times-Q1-2015   \n",
       "\n",
       "     stop_number bus_number direction            stop_location  \\\n",
       "3908        3822          1        OB  California St & 4th Ave   \n",
       "3909        3822          1        OB  California St & 4th Ave   \n",
       "3910        3822          1        OB  California St & 4th Ave   \n",
       "3911        3822          1        OB  California St & 4th Ave   \n",
       "3912        3822          1        OB  California St & 4th Ave   \n",
       "\n",
       "                Datetime latitude longitude  green_ext stop_place TSP_phase  \n",
       "3908 2015-01-31 04:30:49  37.7853  -122.462         14       Near    Before  \n",
       "3909 2015-01-31 05:41:41  37.7853  -122.462         14       Near    Before  \n",
       "3910 2015-01-31 06:09:39  37.7853  -122.462         14       Near    Before  \n",
       "3911 2015-01-31 10:57:01  37.7853  -122.462         14       Near    Before  \n",
       "3912 2015-01-31 12:07:45  37.7853  -122.462         14       Near    Before  "
      ]
     },
     "execution_count": 328,
     "metadata": {},
     "output_type": "execute_result"
    }
   ],
   "source": [
    "eda.head()"
   ]
  },
  {
   "cell_type": "code",
   "execution_count": null,
   "metadata": {
    "collapsed": true
   },
   "outputs": [],
   "source": []
  }
 ],
 "metadata": {
  "kernelspec": {
   "display_name": "Python 2",
   "language": "python",
   "name": "python2"
  },
  "language_info": {
   "codemirror_mode": {
    "name": "ipython",
    "version": 2
   },
   "file_extension": ".py",
   "mimetype": "text/x-python",
   "name": "python",
   "nbconvert_exporter": "python",
   "pygments_lexer": "ipython2",
   "version": "2.7.11"
  }
 },
 "nbformat": 4,
 "nbformat_minor": 0
}
