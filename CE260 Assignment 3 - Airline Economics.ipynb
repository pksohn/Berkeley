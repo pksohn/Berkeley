{
 "cells": [
  {
   "cell_type": "markdown",
   "metadata": {},
   "source": [
    "# Assignment 3: Airline Economics\n",
    "CEE260 Air Transportation  \n",
    "Paul Sohn / March 31, 2016"
   ]
  },
  {
   "cell_type": "code",
   "execution_count": 262,
   "metadata": {
    "collapsed": false
   },
   "outputs": [],
   "source": [
    "% matplotlib inline\n",
    "import pandas as pd, numpy as np, statsmodels.api as sm, matplotlib.pyplot as plt, scipy, datetime, math\n",
    "from datetime import *\n",
    "from scipy.optimize import *\n",
    "from __future__ import division\n",
    "from patsy import dmatrices"
   ]
  },
  {
   "cell_type": "markdown",
   "metadata": {},
   "source": [
    "## Problem Setup\n",
    "\n",
    "Consider an O&D market of distance 1000 miles in which 500 hundred people want to fly each way per day. Your task is to choose:\n",
    "\n",
    "* an aircraft type\n",
    "* a fleet size, and\n",
    "* a schedule\n",
    "\n",
    "...in order to *minimize the total cost of travel in this market*, where the total cost of travel includes:\n",
    "\n",
    "* Aircraft operating cost\n",
    "* Aircraft ownership cost\n",
    "* Aircraft servicing cost\n",
    "* Air traveler schedule delay\n",
    "* Air traveler flight time, and\n",
    "* Air traveler stochastic delay."
   ]
  },
  {
   "cell_type": "markdown",
   "metadata": {},
   "source": [
    "## Objective Function and Constraints\n",
    "\n",
    "Objective is to minimize total costs:\n",
    "\n",
    "$$\n",
    "Min TC = OwnCost + BlkHrCost + ACServCost + \\alpha FltTime + \\beta (SchedDelay + StochDelay)\n",
    "$$\n",
    "\n",
    "Where $\\alpha$ is XYZ and $\\beta$ is XYZ\n",
    "\n",
    "We will estimate a cost function for each of the components of the total cost function in the sections below."
   ]
  },
  {
   "cell_type": "markdown",
   "metadata": {},
   "source": [
    "## Aircraft Cost\n",
    "\n",
    "You will consider the following aircraft types:  \n",
    "CRJ 700, a regional jet with 70 seats and a purchase price of about 23 million  \n",
    "Airbus 319, a narrowbody jet with 128 seats and a purchase price of about 33 million"
   ]
  },
  {
   "cell_type": "markdown",
   "metadata": {},
   "source": [
    "### Ownership costs\n",
    "\n",
    "For purposes of this assignment, amortize the purchase price of the aircraft over 20 years, at 10 percent interest. Translate this to a daily cost assuming the aircraft is in service 300 days a year (it is out of service for maintenance the remaining time).\n",
    "\n",
    "In order to get a daily cost, we can use the Equated Monthly Installment formula to determine the monthly cost, then total cost. \n",
    "\n",
    "$$ \n",
    "A = P * \\frac{r(1+r)^n}{(1+r)^n - 1}\n",
    "$$\n",
    "\n",
    "where: P is the principal amount borrowed, A is the periodic amortization payment, r is the annual interest rate, and n is the total number of payments (20 years in this case)."
   ]
  },
  {
   "cell_type": "code",
   "execution_count": 2,
   "metadata": {
    "collapsed": true
   },
   "outputs": [],
   "source": [
    "# Costs of airplanes\n",
    "cost_CRJ = 23000000\n",
    "cost_airbus = 33000000\n",
    "days = 300 * 20\n",
    "\n",
    "# Function to return amortized total cost and calculate daily cost\n",
    "def amortize(P,R,N):\n",
    "    A = P * (R*(1+R)**N)/((1+R)**N -1)\n",
    "\n",
    "    purchase = '${:,.2f}'.format(P)\n",
    "    annual = '${:,.2f}'.format(A)\n",
    "    total = '${:,.2f}'.format(A*N)\n",
    "    daily = '${:,.2f}'.format((A*N)/days)\n",
    "    \n",
    "    print \"Purchase Price: \" + purchase\n",
    "    print \"Annual Cost: \" + annual\n",
    "    print \"Total Cost: \" + total\n",
    "    print \"Daily Cost: \" + daily"
   ]
  },
  {
   "cell_type": "code",
   "execution_count": 3,
   "metadata": {
    "collapsed": false
   },
   "outputs": [
    {
     "name": "stdout",
     "output_type": "stream",
     "text": [
      "Purchase Price: $23,000,000.00\n",
      "Annual Cost: $2,701,571.37\n",
      "Total Cost: $54,031,427.40\n",
      "Daily Cost: $9,005.24\n"
     ]
    }
   ],
   "source": [
    "# Cost of CRJ\n",
    "amortize(cost_CRJ,.1,20)"
   ]
  },
  {
   "cell_type": "code",
   "execution_count": 4,
   "metadata": {
    "collapsed": false
   },
   "outputs": [
    {
     "name": "stdout",
     "output_type": "stream",
     "text": [
      "Purchase Price: $33,000,000.00\n",
      "Annual Cost: $3,876,167.62\n",
      "Total Cost: $77,523,352.35\n",
      "Daily Cost: $12,920.56\n"
     ]
    }
   ],
   "source": [
    "# Cost of Airbus\n",
    "amortize(cost_airbus,.1,20)"
   ]
  },
  {
   "cell_type": "markdown",
   "metadata": {},
   "source": [
    "### Block hour costs\n",
    "\n",
    "Use the data attached at the ends of this assignment. Base your costs on the airline industry average, and exclude ownership costs, since these are accounted for above. Recall that these are labeled “Aircraft Cost” in the data provided. To use the block hour cost data, you must find the block hours required to for a 1000-mile flight. To do this, note that the data includes, for each airline operating a given aircraft type, the average departures (i.e. flights) per day, the average block hours per day, and the average stage length per flight. Using these data, develop a regression model that enables you to estimate the block hours required for a 1000 mile flight. The model should yield an estimate of the “fixed” block hour cost entailed for a flight and the “variable” cost that depends on the stage length."
   ]
  },
  {
   "cell_type": "code",
   "execution_count": 5,
   "metadata": {
    "collapsed": true
   },
   "outputs": [],
   "source": [
    "# Read in cost data\n",
    "ac_costs = pd.read_csv(\"OperatingCosts.csv\")\n",
    "ac_costs.head()"
   ]
  },
  {
   "cell_type": "markdown",
   "metadata": {},
   "source": [
    "We will use a linear regression to estimate the block hours required for a 1000 mile flight for different aircraft. The model is specified as follows:\n",
    "\n",
    "$$\n",
    "TotalBlockCost = \\alpha + \\beta_1 * CRJDummy + \\beta_2 * StageLength\n",
    "$$\n",
    "\n",
    "For the TotalBlockCost term above, we will use average total cost per block hour, multiplied by block hours per departure, as calculated in the cell below by dividing average daily block hours by average number of departures for each airline. The CRJDummy term is a dummy variable to provide different values between aircraft. The StageLength term is average stage length for each airline.  "
   ]
  },
  {
   "cell_type": "code",
   "execution_count": 27,
   "metadata": {
    "collapsed": false
   },
   "outputs": [],
   "source": [
    "# Calculate block hours per departure\n",
    "ac_costs[\"BH_per_dept\"] = ac_costs.Day_BH / ac_costs.Day_Dept\n",
    "\n",
    "# Calculate total block costs\n",
    "ac_costs[\"Total_Block_Costs\"] = ac_costs.Bl_Total * ac_costs.BH_per_dept"
   ]
  },
  {
   "cell_type": "code",
   "execution_count": 28,
   "metadata": {
    "collapsed": false
   },
   "outputs": [
    {
     "data": {
      "text/html": [
       "<div>\n",
       "<table border=\"1\" class=\"dataframe\">\n",
       "  <thead>\n",
       "    <tr style=\"text-align: right;\">\n",
       "      <th></th>\n",
       "      <th>Aircraft</th>\n",
       "      <th>Airline</th>\n",
       "      <th>Bl_Total</th>\n",
       "      <th>Total_Block_Costs</th>\n",
       "      <th>Op_StageLen</th>\n",
       "      <th>BH_per_dept</th>\n",
       "    </tr>\n",
       "  </thead>\n",
       "  <tbody>\n",
       "    <tr>\n",
       "      <th>0</th>\n",
       "      <td>CRJ-700</td>\n",
       "      <td>Skywest</td>\n",
       "      <td>1870</td>\n",
       "      <td>3598.867925</td>\n",
       "      <td>652</td>\n",
       "      <td>1.924528</td>\n",
       "    </tr>\n",
       "    <tr>\n",
       "      <th>1</th>\n",
       "      <td>CRJ-700</td>\n",
       "      <td>Atlantic Southeast</td>\n",
       "      <td>1889</td>\n",
       "      <td>3692.136364</td>\n",
       "      <td>658</td>\n",
       "      <td>1.954545</td>\n",
       "    </tr>\n",
       "    <tr>\n",
       "      <th>2</th>\n",
       "      <td>CRJ-700</td>\n",
       "      <td>American Eagle</td>\n",
       "      <td>1592</td>\n",
       "      <td>2977.629630</td>\n",
       "      <td>614</td>\n",
       "      <td>1.870370</td>\n",
       "    </tr>\n",
       "    <tr>\n",
       "      <th>3</th>\n",
       "      <td>CRJ-700</td>\n",
       "      <td>Comair</td>\n",
       "      <td>1974</td>\n",
       "      <td>3819.260870</td>\n",
       "      <td>608</td>\n",
       "      <td>1.934783</td>\n",
       "    </tr>\n",
       "    <tr>\n",
       "      <th>4</th>\n",
       "      <td>CRJ-700</td>\n",
       "      <td>Horizon</td>\n",
       "      <td>2272</td>\n",
       "      <td>4158.188679</td>\n",
       "      <td>622</td>\n",
       "      <td>1.830189</td>\n",
       "    </tr>\n",
       "    <tr>\n",
       "      <th>5</th>\n",
       "      <td>CRJ-700</td>\n",
       "      <td>Mesa</td>\n",
       "      <td>1788</td>\n",
       "      <td>3192.857143</td>\n",
       "      <td>558</td>\n",
       "      <td>1.785714</td>\n",
       "    </tr>\n",
       "    <tr>\n",
       "      <th>6</th>\n",
       "      <td>CRJ-700</td>\n",
       "      <td>PSA</td>\n",
       "      <td>867</td>\n",
       "      <td>1184.492958</td>\n",
       "      <td>365</td>\n",
       "      <td>1.366197</td>\n",
       "    </tr>\n",
       "    <tr>\n",
       "      <th>7</th>\n",
       "      <td>A319</td>\n",
       "      <td>Northwest</td>\n",
       "      <td>2628</td>\n",
       "      <td>6110.100000</td>\n",
       "      <td>801</td>\n",
       "      <td>2.325000</td>\n",
       "    </tr>\n",
       "    <tr>\n",
       "      <th>8</th>\n",
       "      <td>A319</td>\n",
       "      <td>United</td>\n",
       "      <td>2991</td>\n",
       "      <td>9126.384615</td>\n",
       "      <td>1200</td>\n",
       "      <td>3.051282</td>\n",
       "    </tr>\n",
       "    <tr>\n",
       "      <th>9</th>\n",
       "      <td>A319</td>\n",
       "      <td>US Airways</td>\n",
       "      <td>3505</td>\n",
       "      <td>6866.938776</td>\n",
       "      <td>622</td>\n",
       "      <td>1.959184</td>\n",
       "    </tr>\n",
       "    <tr>\n",
       "      <th>10</th>\n",
       "      <td>A319</td>\n",
       "      <td>Frontier</td>\n",
       "      <td>2889</td>\n",
       "      <td>7106.940000</td>\n",
       "      <td>911</td>\n",
       "      <td>2.460000</td>\n",
       "    </tr>\n",
       "    <tr>\n",
       "      <th>11</th>\n",
       "      <td>A319</td>\n",
       "      <td>America West</td>\n",
       "      <td>3020</td>\n",
       "      <td>8236.363636</td>\n",
       "      <td>1042</td>\n",
       "      <td>2.727273</td>\n",
       "    </tr>\n",
       "    <tr>\n",
       "      <th>12</th>\n",
       "      <td>A319</td>\n",
       "      <td>Spirit</td>\n",
       "      <td>2406</td>\n",
       "      <td>5873.470588</td>\n",
       "      <td>870</td>\n",
       "      <td>2.441176</td>\n",
       "    </tr>\n",
       "  </tbody>\n",
       "</table>\n",
       "</div>"
      ],
      "text/plain": [
       "   Aircraft             Airline  Bl_Total  Total_Block_Costs  Op_StageLen  \\\n",
       "0   CRJ-700             Skywest      1870        3598.867925          652   \n",
       "1   CRJ-700  Atlantic Southeast      1889        3692.136364          658   \n",
       "2   CRJ-700      American Eagle      1592        2977.629630          614   \n",
       "3   CRJ-700              Comair      1974        3819.260870          608   \n",
       "4   CRJ-700             Horizon      2272        4158.188679          622   \n",
       "5   CRJ-700                Mesa      1788        3192.857143          558   \n",
       "6   CRJ-700                 PSA       867        1184.492958          365   \n",
       "7      A319           Northwest      2628        6110.100000          801   \n",
       "8      A319              United      2991        9126.384615         1200   \n",
       "9      A319          US Airways      3505        6866.938776          622   \n",
       "10     A319            Frontier      2889        7106.940000          911   \n",
       "11     A319        America West      3020        8236.363636         1042   \n",
       "12     A319              Spirit      2406        5873.470588          870   \n",
       "\n",
       "    BH_per_dept  \n",
       "0      1.924528  \n",
       "1      1.954545  \n",
       "2      1.870370  \n",
       "3      1.934783  \n",
       "4      1.830189  \n",
       "5      1.785714  \n",
       "6      1.366197  \n",
       "7      2.325000  \n",
       "8      3.051282  \n",
       "9      1.959184  \n",
       "10     2.460000  \n",
       "11     2.727273  \n",
       "12     2.441176  "
      ]
     },
     "execution_count": 28,
     "metadata": {},
     "output_type": "execute_result"
    }
   ],
   "source": [
    "# Generate a simplifid dataset to run regression on \n",
    "\n",
    "BH_model = ac_costs[[\"Aircraft\",\"Airline\",\"Bl_Total\",\"Total_Block_Costs\",\"Op_StageLen\",\"BH_per_dept\"]]\n",
    "BH_model"
   ]
  },
  {
   "cell_type": "code",
   "execution_count": 29,
   "metadata": {
    "collapsed": false
   },
   "outputs": [],
   "source": [
    "# Specify OLS model\n",
    "\n",
    "y, X = dmatrices(\"Total_Block_Costs ~ Op_StageLen + Aircraft\", data=BH_model, return_type='dataframe')"
   ]
  },
  {
   "cell_type": "code",
   "execution_count": 30,
   "metadata": {
    "collapsed": false
   },
   "outputs": [
    {
     "name": "stdout",
     "output_type": "stream",
     "text": [
      "Intercept              1927.358664\n",
      "Aircraft[T.CRJ-700]   -2091.625461\n",
      "Op_StageLen               5.831077\n",
      "dtype: float64\n"
     ]
    }
   ],
   "source": [
    "# run regression and return parameters\n",
    "\n",
    "mod = sm.OLS(y, X)\n",
    "res = mod.fit() \n",
    "params = res.params\n",
    "print params"
   ]
  },
  {
   "cell_type": "markdown",
   "metadata": {},
   "source": [
    "These results tell us that:\n",
    "\n",
    "* There is a fixed cost of \\$1927 for a given flight\n",
    "* There is a variable cost of \\$5.83 per mile\n",
    "* Total costs for CRJ-700 aircraft are \\$2092 lower than for A319s."
   ]
  },
  {
   "cell_type": "code",
   "execution_count": 33,
   "metadata": {
    "collapsed": false
   },
   "outputs": [
    {
     "name": "stdout",
     "output_type": "stream",
     "text": [
      "5666.8102564\n"
     ]
    }
   ],
   "source": [
    "# Calculate operating cost per 1000 miles for a CRJ-700\n",
    "\n",
    "BlockCosts_CRJ = params[0] + (1000 * params[2]) + params[1]\n",
    "print BlockCosts_CRJ"
   ]
  },
  {
   "cell_type": "code",
   "execution_count": 34,
   "metadata": {
    "collapsed": false
   },
   "outputs": [
    {
     "name": "stdout",
     "output_type": "stream",
     "text": [
      "7758.4357172\n"
     ]
    }
   ],
   "source": [
    "# Calculate Block Costs per 1000 miles for an A319\n",
    "\n",
    "BlockCosts_A319 = params[0] + (1000 * params[2])\n",
    "print BlockCosts_A319"
   ]
  },
  {
   "cell_type": "markdown",
   "metadata": {
    "collapsed": true
   },
   "source": [
    "### Aircraft Servicing Costs\n",
    "\n",
    "Assume \\$10 per seat-departure. "
   ]
  },
  {
   "cell_type": "code",
   "execution_count": 36,
   "metadata": {
    "collapsed": false
   },
   "outputs": [
    {
     "name": "stdout",
     "output_type": "stream",
     "text": [
      "700 1280\n"
     ]
    }
   ],
   "source": [
    "# Servicing costs for one departure for each aircraft\n",
    "serv_cost_CRJ = 70 * 10\n",
    "serv_cost_A319 = 128 * 10\n",
    "print serv_cost_CRJ, serv_cost_A319"
   ]
  },
  {
   "cell_type": "markdown",
   "metadata": {},
   "source": [
    "## Passenger Delay\n",
    "\n",
    "Now that we have estimated aircraft costs, we can turn to passenger costs. "
   ]
  },
  {
   "cell_type": "markdown",
   "metadata": {},
   "source": [
    "### Travel Time\n",
    "\n",
    "For purposes of this assignment, you can equate travel time with block time. While the total travel time includes airport access, check-in, security screening, etc. you can ignore these because they are not (strongly) affected by the decisions by the fleet and scheduling decisions you are making.\n",
    "\n",
    "We can simply re-run the regression above, but instead of using total cost (block hours per departure * cost per block hour), we can simply estimate how many block hours it takes for different aircraft to travel 1000 miles."
   ]
  },
  {
   "cell_type": "code",
   "execution_count": 37,
   "metadata": {
    "collapsed": false
   },
   "outputs": [
    {
     "name": "stdout",
     "output_type": "stream",
     "text": [
      "Intercept              0.784638\n",
      "Aircraft[T.CRJ-700]   -0.072011\n",
      "Op_StageLen            0.001883\n",
      "dtype: float64\n"
     ]
    }
   ],
   "source": [
    "y, X = dmatrices(\"BH_per_dept ~ Op_StageLen + Aircraft\", data=BH_model, return_type='dataframe')\n",
    "mod = sm.OLS(y, X)\n",
    "res = mod.fit() \n",
    "params = res.params\n",
    "print params"
   ]
  },
  {
   "cell_type": "code",
   "execution_count": 38,
   "metadata": {
    "collapsed": false
   },
   "outputs": [
    {
     "name": "stdout",
     "output_type": "stream",
     "text": [
      "Block Hours for 1000 mile flight for CRJ: 2.5958596714\n",
      "Block Hours for 1000 mile flight for A319: 2.66787102469\n"
     ]
    }
   ],
   "source": [
    "# Calculate operating cost per 1000 miles for a CRJ-700\n",
    "\n",
    "BH_1000_CRJ = params[0] + (1000 * params[2]) + params[1]\n",
    "BH_1000_A319 = params[0] + (1000 * params[2])\n",
    "print \"Block Hours for 1000 mile flight for CRJ: \" + str(BH_1000_CRJ)\n",
    "print \"Block Hours for 1000 mile flight for A319: \" + str(BH_1000_A319)"
   ]
  },
  {
   "cell_type": "markdown",
   "metadata": {},
   "source": [
    "### Monetized Values of Time\n",
    "\n",
    "According to Adler, Falzarano & Spitz (2005):\n",
    "\n",
    "* Business travelers are willing to pay \\$69.7 (each way) for each hour of reduction in trip time. Non-business travelers will pay, on average, a little less than half of that (\\$31.2 per hour).\n",
    "* Survey participants were asked to indicate their most preferred arrival time and flights were constructed with times\n",
    "varying around that preferred time. The value assigned to the difference, on average, is about \\$30.3/hour for business\n",
    "travelers and only \\$4.8/hour for non-business travelers. \n",
    "\n",
    "Although the latter value is specifically about arrival time and not departure time, we will use these values of time for schedule delay and stochastic delay."
   ]
  },
  {
   "cell_type": "markdown",
   "metadata": {},
   "source": [
    "### Schedule Delay\n",
    "\n",
    "This is the difference between when a traveler would like to depart and when a flight is available. The distribution of travelers’ preferred time varies from market to market. For purposes of this assignment, use the distribution illustrated below, which is based on results from shuttle services between major East Coast cities. The figure gives the percentage of passengers whose preferred time is in each half hour period from 4-4:30 (!) to 24-0:30. The data presented in this chart are included in a spreadsheet accompanying the assignment."
   ]
  },
  {
   "cell_type": "code",
   "execution_count": 505,
   "metadata": {
    "collapsed": false
   },
   "outputs": [],
   "source": [
    "# Create Departure Time Preference dataframe from excel file\n",
    "\n",
    "DTP = pd.read_csv(\"Departure Time Preference.csv\",parse_dates=[0])\n",
    "DTP = DTP.iloc[:-1]\n",
    "for i in DTP[40:48].index:\n",
    "    DTP.loc[i,\"Time\"] += timedelta(days = 1)\n",
    "    \n",
    "DTP.Pct = DTP.Pct / 100\n",
    "DTP.CumPct = DTP.CumPct / 100"
   ]
  },
  {
   "cell_type": "code",
   "execution_count": 506,
   "metadata": {
    "collapsed": false
   },
   "outputs": [],
   "source": [
    "# Calculate theoretical demand curve if demand is uniform across the day\n",
    "# Calculate a hybrid demand curve averaging the real and theoretical demand\n",
    "\n",
    "DTP[\"uniform_demand\"] = 1/(len(DTP)-1) * DTP.index\n",
    "DTP[\"average_demand\"] = DTP[[\"uniform_demand\",\"CumPct\"]].mean(axis=1)"
   ]
  },
  {
   "cell_type": "code",
   "execution_count": 507,
   "metadata": {
    "collapsed": false
   },
   "outputs": [
    {
     "data": {
      "image/png": "[encoded data removed]",
      "text/plain": [
       "<matplotlib.figure.Figure at 0x1af98630>"
      ]
     },
     "metadata": {},
     "output_type": "display_data"
    }
   ],
   "source": [
    "# Show distribution of demand\n",
    "\n",
    "plt.figure(figsize=(10,4))\n",
    "plt.plot(DTP.Time,DTP.Pct)\n",
    "plt.show()"
   ]
  },
  {
   "cell_type": "code",
   "execution_count": 508,
   "metadata": {
    "collapsed": false
   },
   "outputs": [
    {
     "data": {
      "image/png": "[encoded data removed]",
      "text/plain": [
       "<matplotlib.figure.Figure at 0x1a162080>"
      ]
     },
     "metadata": {},
     "output_type": "display_data"
    }
   ],
   "source": [
    "# Plot cumulative distribution of demand\n",
    "\n",
    "plt.figure(figsize=(10,4))\n",
    "plt.plot(DTP.Time,DTP.CumPct)\n",
    "plt.plot(DTP.Time,DTP.uniform_demand)\n",
    "plt.plot(DTP.Time,DTP.average_demand)\n",
    "plt.xlim(DTP.Time[0],DTP.Time[len(DTP)-1])\n",
    "plt.legend([\"Cumulative Demand\",\"Theoretical Uniform Demand\",\"Hybrid Demand Curve\"],loc=4)\n",
    "plt.show()"
   ]
  },
  {
   "cell_type": "code",
   "execution_count": 509,
   "metadata": {
    "collapsed": false
   },
   "outputs": [
    {
     "name": "stdout",
     "output_type": "stream",
     "text": [
      "Flights required with CRJ: 8\n",
      "Flights required with A319: 4\n"
     ]
    }
   ],
   "source": [
    "# Number of flights required in each direction\n",
    "\n",
    "demand = 500\n",
    "seats_CRJ = 70\n",
    "seats_A319 = 128\n",
    "flights_CRJ = int(math.ceil(500 / 70))\n",
    "flights_A319 = int(math.ceil(500 / 128))\n",
    "print \"Flights required with CRJ: \" + str(flights_CRJ)\n",
    "print \"Flights required with A319: \" + str(flights_A319)"
   ]
  },
  {
   "cell_type": "code",
   "execution_count": 519,
   "metadata": {
    "collapsed": true
   },
   "outputs": [],
   "source": [
    "def assign_by_CDF(df,flights_needed):\n",
    "    # Divide the cumulative demand into equal parts (depending on number of flights required)\n",
    "    # Return a list of indexes that correspond to equal demand served\n",
    "\n",
    "    frame = df.copy()\n",
    "    \n",
    "    hybrid_index = [i * (len(frame) / (flights_needed + 1)) for i in range(1,flights_needed+1)]\n",
    "    \n",
    "    # find nearest index in demand data to theoretical indices above\n",
    "    # assign \"departure\" to 1\n",
    "\n",
    "    frame[\"departure\"] = 0\n",
    "\n",
    "    for i in hybrid_index:\n",
    "\n",
    "        near_ix = abs(frame.index-i).argsort()[0]\n",
    "        frame.loc[near_ix,\"departure\"] = 1\n",
    "    \n",
    "    # Plot cumulative distribution of demand\n",
    "\n",
    "    plt.figure(figsize=(10,4))\n",
    "    plt.plot(frame.Time,frame.CumPct)\n",
    "    plt.plot(frame.Time,frame.uniform_demand)\n",
    "    plt.plot(frame.Time,frame.average_demand)\n",
    "    plt.plot(frame.Time,(frame.departure * df.average_demand).replace(0.0,np.nan),'rd')\n",
    "    plt.xlim(frame.Time[0],frame.Time[len(df)-1])\n",
    "    plt.legend([\"Cumulative Demand\",\"Theoretical Uniform Demand\",\"Hybrid Demand Curve\",\"Departure Times\"],loc=4)\n",
    "    plt.show()\n",
    "    \n",
    "    return frame"
   ]
  },
  {
   "cell_type": "code",
   "execution_count": 520,
   "metadata": {
    "collapsed": false
   },
   "outputs": [
    {
     "data": {
      "image/png": "[encoded data removed]",
      "text/plain": [
       "<matplotlib.figure.Figure at 0x1b4804e0>"
      ]
     },
     "metadata": {},
     "output_type": "display_data"
    }
   ],
   "source": [
    "CRJ_cumulative = assign_by_CDF(DTP,8)"
   ]
  },
  {
   "cell_type": "code",
   "execution_count": 522,
   "metadata": {
    "collapsed": false
   },
   "outputs": [
    {
     "data": {
      "image/png": "[encoded data removed]",
      "text/plain": [
       "<matplotlib.figure.Figure at 0x19541cf8>"
      ]
     },
     "metadata": {},
     "output_type": "display_data"
    }
   ],
   "source": [
    "A319_cumulative = assign_by_CDF(DTP,4)"
   ]
  },
  {
   "cell_type": "code",
   "execution_count": 525,
   "metadata": {
    "collapsed": false
   },
   "outputs": [],
   "source": [
    "def total_delay(df):\n",
    "    frame = df.copy()\n",
    "    \n",
    "    frame[\"delay\"] = None\n",
    "    \n",
    "    for i in frame.index:\n",
    "        \n",
    "        # find closest index with departure\n",
    "        di = abs(frame[frame.departure == 1].index - i).argsort()[0]\n",
    "        \n",
    "        # find desired and actual departure times\n",
    "        time_desired = frame.loc[i,\"Time\"]\n",
    "        time_dept = frame.loc[di,\"Time\"]\n",
    "        \n",
    "        # calculate delay for one person, then total\n",
    "        delay_hr = abs(time_desired - time_dept).seconds / 3600\n",
    "        delay = delay_hr * frame.loc[i,\"Pct\"] * demand\n",
    "\n",
    "        frame.loc[i,\"delay\"] = delay\n",
    "    \n",
    "    return frame.delay.sum()"
   ]
  },
  {
   "cell_type": "code",
   "execution_count": 526,
   "metadata": {
    "collapsed": false
   },
   "outputs": [
    {
     "data": {
      "text/plain": [
       "4331.75"
      ]
     },
     "execution_count": 526,
     "metadata": {},
     "output_type": "execute_result"
    }
   ],
   "source": [
    "total_delay(CRJ_cumulative)"
   ]
  },
  {
   "cell_type": "code",
   "execution_count": 527,
   "metadata": {
    "collapsed": false
   },
   "outputs": [
    {
     "data": {
      "text/plain": [
       "4728.25"
      ]
     },
     "execution_count": 527,
     "metadata": {},
     "output_type": "execute_result"
    }
   ],
   "source": [
    "total_delay(A319_cumulative)"
   ]
  },
  {
   "cell_type": "code",
   "execution_count": 531,
   "metadata": {
    "collapsed": false
   },
   "outputs": [],
   "source": [
    "x0_CRJ = CRJ_cumulative.departure.tolist()\n",
    "x0_A = A319_cumulative.departure.tolist()"
   ]
  },
  {
   "cell_type": "code",
   "execution_count": 547,
   "metadata": {
    "collapsed": false
   },
   "outputs": [
    {
     "name": "stdout",
     "output_type": "stream",
     "text": [
      "[0, 0, 0, 0, 0, 1, 0, 0, 0, 0, 0, 1, 0, 0, 0, 0, 1, 0, 0, 0, 0, 1, 0, 0, 0, 0, 0, 1, 0, 0, 0, 0, 1, 0, 0, 0, 0, 1, 0, 0, 0, 0, 0, 1, 0, 0, 0, 0]\n"
     ]
    }
   ],
   "source": [
    "print x0_CRJ"
   ]
  },
  {
   "cell_type": "code",
   "execution_count": 533,
   "metadata": {
    "collapsed": true
   },
   "outputs": [],
   "source": [
    "df = DTP.copy()\n",
    "df[\"departure\"] = x0_CRJ"
   ]
  },
  {
   "cell_type": "code",
   "execution_count": 548,
   "metadata": {
    "collapsed": true
   },
   "outputs": [],
   "source": [
    "def obj(x):\n",
    "    frame = DTP.copy()\n",
    "    frame[\"departure\"] = round(x)\n",
    "\n",
    "    for i in frame.index:\n",
    "\n",
    "        # find closest index with departure\n",
    "        di = abs(frame[frame.departure == 1].index - i).argsort()[0]\n",
    "\n",
    "        # find desired and actual departure times\n",
    "        time_desired = frame.loc[i,\"Time\"]\n",
    "        time_dept = frame.loc[di,\"Time\"]\n",
    "\n",
    "        # calculate delay for one person, then total\n",
    "        delay_hr = abs(time_desired - time_dept).seconds / 3600\n",
    "        delay = delay_hr * frame.loc[i,\"Pct\"] * demand\n",
    "\n",
    "        frame.loc[i,\"delay\"] = delay\n",
    "\n",
    "    return frame.delay.sum()"
   ]
  },
  {
   "cell_type": "code",
   "execution_count": 544,
   "metadata": {
    "collapsed": false
   },
   "outputs": [
    {
     "data": {
      "text/plain": [
       "4728.25"
      ]
     },
     "execution_count": 544,
     "metadata": {},
     "output_type": "execute_result"
    }
   ],
   "source": [
    "obj(x0_A)"
   ]
  },
  {
   "cell_type": "code",
   "execution_count": 549,
   "metadata": {
    "collapsed": false
   },
   "outputs": [
    {
     "ename": "IndexError",
     "evalue": "index 0 is out of bounds for axis 0 with size 0",
     "output_type": "error",
     "traceback": [
      "\u001b[1;31m---------------------------------------------------------------------------\u001b[0m",
      "\u001b[1;31mIndexError\u001b[0m                                Traceback (most recent call last)",
      "\u001b[1;32m<ipython-input-549-ebada4fe34c8>\u001b[0m in \u001b[0;36m<module>\u001b[1;34m()\u001b[0m\n\u001b[0;32m      2\u001b[0m \u001b[0mcons\u001b[0m \u001b[1;33m=\u001b[0m \u001b[1;33m(\u001b[0m\u001b[1;33m{\u001b[0m\u001b[1;34m'type'\u001b[0m\u001b[1;33m:\u001b[0m \u001b[1;34m'ineq'\u001b[0m\u001b[1;33m,\u001b[0m \u001b[1;34m'fun'\u001b[0m\u001b[1;33m:\u001b[0m \u001b[1;32mlambda\u001b[0m \u001b[0mx\u001b[0m\u001b[1;33m:\u001b[0m \u001b[0msum\u001b[0m\u001b[1;33m(\u001b[0m\u001b[0mx\u001b[0m\u001b[1;33m)\u001b[0m \u001b[1;33m-\u001b[0m \u001b[1;36m8\u001b[0m\u001b[1;33m}\u001b[0m\u001b[1;33m)\u001b[0m\u001b[1;33m\u001b[0m\u001b[0m\n\u001b[0;32m      3\u001b[0m res = minimize(\n\u001b[1;32m----> 4\u001b[1;33m     \u001b[0mfun\u001b[0m \u001b[1;33m=\u001b[0m \u001b[0mobj\u001b[0m\u001b[1;33m(\u001b[0m\u001b[0mx\u001b[0m\u001b[1;33m)\u001b[0m\u001b[1;33m,\u001b[0m\u001b[1;33m\u001b[0m\u001b[0m\n\u001b[0m\u001b[0;32m      5\u001b[0m     \u001b[0mx0\u001b[0m \u001b[1;33m=\u001b[0m \u001b[0mx0_CRJ\u001b[0m\u001b[1;33m,\u001b[0m\u001b[1;33m\u001b[0m\u001b[0m\n\u001b[0;32m      6\u001b[0m     \u001b[0mmethod\u001b[0m\u001b[1;33m=\u001b[0m\u001b[1;34m'SLSQP'\u001b[0m\u001b[1;33m,\u001b[0m\u001b[1;33m\u001b[0m\u001b[0m\n",
      "\u001b[1;32m<ipython-input-548-cf6687dca9f4>\u001b[0m in \u001b[0;36mobj\u001b[1;34m(x)\u001b[0m\n\u001b[0;32m      6\u001b[0m \u001b[1;33m\u001b[0m\u001b[0m\n\u001b[0;32m      7\u001b[0m         \u001b[1;31m# find closest index with departure\u001b[0m\u001b[1;33m\u001b[0m\u001b[1;33m\u001b[0m\u001b[0m\n\u001b[1;32m----> 8\u001b[1;33m         \u001b[0mdi\u001b[0m \u001b[1;33m=\u001b[0m \u001b[0mabs\u001b[0m\u001b[1;33m(\u001b[0m\u001b[0mframe\u001b[0m\u001b[1;33m[\u001b[0m\u001b[0mframe\u001b[0m\u001b[1;33m.\u001b[0m\u001b[0mdeparture\u001b[0m \u001b[1;33m==\u001b[0m \u001b[1;36m1\u001b[0m\u001b[1;33m]\u001b[0m\u001b[1;33m.\u001b[0m\u001b[0mindex\u001b[0m \u001b[1;33m-\u001b[0m \u001b[0mi\u001b[0m\u001b[1;33m)\u001b[0m\u001b[1;33m.\u001b[0m\u001b[0margsort\u001b[0m\u001b[1;33m(\u001b[0m\u001b[1;33m)\u001b[0m\u001b[1;33m[\u001b[0m\u001b[1;36m0\u001b[0m\u001b[1;33m]\u001b[0m\u001b[1;33m\u001b[0m\u001b[0m\n\u001b[0m\u001b[0;32m      9\u001b[0m \u001b[1;33m\u001b[0m\u001b[0m\n\u001b[0;32m     10\u001b[0m         \u001b[1;31m# find desired and actual departure times\u001b[0m\u001b[1;33m\u001b[0m\u001b[1;33m\u001b[0m\u001b[0m\n",
      "\u001b[1;31mIndexError\u001b[0m: index 0 is out of bounds for axis 0 with size 0"
     ]
    }
   ],
   "source": [
    "# optimization: CRJ\n",
    "cons = ({'type': 'ineq', 'fun': lambda x: sum(x) - 8})\n",
    "\n",
    "res = minimize(\n",
    "    fun = obj(x),\n",
    "    x0 = x0_CRJ, \n",
    "    method='SLSQP',\n",
    "    constraints = con,\n",
    "    bounds = (0,1)\n",
    ")"
   ]
  },
  {
   "cell_type": "code",
   "execution_count": 555,
   "metadata": {
    "collapsed": false
   },
   "outputs": [
    {
     "ename": "IndexError",
     "evalue": "index 0 is out of bounds for axis 0 with size 0",
     "output_type": "error",
     "traceback": [
      "\u001b[1;31m---------------------------------------------------------------------------\u001b[0m",
      "\u001b[1;31mIndexError\u001b[0m                                Traceback (most recent call last)",
      "\u001b[1;32m<ipython-input-555-355fb86f0ee6>\u001b[0m in \u001b[0;36m<module>\u001b[1;34m()\u001b[0m\n\u001b[0;32m      3\u001b[0m \u001b[1;33m\u001b[0m\u001b[0m\n\u001b[0;32m      4\u001b[0m res = basinhopping(\n\u001b[1;32m----> 5\u001b[1;33m     \u001b[0mfun\u001b[0m \u001b[1;33m=\u001b[0m \u001b[0mobj\u001b[0m\u001b[1;33m(\u001b[0m\u001b[0mx\u001b[0m\u001b[1;33m)\u001b[0m\u001b[1;33m,\u001b[0m\u001b[1;33m\u001b[0m\u001b[0m\n\u001b[0m\u001b[0;32m      6\u001b[0m     \u001b[0mx0\u001b[0m \u001b[1;33m=\u001b[0m \u001b[0mx0_CRJ\u001b[0m\u001b[1;33m,\u001b[0m\u001b[1;33m\u001b[0m\u001b[0m\n\u001b[0;32m      7\u001b[0m     \u001b[0mstepsize\u001b[0m \u001b[1;33m=\u001b[0m \u001b[1;36m1\u001b[0m\u001b[1;33m,\u001b[0m\u001b[1;33m\u001b[0m\u001b[0m\n",
      "\u001b[1;32m<ipython-input-548-cf6687dca9f4>\u001b[0m in \u001b[0;36mobj\u001b[1;34m(x)\u001b[0m\n\u001b[0;32m      6\u001b[0m \u001b[1;33m\u001b[0m\u001b[0m\n\u001b[0;32m      7\u001b[0m         \u001b[1;31m# find closest index with departure\u001b[0m\u001b[1;33m\u001b[0m\u001b[1;33m\u001b[0m\u001b[0m\n\u001b[1;32m----> 8\u001b[1;33m         \u001b[0mdi\u001b[0m \u001b[1;33m=\u001b[0m \u001b[0mabs\u001b[0m\u001b[1;33m(\u001b[0m\u001b[0mframe\u001b[0m\u001b[1;33m[\u001b[0m\u001b[0mframe\u001b[0m\u001b[1;33m.\u001b[0m\u001b[0mdeparture\u001b[0m \u001b[1;33m==\u001b[0m \u001b[1;36m1\u001b[0m\u001b[1;33m]\u001b[0m\u001b[1;33m.\u001b[0m\u001b[0mindex\u001b[0m \u001b[1;33m-\u001b[0m \u001b[0mi\u001b[0m\u001b[1;33m)\u001b[0m\u001b[1;33m.\u001b[0m\u001b[0margsort\u001b[0m\u001b[1;33m(\u001b[0m\u001b[1;33m)\u001b[0m\u001b[1;33m[\u001b[0m\u001b[1;36m0\u001b[0m\u001b[1;33m]\u001b[0m\u001b[1;33m\u001b[0m\u001b[0m\n\u001b[0m\u001b[0;32m      9\u001b[0m \u001b[1;33m\u001b[0m\u001b[0m\n\u001b[0;32m     10\u001b[0m         \u001b[1;31m# find desired and actual departure times\u001b[0m\u001b[1;33m\u001b[0m\u001b[1;33m\u001b[0m\u001b[0m\n",
      "\u001b[1;31mIndexError\u001b[0m: index 0 is out of bounds for axis 0 with size 0"
     ]
    }
   ],
   "source": [
    "# optimization: CRJ\n",
    "cons = ({'type': 'ineq', 'fun': lambda x: sum(x) - 8})\n",
    "\n",
    "res = basinhopping(\n",
    "    fun = obj(x),\n",
    "    x0 = x0_CRJ,\n",
    "    stepsize = 1,\n",
    "    minimizer_kwargs = {\n",
    "        constraints:con,\n",
    "        bounds:((0,1))\n",
    "        }\n",
    ")"
   ]
  },
  {
   "cell_type": "code",
   "execution_count": null,
   "metadata": {
    "collapsed": true
   },
   "outputs": [],
   "source": []
  }
 ],
 "metadata": {
  "kernelspec": {
   "display_name": "Python 2",
   "language": "python",
   "name": "python2"
  },
  "language_info": {
   "codemirror_mode": {
    "name": "ipython",
    "version": 2
   },
   "file_extension": ".py",
   "mimetype": "text/x-python",
   "name": "python",
   "nbconvert_exporter": "python",
   "pygments_lexer": "ipython2",
   "version": "2.7.11"
  }
 },
 "nbformat": 4,
 "nbformat_minor": 0
}
