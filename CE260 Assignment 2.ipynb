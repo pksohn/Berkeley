{
 "cells": [
  {
   "cell_type": "markdown",
   "metadata": {},
   "source": [
    "# Assignment 2\n",
    "CEE260: Air Transportation  \n",
    "Paul Sohn  \n",
    "March 7, 2016  \n",
    "  \n",
    "This assignment was completed in Python, so I have written up my explanations in this notebook and provided all calculations below. "
   ]
  },
  {
   "cell_type": "code",
   "execution_count": 1,
   "metadata": {
    "collapsed": false
   },
   "outputs": [],
   "source": [
    "## IMPORTING NECESSARY PACKAGES\n",
    "\n",
    "%matplotlib inline\n",
    "\n",
    "from __future__ import division\n",
    "\n",
    "import numpy as np, pandas as pd, scipy\n",
    "from scipy.optimize import minimize\n",
    "from scipy.interpolate import *\n",
    "\n",
    "import matplotlib\n",
    "import matplotlib.pyplot as plt"
   ]
  },
  {
   "cell_type": "markdown",
   "metadata": {},
   "source": [
    "## Question 1\n",
    "What is stall speed at FL 200 and 300?"
   ]
  },
  {
   "cell_type": "markdown",
   "metadata": {},
   "source": [
    "First I define a function to return constants, some of which are a function of altitude. These are all given in the assignment, and this function will be useful to later calculations."
   ]
  },
  {
   "cell_type": "code",
   "execution_count": 2,
   "metadata": {
    "collapsed": true
   },
   "outputs": [],
   "source": [
    "def constants(FL):\n",
    "    \n",
    "    # Altitude in meters based on FL\n",
    "    H_meters = FL * 100 * .3048\n",
    "\n",
    "    # Air temperature in kelvin\n",
    "    T = 288.16 - 6.5 / 1000 * H_meters\n",
    "\n",
    "    # Density in kg / m^2\n",
    "    p = 1.225 * (T/288.16) ** ( (9.80665 / (287 * 6.5 / 1000)) - 1 )\n",
    "\n",
    "    # Area of wing in m^2\n",
    "    s = 124.65\n",
    "\n",
    "    # Weight of airplane in newtons or kg*m / s^2\n",
    "    w = 65300 * 9.80665\n",
    "    \n",
    "    # Speed of sound\n",
    "    a = np.sqrt(1.4 * 287 * T)\n",
    "    \n",
    "    return p, s, w, a"
   ]
  },
  {
   "cell_type": "markdown",
   "metadata": {},
   "source": [
    "Then I use the formula for stall speed, with constants defined above from the stall speed:\n",
    "\n",
    "$$\n",
    "V_{stall} = \\sqrt{\\frac{2w}{\\rho s C_{L,MAX}}} \n",
    "$$"
   ]
  },
  {
   "cell_type": "code",
   "execution_count": 3,
   "metadata": {
    "collapsed": true
   },
   "outputs": [],
   "source": [
    "# DEFINE A FUNCTION TO RETURN STALL SPEED GIVEN FLIGHT LEVEL\n",
    "\n",
    "def stall_speed(FL):\n",
    "    \n",
    "    # get constants given flight level\n",
    "    p, s, w, a = constants(FL)\n",
    "\n",
    "    # maximum lift coefficient, given in problem\n",
    "    CL_MAX = 1.5\n",
    "    \n",
    "    # calculate stall speed in meters / second\n",
    "    v_m_s = np.sqrt((2*w) / (p*s*CL_MAX))\n",
    "    \n",
    "    # in miles per hour (for my own intuition)\n",
    "    v_mph = v_m_s * 1609.344 / 3600\n",
    "\n",
    "    # print results\n",
    "    print \"At FL \" + str(FL) + \", Stall Speed: \" + str(v_m_s) + \" m/s, or \" + str(v_mph) + \" miles per hour\"\n",
    "    return v_m_s"
   ]
  },
  {
   "cell_type": "code",
   "execution_count": 4,
   "metadata": {
    "collapsed": false
   },
   "outputs": [
    {
     "name": "stdout",
     "output_type": "stream",
     "text": [
      "At FL 200, Stall Speed: 102.44987096 m/s, or 45.7991903141 miles per hour\n",
      "102.44987096\n",
      "At FL 300, Stall Speed: 122.264330915 m/s, or 54.6570464924 miles per hour\n",
      "122.264330915\n"
     ]
    }
   ],
   "source": [
    "# Calculate stall speed at FL 200 and 300\n",
    "\n",
    "print stall_speed(200)\n",
    "print stall_speed(300)"
   ]
  },
  {
   "cell_type": "markdown",
   "metadata": {},
   "source": [
    "### Results\n",
    "Stall speed at FL 200 is **102.5 m/s**  \n",
    "Stall speed at FL 300 is **122.3 m/s**"
   ]
  },
  {
   "cell_type": "markdown",
   "metadata": {},
   "source": [
    "## Question 2 and 3\n",
    "Assume the aircraft is cruising at FL 200. Assuming standard day conditions, plot the thrust required, in Newtons, against cruise speed, in m/sec, assuming the aircraft has a mass of 65,300 kg. Assuming that fuel burn is proportional to thrust and independent of speed (i.e. assume that thrust specific fuel consumption is a constant), find the cruise speed that maximizes endurance and the cruise speed that maximizes range. Convert these speeds to knots (nautical miles/hr) and Mach number to get a feel for the magnitudes involved."
   ]
  },
  {
   "cell_type": "markdown",
   "metadata": {},
   "source": [
    "First, I created a function to find the thrust required given constants (density, wing area, airplane mass, and free flow speed) using the following formulas:\n",
    "\n",
    "$$\n",
    "C_L \\text{(Lift Coefficient)} = \\frac{2w}{\\rho s v^2}\n",
    "$$\n",
    "\n",
    "$$\n",
    "C_D \\text{(Drag Coefficient)} = .024 + .041 C_L^2\n",
    "$$\n",
    "\n",
    "$$\n",
    "T_R \\text{(Required Thrust)} = \\frac{w}{C_L/C_D}\n",
    "$$"
   ]
  },
  {
   "cell_type": "code",
   "execution_count": 5,
   "metadata": {
    "collapsed": true
   },
   "outputs": [],
   "source": [
    "# DEFINE THRUST REQUIRED GIVEN A CERTAIN SPEED, AND OTHER CONSTANTS (DENSITY, WING AREA, WEIGHT)\n",
    "\n",
    "def thrust_req(p,s,w,v):\n",
    "    \n",
    "    # lift and drag coefficients\n",
    "    CL = (2*w) / (p*s*v**2)\n",
    "    CD = .024 + 0.041 * (CL**2)    \n",
    "    \n",
    "    # THRUST REQUIRED\n",
    "    TR = w / (CL/CD)\n",
    "    \n",
    "    return TR"
   ]
  },
  {
   "cell_type": "markdown",
   "metadata": {},
   "source": [
    "We can plot thrust vs. velocity, and we should see a \"minimum\" point and a parabolic shape:"
   ]
  },
  {
   "cell_type": "code",
   "execution_count": 6,
   "metadata": {
    "collapsed": false
   },
   "outputs": [],
   "source": [
    "def thrust_plot(FL):\n",
    "    \n",
    "    # CREATE A DATAFRAME OF SPEEDS FROM 0 TO 600 M/S\n",
    "    df = pd.DataFrame(index=[range(1,600)], columns=[\"v\",\"T_R\"])\n",
    "    df.v = df.index\n",
    "    \n",
    "    # GET CONSTANTS\n",
    "    p, s, w, a = constants(FL)\n",
    "    \n",
    "    # CALCULATE THRUST FOR EACH SPEED IN DATAFRAME\n",
    "    for i in df.index:\n",
    "        v = df.loc[i,\"v\"]\n",
    "        df.loc[i,\"T_R\"] = thrust_req(p,s,w,v)\n",
    "    \n",
    "    # PLOT THRUST V SPEED\n",
    "    plt.plot(df.v,df.T_R)\n",
    "    plt.ylim(0, 300000)\n",
    "    plt.ylabel(\"Thrust Required\")\n",
    "    plt.xlabel(\"Velocity (m/s)\")\n",
    "    plt.show()\n",
    "\n",
    "    return df"
   ]
  },
  {
   "cell_type": "code",
   "execution_count": 7,
   "metadata": {
    "collapsed": false
   },
   "outputs": [
    {
     "data": {
      "image/png": "[encoded data removed]",
      "text/plain": [
       "<matplotlib.figure.Figure at 0xbcec390>"
      ]
     },
     "metadata": {},
     "output_type": "display_data"
    }
   ],
   "source": [
    "df = thrust_plot(200)"
   ]
  },
  {
   "cell_type": "markdown",
   "metadata": {},
   "source": [
    "We observe the expected shape fo the curve here. Eyeballing the minimum point gives us a value somewhere in the vicinity of 120 m/s. Next I create a function to find the minimum point on this curve. This is a function of flight level. This is the equivalent of taking the derivative of the thrust curve, setting it equal to 0, and solving for v, as below:\n",
    "\n",
    "$$ \\frac{d}{dv} T_R = 0 $$\n",
    "\n",
    "$$ \\frac{d}{dv} ( w * \\frac{a + b C_L^2}{C_L} ) =  0 $$\n",
    "\n",
    "$$ \\frac{d}{dv} ( w * \\frac{a + b (\\frac{2w}{\\rho s v^2})^2}{(\\frac{2w}{\\rho s v^2})} ) =  0 $$\n",
    "\n",
    "$$ a \\rho s v - \\frac{4bw^2}{\\rho s v^3} =  0 $$\n",
    "\n",
    "$$ v = (\\frac{4 b w^2}{a \\rho^2 s^2})^{\\frac{1}{4}} $$"
   ]
  },
  {
   "cell_type": "code",
   "execution_count": 8,
   "metadata": {
    "collapsed": true
   },
   "outputs": [],
   "source": [
    "def endurance(FL):\n",
    "    print \"FL \" + str(FL)\n",
    "    \n",
    "    # GET CONSTANTS\n",
    "    p, s, w, a = constants(FL)\n",
    "    \n",
    "    # DEFINE A HELPER FUNCTION TO CALCULATE REQUIRED THRUST FOR EACH SPEED; IDENTICAL TO PREVIOUS FUNCTION \n",
    "    def thrust_min(v):\n",
    "        CL = (2*w) / (p*s*v**2)\n",
    "        CD = .024 + 0.041 * (CL**2)\n",
    "        return w / (CL/CD)\n",
    "    \n",
    "    # USE OPTIMIZATION FUNCTION TO MINIMIZE THRUST; RETURN ENDURANCE SPEED\n",
    "    v_result = minimize(thrust_min,200).x[0]\n",
    "    \n",
    "    # CONVERT TO KNOTS AND MACH\n",
    "    v_knots = v_result * 1.94384\n",
    "    v_mach = v_result / a\n",
    "    \n",
    "    print \"endurance speed: \" + str(v_result) + \" m/s, or \" + str(v_knots) + \" knots, or Mach \" + str(v_mach) \n",
    "    return v_result"
   ]
  },
  {
   "cell_type": "markdown",
   "metadata": {},
   "source": [
    "And now for various flight levels, we can find the minimum point on the curve, which should be the endurance speed:"
   ]
  },
  {
   "cell_type": "code",
   "execution_count": 9,
   "metadata": {
    "collapsed": false
   },
   "outputs": [
    {
     "name": "stdout",
     "output_type": "stream",
     "text": [
      "FL 200\n",
      "endurance speed: 143.449893688 m/s, or 278.843641347 knots, or Mach 0.453942256661\n"
     ]
    },
    {
     "data": {
      "text/plain": [
       "143.44989368804733"
      ]
     },
     "execution_count": 9,
     "metadata": {},
     "output_type": "execute_result"
    }
   ],
   "source": [
    "endurance(200)"
   ]
  },
  {
   "cell_type": "code",
   "execution_count": 10,
   "metadata": {
    "collapsed": false
   },
   "outputs": [
    {
     "name": "stdout",
     "output_type": "stream",
     "text": [
      "FL 360\n",
      "endurance speed: 191.788586716 m/s, or 372.806326403 knots, or Mach 0.649757495136\n"
     ]
    },
    {
     "data": {
      "text/plain": [
       "191.78858671637792"
      ]
     },
     "execution_count": 10,
     "metadata": {},
     "output_type": "execute_result"
    }
   ],
   "source": [
    "endurance(360)"
   ]
  },
  {
   "cell_type": "markdown",
   "metadata": {},
   "source": [
    "### Results (part 1):\n",
    "Endurance speed for FL 200 is **143.4 m/s**, or **278.8** knots, or **Mach 0.45**  \n",
    "Endurance speed for FL 360 is **191.8 m/s**, or **372.8** knots, or **Mach 0.65**"
   ]
  },
  {
   "cell_type": "markdown",
   "metadata": {},
   "source": [
    "Next, to find range speed, we have to find the point on the thrust curve that is tangent to the line from the origin. I define a new function that interpolates the slope of the thrust curve between integer values of velocity (I use integer steps for simplicity), and finds the velocity at which the thrust curve has a slope equal to that of the line from the origin to the curve. This is a numerical approximation of the continuous mathematical solution: differentiating thrust with respect to velocity, setting that function equal to the thrust divided by velocity, and solving for v (as below):\n",
    "\n",
    "$$ \\frac{d}{dv} T_R = \\frac{T_R}{v} $$\n",
    "\n",
    "$$ \\frac{d}{dv} ( w * \\frac{a + b C_L^2}{C_L} ) =  w * \\frac{a + b C_L^2}{C_L} * \\frac{1}{v}$$\n",
    "\n",
    "$$ \\frac{d}{dv} ( w * \\frac{a + b (\\frac{2w}{\\rho s v^2})^2}{(\\frac{2w}{\\rho s v^2})} ) =  w * \\frac{a + b (\\frac{2w}{\\rho s v^2})^2}{(\\frac{2w}{\\rho s v^2})} * \\frac{1}{v}$$\n",
    "\n",
    "$$ a \\rho s v - \\frac{4bw^2}{\\rho s v^3} =  w * \\frac{a + b (\\frac{2w}{\\rho s v^2})^2}{(\\frac{2w}{\\rho s v^2})} * \\frac{1}{v}$$\n",
    "\n",
    "$$ v = (\\frac{12 b w^2}{a \\rho^2 s^2})^{\\frac{1}{4}} $$"
   ]
  },
  {
   "cell_type": "code",
   "execution_count": 11,
   "metadata": {
    "collapsed": true
   },
   "outputs": [],
   "source": [
    "def range_speed(FL):\n",
    "    \n",
    "    df = pd.DataFrame(index=[range(1,600)], columns=[\"v\",\"T_R\"])\n",
    "    df.v = df.index\n",
    "    \n",
    "    p, s, w, a = constants(FL)\n",
    "    \n",
    "    for i in df.index:\n",
    "        \n",
    "        v = df.loc[i,\"v\"]\n",
    "\n",
    "        # lift and drag coefficients\n",
    "        CL = (2*w) / (p*s*v**2)\n",
    "        CD = .024 + 0.041 * (CL**2)\n",
    "\n",
    "        # THRUST REQUIRED\n",
    "        TR = w / (CL/CD)\n",
    "        \n",
    "        # assign to df\n",
    "        df.loc[i,\"T_R\"] = TR\n",
    "    \n",
    "    # GENERATE NUMERIC DERIVATIVES AND CHECK FOR SLOPE CLOSEST TO LINE FROM ORIGIN\n",
    "    df[\"slope\"] = None\n",
    "    for i in df.index:\n",
    "        if i > 1:\n",
    "            df.loc[i,\"slope\"] = df.loc[i,\"T_R\"] - df.loc[i-1,\"T_R\"]\n",
    "            \n",
    "    df[\"tangent\"] = df.T_R / df.v\n",
    "    \n",
    "    df[\"differ\"] = abs(df.slope - df.tangent).astype(float)\n",
    "    \n",
    "    range_ix = df[\"differ\"].idxmin()\n",
    "    v_result = df.loc[range_ix,\"v\"]\n",
    "    v_knots = v_result * 1.94384\n",
    "    v_mach = v_result / a\n",
    "    print \"Final difference: \" + str(df.loc[range_ix,\"differ\"])\n",
    "    \n",
    "    print \"range speed: \" + str(v_result) + \" m/s, or \" + str(v_knots) + \" knots, or Mach \" + str(v_mach) \n",
    "    return df"
   ]
  },
  {
   "cell_type": "code",
   "execution_count": 12,
   "metadata": {
    "collapsed": false
   },
   "outputs": [
    {
     "name": "stdout",
     "output_type": "stream",
     "text": [
      "Final difference: 1.13890344554\n",
      "range speed: 189 m/s, or 367.38576 knots, or Mach 0.598084002038\n"
     ]
    }
   ],
   "source": [
    "range200 = range_speed(200)"
   ]
  },
  {
   "cell_type": "code",
   "execution_count": 13,
   "metadata": {
    "collapsed": false
   },
   "outputs": [
    {
     "name": "stdout",
     "output_type": "stream",
     "text": [
      "Final difference: 0.198717043055\n",
      "range speed: 253 m/s, or 491.79152 knots, or Mach 0.857134666269\n"
     ]
    }
   ],
   "source": [
    "range360 = range_speed(360)"
   ]
  },
  {
   "cell_type": "markdown",
   "metadata": {},
   "source": [
    "### Results (part 2)\n",
    "Endurance speed for FL 200 is **189 m/s**, or **367.4** knots, or **Mach 0.60**  \n",
    "Endurance speed for FL 360 is **253 m/s**, or **491.8** knots, or **Mach 0.86**"
   ]
  },
  {
   "cell_type": "markdown",
   "metadata": {},
   "source": [
    "## Question 4\n",
    "\n",
    "Find the cruise Mach speeds that would be chosen at FL 360 for the cost indexes of 10 and 50 kg/min, using the thrust specific fuel consumption equation provided in the appendix. If wave drag were taken into account, how would this affect your results? Refer to Appendix II, which presents a qualitative variation of total drag coefficient with Mach number. Use this figure to estimate an additive, Mach number dependent, correction to the drag coefficient obtained from the drag polar equation in Appendix I. (Hint: estimate how much larger is Cd at a given Mach number due to wave drag. Use the curve in Appendix II to find the proportion by which Cd increases as a function of free flow Mach speed)"
   ]
  },
  {
   "cell_type": "markdown",
   "metadata": {},
   "source": [
    "### Part 1: Without Wave Drag\n",
    "\n",
    "The cruise speeds for various cost indexes are determined by minimizing total cost. This can be simplified as such (as demonstrated in class):\n",
    "\n",
    "$$ Cost = Fuel + Time $$\n",
    "\n",
    "The \"fuel\" component can be determined using the formula for thrust-specific fuel consumption (TSFC):\n",
    "\n",
    "$$ TSFC = 0.891 * (1 + \\frac{v}{4600}) \\frac{kg}{min * kN} $$\n",
    "\n",
    "In order to find the mass of fuel used, we can multiply this by time and thrust. This value must be divided by 1000 to be comparable since the formula uses kilonewtons. The \"time\" component can be determined using the cost index, which is the value of time, in mass of fuel per unit time; to get fuel cost, we can multiply by time. Finally, to control for trip length, we can divide each component by distance. This gives us:\n",
    "\n",
    "$$ Cost = TSFC * Thrust * \\frac{Time}{Length} + CI * \\frac{Time}{Length} $$\n",
    "\n",
    "$$ Cost = TSFC *  \\frac{Thrust}{v} + \\frac{CI}{v} $$\n",
    "\n",
    "I specify a function below to calculate minimum cost based on this formula. This does not take wave drag into account. "
   ]
  },
  {
   "cell_type": "code",
   "execution_count": 14,
   "metadata": {
    "collapsed": false
   },
   "outputs": [],
   "source": [
    "def min_cost(CI, FL, min_guess):\n",
    "\n",
    "    print \"FL \" + str(FL) + \", CI: \" + str(CI)\n",
    "    \n",
    "    # Get constants\n",
    "    p, s, w, a = constants(FL)\n",
    "    \n",
    "    # Determine thrust-specific fuel consumption at a certain speed\n",
    "    def TSFC(v):\n",
    "        return (0.891 * (1 + v/4600)) / 1000\n",
    "    \n",
    "    # Function for total cost, as described in formula above\n",
    "    def total_cost(v):\n",
    "        return CI * 1/v + TSFC(v) * thrust_req(p,s,w,v) * 1/v\n",
    "    \n",
    "    # Minimize total cost function, return cruise speed\n",
    "    v_result = minimize(total_cost,min_guess).x[0]\n",
    "    \n",
    "    # Convert optimal cruise speed to knots and Mach\n",
    "    v_knots = v_result * 1.94384\n",
    "    v_mach = v_result / a\n",
    "    \n",
    "    print \"Cruise speed: \" + str(v_result) + \" m/s, or \" + str(v_knots) + \" knots, or Mach \" + str(v_mach) \n",
    "    return v_result"
   ]
  },
  {
   "cell_type": "code",
   "execution_count": 15,
   "metadata": {
    "collapsed": false
   },
   "outputs": [
    {
     "name": "stdout",
     "output_type": "stream",
     "text": [
      "FL 360, CI: 10\n",
      "Cruise speed: 266.827133501 m/s, or 518.669255184 knots, or Mach 0.903979391401\n"
     ]
    },
    {
     "data": {
      "text/plain": [
       "266.82713350051557"
      ]
     },
     "execution_count": 15,
     "metadata": {},
     "output_type": "execute_result"
    }
   ],
   "source": [
    "# Determine cruise speed for CI of 10, FL 360\n",
    "min_cost(10,360,10)"
   ]
  },
  {
   "cell_type": "code",
   "execution_count": 16,
   "metadata": {
    "collapsed": false
   },
   "outputs": [
    {
     "name": "stdout",
     "output_type": "stream",
     "text": [
      "FL 360, CI: 50\n",
      "Cruise speed: 346.328077896 m/s, or 673.206370937 knots, or Mach 1.17331937339\n"
     ]
    },
    {
     "data": {
      "text/plain": [
       "346.32807789559786"
      ]
     },
     "execution_count": 16,
     "metadata": {},
     "output_type": "execute_result"
    }
   ],
   "source": [
    "# Determine cruise speed for CI of 50, FL 360\n",
    "min_cost(50,360,10)"
   ]
  },
  {
   "cell_type": "markdown",
   "metadata": {},
   "source": [
    "### Part 1 Results \n",
    "For CI of 10, cruise speed is **Mach 0.90**  \n",
    "For CI of 50, cruise speed is **Mach 1.17**"
   ]
  },
  {
   "cell_type": "markdown",
   "metadata": {},
   "source": [
    "### Part 2: With Wave Drag\n",
    "\n",
    "To account for wave drag, we have to use the qualitative curve given in the assignment to determine the multiplier that should be applied at various Mach speeds to increase the drag coefficient to a more accurate level. Below I create a function to:\n",
    "* Plot the qualitative curve\n",
    "* Determine the percentage difference between the previous drag coefficient and what it should be when accounting for wave drag\n",
    "* Assign a multiplier for the drag coefficient at various speeds"
   ]
  },
  {
   "cell_type": "code",
   "execution_count": 17,
   "metadata": {
    "collapsed": false
   },
   "outputs": [],
   "source": [
    "def additive(FL):\n",
    "    \n",
    "    p, s, w, a = constants(FL)\n",
    "    \n",
    "    # CREATE DATAFRAME WITH OF C_D vs. SPEED WITHOUT WAVE DRAG\n",
    "    cd = pd.DataFrame(index=range(1,600), columns = [\"v\",\"v_mach\",\"cd_nowave\"])\n",
    "    cd.v = cd.index\n",
    "    cd.v_mach = cd.v / a\n",
    "    \n",
    "    # lift and drag coefficients\n",
    "    CL = (2*w) / (p*s*df.v**2)\n",
    "    cd.cd_nowave = .024 + 0.041 * (CL**2) \n",
    "    \n",
    "    # GET DATA FROM QUAlITATIVE CURVE \n",
    "    qualmach = [0.6875,0.8643,0.8929,0.9464,1.0000,1.05,1.2,1.5,2.0]\n",
    "    qualcd = [0.03,0.0367,0.048,0.11,0.128,0.128,.095,.0675,.042]\n",
    "    qual = pd.DataFrame()\n",
    "    qual[\"v_mach\"] = qualmach\n",
    "    qual[\"cd_wave\"] = qualcd\n",
    "    qual[\"v\"] = (qual.v_mach * a).astype(int)\n",
    "    qual = qual.drop(\"v_mach\",1)\n",
    "    \n",
    "    # MERGE DATAFRAMES\n",
    "    cd = cd.merge(qual,how=\"left\",on=\"v\")\n",
    "    cd.cd_wave = cd.cd_wave.interpolate(method=\"linear\")\n",
    "    \n",
    "    # CALCULATE ADDITIVE\n",
    "    cd[\"additive\"] = None\n",
    "    for i in cd.index:\n",
    "        cd.loc[i,\"additive\"] = max(0,cd.loc[i,\"cd_wave\"] - cd.loc[i,\"cd_nowave\"])\n",
    "        \n",
    "    # ADDITIVE AS MULTIPLIER\n",
    "    cd[\"finalCD\"] = None\n",
    "    for i in cd.index:\n",
    "        cd.loc[i,\"finalCD\"] = max(cd.loc[i,\"cd_wave\"],cd.loc[i,\"cd_nowave\"])\n",
    "        \n",
    "    cd[\"multiplier\"] = None\n",
    "    for i in cd.index:\n",
    "        cd.loc[i,\"multiplier\"] = cd.loc[i,\"finalCD\"] / cd.loc[i,\"cd_nowave\"]\n",
    "    \n",
    "    # CREATE DATAFRAME OF MULTIPLIERS FOR LATER REFERENCE\n",
    "    adjustment = cd[[\"v\",\"multiplier\"]].fillna(1)\n",
    "\n",
    "    return cd, adjustment"
   ]
  },
  {
   "cell_type": "markdown",
   "metadata": {},
   "source": [
    "Below, I plot the drag coefficients with and without wave drag, as well as the additive that will be applied. (In practice, a multiplier is used rather than an additive value)."
   ]
  },
  {
   "cell_type": "code",
   "execution_count": 18,
   "metadata": {
    "collapsed": false
   },
   "outputs": [
    {
     "data": {
      "image/png": "[encoded data removed]",
      "text/plain": [
       "<matplotlib.figure.Figure at 0xbf14080>"
      ]
     },
     "metadata": {},
     "output_type": "display_data"
    }
   ],
   "source": [
    "cd, adjustment = additive(360)\n",
    "\n",
    "# PLOT DIFFERENCE\n",
    "plt.plot(cd.v_mach,cd.cd_wave)\n",
    "plt.plot(cd.v_mach,cd.cd_nowave)\n",
    "plt.plot(cd.v_mach,cd.additive)\n",
    "plt.legend([\"Drag Coefficient (W/ Wave Drag)\",\"Drag Coefficient (No Wave Drag)\", \"Additive\"])\n",
    "plt.xlabel(\"Mach\")\n",
    "plt.ylabel(\"Drag Coefficient\")\n",
    "plt.ylim(0,0.2)\n",
    "plt.show()"
   ]
  },
  {
   "cell_type": "markdown",
   "metadata": {},
   "source": [
    "The values of the multiplier at various Mach speeds is displayed below, as inferred from the qualitative curve."
   ]
  },
  {
   "cell_type": "code",
   "execution_count": 19,
   "metadata": {
    "collapsed": false
   },
   "outputs": [
    {
     "data": {
      "image/png": "[encoded data removed]",
      "text/plain": [
       "<matplotlib.figure.Figure at 0xbe32b38>"
      ]
     },
     "metadata": {},
     "output_type": "display_data"
    }
   ],
   "source": [
    "plt.plot(cd.v_mach,cd.multiplier)\n",
    "plt.xlabel(\"Mach\")\n",
    "plt.ylabel(\"Multiplier\")\n",
    "plt.ylim(0,10)\n",
    "plt.show()"
   ]
  },
  {
   "cell_type": "markdown",
   "metadata": {},
   "source": [
    "Now that we know how much to adjust the drag coefficient at each speed to take wave drag into account, I create two modified functions below to calculate required thrust (given wave drag), and minimize cost to find a cruise speed. New cruise speeds are reported below."
   ]
  },
  {
   "cell_type": "code",
   "execution_count": 20,
   "metadata": {
    "collapsed": true
   },
   "outputs": [],
   "source": [
    "def thrust_req_withwavedrag2(p,s,w,v):\n",
    "    # lift and drag coefficients\n",
    "    CL = (2*w) / (p*s*v**2)\n",
    "\n",
    "    mult = adjustment.loc[int(v)-1,\"multiplier\"]\n",
    "    \n",
    "    CD = .024 + 0.041 * (CL**2) * mult\n",
    "    \n",
    "    # THRUST REQUIRED\n",
    "    TR = w / (CL/CD)\n",
    "    \n",
    "    return TR"
   ]
  },
  {
   "cell_type": "code",
   "execution_count": 21,
   "metadata": {
    "collapsed": true
   },
   "outputs": [],
   "source": [
    "def min_cost_wavedrag(CI, FL, min_guess):\n",
    "\n",
    "    print \"FL \" + str(FL) + \", CI: \" + str(CI)\n",
    "    \n",
    "    p, s, w, a = constants(FL)\n",
    "    \n",
    "    def TSFC(v):\n",
    "        return (0.891 * (1 + v/4600)) / 1000\n",
    "    \n",
    "    cd, adjustment = additive(FL)\n",
    "    \n",
    "    def total_cost(v):\n",
    "\n",
    "        return CI * 1/v + TSFC(v) * thrust_req_withwavedrag2(p,s,w,v) * 1/v\n",
    "\n",
    "    v_result = minimize(total_cost,min_guess).x[0]\n",
    "    v_knots = v_result * 1.94384\n",
    "    v_mach = v_result / a\n",
    "    \n",
    "    print \"Cruise speed: \" + str(v_result) + \" m/s, or \" + str(v_knots) + \" knots, or Mach \" + str(v_mach) \n",
    "    return v_result"
   ]
  },
  {
   "cell_type": "code",
   "execution_count": 22,
   "metadata": {
    "collapsed": false
   },
   "outputs": [
    {
     "name": "stdout",
     "output_type": "stream",
     "text": [
      "FL 360, CI: 10\n",
      "Cruise speed: 236.001261057 m/s, or 458.748691293 knots, or Mach 0.799544909624\n"
     ]
    },
    {
     "data": {
      "text/plain": [
       "236.00126105673101"
      ]
     },
     "execution_count": 22,
     "metadata": {},
     "output_type": "execute_result"
    }
   ],
   "source": [
    "min_cost_wavedrag(10,360,10)"
   ]
  },
  {
   "cell_type": "code",
   "execution_count": 23,
   "metadata": {
    "collapsed": false
   },
   "outputs": [
    {
     "name": "stdout",
     "output_type": "stream",
     "text": [
      "FL 360, CI: 50\n",
      "Cruise speed: 255.995422564 m/s, or 497.614142197 knots, or Mach 0.867282810617\n"
     ]
    },
    {
     "data": {
      "text/plain": [
       "255.99542256425551"
      ]
     },
     "execution_count": 23,
     "metadata": {},
     "output_type": "execute_result"
    }
   ],
   "source": [
    "min_cost_wavedrag(50,360,10)"
   ]
  },
  {
   "cell_type": "markdown",
   "metadata": {},
   "source": [
    "### Part 2 Results\n",
    "Now having taken wave drag into account:  \n",
    "For CI of 10, cruise speed is **Mach 0.80**  \n",
    "For CI of 50, cruise speed is **Mach 0.87**"
   ]
  },
  {
   "cell_type": "markdown",
   "metadata": {},
   "source": [
    "## Question 5 and 6"
   ]
  },
  {
   "cell_type": "markdown",
   "metadata": {},
   "source": [
    "In this problem, take wave drag into account. Suppose the aircraft is going to cruise 3000 km at FL 360 at a constant airspeed associated with a cost index of 50. Assume  the aircraft begins its cruise at a mass of 70,000 kg. Calculate the fuel it would require for the 3000 km cruise in two ways:  \n",
    "a. Assuming that the mass remains constant over this cruise distance.  \n",
    "b. Taking into account that the aircraft loses mass as it burns fuel. Comment on the magnitude of the error that results from the first approach."
   ]
  },
  {
   "cell_type": "markdown",
   "metadata": {},
   "source": [
    "### Part a\n",
    "This part is simple given the functions we formulated for the last part. I specify functions below to change the weight of the aircraft, and then determine the total fuel used given thrust-specific fuel consumption (a function of speed) and time. "
   ]
  },
  {
   "cell_type": "code",
   "execution_count": 24,
   "metadata": {
    "collapsed": true
   },
   "outputs": [],
   "source": [
    "def constants_Q5(FL):\n",
    "    # altitude in meters based on FL\n",
    "    H_meters = FL * 100 * .3048\n",
    "\n",
    "    # air temperature in kelvin\n",
    "    T = 288.16 - 6.5 / 1000 * H_meters\n",
    "\n",
    "    # density in kg / m^2\n",
    "    p = 1.225 * (T/288.16) ** ( (9.80665 / (287 * 6.5 / 1000)) - 1 )\n",
    "\n",
    "    # area of airfoil in m^2\n",
    "    s = 124.65\n",
    "\n",
    "    # weight in newtons or kg*m / s^2\n",
    "    w = 70000 * 9.80665\n",
    "    \n",
    "    # speed of sound\n",
    "    a = np.sqrt(1.4 * 287 * T)\n",
    "    \n",
    "    return p, s, w, a"
   ]
  },
  {
   "cell_type": "code",
   "execution_count": 25,
   "metadata": {
    "collapsed": true
   },
   "outputs": [],
   "source": [
    "def min_cost_wavedrag_Q5(CI, FL, min_guess):\n",
    "\n",
    "    print \"FL \" + str(FL) + \", CI: \" + str(CI)\n",
    "    \n",
    "    p, s, w, a = constants_Q5(FL)\n",
    "    \n",
    "    def TSFC(v):\n",
    "        return (0.891 * (1 + v/4600)) / 1000\n",
    "    \n",
    "    cd, adjustment = additive(FL)\n",
    "    \n",
    "    def total_cost(v):\n",
    "\n",
    "        return CI * 1/v + TSFC(v) * thrust_req_withwavedrag2(p,s,w,v) * 1/v\n",
    "\n",
    "    v_result = minimize(total_cost,min_guess).x[0]\n",
    "    v_knots = v_result * 1.94384\n",
    "    v_mach = v_result / a\n",
    "    \n",
    "    v_km_min = v_result * (60/1000)\n",
    "    tt = 3000 / v_km_min\n",
    "    \n",
    "    print \"min cost speed: \" + str(v_result) + \" m/s, or \" + str(v_knots) + \" knots, or Mach \" + str(v_mach) \n",
    "    print \"time to travel 3000km: \" + str(tt) + \" min\"\n",
    "    print \"fuel consumption per min: \" + str((TSFC(v_result) * 1 * thrust_req_withwavedrag2(p,s,w,v_result))/9.8) + \" kg\"\n",
    "    print \"fuel consumption: \" + str((TSFC(v_result) * tt * thrust_req_withwavedrag2(p,s,w,v_result))/9.8) + \" kg\"\n",
    "    return v_result"
   ]
  },
  {
   "cell_type": "code",
   "execution_count": 26,
   "metadata": {
    "collapsed": false
   },
   "outputs": [
    {
     "name": "stdout",
     "output_type": "stream",
     "text": [
      "FL 360, CI: 50\n",
      "min cost speed: 237.786499023 m/s, or 462.218908262 knots, or Mach 0.805593088869\n",
      "time to travel 3000km: 210.272661423 min\n",
      "fuel consumption per min: 4.39397606245 kg\n",
      "fuel consumption: 923.933040877 kg\n"
     ]
    },
    {
     "data": {
      "text/plain": [
       "237.7864990234375"
      ]
     },
     "execution_count": 26,
     "metadata": {},
     "output_type": "execute_result"
    }
   ],
   "source": [
    "min_cost_wavedrag_Q5(50,360,10)"
   ]
  },
  {
   "cell_type": "markdown",
   "metadata": {},
   "source": [
    "### Part a results\n",
    "\n",
    "When not taking reduced weight from used fuel into account, the total fuel consumption for this trip is **923.9 kg**, at a cruise speed of 237.8 m/s. "
   ]
  },
  {
   "cell_type": "markdown",
   "metadata": {},
   "source": [
    "### Part b\n",
    "\n",
    "This part is much trickier. I assume that we use the same cruise speed as for the previous part (237.8 m/s), but this time iterate the thrust-specific fuel consumption over various time intervals to see how fuel consumption changes with reduced weight of the airplane. This is a numerical approximation of integrating the fuel use function that takes reduced weight into account."
   ]
  },
  {
   "cell_type": "code",
   "execution_count": 27,
   "metadata": {
    "collapsed": false
   },
   "outputs": [
    {
     "name": "stdout",
     "output_type": "stream",
     "text": [
      "FL 360, CI: 50\n",
      "min cost speed: 237.786499023 m/s, or 462.218908262 knots, or Mach 0.805593088869\n",
      "time to travel 3000km: 210.272661423 min\n",
      "fuel consumption per min: 4.39397606245 kg\n",
      "fuel consumption: 923.933040877 kg\n"
     ]
    }
   ],
   "source": [
    "# CREATE A DATAFRAME WITH TIME INTERVALS AS INDEX\n",
    "\n",
    "time = pd.DataFrame(index = range(0,250), columns=['v','distance traveled','weight',\"fuel used\"])\n",
    "time.loc[0,\"v\"] = min_cost_wavedrag_Q5(50,360,10)\n",
    "time.loc[0,\"distance traveled\"] = 0\n",
    "time.loc[0,\"weight\"] = 70000 * 9.80665"
   ]
  },
  {
   "cell_type": "code",
   "execution_count": 28,
   "metadata": {
    "collapsed": false
   },
   "outputs": [],
   "source": [
    "def fuel_loss_constantspeed(df, CI, FL, v_result):\n",
    "    \n",
    "    p, s, w, a = constants_Q5(FL)\n",
    "    \n",
    "    def TSFC(v):\n",
    "        return (0.891 * (1 + v/4600)) / 1000\n",
    "    \n",
    "    d = v_result * (60/1000)\n",
    "    f = (TSFC(v_result) * 1 * thrust_req_withwavedrag2(p,s,w,v_result))/9.8\n",
    "    \n",
    "    last = 0\n",
    "    \n",
    "    for i in df.index:\n",
    "        if i > 0:\n",
    "            if df.loc[i-1,\"distance traveled\"] >= 3000:\n",
    "                last = i\n",
    "                break\n",
    "            else:\n",
    "                w = df.loc[i-1,\"weight\"]\n",
    "                df.loc[i,\"v\"] = v_result\n",
    "                df.loc[i,\"distance traveled\"] = df.loc[i-1,\"distance traveled\"] + d\n",
    "                \n",
    "                f = (TSFC(v_result) * 1 * thrust_req_withwavedrag2(p,s,w,v_result))/9.8\n",
    "                df.loc[i,\"fuel used\"] = f\n",
    "                df.loc[i,\"weight\"] = w - f\n",
    "\n",
    "    mass_loss = df.loc[0,\"weight\"] - df.loc[last-1,\"weight\"] \n",
    "    mass_loss_second = df.loc[0,\"weight\"] - df.loc[last-2,\"weight\"] \n",
    "    print \"When taking fuel weight into account, fuel used is between \" + str(mass_loss_second) + \" and \" + str(mass_loss)\n",
    "    \n",
    "    return df"
   ]
  },
  {
   "cell_type": "code",
   "execution_count": 29,
   "metadata": {
    "collapsed": false
   },
   "outputs": [
    {
     "name": "stdout",
     "output_type": "stream",
     "text": [
      "FL 360, CI: 50\n",
      "min cost speed: 237.786499023 m/s, or 462.218908262 knots, or Mach 0.805593088869\n",
      "time to travel 3000km: 210.272661423 min\n",
      "fuel consumption per min: 4.39397606245 kg\n",
      "fuel consumption: 923.933040877 kg\n",
      "When taking fuel weight into account, fuel used is between 922.330332702 and 926.720438051\n"
     ]
    }
   ],
   "source": [
    "df_360 = fuel_loss_constantspeed(time,50,360,min_cost_wavedrag_Q5(50,360,10))"
   ]
  },
  {
   "cell_type": "code",
   "execution_count": 30,
   "metadata": {
    "collapsed": false
   },
   "outputs": [
    {
     "name": "stdout",
     "output_type": "stream",
     "text": [
      "FL 200, CI: 50\n",
      "min cost speed: 247.815311754 m/s, or 481.7133156 knots, or Mach 0.784203033969\n",
      "time to travel 3000km: 201.763158403 min\n",
      "fuel consumption per min: 6.55242522095 kg\n",
      "fuel consumption: 1322.03800778 kg\n",
      "When taking fuel weight into account, fuel used is between 1316.72757479 and 1323.27690231\n"
     ]
    }
   ],
   "source": [
    "df_200 = fuel_loss_constantspeed(time,50,200,min_cost_wavedrag_Q5(50,200,10))"
   ]
  },
  {
   "cell_type": "markdown",
   "metadata": {},
   "source": [
    "### Part b results:\n",
    "\n",
    "For FL 360 and a cost index of 50, after taking reduced weight from used fuel into account, the trip uses **922.3 kg of fuel**, which is almost no difference from the calculation that did not take changing weight into account. \n",
    "\n",
    "### Question 6 results:\n",
    "\n",
    "For FL 200, fuel consumption without taking weight change into account is **1322.0 kg**; after taking weight change into account, the fuel consumption is **1316.7 kg**, again almost no difference.  \n",
    "\n",
    "These results suggest that a simplifying assumption that the weight of the plane does not change with fuel use may be a safe one in terms of estimating fuel required to make a certain trip.\n",
    "\n",
    "In order to calculate the price difference between flight levels, we need to find jet fuel prices. Airnav.com is currentl reporting \"Jet A\" fuel prices at about $4/gallon. One gallon of water equals 3.79 kilograms of water, and jet fuel has an approximate specific gravity of .85, so we can approximate one gallon of jet fuel as equivalent to 3.2 kg. \n",
    "\n",
    "$$ \\frac{$4}{1 gallon} = \\frac {$4}{3.2 kg}  = \\frac{$1.25}{kg} $$\n",
    "\n",
    "$$ 1316.7 kg - 922.3 kg = 394.4 \\text{ kg fuel saved by flying at FL 360 rather than FL 200} $$\n",
    "\n",
    "$$ 394.4 kg * \\frac{$1.25}{kg} = $493 $$\n",
    "\n",
    "So flying at FL360 instead of FL200 saves nearly $500 in fuel over the course of the entire flight."
   ]
  },
  {
   "cell_type": "markdown",
   "metadata": {},
   "source": [
    "## Question 7\n",
    "\n",
    "Using the assumptions in 5, calculate the additional fuel (and associated cost) of carrying one more passenger weighing 200 lbs (including luggage).\n",
    "\n",
    "Finally, to estimate the fuel and money cost of serving one 200lb passenger, I simply use the same function as above, with a starting weight value and add 200 lbs (889.64 Newtons). Then I compare to previous results.\n"
   ]
  },
  {
   "cell_type": "code",
   "execution_count": 31,
   "metadata": {
    "collapsed": false
   },
   "outputs": [
    {
     "name": "stdout",
     "output_type": "stream",
     "text": [
      "FL 360, CI: 50\n",
      "min cost speed: 237.786499023 m/s, or 462.218908262 knots, or Mach 0.805593088869\n",
      "time to travel 3000km: 210.272661423 min\n",
      "fuel consumption per min: 4.39397606245 kg\n",
      "fuel consumption: 923.933040877 kg\n"
     ]
    }
   ],
   "source": [
    "time_onepax = pd.DataFrame(index = range(0,250), columns=['v','distance traveled','weight',\"fuel used\"])\n",
    "time_onepax.loc[0,\"v\"] = min_cost_wavedrag_Q5(50,360,10)\n",
    "time_onepax.loc[0,\"distance traveled\"] = 0\n",
    "time_onepax.loc[0,\"weight\"] = 70000 * 9.80665 + 889.64"
   ]
  },
  {
   "cell_type": "code",
   "execution_count": 32,
   "metadata": {
    "collapsed": false
   },
   "outputs": [
    {
     "name": "stdout",
     "output_type": "stream",
     "text": [
      "FL 360, CI: 50\n",
      "min cost speed: 237.786499023 m/s, or 462.218908262 knots, or Mach 0.805593088869\n",
      "time to travel 3000km: 210.272661423 min\n",
      "fuel consumption per min: 4.39397606245 kg\n",
      "fuel consumption: 923.933040877 kg\n",
      "When taking fuel weight into account, fuel used is between 923.114539112 and 927.508374602\n"
     ]
    }
   ],
   "source": [
    "df_360 = fuel_loss_constantspeed(time_onepax,50,360,min_cost_wavedrag_Q5(50,360,10))"
   ]
  },
  {
   "cell_type": "markdown",
   "metadata": {
    "collapsed": true
   },
   "source": [
    "### Results:\n",
    "\n",
    "With the additional passenger, we have fuel consumption of 923.1 kg. Without the additional passenger, fuel consumption was 922.3. So we can estimate that each additional passenger requires **0.8 kg of fuel**. This is only **$1 in additional fuel** per passenger."
   ]
  }
 ],
 "metadata": {
  "kernelspec": {
   "display_name": "Python 2",
   "language": "python",
   "name": "python2"
  },
  "language_info": {
   "codemirror_mode": {
    "name": "ipython",
    "version": 2
   },
   "file_extension": ".py",
   "mimetype": "text/x-python",
   "name": "python",
   "nbconvert_exporter": "python",
   "pygments_lexer": "ipython2",
   "version": "2.7.11"
  }
 },
 "nbformat": 4,
 "nbformat_minor": 0
}
