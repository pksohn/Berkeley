{
 "cells": [
  {
   "cell_type": "markdown",
   "metadata": {},
   "source": [
    "This script uses the Census API to download and organize key Census/ACS variables of interest for specified geographic areas (census tracts in this example), and generates outputs for further summary."
   ]
  },
  {
   "cell_type": "code",
   "execution_count": 450,
   "metadata": {
    "collapsed": false
   },
   "outputs": [],
   "source": [
    "import pandas as pd, numpy as np, census, us, csv, os, settings, requests as r, math\n",
    "from math import sqrt\n",
    "from census import Census\n",
    "from us import states"
   ]
  },
  {
   "cell_type": "code",
   "execution_count": 451,
   "metadata": {
    "collapsed": false
   },
   "outputs": [],
   "source": [
    "c = Census(settings.CENSUS_KEY)"
   ]
  },
  {
   "cell_type": "markdown",
   "metadata": {},
   "source": [
    "## Helper Functions"
   ]
  },
  {
   "cell_type": "code",
   "execution_count": 452,
   "metadata": {
    "collapsed": false
   },
   "outputs": [],
   "source": [
    "# pull dataframe for ACS 5-year estimates, set values as float\n",
    "\n",
    "def acs5(vardict,state,county,yr):\n",
    "    df = pd.DataFrame(c.acs5.get((vardict.keys()), geo={'for': 'tract:*', 'in': 'state:'+state+' county:'+county}, year=yr))\n",
    "    df = df.rename(columns=vardict)\n",
    "    clist = list(df.columns.values)\n",
    "    for i in clist:\n",
    "        if i != 'NAME' and i != 'state' and i != 'county' and i != 'tract':\n",
    "            df[i] = df[i].astype(float)\n",
    "    return df"
   ]
  },
  {
   "cell_type": "code",
   "execution_count": 453,
   "metadata": {
    "collapsed": false
   },
   "outputs": [],
   "source": [
    "# pull dataframe for SF1, set values as float\n",
    "\n",
    "def sf1(vardict,state,county,yr):\n",
    "    df = pd.DataFrame(c.sf1.get((vardict.keys()), geo={'for': 'tract:*', 'in': 'state:'+state+' county:'+county}, year=yr))\n",
    "    df = df.rename(columns=vardict)\n",
    "    clist = list(df.columns.values)\n",
    "    for i in clist:\n",
    "        if i != 'NAME' and i != 'state' and i != 'county' and i != 'tract':\n",
    "            df[i] = df[i].astype(float)\n",
    "    return df"
   ]
  },
  {
   "cell_type": "code",
   "execution_count": 454,
   "metadata": {
    "collapsed": false
   },
   "outputs": [],
   "source": [
    "# pull dataframe for SF3, set values as float\n",
    "\n",
    "def sf3(vardict,state,county,yr):\n",
    "    df = pd.DataFrame(c.sf3.get((vardict.keys()), geo={'for': 'tract:*', 'in': 'state:'+state+' county:'+county}, year=yr))\n",
    "    df = df.rename(columns=vardict)\n",
    "    clist = list(df.columns.values)\n",
    "    for i in clist:\n",
    "        if i != 'NAME' and i != 'state' and i != 'county' and i != 'tract':\n",
    "            df[i] = df[i].astype(float)\n",
    "    return df"
   ]
  },
  {
   "cell_type": "code",
   "execution_count": 455,
   "metadata": {
    "collapsed": false
   },
   "outputs": [],
   "source": [
    "# filter to specific list of tracts\n",
    "\n",
    "def tractfilter(df,tractlist):\n",
    "    df = df[df['tract'].isin(tractlist)]\n",
    "    df = df.set_index(df.tract)\n",
    "    return df"
   ]
  },
  {
   "cell_type": "code",
   "execution_count": 456,
   "metadata": {
    "collapsed": false
   },
   "outputs": [],
   "source": [
    "# pull lists of census tracts in study area in 2000 and 2010\n",
    "\n",
    "def tractlist(csv):\n",
    "    df = pd.read_csv(csv, dtype=str)\n",
    "    df = df['tracts'].tolist()\n",
    "    map(str,df)\n",
    "    return df"
   ]
  },
  {
   "cell_type": "code",
   "execution_count": 457,
   "metadata": {
    "collapsed": false
   },
   "outputs": [],
   "source": [
    "# Collapse categories (counts only), using external key of old and new category names\n",
    "# Key should be csv file previously read into dataframe\n",
    "\n",
    "def collapse(df,keys):\n",
    "    \n",
    "    ix = df.index\n",
    "    c = df.columns\n",
    "    a = keys[keys['old'].isin(c)]\n",
    "    col = a.new.unique()\n",
    "    \n",
    "    #create empty frame for output\n",
    "    output = pd.DataFrame(index = ix, columns = col)\n",
    "    \n",
    "    #cycle through each new column to be created\n",
    "    for u in col:\n",
    "        \n",
    "        #copy old structure and set whole column to 0\n",
    "        for i in output.iterrows():\n",
    "            output[u] = 0\n",
    "        \n",
    "        #cycle through key and add columns in old dataframe together according to key\n",
    "        for i in keys.index.values:\n",
    "            if (keys.new[i] == u) & (keys.old[i] in df.columns.values):\n",
    "                output[u] = output[u] + df[keys.old[i]]\n",
    "                \n",
    "    return output"
   ]
  },
  {
   "cell_type": "code",
   "execution_count": 458,
   "metadata": {
    "collapsed": false
   },
   "outputs": [],
   "source": [
    "# Collapse categories (MOEs only), using external key of old and new category names\n",
    "# Key should be csv file previously read into dataframe\n",
    "\n",
    "def collapseMOE(df,keys):\n",
    "    \n",
    "    ix = df.index\n",
    "    c = df.columns\n",
    "    a = keys[keys['old'].isin(c)]\n",
    "    col = a.new.unique()\n",
    "    \n",
    "    #create empty frame for output\n",
    "    output = pd.DataFrame(index = ix, columns = col)\n",
    "    \n",
    "    #cycle through each new column to be created\n",
    "    for u in col:\n",
    "        r = keys['old'][keys.new == u].tolist()\n",
    "        d = df[r].astype('float')\n",
    "        e = d**2\n",
    "        f = e.sum(axis=1)\n",
    "        output[u] = f.apply(sqrt)\n",
    "    \n",
    "    return output"
   ]
  },
  {
   "cell_type": "code",
   "execution_count": 459,
   "metadata": {
    "collapsed": false
   },
   "outputs": [],
   "source": [
    "# Aggregate census tracts for tables with counts\n",
    "\n",
    "# Need to figure out a way to sum the row if contains \"(Estimate)\" and do the margin of error aggregation if contains \"(MOE)\"\n",
    "# MOE aggregation formula is square root of sum of squared MOEs\n",
    "\n",
    "def agg(df):\n",
    "    df.loc['Aggregate'] = 0\n",
    "    for i in df.columns:\n",
    "        if \"(Estimate)\" in i:\n",
    "            df[i]['Aggregate'] = sum(df[i])\n",
    "        elif \"(MOE)\" in i:\n",
    "            df[i]['Aggregate'] = sqrt(sum(df[i]**2))\n",
    "        elif df[i].dtypes == 'float64':\n",
    "            df[i]['Aggregate'] = sum(df[i])\n",
    "    new = df.loc['Aggregate']\n",
    "    df.drop('Aggregate')\n",
    "    return new"
   ]
  },
  {
   "cell_type": "code",
   "execution_count": 460,
   "metadata": {
    "collapsed": false
   },
   "outputs": [],
   "source": [
    "# read csv variable dictionary\n",
    "\n",
    "variablesheet = pd.read_csv('C:\\Users\\pksohn\\Box Sync\\Berkeley Coursework\\CP201A Planning Methods Gateway Fall\\Assignments\\Neighborhood Profile\\Variables\\Master Variable Dictionary.csv', dtype='str')"
   ]
  },
  {
   "cell_type": "code",
   "execution_count": 461,
   "metadata": {
    "collapsed": false
   },
   "outputs": [],
   "source": [
    "# Pull variable dictionary for specific pull using previously defined external dictionary\n",
    "\n",
    "def vardict(pull, year, survey):\n",
    "    v = variablesheet.set_index('var')\n",
    "    return v['label'][(v.pull == pull) & (v.year == year) & (v.survey == survey)].to_dict()"
   ]
  },
  {
   "cell_type": "code",
   "execution_count": 462,
   "metadata": {
    "collapsed": false
   },
   "outputs": [],
   "source": [
    "# Drew's function to concatenate dataframes \n",
    "\n",
    "def concatenate_dataframes(*dfs):\n",
    "    if len(dfs) < 2:\n",
    "        return dfs[0]\n",
    "    \n",
    "    masterframe = dfs[0]\n",
    "    for df in dfs[1:]:\n",
    "        masterframe = pd.concat([masterframe, df], axis = 1)\n",
    "    masterframe.T.groupby\n",
    "    return masterframe"
   ]
  },
  {
   "cell_type": "markdown",
   "metadata": {},
   "source": [
    "## Geographic Parameters"
   ]
  },
  {
   "cell_type": "code",
   "execution_count": 463,
   "metadata": {
    "collapsed": false
   },
   "outputs": [],
   "source": [
    "# Set FIPS codes for area\n",
    "\n",
    "CA = '06'\n",
    "alameda = '001'"
   ]
  },
  {
   "cell_type": "code",
   "execution_count": 464,
   "metadata": {
    "collapsed": false
   },
   "outputs": [],
   "source": [
    "# get csv files of census tracts in study area\n",
    "\n",
    "tracts10 = tractlist('2010_tracts.csv')\n",
    "tracts00 = tractlist('2000_tracts.csv')"
   ]
  },
  {
   "cell_type": "markdown",
   "metadata": {},
   "source": [
    "## 2008-2012 5-year ACS descriptives"
   ]
  },
  {
   "cell_type": "markdown",
   "metadata": {},
   "source": [
    "##### Basic counts"
   ]
  },
  {
   "cell_type": "code",
   "execution_count": 465,
   "metadata": {
    "collapsed": false
   },
   "outputs": [],
   "source": [
    "var_basic10 = vardict('basic','2010','ACS5')"
   ]
  },
  {
   "cell_type": "code",
   "execution_count": 466,
   "metadata": {
    "collapsed": false
   },
   "outputs": [
    {
     "data": {
      "text/plain": [
       "11"
      ]
     },
     "execution_count": 466,
     "metadata": {},
     "output_type": "execute_result"
    }
   ],
   "source": [
    "#pull alameda county basic descriptives\n",
    "#filter for study area\n",
    "#check counts\n",
    "\n",
    "alameda_basic10 = acs5(var_basic10,CA,alameda,2012)\n",
    "basic10 = tractfilter(alameda_basic10,tracts10)\n",
    "len(basic10)"
   ]
  },
  {
   "cell_type": "code",
   "execution_count": 467,
   "metadata": {
    "collapsed": false
   },
   "outputs": [
    {
     "data": {
      "text/html": [
       "<div style=\"max-height:1000px;max-width:1500px;overflow:auto;\">\n",
       "<table border=\"1\" class=\"dataframe\">\n",
       "  <thead>\n",
       "    <tr style=\"text-align: right;\">\n",
       "      <th></th>\n",
       "      <th>Population (Estimate)</th>\n",
       "      <th>Population (MOE)</th>\n",
       "      <th>Total Households (Estimate)</th>\n",
       "      <th>Total Households (MOE)</th>\n",
       "      <th>county</th>\n",
       "      <th>state</th>\n",
       "      <th>tract</th>\n",
       "    </tr>\n",
       "    <tr>\n",
       "      <th>tract</th>\n",
       "      <th></th>\n",
       "      <th></th>\n",
       "      <th></th>\n",
       "      <th></th>\n",
       "      <th></th>\n",
       "      <th></th>\n",
       "      <th></th>\n",
       "    </tr>\n",
       "  </thead>\n",
       "  <tbody>\n",
       "    <tr>\n",
       "      <th>401000</th>\n",
       "      <td> 4997</td>\n",
       "      <td> 475</td>\n",
       "      <td> 2288</td>\n",
       "      <td> 140</td>\n",
       "      <td> 001</td>\n",
       "      <td> 06</td>\n",
       "      <td> 401000</td>\n",
       "    </tr>\n",
       "    <tr>\n",
       "      <th>401100</th>\n",
       "      <td> 4313</td>\n",
       "      <td> 471</td>\n",
       "      <td> 2033</td>\n",
       "      <td>  72</td>\n",
       "      <td> 001</td>\n",
       "      <td> 06</td>\n",
       "      <td> 401100</td>\n",
       "    </tr>\n",
       "    <tr>\n",
       "      <th>401200</th>\n",
       "      <td> 2326</td>\n",
       "      <td> 202</td>\n",
       "      <td> 1284</td>\n",
       "      <td>  58</td>\n",
       "      <td> 001</td>\n",
       "      <td> 06</td>\n",
       "      <td> 401200</td>\n",
       "    </tr>\n",
       "    <tr>\n",
       "      <th>401300</th>\n",
       "      <td> 3460</td>\n",
       "      <td> 420</td>\n",
       "      <td> 1676</td>\n",
       "      <td> 114</td>\n",
       "      <td> 001</td>\n",
       "      <td> 06</td>\n",
       "      <td> 401300</td>\n",
       "    </tr>\n",
       "    <tr>\n",
       "      <th>401400</th>\n",
       "      <td> 4113</td>\n",
       "      <td> 768</td>\n",
       "      <td> 1416</td>\n",
       "      <td> 142</td>\n",
       "      <td> 001</td>\n",
       "      <td> 06</td>\n",
       "      <td> 401400</td>\n",
       "    </tr>\n",
       "    <tr>\n",
       "      <th>401500</th>\n",
       "      <td> 1861</td>\n",
       "      <td> 345</td>\n",
       "      <td>  899</td>\n",
       "      <td>  97</td>\n",
       "      <td> 001</td>\n",
       "      <td> 06</td>\n",
       "      <td> 401500</td>\n",
       "    </tr>\n",
       "    <tr>\n",
       "      <th>403900</th>\n",
       "      <td> 4108</td>\n",
       "      <td> 383</td>\n",
       "      <td> 2266</td>\n",
       "      <td>  98</td>\n",
       "      <td> 001</td>\n",
       "      <td> 06</td>\n",
       "      <td> 403900</td>\n",
       "    </tr>\n",
       "    <tr>\n",
       "      <th>404000</th>\n",
       "      <td> 2548</td>\n",
       "      <td> 248</td>\n",
       "      <td> 1630</td>\n",
       "      <td> 107</td>\n",
       "      <td> 001</td>\n",
       "      <td> 06</td>\n",
       "      <td> 404000</td>\n",
       "    </tr>\n",
       "    <tr>\n",
       "      <th>404101</th>\n",
       "      <td> 2724</td>\n",
       "      <td> 215</td>\n",
       "      <td> 1643</td>\n",
       "      <td> 135</td>\n",
       "      <td> 001</td>\n",
       "      <td> 06</td>\n",
       "      <td> 404101</td>\n",
       "    </tr>\n",
       "    <tr>\n",
       "      <th>404102</th>\n",
       "      <td> 2510</td>\n",
       "      <td> 324</td>\n",
       "      <td> 1538</td>\n",
       "      <td> 109</td>\n",
       "      <td> 001</td>\n",
       "      <td> 06</td>\n",
       "      <td> 404102</td>\n",
       "    </tr>\n",
       "    <tr>\n",
       "      <th>425104</th>\n",
       "      <td> 3290</td>\n",
       "      <td> 297</td>\n",
       "      <td> 1750</td>\n",
       "      <td> 158</td>\n",
       "      <td> 001</td>\n",
       "      <td> 06</td>\n",
       "      <td> 425104</td>\n",
       "    </tr>\n",
       "  </tbody>\n",
       "</table>\n",
       "</div>"
      ],
      "text/plain": [
       "        Population (Estimate)  Population (MOE)  Total Households (Estimate)  \\\n",
       "tract                                                                          \n",
       "401000                   4997               475                         2288   \n",
       "401100                   4313               471                         2033   \n",
       "401200                   2326               202                         1284   \n",
       "401300                   3460               420                         1676   \n",
       "401400                   4113               768                         1416   \n",
       "401500                   1861               345                          899   \n",
       "403900                   4108               383                         2266   \n",
       "404000                   2548               248                         1630   \n",
       "404101                   2724               215                         1643   \n",
       "404102                   2510               324                         1538   \n",
       "425104                   3290               297                         1750   \n",
       "\n",
       "        Total Households (MOE) county state   tract  \n",
       "tract                                                \n",
       "401000                     140    001    06  401000  \n",
       "401100                      72    001    06  401100  \n",
       "401200                      58    001    06  401200  \n",
       "401300                     114    001    06  401300  \n",
       "401400                     142    001    06  401400  \n",
       "401500                      97    001    06  401500  \n",
       "403900                      98    001    06  403900  \n",
       "404000                     107    001    06  404000  \n",
       "404101                     135    001    06  404101  \n",
       "404102                     109    001    06  404102  \n",
       "425104                     158    001    06  425104  "
      ]
     },
     "execution_count": 467,
     "metadata": {},
     "output_type": "execute_result"
    }
   ],
   "source": [
    "#look at basic data\n",
    "\n",
    "basic10"
   ]
  },
  {
   "cell_type": "code",
   "execution_count": 468,
   "metadata": {
    "collapsed": false
   },
   "outputs": [
    {
     "name": "stdout",
     "output_type": "stream",
     "text": [
      "36250.0\n",
      "18423.0\n"
     ]
    }
   ],
   "source": [
    "print sum(basic10['Population (Estimate)'])\n",
    "print sum(basic10['Total Households (Estimate)'])"
   ]
  },
  {
   "cell_type": "code",
   "execution_count": 469,
   "metadata": {
    "collapsed": false
   },
   "outputs": [
    {
     "data": {
      "text/plain": [
       "Population (Estimate)             36250\n",
       "Population (MOE)                1349.49\n",
       "Total Households (Estimate)       18423\n",
       "Total Households (MOE)         383.1971\n",
       "county                                0\n",
       "state                                 0\n",
       "tract                                 0\n",
       "Name: Aggregate, dtype: object"
      ]
     },
     "execution_count": 469,
     "metadata": {},
     "output_type": "execute_result"
    }
   ],
   "source": [
    "agg(basic10)"
   ]
  },
  {
   "cell_type": "markdown",
   "metadata": {},
   "source": [
    "##### Modes of Transportation to Work"
   ]
  },
  {
   "cell_type": "code",
   "execution_count": 470,
   "metadata": {
    "collapsed": false
   },
   "outputs": [],
   "source": [
    "var_mode10 = vardict('commute','2010','ACS5')"
   ]
  },
  {
   "cell_type": "code",
   "execution_count": 471,
   "metadata": {
    "collapsed": false
   },
   "outputs": [
    {
     "data": {
      "text/plain": [
       "{'B08301_001E': 'Workers (Estimate)',\n",
       " 'B08301_001M': 'Workers (MOE)',\n",
       " 'B08301_002E': 'Car (Estimate)',\n",
       " 'B08301_002M': 'Car (MOE)',\n",
       " 'B08301_010E': 'Transit (Estimate)',\n",
       " 'B08301_010M': 'Transit (MOE)',\n",
       " 'B08301_016E': 'Taxi (Estimate)',\n",
       " 'B08301_016M': 'Taxi (MOE)',\n",
       " 'B08301_018E': 'Bicycle (Estimate)',\n",
       " 'B08301_018M': 'Bicycle (MOE)',\n",
       " 'B08301_019E': 'Walked (Estimate)',\n",
       " 'B08301_019M': 'Walked (MOE)'}"
      ]
     },
     "execution_count": 471,
     "metadata": {},
     "output_type": "execute_result"
    }
   ],
   "source": [
    "var_mode10"
   ]
  },
  {
   "cell_type": "code",
   "execution_count": 472,
   "metadata": {
    "collapsed": false
   },
   "outputs": [
    {
     "name": "stdout",
     "output_type": "stream",
     "text": [
      "11\n"
     ]
    },
    {
     "data": {
      "text/html": [
       "<div style=\"max-height:1000px;max-width:1500px;overflow:auto;\">\n",
       "<table border=\"1\" class=\"dataframe\">\n",
       "  <thead>\n",
       "    <tr style=\"text-align: right;\">\n",
       "      <th></th>\n",
       "      <th>Workers (Estimate)</th>\n",
       "      <th>Workers (MOE)</th>\n",
       "      <th>Car (Estimate)</th>\n",
       "      <th>Car (MOE)</th>\n",
       "      <th>Transit (Estimate)</th>\n",
       "      <th>Transit (MOE)</th>\n",
       "      <th>Taxi (Estimate)</th>\n",
       "      <th>Taxi (MOE)</th>\n",
       "      <th>Bicycle (Estimate)</th>\n",
       "      <th>Bicycle (MOE)</th>\n",
       "      <th>Walked (Estimate)</th>\n",
       "      <th>Walked (MOE)</th>\n",
       "      <th>county</th>\n",
       "      <th>state</th>\n",
       "      <th>tract</th>\n",
       "    </tr>\n",
       "    <tr>\n",
       "      <th>tract</th>\n",
       "      <th></th>\n",
       "      <th></th>\n",
       "      <th></th>\n",
       "      <th></th>\n",
       "      <th></th>\n",
       "      <th></th>\n",
       "      <th></th>\n",
       "      <th></th>\n",
       "      <th></th>\n",
       "      <th></th>\n",
       "      <th></th>\n",
       "      <th></th>\n",
       "      <th></th>\n",
       "      <th></th>\n",
       "      <th></th>\n",
       "    </tr>\n",
       "  </thead>\n",
       "  <tbody>\n",
       "    <tr>\n",
       "      <th>401000</th>\n",
       "      <td> 2529</td>\n",
       "      <td> 331</td>\n",
       "      <td> 1501</td>\n",
       "      <td> 299</td>\n",
       "      <td> 562</td>\n",
       "      <td> 257</td>\n",
       "      <td> 0</td>\n",
       "      <td> 13</td>\n",
       "      <td> 107</td>\n",
       "      <td> 86</td>\n",
       "      <td> 134</td>\n",
       "      <td> 118</td>\n",
       "      <td> 001</td>\n",
       "      <td> 06</td>\n",
       "      <td> 401000</td>\n",
       "    </tr>\n",
       "    <tr>\n",
       "      <th>401100</th>\n",
       "      <td> 2417</td>\n",
       "      <td> 310</td>\n",
       "      <td> 1187</td>\n",
       "      <td> 217</td>\n",
       "      <td> 735</td>\n",
       "      <td> 223</td>\n",
       "      <td> 0</td>\n",
       "      <td> 13</td>\n",
       "      <td> 206</td>\n",
       "      <td> 98</td>\n",
       "      <td>  45</td>\n",
       "      <td>  37</td>\n",
       "      <td> 001</td>\n",
       "      <td> 06</td>\n",
       "      <td> 401100</td>\n",
       "    </tr>\n",
       "    <tr>\n",
       "      <th>401200</th>\n",
       "      <td> 1443</td>\n",
       "      <td> 236</td>\n",
       "      <td>  887</td>\n",
       "      <td> 208</td>\n",
       "      <td> 275</td>\n",
       "      <td> 106</td>\n",
       "      <td> 0</td>\n",
       "      <td> 13</td>\n",
       "      <td> 153</td>\n",
       "      <td> 71</td>\n",
       "      <td>  53</td>\n",
       "      <td>  44</td>\n",
       "      <td> 001</td>\n",
       "      <td> 06</td>\n",
       "      <td> 401200</td>\n",
       "    </tr>\n",
       "    <tr>\n",
       "      <th>401300</th>\n",
       "      <td> 1679</td>\n",
       "      <td> 260</td>\n",
       "      <td>  769</td>\n",
       "      <td> 201</td>\n",
       "      <td> 701</td>\n",
       "      <td> 183</td>\n",
       "      <td> 0</td>\n",
       "      <td> 13</td>\n",
       "      <td>  19</td>\n",
       "      <td> 31</td>\n",
       "      <td> 156</td>\n",
       "      <td>  96</td>\n",
       "      <td> 001</td>\n",
       "      <td> 06</td>\n",
       "      <td> 401300</td>\n",
       "    </tr>\n",
       "    <tr>\n",
       "      <th>401400</th>\n",
       "      <td> 1471</td>\n",
       "      <td> 422</td>\n",
       "      <td>  825</td>\n",
       "      <td> 270</td>\n",
       "      <td> 321</td>\n",
       "      <td> 145</td>\n",
       "      <td> 0</td>\n",
       "      <td> 13</td>\n",
       "      <td> 110</td>\n",
       "      <td> 79</td>\n",
       "      <td> 165</td>\n",
       "      <td> 146</td>\n",
       "      <td> 001</td>\n",
       "      <td> 06</td>\n",
       "      <td> 401400</td>\n",
       "    </tr>\n",
       "    <tr>\n",
       "      <th>401500</th>\n",
       "      <td>  905</td>\n",
       "      <td> 192</td>\n",
       "      <td>  485</td>\n",
       "      <td> 142</td>\n",
       "      <td> 255</td>\n",
       "      <td>  85</td>\n",
       "      <td> 0</td>\n",
       "      <td> 13</td>\n",
       "      <td>  42</td>\n",
       "      <td> 32</td>\n",
       "      <td>  15</td>\n",
       "      <td>  19</td>\n",
       "      <td> 001</td>\n",
       "      <td> 06</td>\n",
       "      <td> 401500</td>\n",
       "    </tr>\n",
       "    <tr>\n",
       "      <th>403900</th>\n",
       "      <td> 2517</td>\n",
       "      <td> 305</td>\n",
       "      <td> 1699</td>\n",
       "      <td> 279</td>\n",
       "      <td> 420</td>\n",
       "      <td> 202</td>\n",
       "      <td> 0</td>\n",
       "      <td> 13</td>\n",
       "      <td> 105</td>\n",
       "      <td> 85</td>\n",
       "      <td> 138</td>\n",
       "      <td> 104</td>\n",
       "      <td> 001</td>\n",
       "      <td> 06</td>\n",
       "      <td> 403900</td>\n",
       "    </tr>\n",
       "    <tr>\n",
       "      <th>404000</th>\n",
       "      <td> 1611</td>\n",
       "      <td> 190</td>\n",
       "      <td> 1116</td>\n",
       "      <td> 161</td>\n",
       "      <td> 282</td>\n",
       "      <td>  85</td>\n",
       "      <td> 0</td>\n",
       "      <td> 13</td>\n",
       "      <td>  54</td>\n",
       "      <td> 43</td>\n",
       "      <td>  59</td>\n",
       "      <td>  41</td>\n",
       "      <td> 001</td>\n",
       "      <td> 06</td>\n",
       "      <td> 404000</td>\n",
       "    </tr>\n",
       "    <tr>\n",
       "      <th>404101</th>\n",
       "      <td> 1770</td>\n",
       "      <td> 191</td>\n",
       "      <td> 1100</td>\n",
       "      <td> 149</td>\n",
       "      <td> 385</td>\n",
       "      <td> 136</td>\n",
       "      <td> 0</td>\n",
       "      <td> 13</td>\n",
       "      <td>  93</td>\n",
       "      <td> 78</td>\n",
       "      <td> 126</td>\n",
       "      <td>  86</td>\n",
       "      <td> 001</td>\n",
       "      <td> 06</td>\n",
       "      <td> 404101</td>\n",
       "    </tr>\n",
       "    <tr>\n",
       "      <th>404102</th>\n",
       "      <td> 1292</td>\n",
       "      <td> 179</td>\n",
       "      <td>  694</td>\n",
       "      <td> 127</td>\n",
       "      <td> 199</td>\n",
       "      <td> 103</td>\n",
       "      <td> 0</td>\n",
       "      <td> 13</td>\n",
       "      <td>  35</td>\n",
       "      <td> 31</td>\n",
       "      <td>  58</td>\n",
       "      <td>  56</td>\n",
       "      <td> 001</td>\n",
       "      <td> 06</td>\n",
       "      <td> 404102</td>\n",
       "    </tr>\n",
       "    <tr>\n",
       "      <th>425104</th>\n",
       "      <td> 1831</td>\n",
       "      <td> 323</td>\n",
       "      <td> 1124</td>\n",
       "      <td> 277</td>\n",
       "      <td> 326</td>\n",
       "      <td> 135</td>\n",
       "      <td> 0</td>\n",
       "      <td> 13</td>\n",
       "      <td>  38</td>\n",
       "      <td> 49</td>\n",
       "      <td> 149</td>\n",
       "      <td>  90</td>\n",
       "      <td> 001</td>\n",
       "      <td> 06</td>\n",
       "      <td> 425104</td>\n",
       "    </tr>\n",
       "  </tbody>\n",
       "</table>\n",
       "</div>"
      ],
      "text/plain": [
       "        Workers (Estimate)  Workers (MOE)  Car (Estimate)  Car (MOE)  \\\n",
       "tract                                                                  \n",
       "401000                2529            331            1501        299   \n",
       "401100                2417            310            1187        217   \n",
       "401200                1443            236             887        208   \n",
       "401300                1679            260             769        201   \n",
       "401400                1471            422             825        270   \n",
       "401500                 905            192             485        142   \n",
       "403900                2517            305            1699        279   \n",
       "404000                1611            190            1116        161   \n",
       "404101                1770            191            1100        149   \n",
       "404102                1292            179             694        127   \n",
       "425104                1831            323            1124        277   \n",
       "\n",
       "        Transit (Estimate)  Transit (MOE)  Taxi (Estimate)  Taxi (MOE)  \\\n",
       "tract                                                                    \n",
       "401000                 562            257                0          13   \n",
       "401100                 735            223                0          13   \n",
       "401200                 275            106                0          13   \n",
       "401300                 701            183                0          13   \n",
       "401400                 321            145                0          13   \n",
       "401500                 255             85                0          13   \n",
       "403900                 420            202                0          13   \n",
       "404000                 282             85                0          13   \n",
       "404101                 385            136                0          13   \n",
       "404102                 199            103                0          13   \n",
       "425104                 326            135                0          13   \n",
       "\n",
       "        Bicycle (Estimate)  Bicycle (MOE)  Walked (Estimate)  Walked (MOE)  \\\n",
       "tract                                                                        \n",
       "401000                 107             86                134           118   \n",
       "401100                 206             98                 45            37   \n",
       "401200                 153             71                 53            44   \n",
       "401300                  19             31                156            96   \n",
       "401400                 110             79                165           146   \n",
       "401500                  42             32                 15            19   \n",
       "403900                 105             85                138           104   \n",
       "404000                  54             43                 59            41   \n",
       "404101                  93             78                126            86   \n",
       "404102                  35             31                 58            56   \n",
       "425104                  38             49                149            90   \n",
       "\n",
       "       county state   tract  \n",
       "tract                        \n",
       "401000    001    06  401000  \n",
       "401100    001    06  401100  \n",
       "401200    001    06  401200  \n",
       "401300    001    06  401300  \n",
       "401400    001    06  401400  \n",
       "401500    001    06  401500  \n",
       "403900    001    06  403900  \n",
       "404000    001    06  404000  \n",
       "404101    001    06  404101  \n",
       "404102    001    06  404102  \n",
       "425104    001    06  425104  "
      ]
     },
     "execution_count": 472,
     "metadata": {},
     "output_type": "execute_result"
    }
   ],
   "source": [
    "alameda_mode10 = acs5(var_mode10,CA,alameda,2012)\n",
    "mode10 = tractfilter(alameda_mode10,tracts10)\n",
    "print len(mode10)\n",
    "mode10"
   ]
  },
  {
   "cell_type": "code",
   "execution_count": 473,
   "metadata": {
    "collapsed": false
   },
   "outputs": [
    {
     "data": {
      "text/plain": [
       "Workers (Estimate)       19465\n",
       "Workers (MOE)         919.7179\n",
       "Car (Estimate)           11387\n",
       "Car (MOE)             729.4107\n",
       "Transit (Estimate)        4461\n",
       "Transit (MOE)         533.0216\n",
       "Taxi (Estimate)              0\n",
       "Taxi (MOE)            43.11612\n",
       "Bicycle (Estimate)         962\n",
       "Bicycle (MOE)         220.8778\n",
       "Walked (Estimate)         1098\n",
       "Walked (MOE)          281.5155\n",
       "county                       0\n",
       "state                        0\n",
       "tract                        0\n",
       "Name: Aggregate, dtype: object"
      ]
     },
     "execution_count": 473,
     "metadata": {},
     "output_type": "execute_result"
    }
   ],
   "source": [
    "agg(mode10)"
   ]
  },
  {
   "cell_type": "code",
   "execution_count": 474,
   "metadata": {
    "collapsed": false
   },
   "outputs": [],
   "source": [
    "mode10.to_csv('mode10.csv')\n",
    "alameda_mode10.to_csv('alameda_mode10.csv')"
   ]
  },
  {
   "cell_type": "markdown",
   "metadata": {},
   "source": [
    "##### Age distribution"
   ]
  },
  {
   "cell_type": "markdown",
   "metadata": {},
   "source": [
    "A key problem here is that the recategorization function doesn't get margins of error. So I'll have to add that functionality in as well."
   ]
  },
  {
   "cell_type": "code",
   "execution_count": 475,
   "metadata": {
    "collapsed": false
   },
   "outputs": [],
   "source": [
    "var_age10_E = vardict(\"age_est\",\"2010\",\"ACS5\")\n",
    "var_age10_M = vardict(\"age_moe\",\"2010\",\"ACS5\")"
   ]
  },
  {
   "cell_type": "code",
   "execution_count": 476,
   "metadata": {
    "collapsed": false
   },
   "outputs": [
    {
     "data": {
      "text/html": [
       "<div style=\"max-height:1000px;max-width:1500px;overflow:auto;\">\n",
       "<table border=\"1\" class=\"dataframe\">\n",
       "  <thead>\n",
       "    <tr style=\"text-align: right;\">\n",
       "      <th></th>\n",
       "      <th>Total (Estimate)</th>\n",
       "      <th>Male (Estimate)</th>\n",
       "      <th>M Under 5 Years (Estimate)</th>\n",
       "      <th>M 5 To 9 Years (Estimate)</th>\n",
       "      <th>M 10 To 14 Years (Estimate)</th>\n",
       "      <th>M 15 To 17 Years (Estimate)</th>\n",
       "      <th>M 18 And 19 Years (Estimate)</th>\n",
       "      <th>M 20 Years (Estimate)</th>\n",
       "      <th>M 21 Years (Estimate)</th>\n",
       "      <th>M 22 To 24 Years (Estimate)</th>\n",
       "      <th>...</th>\n",
       "      <th>F 62 To 64 Years (Estimate)</th>\n",
       "      <th>F 65 And 66 Years (Estimate)</th>\n",
       "      <th>F 67 To 69 Years (Estimate)</th>\n",
       "      <th>F 70 To 74 Years (Estimate)</th>\n",
       "      <th>F 75 To 79 Years (Estimate)</th>\n",
       "      <th>F 80 To 84 Years (Estimate)</th>\n",
       "      <th>F 85 Years And Over (Estimate)</th>\n",
       "      <th>county</th>\n",
       "      <th>state</th>\n",
       "      <th>tract</th>\n",
       "    </tr>\n",
       "    <tr>\n",
       "      <th>tract</th>\n",
       "      <th></th>\n",
       "      <th></th>\n",
       "      <th></th>\n",
       "      <th></th>\n",
       "      <th></th>\n",
       "      <th></th>\n",
       "      <th></th>\n",
       "      <th></th>\n",
       "      <th></th>\n",
       "      <th></th>\n",
       "      <th></th>\n",
       "      <th></th>\n",
       "      <th></th>\n",
       "      <th></th>\n",
       "      <th></th>\n",
       "      <th></th>\n",
       "      <th></th>\n",
       "      <th></th>\n",
       "      <th></th>\n",
       "      <th></th>\n",
       "      <th></th>\n",
       "    </tr>\n",
       "  </thead>\n",
       "  <tbody>\n",
       "    <tr>\n",
       "      <th>401000</th>\n",
       "      <td> 4997</td>\n",
       "      <td> 2284</td>\n",
       "      <td> 112</td>\n",
       "      <td> 206</td>\n",
       "      <td> 121</td>\n",
       "      <td>  18</td>\n",
       "      <td> 16</td>\n",
       "      <td>  0</td>\n",
       "      <td> 43</td>\n",
       "      <td>  77</td>\n",
       "      <td>...</td>\n",
       "      <td>  53</td>\n",
       "      <td> 42</td>\n",
       "      <td> 17</td>\n",
       "      <td> 20</td>\n",
       "      <td> 60</td>\n",
       "      <td> 117</td>\n",
       "      <td>  94</td>\n",
       "      <td> 001</td>\n",
       "      <td> 06</td>\n",
       "      <td> 401000</td>\n",
       "    </tr>\n",
       "    <tr>\n",
       "      <th>401100</th>\n",
       "      <td> 4313</td>\n",
       "      <td> 2109</td>\n",
       "      <td> 119</td>\n",
       "      <td> 181</td>\n",
       "      <td>  42</td>\n",
       "      <td>   0</td>\n",
       "      <td> 25</td>\n",
       "      <td>  0</td>\n",
       "      <td>  0</td>\n",
       "      <td> 140</td>\n",
       "      <td>...</td>\n",
       "      <td> 109</td>\n",
       "      <td> 24</td>\n",
       "      <td> 20</td>\n",
       "      <td>  8</td>\n",
       "      <td> 35</td>\n",
       "      <td>   7</td>\n",
       "      <td>  13</td>\n",
       "      <td> 001</td>\n",
       "      <td> 06</td>\n",
       "      <td> 401100</td>\n",
       "    </tr>\n",
       "    <tr>\n",
       "      <th>401200</th>\n",
       "      <td> 2326</td>\n",
       "      <td> 1006</td>\n",
       "      <td>  54</td>\n",
       "      <td>  30</td>\n",
       "      <td>  12</td>\n",
       "      <td>  13</td>\n",
       "      <td>  0</td>\n",
       "      <td>  0</td>\n",
       "      <td>  0</td>\n",
       "      <td>   0</td>\n",
       "      <td>...</td>\n",
       "      <td>  34</td>\n",
       "      <td> 40</td>\n",
       "      <td> 47</td>\n",
       "      <td> 16</td>\n",
       "      <td>  0</td>\n",
       "      <td>  10</td>\n",
       "      <td>  56</td>\n",
       "      <td> 001</td>\n",
       "      <td> 06</td>\n",
       "      <td> 401200</td>\n",
       "    </tr>\n",
       "    <tr>\n",
       "      <th>401300</th>\n",
       "      <td> 3460</td>\n",
       "      <td> 1879</td>\n",
       "      <td>  27</td>\n",
       "      <td>  51</td>\n",
       "      <td>  71</td>\n",
       "      <td>   9</td>\n",
       "      <td> 14</td>\n",
       "      <td>  0</td>\n",
       "      <td> 80</td>\n",
       "      <td>  69</td>\n",
       "      <td>...</td>\n",
       "      <td>  25</td>\n",
       "      <td> 22</td>\n",
       "      <td> 20</td>\n",
       "      <td> 61</td>\n",
       "      <td> 31</td>\n",
       "      <td>  23</td>\n",
       "      <td>  68</td>\n",
       "      <td> 001</td>\n",
       "      <td> 06</td>\n",
       "      <td> 401300</td>\n",
       "    </tr>\n",
       "    <tr>\n",
       "      <th>401400</th>\n",
       "      <td> 4113</td>\n",
       "      <td> 1877</td>\n",
       "      <td> 158</td>\n",
       "      <td> 186</td>\n",
       "      <td>  65</td>\n",
       "      <td> 107</td>\n",
       "      <td>  0</td>\n",
       "      <td> 57</td>\n",
       "      <td> 34</td>\n",
       "      <td> 155</td>\n",
       "      <td>...</td>\n",
       "      <td> 119</td>\n",
       "      <td>  0</td>\n",
       "      <td> 35</td>\n",
       "      <td> 56</td>\n",
       "      <td> 17</td>\n",
       "      <td>  28</td>\n",
       "      <td>  34</td>\n",
       "      <td> 001</td>\n",
       "      <td> 06</td>\n",
       "      <td> 401400</td>\n",
       "    </tr>\n",
       "    <tr>\n",
       "      <th>401500</th>\n",
       "      <td> 1861</td>\n",
       "      <td>  971</td>\n",
       "      <td>  31</td>\n",
       "      <td>  47</td>\n",
       "      <td>  37</td>\n",
       "      <td>  68</td>\n",
       "      <td>  0</td>\n",
       "      <td>  0</td>\n",
       "      <td>  8</td>\n",
       "      <td>  24</td>\n",
       "      <td>...</td>\n",
       "      <td>  33</td>\n",
       "      <td>  0</td>\n",
       "      <td>  6</td>\n",
       "      <td> 54</td>\n",
       "      <td>  5</td>\n",
       "      <td>   8</td>\n",
       "      <td>  45</td>\n",
       "      <td> 001</td>\n",
       "      <td> 06</td>\n",
       "      <td> 401500</td>\n",
       "    </tr>\n",
       "    <tr>\n",
       "      <th>403900</th>\n",
       "      <td> 4108</td>\n",
       "      <td> 1910</td>\n",
       "      <td> 263</td>\n",
       "      <td> 113</td>\n",
       "      <td>   0</td>\n",
       "      <td>   0</td>\n",
       "      <td> 20</td>\n",
       "      <td> 30</td>\n",
       "      <td> 43</td>\n",
       "      <td>  95</td>\n",
       "      <td>...</td>\n",
       "      <td>  94</td>\n",
       "      <td> 35</td>\n",
       "      <td> 11</td>\n",
       "      <td> 62</td>\n",
       "      <td> 62</td>\n",
       "      <td> 105</td>\n",
       "      <td>  72</td>\n",
       "      <td> 001</td>\n",
       "      <td> 06</td>\n",
       "      <td> 403900</td>\n",
       "    </tr>\n",
       "    <tr>\n",
       "      <th>404000</th>\n",
       "      <td> 2548</td>\n",
       "      <td> 1164</td>\n",
       "      <td> 100</td>\n",
       "      <td>  18</td>\n",
       "      <td>  18</td>\n",
       "      <td>   6</td>\n",
       "      <td>  0</td>\n",
       "      <td>  0</td>\n",
       "      <td>  8</td>\n",
       "      <td>   0</td>\n",
       "      <td>...</td>\n",
       "      <td>  22</td>\n",
       "      <td> 14</td>\n",
       "      <td> 20</td>\n",
       "      <td> 27</td>\n",
       "      <td> 28</td>\n",
       "      <td>  24</td>\n",
       "      <td>  20</td>\n",
       "      <td> 001</td>\n",
       "      <td> 06</td>\n",
       "      <td> 404000</td>\n",
       "    </tr>\n",
       "    <tr>\n",
       "      <th>404101</th>\n",
       "      <td> 2724</td>\n",
       "      <td> 1122</td>\n",
       "      <td>  29</td>\n",
       "      <td>  56</td>\n",
       "      <td>  25</td>\n",
       "      <td>   1</td>\n",
       "      <td>  0</td>\n",
       "      <td>  0</td>\n",
       "      <td>  1</td>\n",
       "      <td>  20</td>\n",
       "      <td>...</td>\n",
       "      <td>  32</td>\n",
       "      <td> 20</td>\n",
       "      <td> 28</td>\n",
       "      <td> 35</td>\n",
       "      <td> 33</td>\n",
       "      <td>  49</td>\n",
       "      <td>  46</td>\n",
       "      <td> 001</td>\n",
       "      <td> 06</td>\n",
       "      <td> 404101</td>\n",
       "    </tr>\n",
       "    <tr>\n",
       "      <th>404102</th>\n",
       "      <td> 2510</td>\n",
       "      <td> 1239</td>\n",
       "      <td>  43</td>\n",
       "      <td>  82</td>\n",
       "      <td>  31</td>\n",
       "      <td>   0</td>\n",
       "      <td>  0</td>\n",
       "      <td>  0</td>\n",
       "      <td> 29</td>\n",
       "      <td>  41</td>\n",
       "      <td>...</td>\n",
       "      <td>  16</td>\n",
       "      <td> 57</td>\n",
       "      <td> 26</td>\n",
       "      <td>  9</td>\n",
       "      <td> 86</td>\n",
       "      <td>  26</td>\n",
       "      <td> 183</td>\n",
       "      <td> 001</td>\n",
       "      <td> 06</td>\n",
       "      <td> 404102</td>\n",
       "    </tr>\n",
       "    <tr>\n",
       "      <th>425104</th>\n",
       "      <td> 3290</td>\n",
       "      <td> 1648</td>\n",
       "      <td>  70</td>\n",
       "      <td>  61</td>\n",
       "      <td>  33</td>\n",
       "      <td>  38</td>\n",
       "      <td> 28</td>\n",
       "      <td>  0</td>\n",
       "      <td>  0</td>\n",
       "      <td> 172</td>\n",
       "      <td>...</td>\n",
       "      <td>  30</td>\n",
       "      <td> 26</td>\n",
       "      <td> 90</td>\n",
       "      <td> 53</td>\n",
       "      <td>  0</td>\n",
       "      <td>   0</td>\n",
       "      <td> 170</td>\n",
       "      <td> 001</td>\n",
       "      <td> 06</td>\n",
       "      <td> 425104</td>\n",
       "    </tr>\n",
       "  </tbody>\n",
       "</table>\n",
       "<p>11 rows × 52 columns</p>\n",
       "</div>"
      ],
      "text/plain": [
       "        Total (Estimate)  Male (Estimate)  M Under 5 Years (Estimate)  \\\n",
       "tract                                                                   \n",
       "401000              4997             2284                         112   \n",
       "401100              4313             2109                         119   \n",
       "401200              2326             1006                          54   \n",
       "401300              3460             1879                          27   \n",
       "401400              4113             1877                         158   \n",
       "401500              1861              971                          31   \n",
       "403900              4108             1910                         263   \n",
       "404000              2548             1164                         100   \n",
       "404101              2724             1122                          29   \n",
       "404102              2510             1239                          43   \n",
       "425104              3290             1648                          70   \n",
       "\n",
       "        M 5 To 9 Years (Estimate)  M 10 To 14 Years (Estimate)  \\\n",
       "tract                                                            \n",
       "401000                        206                          121   \n",
       "401100                        181                           42   \n",
       "401200                         30                           12   \n",
       "401300                         51                           71   \n",
       "401400                        186                           65   \n",
       "401500                         47                           37   \n",
       "403900                        113                            0   \n",
       "404000                         18                           18   \n",
       "404101                         56                           25   \n",
       "404102                         82                           31   \n",
       "425104                         61                           33   \n",
       "\n",
       "        M 15 To 17 Years (Estimate)  M 18 And 19 Years (Estimate)  \\\n",
       "tract                                                               \n",
       "401000                           18                            16   \n",
       "401100                            0                            25   \n",
       "401200                           13                             0   \n",
       "401300                            9                            14   \n",
       "401400                          107                             0   \n",
       "401500                           68                             0   \n",
       "403900                            0                            20   \n",
       "404000                            6                             0   \n",
       "404101                            1                             0   \n",
       "404102                            0                             0   \n",
       "425104                           38                            28   \n",
       "\n",
       "        M 20 Years (Estimate)  M 21 Years (Estimate)  \\\n",
       "tract                                                  \n",
       "401000                      0                     43   \n",
       "401100                      0                      0   \n",
       "401200                      0                      0   \n",
       "401300                      0                     80   \n",
       "401400                     57                     34   \n",
       "401500                      0                      8   \n",
       "403900                     30                     43   \n",
       "404000                      0                      8   \n",
       "404101                      0                      1   \n",
       "404102                      0                     29   \n",
       "425104                      0                      0   \n",
       "\n",
       "        M 22 To 24 Years (Estimate)             ...               \\\n",
       "tract                                           ...                \n",
       "401000                           77             ...                \n",
       "401100                          140             ...                \n",
       "401200                            0             ...                \n",
       "401300                           69             ...                \n",
       "401400                          155             ...                \n",
       "401500                           24             ...                \n",
       "403900                           95             ...                \n",
       "404000                            0             ...                \n",
       "404101                           20             ...                \n",
       "404102                           41             ...                \n",
       "425104                          172             ...                \n",
       "\n",
       "        F 62 To 64 Years (Estimate)  F 65 And 66 Years (Estimate)  \\\n",
       "tract                                                               \n",
       "401000                           53                            42   \n",
       "401100                          109                            24   \n",
       "401200                           34                            40   \n",
       "401300                           25                            22   \n",
       "401400                          119                             0   \n",
       "401500                           33                             0   \n",
       "403900                           94                            35   \n",
       "404000                           22                            14   \n",
       "404101                           32                            20   \n",
       "404102                           16                            57   \n",
       "425104                           30                            26   \n",
       "\n",
       "        F 67 To 69 Years (Estimate)  F 70 To 74 Years (Estimate)  \\\n",
       "tract                                                              \n",
       "401000                           17                           20   \n",
       "401100                           20                            8   \n",
       "401200                           47                           16   \n",
       "401300                           20                           61   \n",
       "401400                           35                           56   \n",
       "401500                            6                           54   \n",
       "403900                           11                           62   \n",
       "404000                           20                           27   \n",
       "404101                           28                           35   \n",
       "404102                           26                            9   \n",
       "425104                           90                           53   \n",
       "\n",
       "        F 75 To 79 Years (Estimate)  F 80 To 84 Years (Estimate)  \\\n",
       "tract                                                              \n",
       "401000                           60                          117   \n",
       "401100                           35                            7   \n",
       "401200                            0                           10   \n",
       "401300                           31                           23   \n",
       "401400                           17                           28   \n",
       "401500                            5                            8   \n",
       "403900                           62                          105   \n",
       "404000                           28                           24   \n",
       "404101                           33                           49   \n",
       "404102                           86                           26   \n",
       "425104                            0                            0   \n",
       "\n",
       "        F 85 Years And Over (Estimate)  county  state   tract  \n",
       "tract                                                          \n",
       "401000                              94     001     06  401000  \n",
       "401100                              13     001     06  401100  \n",
       "401200                              56     001     06  401200  \n",
       "401300                              68     001     06  401300  \n",
       "401400                              34     001     06  401400  \n",
       "401500                              45     001     06  401500  \n",
       "403900                              72     001     06  403900  \n",
       "404000                              20     001     06  404000  \n",
       "404101                              46     001     06  404101  \n",
       "404102                             183     001     06  404102  \n",
       "425104                             170     001     06  425104  \n",
       "\n",
       "[11 rows x 52 columns]"
      ]
     },
     "execution_count": 476,
     "metadata": {},
     "output_type": "execute_result"
    }
   ],
   "source": [
    "alameda_age10E = acs5(var_age10_E,CA,alameda,2012)\n",
    "age10E = tractfilter(alameda_age10E,tracts10)\n",
    "age10E"
   ]
  },
  {
   "cell_type": "code",
   "execution_count": 477,
   "metadata": {
    "collapsed": false
   },
   "outputs": [
    {
     "data": {
      "text/plain": [
       "11"
      ]
     },
     "execution_count": 477,
     "metadata": {},
     "output_type": "execute_result"
    }
   ],
   "source": [
    "alameda_age10M = acs5(var_age10_M,CA,alameda,2012)\n",
    "age10M = tractfilter(alameda_age10M,tracts10)\n",
    "len(age10M)"
   ]
  },
  {
   "cell_type": "code",
   "execution_count": 478,
   "metadata": {
    "collapsed": false
   },
   "outputs": [
    {
     "data": {
      "text/html": [
       "<div style=\"max-height:1000px;max-width:1500px;overflow:auto;\">\n",
       "<table border=\"1\" class=\"dataframe\">\n",
       "  <thead>\n",
       "    <tr style=\"text-align: right;\">\n",
       "      <th></th>\n",
       "      <th>Total (MOE)</th>\n",
       "      <th>Male (MOE)</th>\n",
       "      <th>M Under 5 Years (MOE)</th>\n",
       "      <th>M 5 To 9 Years (MOE)</th>\n",
       "      <th>M 10 To 14 Years (MOE)</th>\n",
       "      <th>M 15 To 17 Years (MOE)</th>\n",
       "      <th>M 18 And 19 Years (MOE)</th>\n",
       "      <th>M 20 Years (MOE)</th>\n",
       "      <th>M 21 Years (MOE)</th>\n",
       "      <th>M 22 To 24 Years (MOE)</th>\n",
       "      <th>...</th>\n",
       "      <th>F 62 To 64 Years (MOE)</th>\n",
       "      <th>F 65 And 66 Years (MOE)</th>\n",
       "      <th>F 67 To 69 Years (MOE)</th>\n",
       "      <th>F 70 To 74 Years (MOE)</th>\n",
       "      <th>F 75 To 79 Years (MOE)</th>\n",
       "      <th>F 80 To 84 Years (MOE)</th>\n",
       "      <th>F 85 Years And Over (MOE)</th>\n",
       "      <th>county</th>\n",
       "      <th>state</th>\n",
       "      <th>tract</th>\n",
       "    </tr>\n",
       "    <tr>\n",
       "      <th>tract</th>\n",
       "      <th></th>\n",
       "      <th></th>\n",
       "      <th></th>\n",
       "      <th></th>\n",
       "      <th></th>\n",
       "      <th></th>\n",
       "      <th></th>\n",
       "      <th></th>\n",
       "      <th></th>\n",
       "      <th></th>\n",
       "      <th></th>\n",
       "      <th></th>\n",
       "      <th></th>\n",
       "      <th></th>\n",
       "      <th></th>\n",
       "      <th></th>\n",
       "      <th></th>\n",
       "      <th></th>\n",
       "      <th></th>\n",
       "      <th></th>\n",
       "      <th></th>\n",
       "    </tr>\n",
       "  </thead>\n",
       "  <tbody>\n",
       "    <tr>\n",
       "      <th>401000</th>\n",
       "      <td> 475</td>\n",
       "      <td> 304</td>\n",
       "      <td> 92</td>\n",
       "      <td> 140</td>\n",
       "      <td> 77</td>\n",
       "      <td> 29</td>\n",
       "      <td> 24</td>\n",
       "      <td> 13</td>\n",
       "      <td> 51</td>\n",
       "      <td>  83</td>\n",
       "      <td>...</td>\n",
       "      <td> 47</td>\n",
       "      <td> 41</td>\n",
       "      <td> 26</td>\n",
       "      <td> 23</td>\n",
       "      <td> 64</td>\n",
       "      <td> 79</td>\n",
       "      <td> 68</td>\n",
       "      <td> 001</td>\n",
       "      <td> 06</td>\n",
       "      <td> 401000</td>\n",
       "    </tr>\n",
       "    <tr>\n",
       "      <th>401100</th>\n",
       "      <td> 471</td>\n",
       "      <td> 317</td>\n",
       "      <td> 86</td>\n",
       "      <td>  88</td>\n",
       "      <td> 30</td>\n",
       "      <td> 13</td>\n",
       "      <td> 28</td>\n",
       "      <td> 13</td>\n",
       "      <td> 13</td>\n",
       "      <td> 103</td>\n",
       "      <td>...</td>\n",
       "      <td> 74</td>\n",
       "      <td> 33</td>\n",
       "      <td> 27</td>\n",
       "      <td> 13</td>\n",
       "      <td> 42</td>\n",
       "      <td> 13</td>\n",
       "      <td> 17</td>\n",
       "      <td> 001</td>\n",
       "      <td> 06</td>\n",
       "      <td> 401100</td>\n",
       "    </tr>\n",
       "    <tr>\n",
       "      <th>401200</th>\n",
       "      <td> 202</td>\n",
       "      <td> 127</td>\n",
       "      <td> 52</td>\n",
       "      <td>  27</td>\n",
       "      <td> 14</td>\n",
       "      <td> 21</td>\n",
       "      <td> 13</td>\n",
       "      <td> 13</td>\n",
       "      <td> 13</td>\n",
       "      <td>  13</td>\n",
       "      <td>...</td>\n",
       "      <td> 27</td>\n",
       "      <td> 27</td>\n",
       "      <td> 52</td>\n",
       "      <td> 19</td>\n",
       "      <td> 13</td>\n",
       "      <td> 16</td>\n",
       "      <td> 42</td>\n",
       "      <td> 001</td>\n",
       "      <td> 06</td>\n",
       "      <td> 401200</td>\n",
       "    </tr>\n",
       "    <tr>\n",
       "      <th>401300</th>\n",
       "      <td> 420</td>\n",
       "      <td> 255</td>\n",
       "      <td> 36</td>\n",
       "      <td>  75</td>\n",
       "      <td> 74</td>\n",
       "      <td> 11</td>\n",
       "      <td> 16</td>\n",
       "      <td> 13</td>\n",
       "      <td> 80</td>\n",
       "      <td>  64</td>\n",
       "      <td>...</td>\n",
       "      <td> 34</td>\n",
       "      <td> 22</td>\n",
       "      <td> 23</td>\n",
       "      <td> 45</td>\n",
       "      <td> 23</td>\n",
       "      <td> 20</td>\n",
       "      <td> 47</td>\n",
       "      <td> 001</td>\n",
       "      <td> 06</td>\n",
       "      <td> 401300</td>\n",
       "    </tr>\n",
       "    <tr>\n",
       "      <th>401400</th>\n",
       "      <td> 768</td>\n",
       "      <td> 411</td>\n",
       "      <td> 73</td>\n",
       "      <td> 107</td>\n",
       "      <td> 52</td>\n",
       "      <td> 78</td>\n",
       "      <td> 13</td>\n",
       "      <td> 66</td>\n",
       "      <td> 53</td>\n",
       "      <td>  80</td>\n",
       "      <td>...</td>\n",
       "      <td> 60</td>\n",
       "      <td> 13</td>\n",
       "      <td> 31</td>\n",
       "      <td> 38</td>\n",
       "      <td> 28</td>\n",
       "      <td> 26</td>\n",
       "      <td> 30</td>\n",
       "      <td> 001</td>\n",
       "      <td> 06</td>\n",
       "      <td> 401400</td>\n",
       "    </tr>\n",
       "  </tbody>\n",
       "</table>\n",
       "<p>5 rows × 52 columns</p>\n",
       "</div>"
      ],
      "text/plain": [
       "        Total (MOE)  Male (MOE)  M Under 5 Years (MOE)  M 5 To 9 Years (MOE)  \\\n",
       "tract                                                                          \n",
       "401000          475         304                     92                   140   \n",
       "401100          471         317                     86                    88   \n",
       "401200          202         127                     52                    27   \n",
       "401300          420         255                     36                    75   \n",
       "401400          768         411                     73                   107   \n",
       "\n",
       "        M 10 To 14 Years (MOE)  M 15 To 17 Years (MOE)  \\\n",
       "tract                                                    \n",
       "401000                      77                      29   \n",
       "401100                      30                      13   \n",
       "401200                      14                      21   \n",
       "401300                      74                      11   \n",
       "401400                      52                      78   \n",
       "\n",
       "        M 18 And 19 Years (MOE)  M 20 Years (MOE)  M 21 Years (MOE)  \\\n",
       "tract                                                                 \n",
       "401000                       24                13                51   \n",
       "401100                       28                13                13   \n",
       "401200                       13                13                13   \n",
       "401300                       16                13                80   \n",
       "401400                       13                66                53   \n",
       "\n",
       "        M 22 To 24 Years (MOE)           ...            \\\n",
       "tract                                    ...             \n",
       "401000                      83           ...             \n",
       "401100                     103           ...             \n",
       "401200                      13           ...             \n",
       "401300                      64           ...             \n",
       "401400                      80           ...             \n",
       "\n",
       "        F 62 To 64 Years (MOE)  F 65 And 66 Years (MOE)  \\\n",
       "tract                                                     \n",
       "401000                      47                       41   \n",
       "401100                      74                       33   \n",
       "401200                      27                       27   \n",
       "401300                      34                       22   \n",
       "401400                      60                       13   \n",
       "\n",
       "        F 67 To 69 Years (MOE)  F 70 To 74 Years (MOE)  \\\n",
       "tract                                                    \n",
       "401000                      26                      23   \n",
       "401100                      27                      13   \n",
       "401200                      52                      19   \n",
       "401300                      23                      45   \n",
       "401400                      31                      38   \n",
       "\n",
       "        F 75 To 79 Years (MOE)  F 80 To 84 Years (MOE)  \\\n",
       "tract                                                    \n",
       "401000                      64                      79   \n",
       "401100                      42                      13   \n",
       "401200                      13                      16   \n",
       "401300                      23                      20   \n",
       "401400                      28                      26   \n",
       "\n",
       "        F 85 Years And Over (MOE)  county  state   tract  \n",
       "tract                                                     \n",
       "401000                         68     001     06  401000  \n",
       "401100                         17     001     06  401100  \n",
       "401200                         42     001     06  401200  \n",
       "401300                         47     001     06  401300  \n",
       "401400                         30     001     06  401400  \n",
       "\n",
       "[5 rows x 52 columns]"
      ]
     },
     "execution_count": 478,
     "metadata": {},
     "output_type": "execute_result"
    }
   ],
   "source": [
    "age10M.head()"
   ]
  },
  {
   "cell_type": "code",
   "execution_count": 479,
   "metadata": {
    "collapsed": false
   },
   "outputs": [
    {
     "data": {
      "text/plain": [
       "Total (MOE)                   1349.49\n",
       "Male (MOE)                   875.0371\n",
       "M Under 5 Years (MOE)         280.125\n",
       "M 5 To 9 Years (MOE)         248.0363\n",
       "M 10 To 14 Years (MOE)       148.8657\n",
       "M 15 To 17 Years (MOE)       124.6034\n",
       "M 18 And 19 Years (MOE)      68.41053\n",
       "M 20 Years (MOE)             86.01163\n",
       "M 21 Years (MOE)             123.8144\n",
       "M 22 To 24 Years (MOE)       223.8437\n",
       "M 25 To 29 Years (MOE)       309.7499\n",
       "M 30 To 34 Years (MOE)       304.4979\n",
       "M 35 To 39 Years (MOE)       322.5756\n",
       "M 40 To 44 Years (MOE)       226.2852\n",
       "M 45 To 49 Years (MOE)       236.4001\n",
       "M 50 To 54 Years (MOE)       247.4146\n",
       "M 55 To 59 Years (MOE)         237.55\n",
       "M 60 And 61 Years (MOE)      132.8194\n",
       "M 62 To 64 Years (MOE)       157.3722\n",
       "M 65 And 66 Years (MOE)      124.0726\n",
       "M 67 To 69 Years (MOE)        80.4736\n",
       "M 70 To 74 Years (MOE)       147.8141\n",
       "M 75 To 79 Years (MOE)        116.383\n",
       "M 80 To 84 Years (MOE)       88.87632\n",
       "M 85 Years And Over (MOE)    107.6662\n",
       "Female (MOE)                 892.9731\n",
       "F Under 5 Years (MOE)         224.067\n",
       "F 5 To 9 Years (MOE)         250.6172\n",
       "F 10 To 14 Years (MOE)       173.6779\n",
       "F 15 To 17 Years (MOE)       124.2377\n",
       "F 18 And 19 Years (MOE)      109.6175\n",
       "F 20 Years (MOE)             92.94622\n",
       "F 21 Years (MOE)              121.959\n",
       "F 22 To 24 Years (MOE)       217.6281\n",
       "F 25 To 29 Years (MOE)       342.2382\n",
       "F 30 To 34 Years (MOE)       336.8516\n",
       "F 35 To 39 Years (MOE)       274.2371\n",
       "F 40 To 44 Years (MOE)       242.1632\n",
       "F 45 To 49 Years (MOE)       226.4067\n",
       "F 50 To 54 Years (MOE)       231.1601\n",
       "F 55 To 59 Years (MOE)        236.362\n",
       "F 60 And 61 Years (MOE)      114.9913\n",
       "F 62 To 64 Years (MOE)       151.0397\n",
       "F 65 And 66 Years (MOE)      101.6563\n",
       "F 67 To 69 Years (MOE)       125.6861\n",
       "F 70 To 74 Years (MOE)       124.8399\n",
       "F 75 To 79 Years (MOE)       139.5636\n",
       "F 80 To 84 Years (MOE)       134.3652\n",
       "F 85 Years And Over (MOE)    230.3128\n",
       "county                              0\n",
       "state                               0\n",
       "tract                               0\n",
       "Name: Aggregate, Length: 52, dtype: object"
      ]
     },
     "execution_count": 479,
     "metadata": {},
     "output_type": "execute_result"
    }
   ],
   "source": [
    "agg(age10M)"
   ]
  },
  {
   "cell_type": "code",
   "execution_count": 480,
   "metadata": {
    "collapsed": false
   },
   "outputs": [
    {
     "name": "stdout",
     "output_type": "stream",
     "text": [
      "17209.0\n",
      "19041.0\n",
      "36250.0\n",
      "72500.0\n"
     ]
    }
   ],
   "source": [
    "# quick checks on calculations\n",
    "\n",
    "print sum(age10E['Male (Estimate)'])\n",
    "print sum(age10E['Female (Estimate)'])\n",
    "print sum(age10E['Male (Estimate)']) + sum(age10E['Female (Estimate)'])\n",
    "print sum(basic10['Population (Estimate)'])"
   ]
  },
  {
   "cell_type": "code",
   "execution_count": 481,
   "metadata": {
    "collapsed": false
   },
   "outputs": [
    {
     "data": {
      "text/html": [
       "<div style=\"max-height:1000px;max-width:1500px;overflow:auto;\">\n",
       "<table border=\"1\" class=\"dataframe\">\n",
       "  <thead>\n",
       "    <tr style=\"text-align: right;\">\n",
       "      <th></th>\n",
       "      <th>new</th>\n",
       "      <th>old</th>\n",
       "    </tr>\n",
       "  </thead>\n",
       "  <tbody>\n",
       "    <tr>\n",
       "      <th>0</th>\n",
       "      <td> Under 18 (Estimate)</td>\n",
       "      <td>  M Under 5 Years (Estimate)</td>\n",
       "    </tr>\n",
       "    <tr>\n",
       "      <th>1</th>\n",
       "      <td> Under 18 (Estimate)</td>\n",
       "      <td>   M 5 To 9 Years (Estimate)</td>\n",
       "    </tr>\n",
       "    <tr>\n",
       "      <th>2</th>\n",
       "      <td> Under 18 (Estimate)</td>\n",
       "      <td> M 10 To 14 Years (Estimate)</td>\n",
       "    </tr>\n",
       "    <tr>\n",
       "      <th>3</th>\n",
       "      <td> Under 18 (Estimate)</td>\n",
       "      <td> M 15 To 17 Years (Estimate)</td>\n",
       "    </tr>\n",
       "    <tr>\n",
       "      <th>4</th>\n",
       "      <td> Under 18 (Estimate)</td>\n",
       "      <td>  F Under 5 Years (Estimate)</td>\n",
       "    </tr>\n",
       "  </tbody>\n",
       "</table>\n",
       "</div>"
      ],
      "text/plain": [
       "                   new                          old\n",
       "0  Under 18 (Estimate)   M Under 5 Years (Estimate)\n",
       "1  Under 18 (Estimate)    M 5 To 9 Years (Estimate)\n",
       "2  Under 18 (Estimate)  M 10 To 14 Years (Estimate)\n",
       "3  Under 18 (Estimate)  M 15 To 17 Years (Estimate)\n",
       "4  Under 18 (Estimate)   F Under 5 Years (Estimate)"
      ]
     },
     "execution_count": 481,
     "metadata": {},
     "output_type": "execute_result"
    }
   ],
   "source": [
    "#upload recode sheet for age\n",
    "\n",
    "agekey = pd.read_csv('agecategories.csv')\n",
    "agekey.head()"
   ]
  },
  {
   "cell_type": "code",
   "execution_count": 482,
   "metadata": {
    "collapsed": false
   },
   "outputs": [],
   "source": [
    "age10E_clean = collapse(age10E,agekey)"
   ]
  },
  {
   "cell_type": "code",
   "execution_count": 483,
   "metadata": {
    "collapsed": false
   },
   "outputs": [],
   "source": [
    "age10M_clean = collapseMOE(age10M,agekey)"
   ]
  },
  {
   "cell_type": "code",
   "execution_count": 484,
   "metadata": {
    "collapsed": false
   },
   "outputs": [],
   "source": [
    "age10_clean = concatenate_dataframes(age10E_clean,age10M_clean)"
   ]
  },
  {
   "cell_type": "code",
   "execution_count": 485,
   "metadata": {
    "collapsed": false
   },
   "outputs": [
    {
     "data": {
      "text/plain": [
       "Under 18 (Estimate)        5414.000000\n",
       "18 to 34 (Estimate)       11426.000000\n",
       "35 to 49 (Estimate)        4500.000000\n",
       "50 to 64 (Estimate)        9769.000000\n",
       "65 and over (Estimate)     5141.000000\n",
       "Under 18 (MOE)              579.907751\n",
       "18 to 34 (MOE)              761.357341\n",
       "35 to 49 (MOE)              459.505169\n",
       "50 to 64 (MOE)              674.137968\n",
       "65 and over (MOE)           495.058582\n",
       "Name: Aggregate, dtype: float64"
      ]
     },
     "execution_count": 485,
     "metadata": {},
     "output_type": "execute_result"
    }
   ],
   "source": [
    "agg(age10_clean)"
   ]
  },
  {
   "cell_type": "markdown",
   "metadata": {},
   "source": [
    "##### Race"
   ]
  },
  {
   "cell_type": "code",
   "execution_count": 486,
   "metadata": {
    "collapsed": false
   },
   "outputs": [],
   "source": [
    "var_racehisp10 = vardict(\"race_hisp\",\"2010\",\"ACS5\")"
   ]
  },
  {
   "cell_type": "code",
   "execution_count": 487,
   "metadata": {
    "collapsed": false
   },
   "outputs": [
    {
     "data": {
      "text/html": [
       "<div style=\"max-height:1000px;max-width:1500px;overflow:auto;\">\n",
       "<table border=\"1\" class=\"dataframe\">\n",
       "  <thead>\n",
       "    <tr style=\"text-align: right;\">\n",
       "      <th></th>\n",
       "      <th>Total (Estimate)</th>\n",
       "      <th>Total (MOE)</th>\n",
       "      <th>Not Hispanic Or Latino (Estimate)</th>\n",
       "      <th>Not Hispanic Or Latino (MOE)</th>\n",
       "      <th>White Alone (Estimate)</th>\n",
       "      <th>White Alone (MOE)</th>\n",
       "      <th>Black Or African American Alone (Estimate)</th>\n",
       "      <th>Black Or African American Alone (MOE)</th>\n",
       "      <th>American Indian And Alaska Native Alone (Estimate)</th>\n",
       "      <th>American Indian And Alaska Native Alone (MOE)</th>\n",
       "      <th>...</th>\n",
       "      <th>Native Hawaiian And Other Pacific Islander Alone (MOE)</th>\n",
       "      <th>Some Other Race Alone (Estimate)</th>\n",
       "      <th>Some Other Race Alone (MOE)</th>\n",
       "      <th>Two Or More Races (Estimate)</th>\n",
       "      <th>Two Or More Races (MOE)</th>\n",
       "      <th>Hispanic Or Latino (Estimate)</th>\n",
       "      <th>Hispanic Or Latino (MOE)</th>\n",
       "      <th>county</th>\n",
       "      <th>state</th>\n",
       "      <th>tract</th>\n",
       "    </tr>\n",
       "    <tr>\n",
       "      <th>tract</th>\n",
       "      <th></th>\n",
       "      <th></th>\n",
       "      <th></th>\n",
       "      <th></th>\n",
       "      <th></th>\n",
       "      <th></th>\n",
       "      <th></th>\n",
       "      <th></th>\n",
       "      <th></th>\n",
       "      <th></th>\n",
       "      <th></th>\n",
       "      <th></th>\n",
       "      <th></th>\n",
       "      <th></th>\n",
       "      <th></th>\n",
       "      <th></th>\n",
       "      <th></th>\n",
       "      <th></th>\n",
       "      <th></th>\n",
       "      <th></th>\n",
       "      <th></th>\n",
       "    </tr>\n",
       "  </thead>\n",
       "  <tbody>\n",
       "    <tr>\n",
       "      <th>401000</th>\n",
       "      <td> 4997</td>\n",
       "      <td> 475</td>\n",
       "      <td> 4518</td>\n",
       "      <td> 525</td>\n",
       "      <td> 1115</td>\n",
       "      <td> 261</td>\n",
       "      <td> 2747</td>\n",
       "      <td> 396</td>\n",
       "      <td>  0</td>\n",
       "      <td> 13</td>\n",
       "      <td>...</td>\n",
       "      <td> 125</td>\n",
       "      <td>  0</td>\n",
       "      <td> 13</td>\n",
       "      <td> 251</td>\n",
       "      <td> 175</td>\n",
       "      <td> 479</td>\n",
       "      <td> 188</td>\n",
       "      <td> 001</td>\n",
       "      <td> 06</td>\n",
       "      <td> 401000</td>\n",
       "    </tr>\n",
       "    <tr>\n",
       "      <th>401100</th>\n",
       "      <td> 4313</td>\n",
       "      <td> 471</td>\n",
       "      <td> 3535</td>\n",
       "      <td> 452</td>\n",
       "      <td> 2017</td>\n",
       "      <td> 295</td>\n",
       "      <td>  798</td>\n",
       "      <td> 264</td>\n",
       "      <td> 26</td>\n",
       "      <td> 32</td>\n",
       "      <td>...</td>\n",
       "      <td>  49</td>\n",
       "      <td>  0</td>\n",
       "      <td> 13</td>\n",
       "      <td> 163</td>\n",
       "      <td>  87</td>\n",
       "      <td> 778</td>\n",
       "      <td> 282</td>\n",
       "      <td> 001</td>\n",
       "      <td> 06</td>\n",
       "      <td> 401100</td>\n",
       "    </tr>\n",
       "    <tr>\n",
       "      <th>401200</th>\n",
       "      <td> 2326</td>\n",
       "      <td> 202</td>\n",
       "      <td> 2202</td>\n",
       "      <td> 213</td>\n",
       "      <td> 1419</td>\n",
       "      <td> 232</td>\n",
       "      <td>  435</td>\n",
       "      <td> 178</td>\n",
       "      <td>  0</td>\n",
       "      <td> 13</td>\n",
       "      <td>...</td>\n",
       "      <td>  52</td>\n",
       "      <td>  0</td>\n",
       "      <td> 13</td>\n",
       "      <td>  56</td>\n",
       "      <td>  48</td>\n",
       "      <td> 124</td>\n",
       "      <td>  69</td>\n",
       "      <td> 001</td>\n",
       "      <td> 06</td>\n",
       "      <td> 401200</td>\n",
       "    </tr>\n",
       "    <tr>\n",
       "      <th>401300</th>\n",
       "      <td> 3460</td>\n",
       "      <td> 420</td>\n",
       "      <td> 2739</td>\n",
       "      <td> 354</td>\n",
       "      <td>  714</td>\n",
       "      <td> 189</td>\n",
       "      <td> 1237</td>\n",
       "      <td> 282</td>\n",
       "      <td> 18</td>\n",
       "      <td> 22</td>\n",
       "      <td>...</td>\n",
       "      <td>   2</td>\n",
       "      <td>  0</td>\n",
       "      <td> 13</td>\n",
       "      <td>  93</td>\n",
       "      <td>  62</td>\n",
       "      <td> 721</td>\n",
       "      <td> 261</td>\n",
       "      <td> 001</td>\n",
       "      <td> 06</td>\n",
       "      <td> 401300</td>\n",
       "    </tr>\n",
       "    <tr>\n",
       "      <th>401400</th>\n",
       "      <td> 4113</td>\n",
       "      <td> 768</td>\n",
       "      <td> 3294</td>\n",
       "      <td> 485</td>\n",
       "      <td>  533</td>\n",
       "      <td> 316</td>\n",
       "      <td> 2072</td>\n",
       "      <td> 361</td>\n",
       "      <td> 74</td>\n",
       "      <td> 75</td>\n",
       "      <td>...</td>\n",
       "      <td>  13</td>\n",
       "      <td> 32</td>\n",
       "      <td> 38</td>\n",
       "      <td>  68</td>\n",
       "      <td>  79</td>\n",
       "      <td> 819</td>\n",
       "      <td> 594</td>\n",
       "      <td> 001</td>\n",
       "      <td> 06</td>\n",
       "      <td> 401400</td>\n",
       "    </tr>\n",
       "    <tr>\n",
       "      <th>401500</th>\n",
       "      <td> 1861</td>\n",
       "      <td> 345</td>\n",
       "      <td> 1730</td>\n",
       "      <td> 377</td>\n",
       "      <td>  586</td>\n",
       "      <td> 226</td>\n",
       "      <td>  942</td>\n",
       "      <td> 250</td>\n",
       "      <td>  0</td>\n",
       "      <td> 13</td>\n",
       "      <td>...</td>\n",
       "      <td>  13</td>\n",
       "      <td>  0</td>\n",
       "      <td> 13</td>\n",
       "      <td>  64</td>\n",
       "      <td>  43</td>\n",
       "      <td> 131</td>\n",
       "      <td>  99</td>\n",
       "      <td> 001</td>\n",
       "      <td> 06</td>\n",
       "      <td> 401500</td>\n",
       "    </tr>\n",
       "    <tr>\n",
       "      <th>403900</th>\n",
       "      <td> 4108</td>\n",
       "      <td> 383</td>\n",
       "      <td> 3803</td>\n",
       "      <td> 396</td>\n",
       "      <td> 2074</td>\n",
       "      <td> 302</td>\n",
       "      <td> 1030</td>\n",
       "      <td> 332</td>\n",
       "      <td>  0</td>\n",
       "      <td> 13</td>\n",
       "      <td>...</td>\n",
       "      <td>  13</td>\n",
       "      <td> 30</td>\n",
       "      <td> 38</td>\n",
       "      <td> 231</td>\n",
       "      <td> 137</td>\n",
       "      <td> 305</td>\n",
       "      <td> 127</td>\n",
       "      <td> 001</td>\n",
       "      <td> 06</td>\n",
       "      <td> 403900</td>\n",
       "    </tr>\n",
       "    <tr>\n",
       "      <th>404000</th>\n",
       "      <td> 2548</td>\n",
       "      <td> 248</td>\n",
       "      <td> 2321</td>\n",
       "      <td> 253</td>\n",
       "      <td> 1489</td>\n",
       "      <td> 233</td>\n",
       "      <td>  343</td>\n",
       "      <td> 178</td>\n",
       "      <td>  0</td>\n",
       "      <td> 13</td>\n",
       "      <td>...</td>\n",
       "      <td>  13</td>\n",
       "      <td> 16</td>\n",
       "      <td> 26</td>\n",
       "      <td> 160</td>\n",
       "      <td>  74</td>\n",
       "      <td> 227</td>\n",
       "      <td>  99</td>\n",
       "      <td> 001</td>\n",
       "      <td> 06</td>\n",
       "      <td> 404000</td>\n",
       "    </tr>\n",
       "    <tr>\n",
       "      <th>404101</th>\n",
       "      <td> 2724</td>\n",
       "      <td> 215</td>\n",
       "      <td> 2531</td>\n",
       "      <td> 303</td>\n",
       "      <td> 1918</td>\n",
       "      <td> 259</td>\n",
       "      <td>   33</td>\n",
       "      <td>  38</td>\n",
       "      <td>  7</td>\n",
       "      <td> 12</td>\n",
       "      <td>...</td>\n",
       "      <td>  13</td>\n",
       "      <td>  7</td>\n",
       "      <td> 12</td>\n",
       "      <td> 188</td>\n",
       "      <td> 106</td>\n",
       "      <td> 193</td>\n",
       "      <td> 164</td>\n",
       "      <td> 001</td>\n",
       "      <td> 06</td>\n",
       "      <td> 404101</td>\n",
       "    </tr>\n",
       "    <tr>\n",
       "      <th>404102</th>\n",
       "      <td> 2510</td>\n",
       "      <td> 324</td>\n",
       "      <td> 2341</td>\n",
       "      <td> 329</td>\n",
       "      <td> 1308</td>\n",
       "      <td> 198</td>\n",
       "      <td>  257</td>\n",
       "      <td> 196</td>\n",
       "      <td>  0</td>\n",
       "      <td> 13</td>\n",
       "      <td>...</td>\n",
       "      <td>  13</td>\n",
       "      <td> 20</td>\n",
       "      <td> 32</td>\n",
       "      <td> 103</td>\n",
       "      <td>  80</td>\n",
       "      <td> 169</td>\n",
       "      <td>  83</td>\n",
       "      <td> 001</td>\n",
       "      <td> 06</td>\n",
       "      <td> 404102</td>\n",
       "    </tr>\n",
       "    <tr>\n",
       "      <th>425104</th>\n",
       "      <td> 3290</td>\n",
       "      <td> 297</td>\n",
       "      <td> 2982</td>\n",
       "      <td> 303</td>\n",
       "      <td> 1113</td>\n",
       "      <td> 317</td>\n",
       "      <td> 1072</td>\n",
       "      <td> 291</td>\n",
       "      <td>  0</td>\n",
       "      <td> 13</td>\n",
       "      <td>...</td>\n",
       "      <td>  13</td>\n",
       "      <td>  0</td>\n",
       "      <td> 13</td>\n",
       "      <td> 204</td>\n",
       "      <td> 199</td>\n",
       "      <td> 308</td>\n",
       "      <td> 134</td>\n",
       "      <td> 001</td>\n",
       "      <td> 06</td>\n",
       "      <td> 425104</td>\n",
       "    </tr>\n",
       "  </tbody>\n",
       "</table>\n",
       "<p>11 rows × 23 columns</p>\n",
       "</div>"
      ],
      "text/plain": [
       "        Total (Estimate)  Total (MOE)  Not Hispanic Or Latino (Estimate)  \\\n",
       "tract                                                                      \n",
       "401000              4997          475                               4518   \n",
       "401100              4313          471                               3535   \n",
       "401200              2326          202                               2202   \n",
       "401300              3460          420                               2739   \n",
       "401400              4113          768                               3294   \n",
       "401500              1861          345                               1730   \n",
       "403900              4108          383                               3803   \n",
       "404000              2548          248                               2321   \n",
       "404101              2724          215                               2531   \n",
       "404102              2510          324                               2341   \n",
       "425104              3290          297                               2982   \n",
       "\n",
       "        Not Hispanic Or Latino (MOE)  White Alone (Estimate)  \\\n",
       "tract                                                          \n",
       "401000                           525                    1115   \n",
       "401100                           452                    2017   \n",
       "401200                           213                    1419   \n",
       "401300                           354                     714   \n",
       "401400                           485                     533   \n",
       "401500                           377                     586   \n",
       "403900                           396                    2074   \n",
       "404000                           253                    1489   \n",
       "404101                           303                    1918   \n",
       "404102                           329                    1308   \n",
       "425104                           303                    1113   \n",
       "\n",
       "        White Alone (MOE)  Black Or African American Alone (Estimate)  \\\n",
       "tract                                                                   \n",
       "401000                261                                        2747   \n",
       "401100                295                                         798   \n",
       "401200                232                                         435   \n",
       "401300                189                                        1237   \n",
       "401400                316                                        2072   \n",
       "401500                226                                         942   \n",
       "403900                302                                        1030   \n",
       "404000                233                                         343   \n",
       "404101                259                                          33   \n",
       "404102                198                                         257   \n",
       "425104                317                                        1072   \n",
       "\n",
       "        Black Or African American Alone (MOE)  \\\n",
       "tract                                           \n",
       "401000                                    396   \n",
       "401100                                    264   \n",
       "401200                                    178   \n",
       "401300                                    282   \n",
       "401400                                    361   \n",
       "401500                                    250   \n",
       "403900                                    332   \n",
       "404000                                    178   \n",
       "404101                                     38   \n",
       "404102                                    196   \n",
       "425104                                    291   \n",
       "\n",
       "        American Indian And Alaska Native Alone (Estimate)  \\\n",
       "tract                                                        \n",
       "401000                                                  0    \n",
       "401100                                                 26    \n",
       "401200                                                  0    \n",
       "401300                                                 18    \n",
       "401400                                                 74    \n",
       "401500                                                  0    \n",
       "403900                                                  0    \n",
       "404000                                                  0    \n",
       "404101                                                  7    \n",
       "404102                                                  0    \n",
       "425104                                                  0    \n",
       "\n",
       "        American Indian And Alaska Native Alone (MOE)  \\\n",
       "tract                                                   \n",
       "401000                                             13   \n",
       "401100                                             32   \n",
       "401200                                             13   \n",
       "401300                                             22   \n",
       "401400                                             75   \n",
       "401500                                             13   \n",
       "403900                                             13   \n",
       "404000                                             13   \n",
       "404101                                             12   \n",
       "404102                                             13   \n",
       "425104                                             13   \n",
       "\n",
       "                            ...                        \\\n",
       "tract                       ...                         \n",
       "401000                      ...                         \n",
       "401100                      ...                         \n",
       "401200                      ...                         \n",
       "401300                      ...                         \n",
       "401400                      ...                         \n",
       "401500                      ...                         \n",
       "403900                      ...                         \n",
       "404000                      ...                         \n",
       "404101                      ...                         \n",
       "404102                      ...                         \n",
       "425104                      ...                         \n",
       "\n",
       "        Native Hawaiian And Other Pacific Islander Alone (MOE)  \\\n",
       "tract                                                            \n",
       "401000                                                125        \n",
       "401100                                                 49        \n",
       "401200                                                 52        \n",
       "401300                                                  2        \n",
       "401400                                                 13        \n",
       "401500                                                 13        \n",
       "403900                                                 13        \n",
       "404000                                                 13        \n",
       "404101                                                 13        \n",
       "404102                                                 13        \n",
       "425104                                                 13        \n",
       "\n",
       "        Some Other Race Alone (Estimate)  Some Other Race Alone (MOE)  \\\n",
       "tract                                                                   \n",
       "401000                                 0                           13   \n",
       "401100                                 0                           13   \n",
       "401200                                 0                           13   \n",
       "401300                                 0                           13   \n",
       "401400                                32                           38   \n",
       "401500                                 0                           13   \n",
       "403900                                30                           38   \n",
       "404000                                16                           26   \n",
       "404101                                 7                           12   \n",
       "404102                                20                           32   \n",
       "425104                                 0                           13   \n",
       "\n",
       "        Two Or More Races (Estimate)  Two Or More Races (MOE)  \\\n",
       "tract                                                           \n",
       "401000                           251                      175   \n",
       "401100                           163                       87   \n",
       "401200                            56                       48   \n",
       "401300                            93                       62   \n",
       "401400                            68                       79   \n",
       "401500                            64                       43   \n",
       "403900                           231                      137   \n",
       "404000                           160                       74   \n",
       "404101                           188                      106   \n",
       "404102                           103                       80   \n",
       "425104                           204                      199   \n",
       "\n",
       "        Hispanic Or Latino (Estimate)  Hispanic Or Latino (MOE)  county  \\\n",
       "tract                                                                     \n",
       "401000                            479                       188     001   \n",
       "401100                            778                       282     001   \n",
       "401200                            124                        69     001   \n",
       "401300                            721                       261     001   \n",
       "401400                            819                       594     001   \n",
       "401500                            131                        99     001   \n",
       "403900                            305                       127     001   \n",
       "404000                            227                        99     001   \n",
       "404101                            193                       164     001   \n",
       "404102                            169                        83     001   \n",
       "425104                            308                       134     001   \n",
       "\n",
       "        state   tract  \n",
       "tract                  \n",
       "401000     06  401000  \n",
       "401100     06  401100  \n",
       "401200     06  401200  \n",
       "401300     06  401300  \n",
       "401400     06  401400  \n",
       "401500     06  401500  \n",
       "403900     06  403900  \n",
       "404000     06  404000  \n",
       "404101     06  404101  \n",
       "404102     06  404102  \n",
       "425104     06  425104  \n",
       "\n",
       "[11 rows x 23 columns]"
      ]
     },
     "execution_count": 487,
     "metadata": {},
     "output_type": "execute_result"
    }
   ],
   "source": [
    "alameda_racehisp10 = acs5(var_racehisp10,CA,alameda,2012)\n",
    "racehisp10 = tractfilter(alameda_racehisp10,tracts10)\n",
    "racehisp10"
   ]
  },
  {
   "cell_type": "code",
   "execution_count": 488,
   "metadata": {
    "collapsed": false
   },
   "outputs": [
    {
     "data": {
      "text/plain": [
       "Total (Estimate)                                                  36250\n",
       "Total (MOE)                                                     1349.49\n",
       "Not Hispanic Or Latino (Estimate)                                 31996\n",
       "Not Hispanic Or Latino (MOE)                                    1241.23\n",
       "White Alone (Estimate)                                            14286\n",
       "White Alone (MOE)                                              864.8063\n",
       "Black Or African American Alone (Estimate)                        10966\n",
       "Black Or African American Alone (MOE)                           892.743\n",
       "American Indian And Alaska Native Alone (Estimate)                  125\n",
       "American Indian And Alaska Native Alone (MOE)                  91.97826\n",
       "Asian Alone (Estimate)                                             4770\n",
       "Asian Alone (MOE)                                               673.629\n",
       "Native Hawaiian And Other Pacific Islander Alone (Estimate)         163\n",
       "Native Hawaiian And Other Pacific Islander Alone (MOE)         148.0439\n",
       "Some Other Race Alone (Estimate)                                    105\n",
       "Some Other Race Alone (MOE)                                    75.80237\n",
       "Two Or More Races (Estimate)                                       1581\n",
       "Two Or More Races (MOE)                                        365.9426\n",
       "Hispanic Or Latino (Estimate)                                      4254\n",
       "Hispanic Or Latino (MOE)                                       792.5011\n",
       "county                                                                0\n",
       "state                                                                 0\n",
       "tract                                                                 0\n",
       "Name: Aggregate, dtype: object"
      ]
     },
     "execution_count": 488,
     "metadata": {},
     "output_type": "execute_result"
    }
   ],
   "source": [
    "agg(racehisp10)"
   ]
  },
  {
   "cell_type": "markdown",
   "metadata": {},
   "source": [
    "##### Hispanic Origin"
   ]
  },
  {
   "cell_type": "code",
   "execution_count": 489,
   "metadata": {
    "collapsed": false
   },
   "outputs": [],
   "source": [
    "var_hisp10 = vardict(\"hispanic\",\"2010\",\"ACS5\")"
   ]
  },
  {
   "cell_type": "code",
   "execution_count": 490,
   "metadata": {
    "collapsed": false
   },
   "outputs": [
    {
     "data": {
      "text/plain": [
       "11"
      ]
     },
     "execution_count": 490,
     "metadata": {},
     "output_type": "execute_result"
    }
   ],
   "source": [
    "alameda_hisp10 = acs5(var_hisp10,CA,alameda,2012)\n",
    "hisp10 = tractfilter(alameda_hisp10,tracts10)\n",
    "len(hisp10)"
   ]
  },
  {
   "cell_type": "code",
   "execution_count": 491,
   "metadata": {
    "collapsed": false
   },
   "outputs": [
    {
     "data": {
      "text/plain": [
       "Total (Estimate)                    36250\n",
       "Total (MOE)                       1349.49\n",
       "Hispanic Or Latino (Estimate)        4254\n",
       "Hispanic Or Latino (MOE)         792.5011\n",
       "county                                  0\n",
       "state                                   0\n",
       "tract                                   0\n",
       "Name: Aggregate, dtype: object"
      ]
     },
     "execution_count": 491,
     "metadata": {},
     "output_type": "execute_result"
    }
   ],
   "source": [
    "agg(hisp10)"
   ]
  },
  {
   "cell_type": "markdown",
   "metadata": {},
   "source": [
    "##### Poverty"
   ]
  },
  {
   "cell_type": "code",
   "execution_count": 492,
   "metadata": {
    "collapsed": false
   },
   "outputs": [],
   "source": [
    "var_pov10 = vardict(\"poverty\",\"2010\",\"ACS5\")"
   ]
  },
  {
   "cell_type": "code",
   "execution_count": 493,
   "metadata": {
    "collapsed": false
   },
   "outputs": [
    {
     "data": {
      "text/plain": [
       "11"
      ]
     },
     "execution_count": 493,
     "metadata": {},
     "output_type": "execute_result"
    }
   ],
   "source": [
    "alameda_pov10 = acs5(var_pov10,CA,alameda,2012)\n",
    "pov10 = tractfilter(alameda_pov10,tracts10)\n",
    "len(pov10)"
   ]
  },
  {
   "cell_type": "code",
   "execution_count": 494,
   "metadata": {
    "collapsed": false
   },
   "outputs": [
    {
     "data": {
      "text/plain": [
       "Total (Estimate)                                                  35632\n",
       "Total (MOE)                                                    1336.997\n",
       "Income In The Past 12 Months Below Poverty Level (Estimate)        6864\n",
       "Income In The Past 12 Months Below Poverty Level (MOE)         794.0497\n",
       "county                                                                0\n",
       "state                                                                 0\n",
       "tract                                                                 0\n",
       "Name: Aggregate, dtype: object"
      ]
     },
     "execution_count": 494,
     "metadata": {},
     "output_type": "execute_result"
    }
   ],
   "source": [
    "agg(pov10)"
   ]
  },
  {
   "cell_type": "markdown",
   "metadata": {},
   "source": [
    "##### Household Income"
   ]
  },
  {
   "cell_type": "code",
   "execution_count": 495,
   "metadata": {
    "collapsed": false
   },
   "outputs": [],
   "source": [
    "var_hhincome10 = vardict(\"hhincome\",\"2010\",\"ACS5\")"
   ]
  },
  {
   "cell_type": "code",
   "execution_count": 496,
   "metadata": {
    "collapsed": false
   },
   "outputs": [
    {
     "data": {
      "text/plain": [
       "11"
      ]
     },
     "execution_count": 496,
     "metadata": {},
     "output_type": "execute_result"
    }
   ],
   "source": [
    "alameda_hhincome10 = acs5(var_hhincome10,CA,alameda,2012)\n",
    "hhincome10 = tractfilter(alameda_hhincome10,tracts10)\n",
    "len(hhincome10)"
   ]
  },
  {
   "cell_type": "code",
   "execution_count": 497,
   "metadata": {
    "collapsed": false
   },
   "outputs": [
    {
     "data": {
      "text/plain": [
       "Total (Estimate)                      18423\n",
       "Total (MOE)                        383.1971\n",
       "Less Than $10,000 (Estimate)           1469\n",
       "Less Than $10,000 (MOE)             250.108\n",
       "$10,000 To $14,999 (Estimate)          1409\n",
       "$10,000 To $14,999 (MOE)           264.3426\n",
       "$15,000 To $19,999 (Estimate)          1043\n",
       "$15,000 To $19,999 (MOE)           220.0091\n",
       "$20,000 To $24,999 (Estimate)          1205\n",
       "$20,000 To $24,999 (MOE)           257.5092\n",
       "$25,000 To $29,999 (Estimate)           765\n",
       "$25,000 To $29,999 (MOE)             196.84\n",
       "$30,000 To $34,999 (Estimate)           990\n",
       "$30,000 To $34,999 (MOE)           221.2216\n",
       "$35,000 To $39,999 (Estimate)           707\n",
       "$35,000 To $39,999 (MOE)           197.4234\n",
       "$40,000 To $44,999 (Estimate)           694\n",
       "$40,000 To $44,999 (MOE)            174.462\n",
       "$45,000 To $49,999 (Estimate)           957\n",
       "$45,000 To $49,999 (MOE)           241.5326\n",
       "$50,000 To $59,999 (Estimate)          1818\n",
       "$50,000 To $59,999 (MOE)           328.2408\n",
       "$60,000 To $74,999 (Estimate)          1661\n",
       "$60,000 To $74,999 (MOE)            271.564\n",
       "$75,000 To $99,999 (Estimate)          2177\n",
       "$75,000 To $99,999 (MOE)           314.7841\n",
       "$100,000 To $124,999 (Estimate)        1230\n",
       "$100,000 To $124,999 (MOE)         242.8621\n",
       "$125,000 To $149,999 (Estimate)         791\n",
       "$125,000 To $149,999 (MOE)         186.5556\n",
       "$150,000 To $199,999 (Estimate)         814\n",
       "$150,000 To $199,999 (MOE)         196.4637\n",
       "$200,000 Or More (Estimate)             693\n",
       "$200,000 Or More (MOE)             158.6096\n",
       "county                                    0\n",
       "state                                     0\n",
       "tract                                     0\n",
       "Name: Aggregate, dtype: object"
      ]
     },
     "execution_count": 497,
     "metadata": {},
     "output_type": "execute_result"
    }
   ],
   "source": [
    "agg(hhincome10)"
   ]
  },
  {
   "cell_type": "markdown",
   "metadata": {},
   "source": [
    "##### Education"
   ]
  },
  {
   "cell_type": "code",
   "execution_count": 498,
   "metadata": {
    "collapsed": false
   },
   "outputs": [],
   "source": [
    "var_education10 = vardict(\"education\",\"2010\",\"ACS5\")"
   ]
  },
  {
   "cell_type": "code",
   "execution_count": 499,
   "metadata": {
    "collapsed": false
   },
   "outputs": [
    {
     "data": {
      "text/plain": [
       "11"
      ]
     },
     "execution_count": 499,
     "metadata": {},
     "output_type": "execute_result"
    }
   ],
   "source": [
    "alameda_education10 = acs5(var_education10,CA,alameda,2012)\n",
    "education10 = tractfilter(alameda_education10,tracts10)\n",
    "len(education10)"
   ]
  },
  {
   "cell_type": "code",
   "execution_count": 500,
   "metadata": {
    "collapsed": false
   },
   "outputs": [
    {
     "data": {
      "text/plain": [
       "Total (Estimate)                                          28248\n",
       "Total (MOE)                                            912.4895\n",
       "No Schooling Completed (Estimate)                           184\n",
       "No Schooling Completed (MOE)                           97.04123\n",
       "Nursery School (Estimate)                                    10\n",
       "Nursery School (MOE)                                   46.16276\n",
       "Kindergarten (Estimate)                                      33\n",
       "Kindergarten (MOE)                                     58.77074\n",
       "1st Grade (Estimate)                                         10\n",
       "1st Grade (MOE)                                        46.16276\n",
       "2nd Grade (Estimate)                                         78\n",
       "2nd Grade (MOE)                                        60.32412\n",
       "3rd Grade (Estimate)                                         33\n",
       "3rd Grade (MOE)                                        42.43819\n",
       "4th Grade (Estimate)                                         49\n",
       "4th Grade (MOE)                                        66.61081\n",
       "5th Grade (Estimate)                                         65\n",
       "5th Grade (MOE)                                        63.35614\n",
       "6th Grade (Estimate)                                        218\n",
       "6th Grade (MOE)                                        131.8143\n",
       "7th Grade (Estimate)                                        102\n",
       "7th Grade (MOE)                                        83.73171\n",
       "8th Grade (Estimate)                                        183\n",
       "8th Grade (MOE)                                         91.3455\n",
       "9th Grade (Estimate)                                        225\n",
       "9th Grade (MOE)                                        150.6785\n",
       "10th Grade (Estimate)                                       234\n",
       "10th Grade (MOE)                                       139.3772\n",
       "11th Grade (Estimate)                                       532\n",
       "11th Grade (MOE)                                       174.9257\n",
       "12th Grade, No Diploma (Estimate)                           456\n",
       "12th Grade, No Diploma (MOE)                           165.5959\n",
       "Regular High School Diploma (Estimate)                     3778\n",
       "Regular High School Diploma (MOE)                       476.526\n",
       "GED Or Alternative Credential (Estimate)                    329\n",
       "GED Or Alternative Credential (MOE)                    136.3745\n",
       "Some College, Less Than 1 Year (Estimate)                   930\n",
       "Some College, Less Than 1 Year (MOE)                    217.274\n",
       "Some College, 1 Or More Years, No Degree (Estimate)        5116\n",
       "Some College, 1 Or More Years, No Degree (MOE)         529.0898\n",
       "Associate's Degree (Estimate)                              1586\n",
       "Associate's Degree (MOE)                               289.4788\n",
       "Bachelor's Degree (Estimate)                               8543\n",
       "Bachelor's Degree (MOE)                                653.5587\n",
       "Master's Degree (Estimate)                                 3747\n",
       "Master's Degree (MOE)                                  413.1392\n",
       "Professional School Degree (Estimate)                       999\n",
       "Professional School Degree (MOE)                       237.0042\n",
       "Doctorate Degree (Estimate)                                 808\n",
       "Doctorate Degree (MOE)                                 190.8953\n",
       "county                                                        0\n",
       "state                                                         0\n",
       "tract                                                         0\n",
       "Name: Aggregate, Length: 53, dtype: object"
      ]
     },
     "execution_count": 500,
     "metadata": {},
     "output_type": "execute_result"
    }
   ],
   "source": [
    "agg(education10)"
   ]
  },
  {
   "cell_type": "markdown",
   "metadata": {},
   "source": [
    "##### Tenure"
   ]
  },
  {
   "cell_type": "code",
   "execution_count": 501,
   "metadata": {
    "collapsed": false
   },
   "outputs": [],
   "source": [
    "var_tenure10 = vardict(\"tenure\",\"2010\",\"ACS5\")"
   ]
  },
  {
   "cell_type": "code",
   "execution_count": 502,
   "metadata": {
    "collapsed": false
   },
   "outputs": [
    {
     "data": {
      "text/plain": [
       "11"
      ]
     },
     "execution_count": 502,
     "metadata": {},
     "output_type": "execute_result"
    }
   ],
   "source": [
    "alameda_tenure10 = acs5(var_tenure10,CA,alameda,2012)\n",
    "tenure10 = tractfilter(alameda_tenure10,tracts10)\n",
    "len(tenure10)"
   ]
  },
  {
   "cell_type": "code",
   "execution_count": 503,
   "metadata": {
    "collapsed": false
   },
   "outputs": [
    {
     "data": {
      "text/plain": [
       "Total (Estimate)                 18423\n",
       "Total (MOE)                   383.1971\n",
       "Owner Occupied (Estimate)         5035\n",
       "Owner Occupied (MOE)          388.9871\n",
       "Renter Occupied (Estimate)       13388\n",
       "Renter Occupied (MOE)         487.8391\n",
       "county                               0\n",
       "state                                0\n",
       "tract                                0\n",
       "Name: Aggregate, dtype: object"
      ]
     },
     "execution_count": 503,
     "metadata": {},
     "output_type": "execute_result"
    }
   ],
   "source": [
    "agg(tenure10)"
   ]
  },
  {
   "cell_type": "markdown",
   "metadata": {},
   "source": [
    "##### Vehicles"
   ]
  },
  {
   "cell_type": "code",
   "execution_count": 504,
   "metadata": {
    "collapsed": false
   },
   "outputs": [],
   "source": [
    "var_veh10E = vardict(\"vehicles_est\",\"2010\",\"ACS5\")\n",
    "var_veh10M = vardict(\"vehicles_moe\",\"2010\",\"ACS5\")"
   ]
  },
  {
   "cell_type": "code",
   "execution_count": 505,
   "metadata": {
    "collapsed": false
   },
   "outputs": [],
   "source": [
    "vehkey10 = pd.read_csv('vehcategories.csv')\n",
    "vehkey00 = pd.read_csv('vehcategories00.csv')"
   ]
  },
  {
   "cell_type": "code",
   "execution_count": 506,
   "metadata": {
    "collapsed": false
   },
   "outputs": [
    {
     "data": {
      "text/plain": [
       "11"
      ]
     },
     "execution_count": 506,
     "metadata": {},
     "output_type": "execute_result"
    }
   ],
   "source": [
    "alameda_vehicles10E = acs5(var_veh10E,CA,alameda,2012)\n",
    "vehicles10E = tractfilter(alameda_vehicles10E,tracts10)\n",
    "len(vehicles10E)"
   ]
  },
  {
   "cell_type": "code",
   "execution_count": 507,
   "metadata": {
    "collapsed": false
   },
   "outputs": [
    {
     "data": {
      "text/plain": [
       "11"
      ]
     },
     "execution_count": 507,
     "metadata": {},
     "output_type": "execute_result"
    }
   ],
   "source": [
    "alameda_vehicles10M = acs5(var_veh10M,CA,alameda,2012)\n",
    "vehicles10M = tractfilter(alameda_vehicles10M,tracts10)\n",
    "len(vehicles10M)"
   ]
  },
  {
   "cell_type": "code",
   "execution_count": 508,
   "metadata": {
    "collapsed": false
   },
   "outputs": [],
   "source": [
    "vehicles10E_clean = collapse(vehicles10E,vehkey10)\n",
    "vehicles10M_clean = collapse(vehicles10M,vehkey10)"
   ]
  },
  {
   "cell_type": "code",
   "execution_count": 509,
   "metadata": {
    "collapsed": false
   },
   "outputs": [],
   "source": [
    "vehicles10 = concatenate_dataframes(vehicles10E_clean,vehicles10M_clean)"
   ]
  },
  {
   "cell_type": "code",
   "execution_count": 510,
   "metadata": {
    "collapsed": false
   },
   "outputs": [
    {
     "data": {
      "text/html": [
       "<div style=\"max-height:1000px;max-width:1500px;overflow:auto;\">\n",
       "<table border=\"1\" class=\"dataframe\">\n",
       "  <thead>\n",
       "    <tr style=\"text-align: right;\">\n",
       "      <th></th>\n",
       "      <th>Total (Estimate)</th>\n",
       "      <th>No Vehicle (Estimate)</th>\n",
       "      <th>One Vehicle (Estimate)</th>\n",
       "      <th>Two or More Vehicles (Estimate)</th>\n",
       "      <th>Total (MOE)</th>\n",
       "      <th>No Vehicle (MOE)</th>\n",
       "      <th>One Vehicle (MOE)</th>\n",
       "      <th>Two or More Vehicles (MOE)</th>\n",
       "    </tr>\n",
       "    <tr>\n",
       "      <th>tract</th>\n",
       "      <th></th>\n",
       "      <th></th>\n",
       "      <th></th>\n",
       "      <th></th>\n",
       "      <th></th>\n",
       "      <th></th>\n",
       "      <th></th>\n",
       "      <th></th>\n",
       "    </tr>\n",
       "  </thead>\n",
       "  <tbody>\n",
       "    <tr>\n",
       "      <th>401000</th>\n",
       "      <td> 2288</td>\n",
       "      <td> 527</td>\n",
       "      <td> 1093</td>\n",
       "      <td> 668</td>\n",
       "      <td> 140</td>\n",
       "      <td> 230</td>\n",
       "      <td> 335</td>\n",
       "      <td> 441</td>\n",
       "    </tr>\n",
       "    <tr>\n",
       "      <th>401100</th>\n",
       "      <td> 2033</td>\n",
       "      <td> 560</td>\n",
       "      <td> 1066</td>\n",
       "      <td> 407</td>\n",
       "      <td>  72</td>\n",
       "      <td> 190</td>\n",
       "      <td> 238</td>\n",
       "      <td> 289</td>\n",
       "    </tr>\n",
       "    <tr>\n",
       "      <th>401200</th>\n",
       "      <td> 1284</td>\n",
       "      <td> 225</td>\n",
       "      <td>  636</td>\n",
       "      <td> 423</td>\n",
       "      <td>  58</td>\n",
       "      <td> 110</td>\n",
       "      <td> 189</td>\n",
       "      <td> 280</td>\n",
       "    </tr>\n",
       "    <tr>\n",
       "      <th>401300</th>\n",
       "      <td> 1676</td>\n",
       "      <td> 751</td>\n",
       "      <td>  680</td>\n",
       "      <td> 245</td>\n",
       "      <td> 114</td>\n",
       "      <td> 171</td>\n",
       "      <td> 208</td>\n",
       "      <td> 268</td>\n",
       "    </tr>\n",
       "    <tr>\n",
       "      <th>401400</th>\n",
       "      <td> 1416</td>\n",
       "      <td> 484</td>\n",
       "      <td>  633</td>\n",
       "      <td> 299</td>\n",
       "      <td> 142</td>\n",
       "      <td> 131</td>\n",
       "      <td> 216</td>\n",
       "      <td> 256</td>\n",
       "    </tr>\n",
       "    <tr>\n",
       "      <th>401500</th>\n",
       "      <td>  899</td>\n",
       "      <td> 304</td>\n",
       "      <td>  347</td>\n",
       "      <td> 248</td>\n",
       "      <td>  97</td>\n",
       "      <td> 118</td>\n",
       "      <td> 131</td>\n",
       "      <td> 209</td>\n",
       "    </tr>\n",
       "    <tr>\n",
       "      <th>403900</th>\n",
       "      <td> 2266</td>\n",
       "      <td> 196</td>\n",
       "      <td> 1498</td>\n",
       "      <td> 572</td>\n",
       "      <td>  98</td>\n",
       "      <td> 139</td>\n",
       "      <td> 323</td>\n",
       "      <td> 367</td>\n",
       "    </tr>\n",
       "    <tr>\n",
       "      <th>404000</th>\n",
       "      <td> 1630</td>\n",
       "      <td> 258</td>\n",
       "      <td>  965</td>\n",
       "      <td> 407</td>\n",
       "      <td> 107</td>\n",
       "      <td> 109</td>\n",
       "      <td> 228</td>\n",
       "      <td> 231</td>\n",
       "    </tr>\n",
       "    <tr>\n",
       "      <th>404101</th>\n",
       "      <td> 1643</td>\n",
       "      <td> 302</td>\n",
       "      <td>  900</td>\n",
       "      <td> 441</td>\n",
       "      <td> 135</td>\n",
       "      <td> 147</td>\n",
       "      <td> 246</td>\n",
       "      <td> 239</td>\n",
       "    </tr>\n",
       "    <tr>\n",
       "      <th>404102</th>\n",
       "      <td> 1538</td>\n",
       "      <td> 318</td>\n",
       "      <td>  953</td>\n",
       "      <td> 267</td>\n",
       "      <td> 109</td>\n",
       "      <td> 119</td>\n",
       "      <td> 184</td>\n",
       "      <td> 240</td>\n",
       "    </tr>\n",
       "    <tr>\n",
       "      <th>425104</th>\n",
       "      <td> 1750</td>\n",
       "      <td> 367</td>\n",
       "      <td>  911</td>\n",
       "      <td> 472</td>\n",
       "      <td> 158</td>\n",
       "      <td> 205</td>\n",
       "      <td> 283</td>\n",
       "      <td> 304</td>\n",
       "    </tr>\n",
       "  </tbody>\n",
       "</table>\n",
       "</div>"
      ],
      "text/plain": [
       "        Total (Estimate)  No Vehicle (Estimate)  One Vehicle (Estimate)  \\\n",
       "tract                                                                     \n",
       "401000              2288                    527                    1093   \n",
       "401100              2033                    560                    1066   \n",
       "401200              1284                    225                     636   \n",
       "401300              1676                    751                     680   \n",
       "401400              1416                    484                     633   \n",
       "401500               899                    304                     347   \n",
       "403900              2266                    196                    1498   \n",
       "404000              1630                    258                     965   \n",
       "404101              1643                    302                     900   \n",
       "404102              1538                    318                     953   \n",
       "425104              1750                    367                     911   \n",
       "\n",
       "        Two or More Vehicles (Estimate)  Total (MOE)  No Vehicle (MOE)  \\\n",
       "tract                                                                    \n",
       "401000                              668          140               230   \n",
       "401100                              407           72               190   \n",
       "401200                              423           58               110   \n",
       "401300                              245          114               171   \n",
       "401400                              299          142               131   \n",
       "401500                              248           97               118   \n",
       "403900                              572           98               139   \n",
       "404000                              407          107               109   \n",
       "404101                              441          135               147   \n",
       "404102                              267          109               119   \n",
       "425104                              472          158               205   \n",
       "\n",
       "        One Vehicle (MOE)  Two or More Vehicles (MOE)  \n",
       "tract                                                  \n",
       "401000                335                         441  \n",
       "401100                238                         289  \n",
       "401200                189                         280  \n",
       "401300                208                         268  \n",
       "401400                216                         256  \n",
       "401500                131                         209  \n",
       "403900                323                         367  \n",
       "404000                228                         231  \n",
       "404101                246                         239  \n",
       "404102                184                         240  \n",
       "425104                283                         304  "
      ]
     },
     "execution_count": 510,
     "metadata": {},
     "output_type": "execute_result"
    }
   ],
   "source": [
    "vehicles10"
   ]
  },
  {
   "cell_type": "code",
   "execution_count": 511,
   "metadata": {
    "collapsed": false
   },
   "outputs": [
    {
     "data": {
      "text/html": [
       "<div style=\"max-height:1000px;max-width:1500px;overflow:auto;\">\n",
       "<table border=\"1\" class=\"dataframe\">\n",
       "  <thead>\n",
       "    <tr style=\"text-align: right;\">\n",
       "      <th></th>\n",
       "      <th>new</th>\n",
       "      <th>old</th>\n",
       "    </tr>\n",
       "  </thead>\n",
       "  <tbody>\n",
       "    <tr>\n",
       "      <th>0 </th>\n",
       "      <td>                Total (Estimate)</td>\n",
       "      <td>                               Total (Estimate)</td>\n",
       "    </tr>\n",
       "    <tr>\n",
       "      <th>1 </th>\n",
       "      <td>           No Vehicle (Estimate)</td>\n",
       "      <td>          Owner-No Vehicle Available (Estimate)</td>\n",
       "    </tr>\n",
       "    <tr>\n",
       "      <th>2 </th>\n",
       "      <td>          One Vehicle (Estimate)</td>\n",
       "      <td>           Owner-1 Vehicle Available (Estimate)</td>\n",
       "    </tr>\n",
       "    <tr>\n",
       "      <th>3 </th>\n",
       "      <td> Two or More Vehicles (Estimate)</td>\n",
       "      <td>          Owner-2 Vehicles Available (Estimate)</td>\n",
       "    </tr>\n",
       "    <tr>\n",
       "      <th>4 </th>\n",
       "      <td> Two or More Vehicles (Estimate)</td>\n",
       "      <td>          Owner-3 Vehicles Available (Estimate)</td>\n",
       "    </tr>\n",
       "    <tr>\n",
       "      <th>5 </th>\n",
       "      <td> Two or More Vehicles (Estimate)</td>\n",
       "      <td>          Owner-4 Vehicles Available (Estimate)</td>\n",
       "    </tr>\n",
       "    <tr>\n",
       "      <th>6 </th>\n",
       "      <td> Two or More Vehicles (Estimate)</td>\n",
       "      <td>  Owner-5 Or More Vehicles Available (Estimate)</td>\n",
       "    </tr>\n",
       "    <tr>\n",
       "      <th>7 </th>\n",
       "      <td>           No Vehicle (Estimate)</td>\n",
       "      <td>         Renter-No Vehicle Available (Estimate)</td>\n",
       "    </tr>\n",
       "    <tr>\n",
       "      <th>8 </th>\n",
       "      <td>          One Vehicle (Estimate)</td>\n",
       "      <td>          Renter-1 Vehicle Available (Estimate)</td>\n",
       "    </tr>\n",
       "    <tr>\n",
       "      <th>9 </th>\n",
       "      <td> Two or More Vehicles (Estimate)</td>\n",
       "      <td>         Renter-2 Vehicles Available (Estimate)</td>\n",
       "    </tr>\n",
       "    <tr>\n",
       "      <th>10</th>\n",
       "      <td> Two or More Vehicles (Estimate)</td>\n",
       "      <td>         Renter-3 Vehicles Available (Estimate)</td>\n",
       "    </tr>\n",
       "    <tr>\n",
       "      <th>11</th>\n",
       "      <td> Two or More Vehicles (Estimate)</td>\n",
       "      <td>         Renter-4 Vehicles Available (Estimate)</td>\n",
       "    </tr>\n",
       "    <tr>\n",
       "      <th>12</th>\n",
       "      <td> Two or More Vehicles (Estimate)</td>\n",
       "      <td> Renter-5 Or More Vehicles Available (Estimate)</td>\n",
       "    </tr>\n",
       "    <tr>\n",
       "      <th>13</th>\n",
       "      <td>                     Total (MOE)</td>\n",
       "      <td>                                    Total (MOE)</td>\n",
       "    </tr>\n",
       "    <tr>\n",
       "      <th>14</th>\n",
       "      <td>                No Vehicle (MOE)</td>\n",
       "      <td>               Owner-No Vehicle Available (MOE)</td>\n",
       "    </tr>\n",
       "    <tr>\n",
       "      <th>15</th>\n",
       "      <td>               One Vehicle (MOE)</td>\n",
       "      <td>                Owner-1 Vehicle Available (MOE)</td>\n",
       "    </tr>\n",
       "    <tr>\n",
       "      <th>16</th>\n",
       "      <td>      Two or More Vehicles (MOE)</td>\n",
       "      <td>               Owner-2 Vehicles Available (MOE)</td>\n",
       "    </tr>\n",
       "    <tr>\n",
       "      <th>17</th>\n",
       "      <td>      Two or More Vehicles (MOE)</td>\n",
       "      <td>               Owner-3 Vehicles Available (MOE)</td>\n",
       "    </tr>\n",
       "    <tr>\n",
       "      <th>18</th>\n",
       "      <td>      Two or More Vehicles (MOE)</td>\n",
       "      <td>               Owner-4 Vehicles Available (MOE)</td>\n",
       "    </tr>\n",
       "    <tr>\n",
       "      <th>19</th>\n",
       "      <td>      Two or More Vehicles (MOE)</td>\n",
       "      <td>       Owner-5 Or More Vehicles Available (MOE)</td>\n",
       "    </tr>\n",
       "    <tr>\n",
       "      <th>20</th>\n",
       "      <td>                No Vehicle (MOE)</td>\n",
       "      <td>              Renter-No Vehicle Available (MOE)</td>\n",
       "    </tr>\n",
       "    <tr>\n",
       "      <th>21</th>\n",
       "      <td>               One Vehicle (MOE)</td>\n",
       "      <td>               Renter-1 Vehicle Available (MOE)</td>\n",
       "    </tr>\n",
       "    <tr>\n",
       "      <th>22</th>\n",
       "      <td>      Two or More Vehicles (MOE)</td>\n",
       "      <td>              Renter-2 Vehicles Available (MOE)</td>\n",
       "    </tr>\n",
       "    <tr>\n",
       "      <th>23</th>\n",
       "      <td>      Two or More Vehicles (MOE)</td>\n",
       "      <td>              Renter-3 Vehicles Available (MOE)</td>\n",
       "    </tr>\n",
       "    <tr>\n",
       "      <th>24</th>\n",
       "      <td>      Two or More Vehicles (MOE)</td>\n",
       "      <td>              Renter-4 Vehicles Available (MOE)</td>\n",
       "    </tr>\n",
       "    <tr>\n",
       "      <th>25</th>\n",
       "      <td>      Two or More Vehicles (MOE)</td>\n",
       "      <td>      Renter-5 Or More Vehicles Available (MOE)</td>\n",
       "    </tr>\n",
       "  </tbody>\n",
       "</table>\n",
       "</div>"
      ],
      "text/plain": [
       "                                new  \\\n",
       "0                  Total (Estimate)   \n",
       "1             No Vehicle (Estimate)   \n",
       "2            One Vehicle (Estimate)   \n",
       "3   Two or More Vehicles (Estimate)   \n",
       "4   Two or More Vehicles (Estimate)   \n",
       "5   Two or More Vehicles (Estimate)   \n",
       "6   Two or More Vehicles (Estimate)   \n",
       "7             No Vehicle (Estimate)   \n",
       "8            One Vehicle (Estimate)   \n",
       "9   Two or More Vehicles (Estimate)   \n",
       "10  Two or More Vehicles (Estimate)   \n",
       "11  Two or More Vehicles (Estimate)   \n",
       "12  Two or More Vehicles (Estimate)   \n",
       "13                      Total (MOE)   \n",
       "14                 No Vehicle (MOE)   \n",
       "15                One Vehicle (MOE)   \n",
       "16       Two or More Vehicles (MOE)   \n",
       "17       Two or More Vehicles (MOE)   \n",
       "18       Two or More Vehicles (MOE)   \n",
       "19       Two or More Vehicles (MOE)   \n",
       "20                 No Vehicle (MOE)   \n",
       "21                One Vehicle (MOE)   \n",
       "22       Two or More Vehicles (MOE)   \n",
       "23       Two or More Vehicles (MOE)   \n",
       "24       Two or More Vehicles (MOE)   \n",
       "25       Two or More Vehicles (MOE)   \n",
       "\n",
       "                                               old  \n",
       "0                                 Total (Estimate)  \n",
       "1            Owner-No Vehicle Available (Estimate)  \n",
       "2             Owner-1 Vehicle Available (Estimate)  \n",
       "3            Owner-2 Vehicles Available (Estimate)  \n",
       "4            Owner-3 Vehicles Available (Estimate)  \n",
       "5            Owner-4 Vehicles Available (Estimate)  \n",
       "6    Owner-5 Or More Vehicles Available (Estimate)  \n",
       "7           Renter-No Vehicle Available (Estimate)  \n",
       "8            Renter-1 Vehicle Available (Estimate)  \n",
       "9           Renter-2 Vehicles Available (Estimate)  \n",
       "10          Renter-3 Vehicles Available (Estimate)  \n",
       "11          Renter-4 Vehicles Available (Estimate)  \n",
       "12  Renter-5 Or More Vehicles Available (Estimate)  \n",
       "13                                     Total (MOE)  \n",
       "14                Owner-No Vehicle Available (MOE)  \n",
       "15                 Owner-1 Vehicle Available (MOE)  \n",
       "16                Owner-2 Vehicles Available (MOE)  \n",
       "17                Owner-3 Vehicles Available (MOE)  \n",
       "18                Owner-4 Vehicles Available (MOE)  \n",
       "19        Owner-5 Or More Vehicles Available (MOE)  \n",
       "20               Renter-No Vehicle Available (MOE)  \n",
       "21                Renter-1 Vehicle Available (MOE)  \n",
       "22               Renter-2 Vehicles Available (MOE)  \n",
       "23               Renter-3 Vehicles Available (MOE)  \n",
       "24               Renter-4 Vehicles Available (MOE)  \n",
       "25       Renter-5 Or More Vehicles Available (MOE)  "
      ]
     },
     "execution_count": 511,
     "metadata": {},
     "output_type": "execute_result"
    }
   ],
   "source": [
    "vehkey10"
   ]
  },
  {
   "cell_type": "code",
   "execution_count": 512,
   "metadata": {
    "collapsed": false
   },
   "outputs": [
    {
     "data": {
      "text/plain": [
       "Total (Estimate)                   18423.000000\n",
       "No Vehicle (Estimate)               4292.000000\n",
       "One Vehicle (Estimate)              9682.000000\n",
       "Two or More Vehicles (Estimate)     4449.000000\n",
       "Total (MOE)                          383.197077\n",
       "No Vehicle (MOE)                     520.022115\n",
       "One Vehicle (MOE)                    801.526668\n",
       "Two or More Vehicles (MOE)           965.727705\n",
       "Name: Aggregate, dtype: float64"
      ]
     },
     "execution_count": 512,
     "metadata": {},
     "output_type": "execute_result"
    }
   ],
   "source": [
    "agg(vehicles10)"
   ]
  },
  {
   "cell_type": "markdown",
   "metadata": {},
   "source": [
    "## Decennial Census 2000 Descriptives"
   ]
  },
  {
   "cell_type": "markdown",
   "metadata": {},
   "source": [
    "##### Basic Descriptives"
   ]
  },
  {
   "cell_type": "code",
   "execution_count": 513,
   "metadata": {
    "collapsed": false
   },
   "outputs": [],
   "source": [
    "var_basic00 = vardict('basic','2000','SF1')"
   ]
  },
  {
   "cell_type": "code",
   "execution_count": 514,
   "metadata": {
    "collapsed": false
   },
   "outputs": [
    {
     "data": {
      "text/plain": [
       "{'P001001': 'Population', 'P015001': 'Households'}"
      ]
     },
     "execution_count": 514,
     "metadata": {},
     "output_type": "execute_result"
    }
   ],
   "source": [
    "var_basic00"
   ]
  },
  {
   "cell_type": "code",
   "execution_count": 515,
   "metadata": {
    "collapsed": false
   },
   "outputs": [
    {
     "data": {
      "text/plain": [
       "9"
      ]
     },
     "execution_count": 515,
     "metadata": {},
     "output_type": "execute_result"
    }
   ],
   "source": [
    "alameda_basic00 = sf1(var_basic00,CA,alameda,2000)\n",
    "basic00 = tractfilter(alameda_basic00,tracts00)\n",
    "len(basic00)"
   ]
  },
  {
   "cell_type": "code",
   "execution_count": 516,
   "metadata": {
    "collapsed": false
   },
   "outputs": [
    {
     "data": {
      "text/html": [
       "<div style=\"max-height:1000px;max-width:1500px;overflow:auto;\">\n",
       "<table border=\"1\" class=\"dataframe\">\n",
       "  <thead>\n",
       "    <tr style=\"text-align: right;\">\n",
       "      <th></th>\n",
       "      <th>Population</th>\n",
       "      <th>Households</th>\n",
       "      <th>county</th>\n",
       "      <th>state</th>\n",
       "      <th>tract</th>\n",
       "    </tr>\n",
       "    <tr>\n",
       "      <th>tract</th>\n",
       "      <th></th>\n",
       "      <th></th>\n",
       "      <th></th>\n",
       "      <th></th>\n",
       "      <th></th>\n",
       "    </tr>\n",
       "  </thead>\n",
       "  <tbody>\n",
       "    <tr>\n",
       "      <th>401000</th>\n",
       "      <td> 5709</td>\n",
       "      <td> 2299</td>\n",
       "      <td> 1</td>\n",
       "      <td> 6</td>\n",
       "      <td> 401000</td>\n",
       "    </tr>\n",
       "    <tr>\n",
       "      <th>401100</th>\n",
       "      <td> 4007</td>\n",
       "      <td> 1941</td>\n",
       "      <td> 1</td>\n",
       "      <td> 6</td>\n",
       "      <td> 401100</td>\n",
       "    </tr>\n",
       "    <tr>\n",
       "      <th>401200</th>\n",
       "      <td> 2432</td>\n",
       "      <td> 1200</td>\n",
       "      <td> 1</td>\n",
       "      <td> 6</td>\n",
       "      <td> 401200</td>\n",
       "    </tr>\n",
       "    <tr>\n",
       "      <th>401300</th>\n",
       "      <td> 2810</td>\n",
       "      <td> 1345</td>\n",
       "      <td> 1</td>\n",
       "      <td> 6</td>\n",
       "      <td> 401300</td>\n",
       "    </tr>\n",
       "    <tr>\n",
       "      <th>401400</th>\n",
       "      <td> 4765</td>\n",
       "      <td> 1488</td>\n",
       "      <td> 1</td>\n",
       "      <td> 6</td>\n",
       "      <td> 401400</td>\n",
       "    </tr>\n",
       "    <tr>\n",
       "      <th>401500</th>\n",
       "      <td> 2413</td>\n",
       "      <td>  911</td>\n",
       "      <td> 1</td>\n",
       "      <td> 6</td>\n",
       "      <td> 401500</td>\n",
       "    </tr>\n",
       "    <tr>\n",
       "      <th>403900</th>\n",
       "      <td> 3794</td>\n",
       "      <td> 2178</td>\n",
       "      <td> 1</td>\n",
       "      <td> 6</td>\n",
       "      <td> 403900</td>\n",
       "    </tr>\n",
       "    <tr>\n",
       "      <th>404000</th>\n",
       "      <td> 2885</td>\n",
       "      <td> 1781</td>\n",
       "      <td> 1</td>\n",
       "      <td> 6</td>\n",
       "      <td> 404000</td>\n",
       "    </tr>\n",
       "    <tr>\n",
       "      <th>404100</th>\n",
       "      <td> 5337</td>\n",
       "      <td> 3356</td>\n",
       "      <td> 1</td>\n",
       "      <td> 6</td>\n",
       "      <td> 404100</td>\n",
       "    </tr>\n",
       "  </tbody>\n",
       "</table>\n",
       "</div>"
      ],
      "text/plain": [
       "        Population  Households county state   tract\n",
       "tract                                              \n",
       "401000        5709        2299      1     6  401000\n",
       "401100        4007        1941      1     6  401100\n",
       "401200        2432        1200      1     6  401200\n",
       "401300        2810        1345      1     6  401300\n",
       "401400        4765        1488      1     6  401400\n",
       "401500        2413         911      1     6  401500\n",
       "403900        3794        2178      1     6  403900\n",
       "404000        2885        1781      1     6  404000\n",
       "404100        5337        3356      1     6  404100"
      ]
     },
     "execution_count": 516,
     "metadata": {},
     "output_type": "execute_result"
    }
   ],
   "source": [
    "basic00"
   ]
  },
  {
   "cell_type": "code",
   "execution_count": 517,
   "metadata": {
    "collapsed": false
   },
   "outputs": [
    {
     "data": {
      "text/plain": [
       "Population    34152\n",
       "Households    16499\n",
       "county            0\n",
       "state             0\n",
       "tract             0\n",
       "Name: Aggregate, dtype: object"
      ]
     },
     "execution_count": 517,
     "metadata": {},
     "output_type": "execute_result"
    }
   ],
   "source": [
    "agg(basic00)"
   ]
  },
  {
   "cell_type": "markdown",
   "metadata": {},
   "source": [
    "##### Means of Transportation to Work"
   ]
  },
  {
   "cell_type": "code",
   "execution_count": 518,
   "metadata": {
    "collapsed": false
   },
   "outputs": [],
   "source": [
    "var_commute00 = vardict('commute','2000','SF3')"
   ]
  },
  {
   "cell_type": "code",
   "execution_count": 519,
   "metadata": {
    "collapsed": false
   },
   "outputs": [
    {
     "data": {
      "text/plain": [
       "9"
      ]
     },
     "execution_count": 519,
     "metadata": {},
     "output_type": "execute_result"
    }
   ],
   "source": [
    "alameda_commute00 = sf3(var_commute00,CA,alameda,2000)\n",
    "commute00 = tractfilter(alameda_commute00,tracts00)\n",
    "len(commute00)"
   ]
  },
  {
   "cell_type": "code",
   "execution_count": 520,
   "metadata": {
    "collapsed": false
   },
   "outputs": [
    {
     "data": {
      "text/plain": [
       "Total                    16721\n",
       "Car, truck, or van       10377\n",
       "Public transportation     4115\n",
       "Bicycle                    528\n",
       "Walked                     727\n",
       "county                       0\n",
       "state                        0\n",
       "tract                        0\n",
       "Name: Aggregate, dtype: object"
      ]
     },
     "execution_count": 520,
     "metadata": {},
     "output_type": "execute_result"
    }
   ],
   "source": [
    "agg(commute00)"
   ]
  },
  {
   "cell_type": "markdown",
   "metadata": {},
   "source": [
    "##### Age"
   ]
  },
  {
   "cell_type": "code",
   "execution_count": 521,
   "metadata": {
    "collapsed": false
   },
   "outputs": [],
   "source": [
    "var_age00_1 = vardict('age1','2000','SF3')\n",
    "var_age00_2 = vardict('age2','2000','SF3')"
   ]
  },
  {
   "cell_type": "code",
   "execution_count": 522,
   "metadata": {
    "collapsed": false
   },
   "outputs": [],
   "source": [
    "alameda_age00_1 = sf3(var_age00_1,CA,alameda,2000)\n",
    "alameda_age00_2 = sf3(var_age00_2,CA,alameda,2000)"
   ]
  },
  {
   "cell_type": "code",
   "execution_count": 523,
   "metadata": {
    "collapsed": false
   },
   "outputs": [],
   "source": [
    "age00_1 = tractfilter(alameda_age00_1,tracts00)\n",
    "age00_2 = tractfilter(alameda_age00_2,tracts00)"
   ]
  },
  {
   "cell_type": "code",
   "execution_count": 524,
   "metadata": {
    "collapsed": false
   },
   "outputs": [
    {
     "data": {
      "text/html": [
       "<div style=\"max-height:1000px;max-width:1500px;overflow:auto;\">\n",
       "<table border=\"1\" class=\"dataframe\">\n",
       "  <thead>\n",
       "    <tr style=\"text-align: right;\">\n",
       "      <th></th>\n",
       "      <th>Total:</th>\n",
       "      <th>Male:</th>\n",
       "      <th>Under 1 year M</th>\n",
       "      <th>1 year M</th>\n",
       "      <th>2 years M</th>\n",
       "      <th>3 years M</th>\n",
       "      <th>4 years M</th>\n",
       "      <th>5 years M</th>\n",
       "      <th>6 years M</th>\n",
       "      <th>7 years M</th>\n",
       "      <th>...</th>\n",
       "      <th>62 to 64 years F</th>\n",
       "      <th>65 and 66 years F</th>\n",
       "      <th>67 to 69 years F</th>\n",
       "      <th>70 to 74 years F</th>\n",
       "      <th>75 to 79 years F</th>\n",
       "      <th>80 to 84 years F</th>\n",
       "      <th>85 years and over F</th>\n",
       "      <th>county</th>\n",
       "      <th>state</th>\n",
       "      <th>tract</th>\n",
       "    </tr>\n",
       "    <tr>\n",
       "      <th>tract</th>\n",
       "      <th></th>\n",
       "      <th></th>\n",
       "      <th></th>\n",
       "      <th></th>\n",
       "      <th></th>\n",
       "      <th></th>\n",
       "      <th></th>\n",
       "      <th></th>\n",
       "      <th></th>\n",
       "      <th></th>\n",
       "      <th></th>\n",
       "      <th></th>\n",
       "      <th></th>\n",
       "      <th></th>\n",
       "      <th></th>\n",
       "      <th></th>\n",
       "      <th></th>\n",
       "      <th></th>\n",
       "      <th></th>\n",
       "      <th></th>\n",
       "      <th></th>\n",
       "    </tr>\n",
       "  </thead>\n",
       "  <tbody>\n",
       "    <tr>\n",
       "      <th>401000</th>\n",
       "      <td> 5709</td>\n",
       "      <td> 2617</td>\n",
       "      <td> 45</td>\n",
       "      <td>  0</td>\n",
       "      <td> 15</td>\n",
       "      <td> 11</td>\n",
       "      <td> 54</td>\n",
       "      <td> 21</td>\n",
       "      <td> 38</td>\n",
       "      <td> 67</td>\n",
       "      <td>...</td>\n",
       "      <td> 49</td>\n",
       "      <td> 13</td>\n",
       "      <td> 54</td>\n",
       "      <td> 118</td>\n",
       "      <td> 63</td>\n",
       "      <td> 109</td>\n",
       "      <td> 36</td>\n",
       "      <td> 1</td>\n",
       "      <td> 6</td>\n",
       "      <td> 401000</td>\n",
       "    </tr>\n",
       "    <tr>\n",
       "      <th>401100</th>\n",
       "      <td> 4007</td>\n",
       "      <td> 1914</td>\n",
       "      <td>  5</td>\n",
       "      <td> 16</td>\n",
       "      <td> 23</td>\n",
       "      <td> 15</td>\n",
       "      <td> 22</td>\n",
       "      <td> 22</td>\n",
       "      <td> 20</td>\n",
       "      <td> 19</td>\n",
       "      <td>...</td>\n",
       "      <td> 11</td>\n",
       "      <td>  0</td>\n",
       "      <td> 26</td>\n",
       "      <td>  36</td>\n",
       "      <td> 16</td>\n",
       "      <td>   7</td>\n",
       "      <td> 23</td>\n",
       "      <td> 1</td>\n",
       "      <td> 6</td>\n",
       "      <td> 401100</td>\n",
       "    </tr>\n",
       "    <tr>\n",
       "      <th>401200</th>\n",
       "      <td> 2322</td>\n",
       "      <td> 1068</td>\n",
       "      <td> 14</td>\n",
       "      <td> 23</td>\n",
       "      <td>  0</td>\n",
       "      <td>  0</td>\n",
       "      <td> 17</td>\n",
       "      <td>  0</td>\n",
       "      <td>  9</td>\n",
       "      <td>  0</td>\n",
       "      <td>...</td>\n",
       "      <td> 32</td>\n",
       "      <td>  0</td>\n",
       "      <td> 11</td>\n",
       "      <td>  31</td>\n",
       "      <td> 19</td>\n",
       "      <td>  29</td>\n",
       "      <td> 18</td>\n",
       "      <td> 1</td>\n",
       "      <td> 6</td>\n",
       "      <td> 401200</td>\n",
       "    </tr>\n",
       "    <tr>\n",
       "      <th>401300</th>\n",
       "      <td> 2920</td>\n",
       "      <td> 1472</td>\n",
       "      <td> 13</td>\n",
       "      <td>  3</td>\n",
       "      <td> 24</td>\n",
       "      <td> 29</td>\n",
       "      <td> 12</td>\n",
       "      <td>  0</td>\n",
       "      <td> 11</td>\n",
       "      <td> 21</td>\n",
       "      <td>...</td>\n",
       "      <td> 21</td>\n",
       "      <td> 49</td>\n",
       "      <td> 30</td>\n",
       "      <td>  28</td>\n",
       "      <td> 12</td>\n",
       "      <td>  71</td>\n",
       "      <td> 98</td>\n",
       "      <td> 1</td>\n",
       "      <td> 6</td>\n",
       "      <td> 401300</td>\n",
       "    </tr>\n",
       "    <tr>\n",
       "      <th>401400</th>\n",
       "      <td> 4765</td>\n",
       "      <td> 2383</td>\n",
       "      <td> 51</td>\n",
       "      <td> 21</td>\n",
       "      <td> 47</td>\n",
       "      <td> 77</td>\n",
       "      <td> 50</td>\n",
       "      <td> 50</td>\n",
       "      <td> 35</td>\n",
       "      <td> 92</td>\n",
       "      <td>...</td>\n",
       "      <td> 65</td>\n",
       "      <td> 34</td>\n",
       "      <td> 34</td>\n",
       "      <td>  34</td>\n",
       "      <td> 44</td>\n",
       "      <td>  47</td>\n",
       "      <td> 21</td>\n",
       "      <td> 1</td>\n",
       "      <td> 6</td>\n",
       "      <td> 401400</td>\n",
       "    </tr>\n",
       "  </tbody>\n",
       "</table>\n",
       "<p>5 rows × 85 columns</p>\n",
       "</div>"
      ],
      "text/plain": [
       "        Total:  Male:  Under 1 year M  1 year M  2 years M  3 years M  \\\n",
       "tract                                                                   \n",
       "401000    5709   2617              45         0         15         11   \n",
       "401100    4007   1914               5        16         23         15   \n",
       "401200    2322   1068              14        23          0          0   \n",
       "401300    2920   1472              13         3         24         29   \n",
       "401400    4765   2383              51        21         47         77   \n",
       "\n",
       "        4 years M  5 years M  6 years M  7 years M    ...      \\\n",
       "tract                                                 ...       \n",
       "401000         54         21         38         67    ...       \n",
       "401100         22         22         20         19    ...       \n",
       "401200         17          0          9          0    ...       \n",
       "401300         12          0         11         21    ...       \n",
       "401400         50         50         35         92    ...       \n",
       "\n",
       "        62 to 64 years F  65 and 66 years F  67 to 69 years F  \\\n",
       "tract                                                           \n",
       "401000                49                 13                54   \n",
       "401100                11                  0                26   \n",
       "401200                32                  0                11   \n",
       "401300                21                 49                30   \n",
       "401400                65                 34                34   \n",
       "\n",
       "        70 to 74 years F  75 to 79 years F  80 to 84 years F  \\\n",
       "tract                                                          \n",
       "401000               118                63               109   \n",
       "401100                36                16                 7   \n",
       "401200                31                19                29   \n",
       "401300                28                12                71   \n",
       "401400                34                44                47   \n",
       "\n",
       "        85 years and over F  county  state   tract  \n",
       "tract                                               \n",
       "401000                   36       1      6  401000  \n",
       "401100                   23       1      6  401100  \n",
       "401200                   18       1      6  401200  \n",
       "401300                   98       1      6  401300  \n",
       "401400                   21       1      6  401400  \n",
       "\n",
       "[5 rows x 85 columns]"
      ]
     },
     "execution_count": 524,
     "metadata": {},
     "output_type": "execute_result"
    }
   ],
   "source": [
    "age00 = concatenate_dataframes(age00_1,age00_2)\n",
    "age00.head()"
   ]
  },
  {
   "cell_type": "code",
   "execution_count": 525,
   "metadata": {
    "collapsed": false
   },
   "outputs": [
    {
     "data": {
      "text/html": [
       "<div style=\"max-height:1000px;max-width:1500px;overflow:auto;\">\n",
       "<table border=\"1\" class=\"dataframe\">\n",
       "  <thead>\n",
       "    <tr style=\"text-align: right;\">\n",
       "      <th></th>\n",
       "      <th>new</th>\n",
       "      <th>old</th>\n",
       "    </tr>\n",
       "  </thead>\n",
       "  <tbody>\n",
       "    <tr>\n",
       "      <th>0</th>\n",
       "      <td>    Total</td>\n",
       "      <td>         Total:</td>\n",
       "    </tr>\n",
       "    <tr>\n",
       "      <th>1</th>\n",
       "      <td> Under 18</td>\n",
       "      <td> Under 1 year M</td>\n",
       "    </tr>\n",
       "    <tr>\n",
       "      <th>2</th>\n",
       "      <td> Under 18</td>\n",
       "      <td>       1 year M</td>\n",
       "    </tr>\n",
       "    <tr>\n",
       "      <th>3</th>\n",
       "      <td> Under 18</td>\n",
       "      <td>      2 years M</td>\n",
       "    </tr>\n",
       "    <tr>\n",
       "      <th>4</th>\n",
       "      <td> Under 18</td>\n",
       "      <td>      3 years M</td>\n",
       "    </tr>\n",
       "  </tbody>\n",
       "</table>\n",
       "</div>"
      ],
      "text/plain": [
       "        new             old\n",
       "0     Total          Total:\n",
       "1  Under 18  Under 1 year M\n",
       "2  Under 18        1 year M\n",
       "3  Under 18       2 years M\n",
       "4  Under 18       3 years M"
      ]
     },
     "execution_count": 525,
     "metadata": {},
     "output_type": "execute_result"
    }
   ],
   "source": [
    "agekeys00 = pd.read_csv(\"agecategories00.csv\")\n",
    "agekeys00.head()"
   ]
  },
  {
   "cell_type": "code",
   "execution_count": 526,
   "metadata": {
    "collapsed": false
   },
   "outputs": [],
   "source": [
    "age00_clean = collapse(age00,agekeys00)"
   ]
  },
  {
   "cell_type": "code",
   "execution_count": 527,
   "metadata": {
    "collapsed": false
   },
   "outputs": [
    {
     "data": {
      "text/plain": [
       "Total          34317\n",
       "Under 18        6474\n",
       "18 to 34       10775\n",
       "35 to 49        8676\n",
       "50 to 64        4468\n",
       "65 and over     3924\n",
       "Name: Aggregate, dtype: float64"
      ]
     },
     "execution_count": 527,
     "metadata": {},
     "output_type": "execute_result"
    }
   ],
   "source": [
    "agg(age00_clean)"
   ]
  },
  {
   "cell_type": "markdown",
   "metadata": {},
   "source": [
    "##### Race"
   ]
  },
  {
   "cell_type": "code",
   "execution_count": 528,
   "metadata": {
    "collapsed": false
   },
   "outputs": [],
   "source": [
    "var_racehisp00 = vardict('race_hisp','2000','SF3')"
   ]
  },
  {
   "cell_type": "code",
   "execution_count": 529,
   "metadata": {
    "collapsed": false
   },
   "outputs": [],
   "source": [
    "alameda_racehisp00 = sf3(var_racehisp00,CA,alameda,2000)\n",
    "racehisp00 = tractfilter(alameda_racehisp00,tracts00)"
   ]
  },
  {
   "cell_type": "code",
   "execution_count": 530,
   "metadata": {
    "collapsed": false
   },
   "outputs": [
    {
     "data": {
      "text/plain": [
       "Total                                               34317\n",
       "Not Hispanic or Latino                              31109\n",
       "White alone                                         11848\n",
       "Black or African American alone                     13796\n",
       "American Indian and Alaska Native alone               159\n",
       "Asian alone                                          3140\n",
       "Native Hawaiian and Other Pacific Islander alone       76\n",
       "Some other race alone                                 158\n",
       "Two or more races                                    1932\n",
       "Hispanic or Latino                                   3208\n",
       "county                                                  0\n",
       "state                                                   0\n",
       "tract                                                   0\n",
       "Name: Aggregate, dtype: object"
      ]
     },
     "execution_count": 530,
     "metadata": {},
     "output_type": "execute_result"
    }
   ],
   "source": [
    "agg(racehisp00)"
   ]
  },
  {
   "cell_type": "markdown",
   "metadata": {},
   "source": [
    "##### Hispanic"
   ]
  },
  {
   "cell_type": "code",
   "execution_count": 531,
   "metadata": {
    "collapsed": false
   },
   "outputs": [],
   "source": [
    "var_hisp00 = vardict('hispanic','2000','SF3')"
   ]
  },
  {
   "cell_type": "code",
   "execution_count": 532,
   "metadata": {
    "collapsed": false
   },
   "outputs": [],
   "source": [
    "alameda_hisp00 = sf3(var_hisp00,CA,alameda,2000)\n",
    "hisp00 = tractfilter(alameda_hisp00,tracts00)"
   ]
  },
  {
   "cell_type": "code",
   "execution_count": 533,
   "metadata": {
    "collapsed": false
   },
   "outputs": [
    {
     "data": {
      "text/plain": [
       "Total                 34317\n",
       "Hispanic or Latino     3208\n",
       "county                    0\n",
       "state                     0\n",
       "tract                     0\n",
       "Name: Aggregate, dtype: object"
      ]
     },
     "execution_count": 533,
     "metadata": {},
     "output_type": "execute_result"
    }
   ],
   "source": [
    "agg(hisp00)"
   ]
  },
  {
   "cell_type": "markdown",
   "metadata": {},
   "source": [
    "##### Poverty"
   ]
  },
  {
   "cell_type": "code",
   "execution_count": 534,
   "metadata": {
    "collapsed": false
   },
   "outputs": [],
   "source": [
    "var_pov00 = vardict('poverty','2000','SF3')"
   ]
  },
  {
   "cell_type": "code",
   "execution_count": 535,
   "metadata": {
    "collapsed": false
   },
   "outputs": [],
   "source": [
    "alameda_pov00 = sf3(var_pov00,CA,alameda,2000)\n",
    "pov00 = tractfilter(alameda_pov00,tracts00)"
   ]
  },
  {
   "cell_type": "code",
   "execution_count": 536,
   "metadata": {
    "collapsed": false
   },
   "outputs": [
    {
     "data": {
      "text/plain": [
       "Total                                 33911\n",
       "Income in 1999 below poverty level     8316\n",
       "county                                    0\n",
       "state                                     0\n",
       "tract                                     0\n",
       "Name: Aggregate, dtype: object"
      ]
     },
     "execution_count": 536,
     "metadata": {},
     "output_type": "execute_result"
    }
   ],
   "source": [
    "agg(pov00)"
   ]
  },
  {
   "cell_type": "markdown",
   "metadata": {},
   "source": [
    "##### Income"
   ]
  },
  {
   "cell_type": "markdown",
   "metadata": {},
   "source": [
    "Income variable used from ACS is not comparable to 2000. If you want to look at this over time, need to find another comparable variable."
   ]
  },
  {
   "cell_type": "markdown",
   "metadata": {},
   "source": [
    "##### Education"
   ]
  },
  {
   "cell_type": "markdown",
   "metadata": {},
   "source": [
    "Same as above."
   ]
  },
  {
   "cell_type": "markdown",
   "metadata": {},
   "source": [
    "##### Tenure"
   ]
  },
  {
   "cell_type": "code",
   "execution_count": 537,
   "metadata": {
    "collapsed": false
   },
   "outputs": [],
   "source": [
    "var_tenure00 = vardict('tenure','2000','SF3')"
   ]
  },
  {
   "cell_type": "code",
   "execution_count": 538,
   "metadata": {
    "collapsed": false
   },
   "outputs": [],
   "source": [
    "alameda_tenure00 = sf3(var_tenure00,CA,alameda,2000)\n",
    "tenure00 = tractfilter(alameda_tenure00,tracts00)"
   ]
  },
  {
   "cell_type": "code",
   "execution_count": 539,
   "metadata": {
    "collapsed": false
   },
   "outputs": [
    {
     "data": {
      "text/plain": [
       "Total              16509\n",
       "Owner occupied      3891\n",
       "Renter occupied    12618\n",
       "county                 0\n",
       "state                  0\n",
       "tract                  0\n",
       "Name: Aggregate, dtype: object"
      ]
     },
     "execution_count": 539,
     "metadata": {},
     "output_type": "execute_result"
    }
   ],
   "source": [
    "agg(tenure00)"
   ]
  },
  {
   "cell_type": "markdown",
   "metadata": {},
   "source": [
    "##### Vehicles"
   ]
  },
  {
   "cell_type": "code",
   "execution_count": 540,
   "metadata": {
    "collapsed": false
   },
   "outputs": [],
   "source": [
    "var_veh00 = vardict(\"vehicles\",\"2000\",\"SF3\")"
   ]
  },
  {
   "cell_type": "code",
   "execution_count": 541,
   "metadata": {
    "collapsed": false
   },
   "outputs": [
    {
     "data": {
      "text/plain": [
       "9"
      ]
     },
     "execution_count": 541,
     "metadata": {},
     "output_type": "execute_result"
    }
   ],
   "source": [
    "alameda_vehicles00 = sf3(var_veh00,CA,alameda,2000)\n",
    "vehicles00 = tractfilter(alameda_vehicles00,tracts00)\n",
    "len(vehicles00)"
   ]
  },
  {
   "cell_type": "code",
   "execution_count": 542,
   "metadata": {
    "collapsed": false
   },
   "outputs": [
    {
     "data": {
      "text/html": [
       "<div style=\"max-height:1000px;max-width:1500px;overflow:auto;\">\n",
       "<table border=\"1\" class=\"dataframe\">\n",
       "  <thead>\n",
       "    <tr style=\"text-align: right;\">\n",
       "      <th></th>\n",
       "      <th>Total</th>\n",
       "      <th>Owner occupied</th>\n",
       "      <th>Owner-No vehicle available</th>\n",
       "      <th>Owner-1 vehicle available</th>\n",
       "      <th>Owner-2 vehicles available</th>\n",
       "      <th>Owner-3 vehicles available</th>\n",
       "      <th>Owner-4 vehicles available</th>\n",
       "      <th>Owner-5 or more vehicles available</th>\n",
       "      <th>Renter occupied</th>\n",
       "      <th>Renter-No vehicle available</th>\n",
       "      <th>Renter-1 vehicle available</th>\n",
       "      <th>Renter-2 vehicles available</th>\n",
       "      <th>Renter-3 vehicles available</th>\n",
       "      <th>Renter-4 vehicles available</th>\n",
       "      <th>Renter-5 or more vehicles available</th>\n",
       "      <th>county</th>\n",
       "      <th>state</th>\n",
       "      <th>tract</th>\n",
       "    </tr>\n",
       "    <tr>\n",
       "      <th>tract</th>\n",
       "      <th></th>\n",
       "      <th></th>\n",
       "      <th></th>\n",
       "      <th></th>\n",
       "      <th></th>\n",
       "      <th></th>\n",
       "      <th></th>\n",
       "      <th></th>\n",
       "      <th></th>\n",
       "      <th></th>\n",
       "      <th></th>\n",
       "      <th></th>\n",
       "      <th></th>\n",
       "      <th></th>\n",
       "      <th></th>\n",
       "      <th></th>\n",
       "      <th></th>\n",
       "      <th></th>\n",
       "    </tr>\n",
       "  </thead>\n",
       "  <tbody>\n",
       "    <tr>\n",
       "      <th>401000</th>\n",
       "      <td> 2299</td>\n",
       "      <td> 738</td>\n",
       "      <td> 122</td>\n",
       "      <td> 368</td>\n",
       "      <td> 167</td>\n",
       "      <td> 61</td>\n",
       "      <td> 20</td>\n",
       "      <td> 0</td>\n",
       "      <td> 1561</td>\n",
       "      <td> 535</td>\n",
       "      <td>  755</td>\n",
       "      <td> 201</td>\n",
       "      <td> 27</td>\n",
       "      <td> 36</td>\n",
       "      <td>  7</td>\n",
       "      <td> 1</td>\n",
       "      <td> 6</td>\n",
       "      <td> 401000</td>\n",
       "    </tr>\n",
       "    <tr>\n",
       "      <th>401100</th>\n",
       "      <td> 1941</td>\n",
       "      <td> 354</td>\n",
       "      <td>  50</td>\n",
       "      <td> 151</td>\n",
       "      <td> 108</td>\n",
       "      <td> 39</td>\n",
       "      <td>  0</td>\n",
       "      <td> 6</td>\n",
       "      <td> 1587</td>\n",
       "      <td> 443</td>\n",
       "      <td>  844</td>\n",
       "      <td> 268</td>\n",
       "      <td> 20</td>\n",
       "      <td> 12</td>\n",
       "      <td>  0</td>\n",
       "      <td> 1</td>\n",
       "      <td> 6</td>\n",
       "      <td> 401100</td>\n",
       "    </tr>\n",
       "    <tr>\n",
       "      <th>401200</th>\n",
       "      <td> 1183</td>\n",
       "      <td> 389</td>\n",
       "      <td>  27</td>\n",
       "      <td> 177</td>\n",
       "      <td> 110</td>\n",
       "      <td> 75</td>\n",
       "      <td>  0</td>\n",
       "      <td> 0</td>\n",
       "      <td>  794</td>\n",
       "      <td> 107</td>\n",
       "      <td>  503</td>\n",
       "      <td> 134</td>\n",
       "      <td> 37</td>\n",
       "      <td>  0</td>\n",
       "      <td> 13</td>\n",
       "      <td> 1</td>\n",
       "      <td> 6</td>\n",
       "      <td> 401200</td>\n",
       "    </tr>\n",
       "    <tr>\n",
       "      <th>401300</th>\n",
       "      <td> 1362</td>\n",
       "      <td>  60</td>\n",
       "      <td>   0</td>\n",
       "      <td>  24</td>\n",
       "      <td>  22</td>\n",
       "      <td> 14</td>\n",
       "      <td>  0</td>\n",
       "      <td> 0</td>\n",
       "      <td> 1302</td>\n",
       "      <td> 638</td>\n",
       "      <td>  531</td>\n",
       "      <td> 108</td>\n",
       "      <td> 18</td>\n",
       "      <td>  0</td>\n",
       "      <td>  7</td>\n",
       "      <td> 1</td>\n",
       "      <td> 6</td>\n",
       "      <td> 401300</td>\n",
       "    </tr>\n",
       "    <tr>\n",
       "      <th>401400</th>\n",
       "      <td> 1488</td>\n",
       "      <td> 262</td>\n",
       "      <td>  32</td>\n",
       "      <td>  78</td>\n",
       "      <td> 114</td>\n",
       "      <td> 38</td>\n",
       "      <td>  0</td>\n",
       "      <td> 0</td>\n",
       "      <td> 1226</td>\n",
       "      <td> 480</td>\n",
       "      <td>  608</td>\n",
       "      <td> 113</td>\n",
       "      <td> 25</td>\n",
       "      <td>  0</td>\n",
       "      <td>  0</td>\n",
       "      <td> 1</td>\n",
       "      <td> 6</td>\n",
       "      <td> 401400</td>\n",
       "    </tr>\n",
       "    <tr>\n",
       "      <th>401500</th>\n",
       "      <td>  921</td>\n",
       "      <td> 202</td>\n",
       "      <td>  27</td>\n",
       "      <td>  94</td>\n",
       "      <td>  47</td>\n",
       "      <td> 26</td>\n",
       "      <td>  0</td>\n",
       "      <td> 8</td>\n",
       "      <td>  719</td>\n",
       "      <td> 345</td>\n",
       "      <td>  243</td>\n",
       "      <td>  95</td>\n",
       "      <td> 31</td>\n",
       "      <td>  5</td>\n",
       "      <td>  0</td>\n",
       "      <td> 1</td>\n",
       "      <td> 6</td>\n",
       "      <td> 401500</td>\n",
       "    </tr>\n",
       "    <tr>\n",
       "      <th>403900</th>\n",
       "      <td> 2178</td>\n",
       "      <td> 643</td>\n",
       "      <td>  62</td>\n",
       "      <td> 373</td>\n",
       "      <td> 135</td>\n",
       "      <td> 64</td>\n",
       "      <td>  9</td>\n",
       "      <td> 0</td>\n",
       "      <td> 1535</td>\n",
       "      <td> 213</td>\n",
       "      <td>  996</td>\n",
       "      <td> 303</td>\n",
       "      <td> 18</td>\n",
       "      <td>  5</td>\n",
       "      <td>  0</td>\n",
       "      <td> 1</td>\n",
       "      <td> 6</td>\n",
       "      <td> 403900</td>\n",
       "    </tr>\n",
       "    <tr>\n",
       "      <th>404000</th>\n",
       "      <td> 1781</td>\n",
       "      <td> 417</td>\n",
       "      <td>  20</td>\n",
       "      <td> 251</td>\n",
       "      <td> 115</td>\n",
       "      <td> 31</td>\n",
       "      <td>  0</td>\n",
       "      <td> 0</td>\n",
       "      <td> 1364</td>\n",
       "      <td> 182</td>\n",
       "      <td>  869</td>\n",
       "      <td> 299</td>\n",
       "      <td> 14</td>\n",
       "      <td>  0</td>\n",
       "      <td>  0</td>\n",
       "      <td> 1</td>\n",
       "      <td> 6</td>\n",
       "      <td> 404000</td>\n",
       "    </tr>\n",
       "    <tr>\n",
       "      <th>404100</th>\n",
       "      <td> 3356</td>\n",
       "      <td> 826</td>\n",
       "      <td>  68</td>\n",
       "      <td> 392</td>\n",
       "      <td> 302</td>\n",
       "      <td> 44</td>\n",
       "      <td> 20</td>\n",
       "      <td> 0</td>\n",
       "      <td> 2530</td>\n",
       "      <td> 723</td>\n",
       "      <td> 1414</td>\n",
       "      <td> 340</td>\n",
       "      <td> 37</td>\n",
       "      <td>  9</td>\n",
       "      <td>  7</td>\n",
       "      <td> 1</td>\n",
       "      <td> 6</td>\n",
       "      <td> 404100</td>\n",
       "    </tr>\n",
       "  </tbody>\n",
       "</table>\n",
       "</div>"
      ],
      "text/plain": [
       "        Total  Owner occupied  Owner-No vehicle available  \\\n",
       "tract                                                       \n",
       "401000   2299             738                         122   \n",
       "401100   1941             354                          50   \n",
       "401200   1183             389                          27   \n",
       "401300   1362              60                           0   \n",
       "401400   1488             262                          32   \n",
       "401500    921             202                          27   \n",
       "403900   2178             643                          62   \n",
       "404000   1781             417                          20   \n",
       "404100   3356             826                          68   \n",
       "\n",
       "        Owner-1 vehicle available  Owner-2 vehicles available  \\\n",
       "tract                                                           \n",
       "401000                        368                         167   \n",
       "401100                        151                         108   \n",
       "401200                        177                         110   \n",
       "401300                         24                          22   \n",
       "401400                         78                         114   \n",
       "401500                         94                          47   \n",
       "403900                        373                         135   \n",
       "404000                        251                         115   \n",
       "404100                        392                         302   \n",
       "\n",
       "        Owner-3 vehicles available  Owner-4 vehicles available  \\\n",
       "tract                                                            \n",
       "401000                          61                          20   \n",
       "401100                          39                           0   \n",
       "401200                          75                           0   \n",
       "401300                          14                           0   \n",
       "401400                          38                           0   \n",
       "401500                          26                           0   \n",
       "403900                          64                           9   \n",
       "404000                          31                           0   \n",
       "404100                          44                          20   \n",
       "\n",
       "        Owner-5 or more vehicles available  Renter occupied  \\\n",
       "tract                                                         \n",
       "401000                                   0             1561   \n",
       "401100                                   6             1587   \n",
       "401200                                   0              794   \n",
       "401300                                   0             1302   \n",
       "401400                                   0             1226   \n",
       "401500                                   8              719   \n",
       "403900                                   0             1535   \n",
       "404000                                   0             1364   \n",
       "404100                                   0             2530   \n",
       "\n",
       "        Renter-No vehicle available  Renter-1 vehicle available  \\\n",
       "tract                                                             \n",
       "401000                          535                         755   \n",
       "401100                          443                         844   \n",
       "401200                          107                         503   \n",
       "401300                          638                         531   \n",
       "401400                          480                         608   \n",
       "401500                          345                         243   \n",
       "403900                          213                         996   \n",
       "404000                          182                         869   \n",
       "404100                          723                        1414   \n",
       "\n",
       "        Renter-2 vehicles available  Renter-3 vehicles available  \\\n",
       "tract                                                              \n",
       "401000                          201                           27   \n",
       "401100                          268                           20   \n",
       "401200                          134                           37   \n",
       "401300                          108                           18   \n",
       "401400                          113                           25   \n",
       "401500                           95                           31   \n",
       "403900                          303                           18   \n",
       "404000                          299                           14   \n",
       "404100                          340                           37   \n",
       "\n",
       "        Renter-4 vehicles available  Renter-5 or more vehicles available  \\\n",
       "tract                                                                      \n",
       "401000                           36                                    7   \n",
       "401100                           12                                    0   \n",
       "401200                            0                                   13   \n",
       "401300                            0                                    7   \n",
       "401400                            0                                    0   \n",
       "401500                            5                                    0   \n",
       "403900                            5                                    0   \n",
       "404000                            0                                    0   \n",
       "404100                            9                                    7   \n",
       "\n",
       "       county state   tract  \n",
       "tract                        \n",
       "401000      1     6  401000  \n",
       "401100      1     6  401100  \n",
       "401200      1     6  401200  \n",
       "401300      1     6  401300  \n",
       "401400      1     6  401400  \n",
       "401500      1     6  401500  \n",
       "403900      1     6  403900  \n",
       "404000      1     6  404000  \n",
       "404100      1     6  404100  "
      ]
     },
     "execution_count": 542,
     "metadata": {},
     "output_type": "execute_result"
    }
   ],
   "source": [
    "vehicles00"
   ]
  },
  {
   "cell_type": "code",
   "execution_count": 543,
   "metadata": {
    "collapsed": false
   },
   "outputs": [
    {
     "data": {
      "text/html": [
       "<div style=\"max-height:1000px;max-width:1500px;overflow:auto;\">\n",
       "<table border=\"1\" class=\"dataframe\">\n",
       "  <thead>\n",
       "    <tr style=\"text-align: right;\">\n",
       "      <th></th>\n",
       "      <th>new</th>\n",
       "      <th>old</th>\n",
       "    </tr>\n",
       "  </thead>\n",
       "  <tbody>\n",
       "    <tr>\n",
       "      <th>0 </th>\n",
       "      <td>                Total (Estimate)</td>\n",
       "      <td>                               Total</td>\n",
       "    </tr>\n",
       "    <tr>\n",
       "      <th>1 </th>\n",
       "      <td>           No Vehicle (Estimate)</td>\n",
       "      <td>          Owner-No vehicle available</td>\n",
       "    </tr>\n",
       "    <tr>\n",
       "      <th>2 </th>\n",
       "      <td>          One Vehicle (Estimate)</td>\n",
       "      <td>           Owner-1 vehicle available</td>\n",
       "    </tr>\n",
       "    <tr>\n",
       "      <th>3 </th>\n",
       "      <td> Two or More Vehicles (Estimate)</td>\n",
       "      <td>          Owner-2 vehicles available</td>\n",
       "    </tr>\n",
       "    <tr>\n",
       "      <th>4 </th>\n",
       "      <td> Two or More Vehicles (Estimate)</td>\n",
       "      <td>          Owner-3 vehicles available</td>\n",
       "    </tr>\n",
       "    <tr>\n",
       "      <th>5 </th>\n",
       "      <td> Two or More Vehicles (Estimate)</td>\n",
       "      <td>          Owner-4 vehicles available</td>\n",
       "    </tr>\n",
       "    <tr>\n",
       "      <th>6 </th>\n",
       "      <td> Two or More Vehicles (Estimate)</td>\n",
       "      <td>  Owner-5 or more vehicles available</td>\n",
       "    </tr>\n",
       "    <tr>\n",
       "      <th>7 </th>\n",
       "      <td>           No Vehicle (Estimate)</td>\n",
       "      <td>         Renter-No vehicle available</td>\n",
       "    </tr>\n",
       "    <tr>\n",
       "      <th>8 </th>\n",
       "      <td>          One Vehicle (Estimate)</td>\n",
       "      <td>          Renter-1 vehicle available</td>\n",
       "    </tr>\n",
       "    <tr>\n",
       "      <th>9 </th>\n",
       "      <td> Two or More Vehicles (Estimate)</td>\n",
       "      <td>         Renter-2 vehicles available</td>\n",
       "    </tr>\n",
       "    <tr>\n",
       "      <th>10</th>\n",
       "      <td> Two or More Vehicles (Estimate)</td>\n",
       "      <td>         Renter-3 vehicles available</td>\n",
       "    </tr>\n",
       "    <tr>\n",
       "      <th>11</th>\n",
       "      <td> Two or More Vehicles (Estimate)</td>\n",
       "      <td>         Renter-4 vehicles available</td>\n",
       "    </tr>\n",
       "    <tr>\n",
       "      <th>12</th>\n",
       "      <td> Two or More Vehicles (Estimate)</td>\n",
       "      <td> Renter-5 or more vehicles available</td>\n",
       "    </tr>\n",
       "  </tbody>\n",
       "</table>\n",
       "</div>"
      ],
      "text/plain": [
       "                                new                                  old\n",
       "0                  Total (Estimate)                                Total\n",
       "1             No Vehicle (Estimate)           Owner-No vehicle available\n",
       "2            One Vehicle (Estimate)            Owner-1 vehicle available\n",
       "3   Two or More Vehicles (Estimate)           Owner-2 vehicles available\n",
       "4   Two or More Vehicles (Estimate)           Owner-3 vehicles available\n",
       "5   Two or More Vehicles (Estimate)           Owner-4 vehicles available\n",
       "6   Two or More Vehicles (Estimate)   Owner-5 or more vehicles available\n",
       "7             No Vehicle (Estimate)          Renter-No vehicle available\n",
       "8            One Vehicle (Estimate)           Renter-1 vehicle available\n",
       "9   Two or More Vehicles (Estimate)          Renter-2 vehicles available\n",
       "10  Two or More Vehicles (Estimate)          Renter-3 vehicles available\n",
       "11  Two or More Vehicles (Estimate)          Renter-4 vehicles available\n",
       "12  Two or More Vehicles (Estimate)  Renter-5 or more vehicles available"
      ]
     },
     "execution_count": 543,
     "metadata": {},
     "output_type": "execute_result"
    }
   ],
   "source": [
    "vehkey00"
   ]
  },
  {
   "cell_type": "code",
   "execution_count": 544,
   "metadata": {
    "collapsed": false
   },
   "outputs": [],
   "source": [
    "vehicles00_clean = collapse(vehicles00,vehkey00)"
   ]
  },
  {
   "cell_type": "code",
   "execution_count": 545,
   "metadata": {
    "collapsed": false
   },
   "outputs": [
    {
     "data": {
      "text/html": [
       "<div style=\"max-height:1000px;max-width:1500px;overflow:auto;\">\n",
       "<table border=\"1\" class=\"dataframe\">\n",
       "  <thead>\n",
       "    <tr style=\"text-align: right;\">\n",
       "      <th></th>\n",
       "      <th>Total (Estimate)</th>\n",
       "      <th>No Vehicle (Estimate)</th>\n",
       "      <th>One Vehicle (Estimate)</th>\n",
       "      <th>Two or More Vehicles (Estimate)</th>\n",
       "    </tr>\n",
       "    <tr>\n",
       "      <th>tract</th>\n",
       "      <th></th>\n",
       "      <th></th>\n",
       "      <th></th>\n",
       "      <th></th>\n",
       "    </tr>\n",
       "  </thead>\n",
       "  <tbody>\n",
       "    <tr>\n",
       "      <th>401000</th>\n",
       "      <td> 2299</td>\n",
       "      <td> 657</td>\n",
       "      <td> 1123</td>\n",
       "      <td> 519</td>\n",
       "    </tr>\n",
       "    <tr>\n",
       "      <th>401100</th>\n",
       "      <td> 1941</td>\n",
       "      <td> 493</td>\n",
       "      <td>  995</td>\n",
       "      <td> 453</td>\n",
       "    </tr>\n",
       "    <tr>\n",
       "      <th>401200</th>\n",
       "      <td> 1183</td>\n",
       "      <td> 134</td>\n",
       "      <td>  680</td>\n",
       "      <td> 369</td>\n",
       "    </tr>\n",
       "    <tr>\n",
       "      <th>401300</th>\n",
       "      <td> 1362</td>\n",
       "      <td> 638</td>\n",
       "      <td>  555</td>\n",
       "      <td> 169</td>\n",
       "    </tr>\n",
       "    <tr>\n",
       "      <th>401400</th>\n",
       "      <td> 1488</td>\n",
       "      <td> 512</td>\n",
       "      <td>  686</td>\n",
       "      <td> 290</td>\n",
       "    </tr>\n",
       "    <tr>\n",
       "      <th>401500</th>\n",
       "      <td>  921</td>\n",
       "      <td> 372</td>\n",
       "      <td>  337</td>\n",
       "      <td> 212</td>\n",
       "    </tr>\n",
       "    <tr>\n",
       "      <th>403900</th>\n",
       "      <td> 2178</td>\n",
       "      <td> 275</td>\n",
       "      <td> 1369</td>\n",
       "      <td> 534</td>\n",
       "    </tr>\n",
       "    <tr>\n",
       "      <th>404000</th>\n",
       "      <td> 1781</td>\n",
       "      <td> 202</td>\n",
       "      <td> 1120</td>\n",
       "      <td> 459</td>\n",
       "    </tr>\n",
       "    <tr>\n",
       "      <th>404100</th>\n",
       "      <td> 3356</td>\n",
       "      <td> 791</td>\n",
       "      <td> 1806</td>\n",
       "      <td> 759</td>\n",
       "    </tr>\n",
       "  </tbody>\n",
       "</table>\n",
       "</div>"
      ],
      "text/plain": [
       "        Total (Estimate)  No Vehicle (Estimate)  One Vehicle (Estimate)  \\\n",
       "tract                                                                     \n",
       "401000              2299                    657                    1123   \n",
       "401100              1941                    493                     995   \n",
       "401200              1183                    134                     680   \n",
       "401300              1362                    638                     555   \n",
       "401400              1488                    512                     686   \n",
       "401500               921                    372                     337   \n",
       "403900              2178                    275                    1369   \n",
       "404000              1781                    202                    1120   \n",
       "404100              3356                    791                    1806   \n",
       "\n",
       "        Two or More Vehicles (Estimate)  \n",
       "tract                                    \n",
       "401000                              519  \n",
       "401100                              453  \n",
       "401200                              369  \n",
       "401300                              169  \n",
       "401400                              290  \n",
       "401500                              212  \n",
       "403900                              534  \n",
       "404000                              459  \n",
       "404100                              759  "
      ]
     },
     "execution_count": 545,
     "metadata": {},
     "output_type": "execute_result"
    }
   ],
   "source": [
    "vehicles00_clean"
   ]
  },
  {
   "cell_type": "code",
   "execution_count": 546,
   "metadata": {
    "collapsed": false
   },
   "outputs": [
    {
     "data": {
      "text/plain": [
       "Total (Estimate)                   16509\n",
       "No Vehicle (Estimate)               4074\n",
       "One Vehicle (Estimate)              8671\n",
       "Two or More Vehicles (Estimate)     3764\n",
       "Name: Aggregate, dtype: float64"
      ]
     },
     "execution_count": 546,
     "metadata": {},
     "output_type": "execute_result"
    }
   ],
   "source": [
    "agg(vehicles00_clean)"
   ]
  },
  {
   "cell_type": "markdown",
   "metadata": {},
   "source": [
    "# Alameda County Descriptives"
   ]
  },
  {
   "cell_type": "markdown",
   "metadata": {},
   "source": [
    "##### 2008-2010 ACS"
   ]
  },
  {
   "cell_type": "code",
   "execution_count": 547,
   "metadata": {
    "collapsed": false
   },
   "outputs": [
    {
     "data": {
      "text/plain": [
       "Population (Estimate)           1515136\n",
       "Population (MOE)               8006.224\n",
       "Total Households (Estimate)      539179\n",
       "Total Households (MOE)         1804.844\n",
       "county                                0\n",
       "state                                 0\n",
       "tract                                 0\n",
       "Name: Aggregate, dtype: object"
      ]
     },
     "execution_count": 547,
     "metadata": {},
     "output_type": "execute_result"
    }
   ],
   "source": [
    "agg(alameda_basic10)"
   ]
  },
  {
   "cell_type": "code",
   "execution_count": 548,
   "metadata": {
    "collapsed": false
   },
   "outputs": [],
   "source": [
    "alameda_age10E_clean = collapse(alameda_age10E,agekey)\n",
    "alameda_age10M_clean = collapseMOE(alameda_age10M,agekey)"
   ]
  },
  {
   "cell_type": "code",
   "execution_count": 549,
   "metadata": {
    "collapsed": false
   },
   "outputs": [],
   "source": [
    "alameda_age10_clean = concatenate_dataframes(alameda_age10E_clean, alameda_age10M_clean)"
   ]
  },
  {
   "cell_type": "code",
   "execution_count": 550,
   "metadata": {
    "collapsed": false
   },
   "outputs": [
    {
     "data": {
      "text/plain": [
       "Under 18 (Estimate)       340863.000000\n",
       "18 to 34 (Estimate)       379251.000000\n",
       "35 to 49 (Estimate)       169705.000000\n",
       "50 to 64 (Estimate)       413842.000000\n",
       "65 and over (Estimate)    211475.000000\n",
       "Under 18 (MOE)              4231.550661\n",
       "18 to 34 (MOE)              4699.308885\n",
       "35 to 49 (MOE)              2798.284474\n",
       "50 to 64 (MOE)              4112.038910\n",
       "65 and over (MOE)           2866.296042\n",
       "Name: Aggregate, dtype: float64"
      ]
     },
     "execution_count": 550,
     "metadata": {},
     "output_type": "execute_result"
    }
   ],
   "source": [
    "agg(alameda_age10_clean)"
   ]
  },
  {
   "cell_type": "code",
   "execution_count": 551,
   "metadata": {
    "collapsed": false
   },
   "outputs": [
    {
     "data": {
      "text/plain": [
       "Total (Estimate)                                                1515136\n",
       "Total (MOE)                                                    8006.224\n",
       "Not Hispanic Or Latino (Estimate)                               1175695\n",
       "Not Hispanic Or Latino (MOE)                                   7171.967\n",
       "White Alone (Estimate)                                           516580\n",
       "White Alone (MOE)                                               5082.89\n",
       "Black Or African American Alone (Estimate)                       181711\n",
       "Black Or African American Alone (MOE)                          4279.047\n",
       "American Indian And Alaska Native Alone (Estimate)                 4318\n",
       "American Indian And Alaska Native Alone (MOE)                  596.8434\n",
       "Asian Alone (Estimate)                                           397475\n",
       "Asian Alone (MOE)                                              5498.328\n",
       "Native Hawaiian And Other Pacific Islander Alone (Estimate)       12442\n",
       "Native Hawaiian And Other Pacific Islander Alone (MOE)         1565.156\n",
       "Some Other Race Alone (Estimate)                                   5419\n",
       "Some Other Race Alone (MOE)                                    892.5816\n",
       "Two Or More Races (Estimate)                                      57750\n",
       "Two Or More Races (MOE)                                        2436.683\n",
       "Hispanic Or Latino (Estimate)                                    339441\n",
       "Hispanic Or Latino (MOE)                                       6502.227\n",
       "county                                                                0\n",
       "state                                                                 0\n",
       "tract                                                                 0\n",
       "Name: Aggregate, dtype: object"
      ]
     },
     "execution_count": 551,
     "metadata": {},
     "output_type": "execute_result"
    }
   ],
   "source": [
    "agg(alameda_racehisp10)"
   ]
  },
  {
   "cell_type": "code",
   "execution_count": 552,
   "metadata": {
    "collapsed": false
   },
   "outputs": [
    {
     "data": {
      "text/plain": [
       "Total (Estimate)                                                1487888\n",
       "Total (MOE)                                                    7903.535\n",
       "Income In The Past 12 Months Below Poverty Level (Estimate)      178897\n",
       "Income In The Past 12 Months Below Poverty Level (MOE)         5093.676\n",
       "county                                                                0\n",
       "state                                                                 0\n",
       "tract                                                                 0\n",
       "Name: Aggregate, dtype: object"
      ]
     },
     "execution_count": 552,
     "metadata": {},
     "output_type": "execute_result"
    }
   ],
   "source": [
    "agg(alameda_pov10)"
   ]
  },
  {
   "cell_type": "code",
   "execution_count": 553,
   "metadata": {
    "collapsed": false
   },
   "outputs": [
    {
     "data": {
      "text/plain": [
       "Total (Estimate)                                        1025190\n",
       "Total (MOE)                                            5269.772\n",
       "No Schooling Completed (Estimate)                         21320\n",
       "No Schooling Completed (MOE)                           1233.279\n",
       "Nursery School (Estimate)                                   144\n",
       "Nursery School (MOE)                                   280.2749\n",
       "Kindergarten (Estimate)                                     264\n",
       "Kindergarten (MOE)                                     289.3475\n",
       "1st Grade (Estimate)                                       1134\n",
       "1st Grade (MOE)                                        381.6648\n",
       "2nd Grade (Estimate)                                       2396\n",
       "2nd Grade (MOE)                                        450.2066\n",
       "3rd Grade (Estimate)                                       4280\n",
       "3rd Grade (MOE)                                         558.541\n",
       "4th Grade (Estimate)                                       3718\n",
       "4th Grade (MOE)                                        550.6996\n",
       "5th Grade (Estimate)                                       5161\n",
       "5th Grade (MOE)                                        656.5173\n",
       "6th Grade (Estimate)                                      22480\n",
       "6th Grade (MOE)                                        1313.044\n",
       "7th Grade (Estimate)                                       4648\n",
       "7th Grade (MOE)                                        550.9492\n",
       "8th Grade (Estimate)                                      11034\n",
       "8th Grade (MOE)                                         864.985\n",
       "9th Grade (Estimate)                                      14745\n",
       "9th Grade (MOE)                                         1052.93\n",
       "10th Grade (Estimate)                                     13487\n",
       "10th Grade (MOE)                                       889.6218\n",
       "11th Grade (Estimate)                                     16099\n",
       "11th Grade (MOE)                                       968.0393\n",
       "12th Grade, No Diploma (Estimate)                         20492\n",
       "12th Grade, No Diploma (MOE)                           1048.514\n",
       "Regular High School Diploma (Estimate)                   183121\n",
       "Regular High School Diploma (MOE)                      3486.833\n",
       "GED Or Alternative Credential (Estimate)                  16511\n",
       "GED Or Alternative Credential (MOE)                    894.2651\n",
       "Some College, Less Than 1 Year (Estimate)                 45980\n",
       "Some College, Less Than 1 Year (MOE)                   1454.815\n",
       "Some College, 1 Or More Years, No Degree (Estimate)      146937\n",
       "Some College, 1 Or More Years, No Degree (MOE)         2803.707\n",
       "Associate's Degree (Estimate)                             69629\n",
       "Associate's Degree (MOE)                               1891.725\n",
       "Bachelor's Degree (Estimate)                             249246\n",
       "Bachelor's Degree (MOE)                                3397.831\n",
       "Master's Degree (Estimate)                               116816\n",
       "Master's Degree (MOE)                                  2289.172\n",
       "Professional School Degree (Estimate)                     27561\n",
       "Professional School Degree (MOE)                       1080.951\n",
       "Doctorate Degree (Estimate)                               27987\n",
       "Doctorate Degree (MOE)                                  1120.76\n",
       "county                                                        0\n",
       "state                                                         0\n",
       "tract                                                         0\n",
       "Name: Aggregate, Length: 53, dtype: object"
      ]
     },
     "execution_count": 553,
     "metadata": {},
     "output_type": "execute_result"
    }
   ],
   "source": [
    "agg(alameda_education10)"
   ]
  },
  {
   "cell_type": "code",
   "execution_count": 554,
   "metadata": {
    "collapsed": false
   },
   "outputs": [
    {
     "data": {
      "text/plain": [
       "Total (Estimate)                     539179\n",
       "Total (MOE)                        1804.844\n",
       "Less Than $10,000 (Estimate)          27962\n",
       "Less Than $10,000 (MOE)            1143.973\n",
       "$10,000 To $14,999 (Estimate)         26522\n",
       "$10,000 To $14,999 (MOE)           1093.781\n",
       "$15,000 To $19,999 (Estimate)         21832\n",
       "$15,000 To $19,999 (MOE)            1003.02\n",
       "$20,000 To $24,999 (Estimate)         22214\n",
       "$20,000 To $24,999 (MOE)            1027.74\n",
       "$25,000 To $29,999 (Estimate)         20072\n",
       "$25,000 To $29,999 (MOE)           970.7945\n",
       "$30,000 To $34,999 (Estimate)         18978\n",
       "$30,000 To $34,999 (MOE)           953.3452\n",
       "$35,000 To $39,999 (Estimate)         18817\n",
       "$35,000 To $39,999 (MOE)           949.0622\n",
       "$40,000 To $44,999 (Estimate)         19120\n",
       "$40,000 To $44,999 (MOE)           960.9729\n",
       "$45,000 To $49,999 (Estimate)         18315\n",
       "$45,000 To $49,999 (MOE)           942.9793\n",
       "$50,000 To $59,999 (Estimate)         37308\n",
       "$50,000 To $59,999 (MOE)           1318.479\n",
       "$60,000 To $74,999 (Estimate)         49422\n",
       "$60,000 To $74,999 (MOE)           1478.465\n",
       "$75,000 To $99,999 (Estimate)         64887\n",
       "$75,000 To $99,999 (MOE)           1632.463\n",
       "$100,000 To $124,999 (Estimate)       55174\n",
       "$100,000 To $124,999 (MOE)         1524.435\n",
       "$125,000 To $149,999 (Estimate)       37958\n",
       "$125,000 To $149,999 (MOE)         1253.348\n",
       "$150,000 To $199,999 (Estimate)       47990\n",
       "$150,000 To $199,999 (MOE)         1374.267\n",
       "$200,000 Or More (Estimate)           52608\n",
       "$200,000 Or More (MOE)             1254.841\n",
       "county                                    0\n",
       "state                                     0\n",
       "tract                                     0\n",
       "Name: Aggregate, dtype: object"
      ]
     },
     "execution_count": 554,
     "metadata": {},
     "output_type": "execute_result"
    }
   ],
   "source": [
    "agg(alameda_hhincome10)"
   ]
  },
  {
   "cell_type": "code",
   "execution_count": 555,
   "metadata": {
    "collapsed": false
   },
   "outputs": [
    {
     "data": {
      "text/plain": [
       "Total (Estimate)                539179\n",
       "Total (MOE)                   1804.844\n",
       "Owner Occupied (Estimate)       289758\n",
       "Owner Occupied (MOE)          2104.572\n",
       "Renter Occupied (Estimate)      249421\n",
       "Renter Occupied (MOE)         2284.463\n",
       "county                               0\n",
       "state                                0\n",
       "tract                                0\n",
       "Name: Aggregate, dtype: object"
      ]
     },
     "execution_count": 555,
     "metadata": {},
     "output_type": "execute_result"
    }
   ],
   "source": [
    "agg(alameda_tenure10)"
   ]
  },
  {
   "cell_type": "code",
   "execution_count": 556,
   "metadata": {
    "collapsed": false
   },
   "outputs": [
    {
     "data": {
      "text/plain": [
       "Workers (Estimate)      693960\n",
       "Workers (MOE)         5055.298\n",
       "Car (Estimate)          527826\n",
       "Car (MOE)             4553.893\n",
       "Transit (Estimate)       82417\n",
       "Transit (MOE)         2178.467\n",
       "Taxi (Estimate)            301\n",
       "Taxi (MOE)            295.8209\n",
       "Bicycle (Estimate)       11945\n",
       "Bicycle (MOE)          821.624\n",
       "Walked (Estimate)        26202\n",
       "Walked (MOE)          1308.204\n",
       "county                       0\n",
       "state                        0\n",
       "tract                        0\n",
       "Name: Aggregate, dtype: object"
      ]
     },
     "execution_count": 556,
     "metadata": {},
     "output_type": "execute_result"
    }
   ],
   "source": [
    "agg(alameda_mode10)"
   ]
  },
  {
   "cell_type": "code",
   "execution_count": 566,
   "metadata": {
    "collapsed": false
   },
   "outputs": [],
   "source": [
    "alameda_vehicles10E_clean = collapse(alameda_vehicles10E,vehkey10)\n",
    "alameda_vehicles10M_clean = collapseMOE(alameda_vehicles10M,vehkey10)"
   ]
  },
  {
   "cell_type": "code",
   "execution_count": 570,
   "metadata": {
    "collapsed": false
   },
   "outputs": [],
   "source": [
    "alameda_vehicles10_clean = concatenate_dataframes(alameda_vehicles10E_clean,alameda_vehicles10M_clean)"
   ]
  },
  {
   "cell_type": "code",
   "execution_count": 571,
   "metadata": {
    "collapsed": false
   },
   "outputs": [
    {
     "data": {
      "text/plain": [
       "Total (Estimate)                   539179.000000\n",
       "No Vehicle (Estimate)               56414.000000\n",
       "One Vehicle (Estimate)             182022.000000\n",
       "Two or More Vehicles (Estimate)    300743.000000\n",
       "Total (MOE)                          1804.844315\n",
       "No Vehicle (MOE)                     1509.853966\n",
       "One Vehicle (MOE)                    2559.597429\n",
       "Two or More Vehicles (MOE)           3305.458365\n",
       "Name: Aggregate, dtype: float64"
      ]
     },
     "execution_count": 571,
     "metadata": {},
     "output_type": "execute_result"
    }
   ],
   "source": [
    "agg(alameda_vehicles10_clean)"
   ]
  },
  {
   "cell_type": "markdown",
   "metadata": {},
   "source": [
    "##### 2000 Census SF3"
   ]
  },
  {
   "cell_type": "code",
   "execution_count": 557,
   "metadata": {
    "collapsed": false
   },
   "outputs": [
    {
     "data": {
      "text/plain": [
       "Population    1443741\n",
       "Households     523366\n",
       "county              0\n",
       "state               0\n",
       "tract               0\n",
       "Name: Aggregate, dtype: object"
      ]
     },
     "execution_count": 557,
     "metadata": {},
     "output_type": "execute_result"
    }
   ],
   "source": [
    "agg(alameda_basic00)"
   ]
  },
  {
   "cell_type": "code",
   "execution_count": 558,
   "metadata": {
    "collapsed": false
   },
   "outputs": [],
   "source": [
    "alameda_age00 = concatenate_dataframes(alameda_age00_1,alameda_age00_2)"
   ]
  },
  {
   "cell_type": "code",
   "execution_count": 559,
   "metadata": {
    "collapsed": false
   },
   "outputs": [],
   "source": [
    "alameda_age00_clean = collapse(alameda_age00,agekeys00)"
   ]
  },
  {
   "cell_type": "code",
   "execution_count": 560,
   "metadata": {
    "collapsed": false
   },
   "outputs": [
    {
     "data": {
      "text/plain": [
       "Total          1443741\n",
       "Under 18        353460\n",
       "18 to 34        374751\n",
       "35 to 49        364049\n",
       "50 to 64        203818\n",
       "65 and over     147663\n",
       "Name: Aggregate, dtype: float64"
      ]
     },
     "execution_count": 560,
     "metadata": {},
     "output_type": "execute_result"
    }
   ],
   "source": [
    "agg(alameda_age00_clean)"
   ]
  },
  {
   "cell_type": "code",
   "execution_count": 561,
   "metadata": {
    "collapsed": false
   },
   "outputs": [
    {
     "data": {
      "text/plain": [
       "Total                                               1443741\n",
       "Not Hispanic or Latino                              1169854\n",
       "White alone                                          589243\n",
       "Black or African American alone                      208559\n",
       "American Indian and Alaska Native alone                5548\n",
       "Asian alone                                          291493\n",
       "Native Hawaiian and Other Pacific Islander alone       8729\n",
       "Some other race alone                                  4319\n",
       "Two or more races                                     61963\n",
       "Hispanic or Latino                                   273887\n",
       "county                                                    0\n",
       "state                                                     0\n",
       "tract                                                     0\n",
       "Name: Aggregate, dtype: object"
      ]
     },
     "execution_count": 561,
     "metadata": {},
     "output_type": "execute_result"
    }
   ],
   "source": [
    "agg(alameda_racehisp00)"
   ]
  },
  {
   "cell_type": "code",
   "execution_count": 562,
   "metadata": {
    "collapsed": false
   },
   "outputs": [
    {
     "data": {
      "text/plain": [
       "Total                                 1419998\n",
       "Income in 1999 below poverty level     156804\n",
       "county                                      0\n",
       "state                                       0\n",
       "tract                                       0\n",
       "Name: Aggregate, dtype: object"
      ]
     },
     "execution_count": 562,
     "metadata": {},
     "output_type": "execute_result"
    }
   ],
   "source": [
    "agg(alameda_pov00)"
   ]
  },
  {
   "cell_type": "code",
   "execution_count": 563,
   "metadata": {
    "collapsed": false
   },
   "outputs": [
    {
     "data": {
      "text/plain": [
       "Total              523366\n",
       "Owner occupied     286306\n",
       "Renter occupied    237060\n",
       "county                  0\n",
       "state                   0\n",
       "tract                   0\n",
       "Name: Aggregate, dtype: object"
      ]
     },
     "execution_count": 563,
     "metadata": {},
     "output_type": "execute_result"
    }
   ],
   "source": [
    "agg(alameda_tenure00)"
   ]
  },
  {
   "cell_type": "code",
   "execution_count": 564,
   "metadata": {
    "collapsed": false
   },
   "outputs": [
    {
     "data": {
      "text/plain": [
       "Total                    678910\n",
       "Car, truck, or van       544148\n",
       "Public transportation     72174\n",
       "Bicycle                    8385\n",
       "Walked                    21919\n",
       "county                        0\n",
       "state                         0\n",
       "tract                         0\n",
       "Name: Aggregate, dtype: object"
      ]
     },
     "execution_count": 564,
     "metadata": {},
     "output_type": "execute_result"
    }
   ],
   "source": [
    "agg(alameda_commute00)"
   ]
  },
  {
   "cell_type": "code",
   "execution_count": 572,
   "metadata": {
    "collapsed": false
   },
   "outputs": [],
   "source": [
    "alameda_vehicles00_clean = collapse(alameda_vehicles00,vehkey00)"
   ]
  },
  {
   "cell_type": "code",
   "execution_count": 573,
   "metadata": {
    "collapsed": false
   },
   "outputs": [
    {
     "data": {
      "text/plain": [
       "Total (Estimate)                   523366\n",
       "No Vehicle (Estimate)               57287\n",
       "One Vehicle (Estimate)             182586\n",
       "Two or More Vehicles (Estimate)    283493\n",
       "Name: Aggregate, dtype: float64"
      ]
     },
     "execution_count": 573,
     "metadata": {},
     "output_type": "execute_result"
    }
   ],
   "source": [
    "agg(alameda_vehicles00_clean)"
   ]
  }
 ],
 "metadata": {
  "kernelspec": {
   "display_name": "Python 2",
   "language": "python",
   "name": "python2"
  },
  "language_info": {
   "codemirror_mode": {
    "name": "ipython",
    "version": 2
   },
   "file_extension": ".py",
   "mimetype": "text/x-python",
   "name": "python",
   "nbconvert_exporter": "python",
   "pygments_lexer": "ipython2",
   "version": "2.7.7"
  }
 },
 "nbformat": 4,
 "nbformat_minor": 0
}
