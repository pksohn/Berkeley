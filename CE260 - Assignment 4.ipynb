{
 "cells": [
  {
   "cell_type": "markdown",
   "metadata": {},
   "source": [
    "## Assignment 4\n",
    "CE 260: Air Transportation  \n",
    "Paul Sohn  \n",
    "5/3/2016"
   ]
  },
  {
   "cell_type": "code",
   "execution_count": 1,
   "metadata": {
    "collapsed": true
   },
   "outputs": [],
   "source": [
    "% matplotlib inline\n",
    "import numpy as np, pandas as pd, matplotlib\n",
    "from matplotlib import pyplot as plt"
   ]
  },
  {
   "cell_type": "markdown",
   "metadata": {},
   "source": [
    "## Data Preparation\n",
    "The first steps before we get started on the problems are:\n",
    "* Bring in the schedule data and subset to the time period we are interested in (7am to 12pm)\n",
    "* Calculate the probabilities of various types of aircraft\n",
    "* Bring in performance data\n",
    "* Copy IFR and VFR separation standards from lecture slides and Table 1"
   ]
  },
  {
   "cell_type": "code",
   "execution_count": 2,
   "metadata": {
    "collapsed": false
   },
   "outputs": [
    {
     "name": "stdout",
     "output_type": "stream",
     "text": [
      "1001\n",
      "306\n"
     ]
    }
   ],
   "source": [
    "# Import schedule\n",
    "\n",
    "sched = pd.read_csv(\"schedule.csv\")\n",
    "\n",
    "# Subset to between 7am and 12pm\n",
    "\n",
    "print(len(sched))    # check counts before\n",
    "sc = sched[(sched[\"Arrival Time 2\"] >= 7) & (sched[\"Arrival Time 2\"] <= 12)]\n",
    "print(len(sc))    # check counts after"
   ]
  },
  {
   "cell_type": "code",
   "execution_count": 3,
   "metadata": {
    "collapsed": false
   },
   "outputs": [],
   "source": [
    "# Add performance data to schedule \n",
    "\n",
    "pf = pd.read_csv(\"performance.csv\") # Read in performance dataset\n",
    "sc = sc.merge(pf,on=\"EQP\",how=\"left\") # Merge performance variables into schedule"
   ]
  },
  {
   "cell_type": "code",
   "execution_count": 4,
   "metadata": {
    "collapsed": false,
    "scrolled": true
   },
   "outputs": [
    {
     "data": {
      "text/html": [
       "<div>\n",
       "<table border=\"1\" class=\"dataframe\">\n",
       "  <thead>\n",
       "    <tr style=\"text-align: right;\">\n",
       "      <th></th>\n",
       "      <th>CAR</th>\n",
       "      <th>FLNO</th>\n",
       "      <th>EQP</th>\n",
       "      <th>SEATS</th>\n",
       "      <th>ORIGIN</th>\n",
       "      <th>Arrival Time 2</th>\n",
       "      <th>Arrival Time 1</th>\n",
       "      <th>MTOW (000 lbs)</th>\n",
       "      <th>ASPEEDF (kts)</th>\n",
       "      <th>TYPE</th>\n",
       "      <th>Class</th>\n",
       "    </tr>\n",
       "  </thead>\n",
       "  <tbody>\n",
       "    <tr>\n",
       "      <th>0</th>\n",
       "      <td>A1</td>\n",
       "      <td>3319</td>\n",
       "      <td>SF3</td>\n",
       "      <td>33</td>\n",
       "      <td>SBP</td>\n",
       "      <td>7.08</td>\n",
       "      <td>7:05</td>\n",
       "      <td>29.0</td>\n",
       "      <td>120</td>\n",
       "      <td>Saab A340</td>\n",
       "      <td>L</td>\n",
       "    </tr>\n",
       "    <tr>\n",
       "      <th>1</th>\n",
       "      <td>A1</td>\n",
       "      <td>3286</td>\n",
       "      <td>SF3</td>\n",
       "      <td>33</td>\n",
       "      <td>FAT</td>\n",
       "      <td>7.25</td>\n",
       "      <td>7:15</td>\n",
       "      <td>29.0</td>\n",
       "      <td>120</td>\n",
       "      <td>Saab A340</td>\n",
       "      <td>L</td>\n",
       "    </tr>\n",
       "    <tr>\n",
       "      <th>2</th>\n",
       "      <td>A1</td>\n",
       "      <td>3345</td>\n",
       "      <td>SF3</td>\n",
       "      <td>33</td>\n",
       "      <td>MRY</td>\n",
       "      <td>7.25</td>\n",
       "      <td>7:15</td>\n",
       "      <td>29.0</td>\n",
       "      <td>120</td>\n",
       "      <td>Saab A340</td>\n",
       "      <td>L</td>\n",
       "    </tr>\n",
       "    <tr>\n",
       "      <th>3</th>\n",
       "      <td>A1</td>\n",
       "      <td>3212</td>\n",
       "      <td>SF3</td>\n",
       "      <td>33</td>\n",
       "      <td>SAN</td>\n",
       "      <td>7.50</td>\n",
       "      <td>7:30</td>\n",
       "      <td>29.0</td>\n",
       "      <td>120</td>\n",
       "      <td>Saab A340</td>\n",
       "      <td>L</td>\n",
       "    </tr>\n",
       "    <tr>\n",
       "      <th>4</th>\n",
       "      <td>A1</td>\n",
       "      <td>3386</td>\n",
       "      <td>SF3</td>\n",
       "      <td>33</td>\n",
       "      <td>CLD</td>\n",
       "      <td>7.50</td>\n",
       "      <td>7:30</td>\n",
       "      <td>29.0</td>\n",
       "      <td>120</td>\n",
       "      <td>Saab A340</td>\n",
       "      <td>L</td>\n",
       "    </tr>\n",
       "  </tbody>\n",
       "</table>\n",
       "</div>"
      ],
      "text/plain": [
       "  CAR  FLNO  EQP  SEATS ORIGIN  Arrival Time 2 Arrival Time 1  MTOW (000 lbs)  \\\n",
       "0  A1  3319  SF3     33    SBP            7.08           7:05            29.0   \n",
       "1  A1  3286  SF3     33    FAT            7.25           7:15            29.0   \n",
       "2  A1  3345  SF3     33    MRY            7.25           7:15            29.0   \n",
       "3  A1  3212  SF3     33    SAN            7.50           7:30            29.0   \n",
       "4  A1  3386  SF3     33    CLD            7.50           7:30            29.0   \n",
       "\n",
       "   ASPEEDF (kts)       TYPE Class  \n",
       "0            120  Saab A340     L  \n",
       "1            120  Saab A340     L  \n",
       "2            120  Saab A340     L  \n",
       "3            120  Saab A340     L  \n",
       "4            120  Saab A340     L  "
      ]
     },
     "execution_count": 4,
     "metadata": {},
     "output_type": "execute_result"
    }
   ],
   "source": [
    "# Check the schedule dataset\n",
    "\n",
    "sc.head()"
   ]
  },
  {
   "cell_type": "code",
   "execution_count": 5,
   "metadata": {
    "collapsed": false
   },
   "outputs": [
    {
     "data": {
      "text/html": [
       "<div>\n",
       "<table border=\"1\" class=\"dataframe\">\n",
       "  <thead>\n",
       "    <tr style=\"text-align: right;\">\n",
       "      <th></th>\n",
       "      <th>EQP</th>\n",
       "      <th>MTOW (000 lbs)</th>\n",
       "      <th>ASPEEDF (kts)</th>\n",
       "      <th>TYPE</th>\n",
       "      <th>Class</th>\n",
       "    </tr>\n",
       "  </thead>\n",
       "  <tbody>\n",
       "    <tr>\n",
       "      <th>0</th>\n",
       "      <td>EM2</td>\n",
       "      <td>25.4</td>\n",
       "      <td>113</td>\n",
       "      <td>Embraer 120</td>\n",
       "      <td>S</td>\n",
       "    </tr>\n",
       "    <tr>\n",
       "      <th>1</th>\n",
       "      <td>J31</td>\n",
       "      <td>16.0</td>\n",
       "      <td>112</td>\n",
       "      <td>Jetstream Super31</td>\n",
       "      <td>S</td>\n",
       "    </tr>\n",
       "    <tr>\n",
       "      <th>2</th>\n",
       "      <td>146</td>\n",
       "      <td>95.0</td>\n",
       "      <td>121</td>\n",
       "      <td>BAe 146</td>\n",
       "      <td>L</td>\n",
       "    </tr>\n",
       "    <tr>\n",
       "      <th>3</th>\n",
       "      <td>319</td>\n",
       "      <td>141.1</td>\n",
       "      <td>139</td>\n",
       "      <td>Airbus 319</td>\n",
       "      <td>L</td>\n",
       "    </tr>\n",
       "    <tr>\n",
       "      <th>4</th>\n",
       "      <td>320</td>\n",
       "      <td>162.0</td>\n",
       "      <td>139</td>\n",
       "      <td>Airbus 320</td>\n",
       "      <td>L</td>\n",
       "    </tr>\n",
       "  </tbody>\n",
       "</table>\n",
       "</div>"
      ],
      "text/plain": [
       "   EQP  MTOW (000 lbs)  ASPEEDF (kts)               TYPE Class\n",
       "0  EM2            25.4            113        Embraer 120     S\n",
       "1  J31            16.0            112  Jetstream Super31     S\n",
       "2  146            95.0            121            BAe 146     L\n",
       "3  319           141.1            139         Airbus 319     L\n",
       "4  320           162.0            139         Airbus 320     L"
      ]
     },
     "execution_count": 5,
     "metadata": {},
     "output_type": "execute_result"
    }
   ],
   "source": [
    "# Check the performance dataset\n",
    "\n",
    "pf.head()"
   ]
  },
  {
   "cell_type": "code",
   "execution_count": 6,
   "metadata": {
    "collapsed": false
   },
   "outputs": [
    {
     "name": "stderr",
     "output_type": "stream",
     "text": [
      "C:\\Users\\pksohn\\Anaconda\\envs\\ipykernel_py3\\lib\\site-packages\\ipykernel\\__main__.py:3: SettingWithCopyWarning: \n",
      "A value is trying to be set on a copy of a slice from a DataFrame\n",
      "\n",
      "See the caveats in the documentation: http://pandas.pydata.org/pandas-docs/stable/indexing.html#indexing-view-versus-copy\n",
      "  app.launch_new_instance()\n",
      "C:\\Users\\pksohn\\Anaconda\\envs\\ipykernel_py3\\lib\\site-packages\\ipykernel\\__main__.py:4: SettingWithCopyWarning: \n",
      "A value is trying to be set on a copy of a slice from a DataFrame\n",
      "\n",
      "See the caveats in the documentation: http://pandas.pydata.org/pandas-docs/stable/indexing.html#indexing-view-versus-copy\n"
     ]
    }
   ],
   "source": [
    "# Assign Boeing 757 as different class in schedule and performance datasets\n",
    "\n",
    "sc[\"Class\"][sc.TYPE == \"Boeing 757\"] = \"B\"\n",
    "pf[\"Class\"][pf.TYPE == \"Boeing 757\"] = \"B\""
   ]
  },
  {
   "cell_type": "code",
   "execution_count": 7,
   "metadata": {
    "collapsed": false
   },
   "outputs": [
    {
     "data": {
      "text/plain": [
       "Class\n",
       "B    0.078431\n",
       "H    0.153595\n",
       "L    0.480392\n",
       "S    0.287582\n",
       "Name: TYPE, dtype: float64"
      ]
     },
     "execution_count": 7,
     "metadata": {},
     "output_type": "execute_result"
    }
   ],
   "source": [
    "# Calculate probabilities of different classes in time subset\n",
    "\n",
    "probs = sc.groupby(\"Class\").count()[\"TYPE\"] / len(sc)\n",
    "probs"
   ]
  },
  {
   "cell_type": "code",
   "execution_count": 8,
   "metadata": {
    "collapsed": false
   },
   "outputs": [],
   "source": [
    "# Create a starting dataframe with all combinations of lead and trail aircraft\n",
    "\n",
    "lead = probs.index.tolist() * 4\n",
    "trail = (probs.index.tolist() * 4)\n",
    "trail.sort()\n",
    "\n",
    "ref = pd.DataFrame(data=[lead,trail], index=[\"lead\",\"trail\"] ).T"
   ]
  },
  {
   "cell_type": "code",
   "execution_count": 9,
   "metadata": {
    "collapsed": true
   },
   "outputs": [],
   "source": [
    "# Add IFR and VFR separation standards\n",
    "\n",
    "# IMPORTANT! \n",
    "# IFR IS IN MINUTES\n",
    "# VFR IS IN NAUTICAL MILES\n",
    "\n",
    "sp = pd.read_csv(\"separation.csv\")\n",
    "ref = ref.merge(sp,on=[\"lead\",\"trail\"],how=\"left\")"
   ]
  },
  {
   "cell_type": "code",
   "execution_count": 10,
   "metadata": {
    "collapsed": false
   },
   "outputs": [
    {
     "data": {
      "text/html": [
       "<div>\n",
       "<table border=\"1\" class=\"dataframe\">\n",
       "  <thead>\n",
       "    <tr style=\"text-align: right;\">\n",
       "      <th></th>\n",
       "      <th>lead</th>\n",
       "      <th>trail</th>\n",
       "      <th>ifr</th>\n",
       "      <th>vfr</th>\n",
       "    </tr>\n",
       "  </thead>\n",
       "  <tbody>\n",
       "    <tr>\n",
       "      <th>0</th>\n",
       "      <td>B</td>\n",
       "      <td>B</td>\n",
       "      <td>2.00</td>\n",
       "      <td>3.6</td>\n",
       "    </tr>\n",
       "    <tr>\n",
       "      <th>1</th>\n",
       "      <td>H</td>\n",
       "      <td>B</td>\n",
       "      <td>2.50</td>\n",
       "      <td>3.6</td>\n",
       "    </tr>\n",
       "    <tr>\n",
       "      <th>2</th>\n",
       "      <td>L</td>\n",
       "      <td>B</td>\n",
       "      <td>1.25</td>\n",
       "      <td>1.9</td>\n",
       "    </tr>\n",
       "    <tr>\n",
       "      <th>3</th>\n",
       "      <td>S</td>\n",
       "      <td>B</td>\n",
       "      <td>1.25</td>\n",
       "      <td>1.9</td>\n",
       "    </tr>\n",
       "    <tr>\n",
       "      <th>4</th>\n",
       "      <td>B</td>\n",
       "      <td>H</td>\n",
       "      <td>2.00</td>\n",
       "      <td>2.7</td>\n",
       "    </tr>\n",
       "    <tr>\n",
       "      <th>5</th>\n",
       "      <td>H</td>\n",
       "      <td>H</td>\n",
       "      <td>2.00</td>\n",
       "      <td>2.7</td>\n",
       "    </tr>\n",
       "    <tr>\n",
       "      <th>6</th>\n",
       "      <td>L</td>\n",
       "      <td>H</td>\n",
       "      <td>1.25</td>\n",
       "      <td>1.9</td>\n",
       "    </tr>\n",
       "    <tr>\n",
       "      <th>7</th>\n",
       "      <td>S</td>\n",
       "      <td>H</td>\n",
       "      <td>1.25</td>\n",
       "      <td>1.9</td>\n",
       "    </tr>\n",
       "    <tr>\n",
       "      <th>8</th>\n",
       "      <td>B</td>\n",
       "      <td>L</td>\n",
       "      <td>2.00</td>\n",
       "      <td>2.9</td>\n",
       "    </tr>\n",
       "    <tr>\n",
       "      <th>9</th>\n",
       "      <td>H</td>\n",
       "      <td>L</td>\n",
       "      <td>2.50</td>\n",
       "      <td>3.6</td>\n",
       "    </tr>\n",
       "    <tr>\n",
       "      <th>10</th>\n",
       "      <td>L</td>\n",
       "      <td>L</td>\n",
       "      <td>1.25</td>\n",
       "      <td>1.9</td>\n",
       "    </tr>\n",
       "    <tr>\n",
       "      <th>11</th>\n",
       "      <td>S</td>\n",
       "      <td>L</td>\n",
       "      <td>1.25</td>\n",
       "      <td>1.9</td>\n",
       "    </tr>\n",
       "    <tr>\n",
       "      <th>12</th>\n",
       "      <td>B</td>\n",
       "      <td>S</td>\n",
       "      <td>2.50</td>\n",
       "      <td>3.7</td>\n",
       "    </tr>\n",
       "    <tr>\n",
       "      <th>13</th>\n",
       "      <td>H</td>\n",
       "      <td>S</td>\n",
       "      <td>3.00</td>\n",
       "      <td>4.5</td>\n",
       "    </tr>\n",
       "    <tr>\n",
       "      <th>14</th>\n",
       "      <td>L</td>\n",
       "      <td>S</td>\n",
       "      <td>2.00</td>\n",
       "      <td>2.7</td>\n",
       "    </tr>\n",
       "    <tr>\n",
       "      <th>15</th>\n",
       "      <td>S</td>\n",
       "      <td>S</td>\n",
       "      <td>1.25</td>\n",
       "      <td>1.9</td>\n",
       "    </tr>\n",
       "  </tbody>\n",
       "</table>\n",
       "</div>"
      ],
      "text/plain": [
       "   lead trail   ifr  vfr\n",
       "0     B     B  2.00  3.6\n",
       "1     H     B  2.50  3.6\n",
       "2     L     B  1.25  1.9\n",
       "3     S     B  1.25  1.9\n",
       "4     B     H  2.00  2.7\n",
       "5     H     H  2.00  2.7\n",
       "6     L     H  1.25  1.9\n",
       "7     S     H  1.25  1.9\n",
       "8     B     L  2.00  2.9\n",
       "9     H     L  2.50  3.6\n",
       "10    L     L  1.25  1.9\n",
       "11    S     L  1.25  1.9\n",
       "12    B     S  2.50  3.7\n",
       "13    H     S  3.00  4.5\n",
       "14    L     S  2.00  2.7\n",
       "15    S     S  1.25  1.9"
      ]
     },
     "execution_count": 10,
     "metadata": {},
     "output_type": "execute_result"
    }
   ],
   "source": [
    "ref"
   ]
  },
  {
   "cell_type": "code",
   "execution_count": 11,
   "metadata": {
    "collapsed": false
   },
   "outputs": [],
   "source": [
    "# Calculate joint probabilities\n",
    "\n",
    "def joint(row):\n",
    "    \n",
    "    p_lead = probs[row[\"lead\"]]\n",
    "    p_trail = probs[row[\"trail\"]]\n",
    "    \n",
    "    return p_lead * p_trail\n",
    "\n",
    "ref[\"joint\"] = ref.apply(joint, axis = 1)"
   ]
  },
  {
   "cell_type": "code",
   "execution_count": 12,
   "metadata": {
    "collapsed": false
   },
   "outputs": [
    {
     "data": {
      "text/html": [
       "<div>\n",
       "<table border=\"1\" class=\"dataframe\">\n",
       "  <thead>\n",
       "    <tr style=\"text-align: right;\">\n",
       "      <th></th>\n",
       "      <th>lead</th>\n",
       "      <th>trail</th>\n",
       "      <th>ifr</th>\n",
       "      <th>vfr</th>\n",
       "      <th>joint</th>\n",
       "    </tr>\n",
       "  </thead>\n",
       "  <tbody>\n",
       "    <tr>\n",
       "      <th>0</th>\n",
       "      <td>B</td>\n",
       "      <td>B</td>\n",
       "      <td>2.00</td>\n",
       "      <td>3.6</td>\n",
       "      <td>0.006151</td>\n",
       "    </tr>\n",
       "    <tr>\n",
       "      <th>1</th>\n",
       "      <td>H</td>\n",
       "      <td>B</td>\n",
       "      <td>2.50</td>\n",
       "      <td>3.6</td>\n",
       "      <td>0.012047</td>\n",
       "    </tr>\n",
       "    <tr>\n",
       "      <th>2</th>\n",
       "      <td>L</td>\n",
       "      <td>B</td>\n",
       "      <td>1.25</td>\n",
       "      <td>1.9</td>\n",
       "      <td>0.037678</td>\n",
       "    </tr>\n",
       "    <tr>\n",
       "      <th>3</th>\n",
       "      <td>S</td>\n",
       "      <td>B</td>\n",
       "      <td>1.25</td>\n",
       "      <td>1.9</td>\n",
       "      <td>0.022555</td>\n",
       "    </tr>\n",
       "    <tr>\n",
       "      <th>4</th>\n",
       "      <td>B</td>\n",
       "      <td>H</td>\n",
       "      <td>2.00</td>\n",
       "      <td>2.7</td>\n",
       "      <td>0.012047</td>\n",
       "    </tr>\n",
       "    <tr>\n",
       "      <th>5</th>\n",
       "      <td>H</td>\n",
       "      <td>H</td>\n",
       "      <td>2.00</td>\n",
       "      <td>2.7</td>\n",
       "      <td>0.023591</td>\n",
       "    </tr>\n",
       "    <tr>\n",
       "      <th>6</th>\n",
       "      <td>L</td>\n",
       "      <td>H</td>\n",
       "      <td>1.25</td>\n",
       "      <td>1.9</td>\n",
       "      <td>0.073786</td>\n",
       "    </tr>\n",
       "    <tr>\n",
       "      <th>7</th>\n",
       "      <td>S</td>\n",
       "      <td>H</td>\n",
       "      <td>1.25</td>\n",
       "      <td>1.9</td>\n",
       "      <td>0.044171</td>\n",
       "    </tr>\n",
       "    <tr>\n",
       "      <th>8</th>\n",
       "      <td>B</td>\n",
       "      <td>L</td>\n",
       "      <td>2.00</td>\n",
       "      <td>2.9</td>\n",
       "      <td>0.037678</td>\n",
       "    </tr>\n",
       "    <tr>\n",
       "      <th>9</th>\n",
       "      <td>H</td>\n",
       "      <td>L</td>\n",
       "      <td>2.50</td>\n",
       "      <td>3.6</td>\n",
       "      <td>0.073786</td>\n",
       "    </tr>\n",
       "    <tr>\n",
       "      <th>10</th>\n",
       "      <td>L</td>\n",
       "      <td>L</td>\n",
       "      <td>1.25</td>\n",
       "      <td>1.9</td>\n",
       "      <td>0.230777</td>\n",
       "    </tr>\n",
       "    <tr>\n",
       "      <th>11</th>\n",
       "      <td>S</td>\n",
       "      <td>L</td>\n",
       "      <td>1.25</td>\n",
       "      <td>1.9</td>\n",
       "      <td>0.138152</td>\n",
       "    </tr>\n",
       "    <tr>\n",
       "      <th>12</th>\n",
       "      <td>B</td>\n",
       "      <td>S</td>\n",
       "      <td>2.50</td>\n",
       "      <td>3.7</td>\n",
       "      <td>0.022555</td>\n",
       "    </tr>\n",
       "    <tr>\n",
       "      <th>13</th>\n",
       "      <td>H</td>\n",
       "      <td>S</td>\n",
       "      <td>3.00</td>\n",
       "      <td>4.5</td>\n",
       "      <td>0.044171</td>\n",
       "    </tr>\n",
       "    <tr>\n",
       "      <th>14</th>\n",
       "      <td>L</td>\n",
       "      <td>S</td>\n",
       "      <td>2.00</td>\n",
       "      <td>2.7</td>\n",
       "      <td>0.138152</td>\n",
       "    </tr>\n",
       "    <tr>\n",
       "      <th>15</th>\n",
       "      <td>S</td>\n",
       "      <td>S</td>\n",
       "      <td>1.25</td>\n",
       "      <td>1.9</td>\n",
       "      <td>0.082703</td>\n",
       "    </tr>\n",
       "  </tbody>\n",
       "</table>\n",
       "</div>"
      ],
      "text/plain": [
       "   lead trail   ifr  vfr     joint\n",
       "0     B     B  2.00  3.6  0.006151\n",
       "1     H     B  2.50  3.6  0.012047\n",
       "2     L     B  1.25  1.9  0.037678\n",
       "3     S     B  1.25  1.9  0.022555\n",
       "4     B     H  2.00  2.7  0.012047\n",
       "5     H     H  2.00  2.7  0.023591\n",
       "6     L     H  1.25  1.9  0.073786\n",
       "7     S     H  1.25  1.9  0.044171\n",
       "8     B     L  2.00  2.9  0.037678\n",
       "9     H     L  2.50  3.6  0.073786\n",
       "10    L     L  1.25  1.9  0.230777\n",
       "11    S     L  1.25  1.9  0.138152\n",
       "12    B     S  2.50  3.7  0.022555\n",
       "13    H     S  3.00  4.5  0.044171\n",
       "14    L     S  2.00  2.7  0.138152\n",
       "15    S     S  1.25  1.9  0.082703"
      ]
     },
     "execution_count": 12,
     "metadata": {},
     "output_type": "execute_result"
    }
   ],
   "source": [
    "ref"
   ]
  },
  {
   "cell_type": "markdown",
   "metadata": {},
   "source": [
    "## Question 1"
   ]
  },
  {
   "cell_type": "markdown",
   "metadata": {},
   "source": [
    ">Estimate the IFR arrival capacity of a single runway at LAX under the following\n",
    ">assumptions:\n",
    ">* There is a 10nm final approach path; separations rules apply once both aircraft are on the flight path.\n",
    ">* The aircraft mix is based on flights scheduled to arrive between 7am and 12 noon.\n",
    ">* The order of arrival is random so that the probability of an aircraft of type i trailing an aircraft of type j is: ij i j P = >P ⋅ P .\n",
    ">* A 30 second buffer is added to the minimum IFR inter-arrival times to ensure that minima are not violated."
   ]
  },
  {
   "cell_type": "markdown",
   "metadata": {},
   "source": [
    "I drop the VFR separation requirements to begin the dataframe for this problem:"
   ]
  },
  {
   "cell_type": "code",
   "execution_count": 13,
   "metadata": {
    "collapsed": false
   },
   "outputs": [
    {
     "data": {
      "text/html": [
       "<div>\n",
       "<table border=\"1\" class=\"dataframe\">\n",
       "  <thead>\n",
       "    <tr style=\"text-align: right;\">\n",
       "      <th></th>\n",
       "      <th>lead</th>\n",
       "      <th>trail</th>\n",
       "      <th>ifr</th>\n",
       "      <th>joint</th>\n",
       "    </tr>\n",
       "  </thead>\n",
       "  <tbody>\n",
       "    <tr>\n",
       "      <th>0</th>\n",
       "      <td>B</td>\n",
       "      <td>B</td>\n",
       "      <td>2.00</td>\n",
       "      <td>0.006151</td>\n",
       "    </tr>\n",
       "    <tr>\n",
       "      <th>1</th>\n",
       "      <td>H</td>\n",
       "      <td>B</td>\n",
       "      <td>2.50</td>\n",
       "      <td>0.012047</td>\n",
       "    </tr>\n",
       "    <tr>\n",
       "      <th>2</th>\n",
       "      <td>L</td>\n",
       "      <td>B</td>\n",
       "      <td>1.25</td>\n",
       "      <td>0.037678</td>\n",
       "    </tr>\n",
       "    <tr>\n",
       "      <th>3</th>\n",
       "      <td>S</td>\n",
       "      <td>B</td>\n",
       "      <td>1.25</td>\n",
       "      <td>0.022555</td>\n",
       "    </tr>\n",
       "    <tr>\n",
       "      <th>4</th>\n",
       "      <td>B</td>\n",
       "      <td>H</td>\n",
       "      <td>2.00</td>\n",
       "      <td>0.012047</td>\n",
       "    </tr>\n",
       "    <tr>\n",
       "      <th>5</th>\n",
       "      <td>H</td>\n",
       "      <td>H</td>\n",
       "      <td>2.00</td>\n",
       "      <td>0.023591</td>\n",
       "    </tr>\n",
       "    <tr>\n",
       "      <th>6</th>\n",
       "      <td>L</td>\n",
       "      <td>H</td>\n",
       "      <td>1.25</td>\n",
       "      <td>0.073786</td>\n",
       "    </tr>\n",
       "    <tr>\n",
       "      <th>7</th>\n",
       "      <td>S</td>\n",
       "      <td>H</td>\n",
       "      <td>1.25</td>\n",
       "      <td>0.044171</td>\n",
       "    </tr>\n",
       "    <tr>\n",
       "      <th>8</th>\n",
       "      <td>B</td>\n",
       "      <td>L</td>\n",
       "      <td>2.00</td>\n",
       "      <td>0.037678</td>\n",
       "    </tr>\n",
       "    <tr>\n",
       "      <th>9</th>\n",
       "      <td>H</td>\n",
       "      <td>L</td>\n",
       "      <td>2.50</td>\n",
       "      <td>0.073786</td>\n",
       "    </tr>\n",
       "    <tr>\n",
       "      <th>10</th>\n",
       "      <td>L</td>\n",
       "      <td>L</td>\n",
       "      <td>1.25</td>\n",
       "      <td>0.230777</td>\n",
       "    </tr>\n",
       "    <tr>\n",
       "      <th>11</th>\n",
       "      <td>S</td>\n",
       "      <td>L</td>\n",
       "      <td>1.25</td>\n",
       "      <td>0.138152</td>\n",
       "    </tr>\n",
       "    <tr>\n",
       "      <th>12</th>\n",
       "      <td>B</td>\n",
       "      <td>S</td>\n",
       "      <td>2.50</td>\n",
       "      <td>0.022555</td>\n",
       "    </tr>\n",
       "    <tr>\n",
       "      <th>13</th>\n",
       "      <td>H</td>\n",
       "      <td>S</td>\n",
       "      <td>3.00</td>\n",
       "      <td>0.044171</td>\n",
       "    </tr>\n",
       "    <tr>\n",
       "      <th>14</th>\n",
       "      <td>L</td>\n",
       "      <td>S</td>\n",
       "      <td>2.00</td>\n",
       "      <td>0.138152</td>\n",
       "    </tr>\n",
       "    <tr>\n",
       "      <th>15</th>\n",
       "      <td>S</td>\n",
       "      <td>S</td>\n",
       "      <td>1.25</td>\n",
       "      <td>0.082703</td>\n",
       "    </tr>\n",
       "  </tbody>\n",
       "</table>\n",
       "</div>"
      ],
      "text/plain": [
       "   lead trail   ifr     joint\n",
       "0     B     B  2.00  0.006151\n",
       "1     H     B  2.50  0.012047\n",
       "2     L     B  1.25  0.037678\n",
       "3     S     B  1.25  0.022555\n",
       "4     B     H  2.00  0.012047\n",
       "5     H     H  2.00  0.023591\n",
       "6     L     H  1.25  0.073786\n",
       "7     S     H  1.25  0.044171\n",
       "8     B     L  2.00  0.037678\n",
       "9     H     L  2.50  0.073786\n",
       "10    L     L  1.25  0.230777\n",
       "11    S     L  1.25  0.138152\n",
       "12    B     S  2.50  0.022555\n",
       "13    H     S  3.00  0.044171\n",
       "14    L     S  2.00  0.138152\n",
       "15    S     S  1.25  0.082703"
      ]
     },
     "execution_count": 13,
     "metadata": {},
     "output_type": "execute_result"
    }
   ],
   "source": [
    "q1 = ref.drop(\"vfr\",axis=1)\n",
    "q1"
   ]
  },
  {
   "cell_type": "markdown",
   "metadata": {},
   "source": [
    "The joint probabilities are already calculated, so I now just need to aggregate the probabilities with separation time according to the formula:\n",
    "\n",
    "$$\n",
    "\\text{Capacity} = \\frac{60}{\\sum_{\\alpha' \\alpha} p_{\\alpha' \\alpha} \\tau_{\\alpha' \\alpha}}\n",
    "$$ \n",
    "\n",
    "I also add 30 seconds (0.5 minutes) to IFR time in each case in order to take the buffer into account."
   ]
  },
  {
   "cell_type": "code",
   "execution_count": 14,
   "metadata": {
    "collapsed": false
   },
   "outputs": [
    {
     "data": {
      "text/html": [
       "<div>\n",
       "<table border=\"1\" class=\"dataframe\">\n",
       "  <thead>\n",
       "    <tr style=\"text-align: right;\">\n",
       "      <th></th>\n",
       "      <th>lead</th>\n",
       "      <th>trail</th>\n",
       "      <th>ifr</th>\n",
       "      <th>joint</th>\n",
       "      <th>pt</th>\n",
       "    </tr>\n",
       "  </thead>\n",
       "  <tbody>\n",
       "    <tr>\n",
       "      <th>0</th>\n",
       "      <td>B</td>\n",
       "      <td>B</td>\n",
       "      <td>2.00</td>\n",
       "      <td>0.006151</td>\n",
       "      <td>0.015379</td>\n",
       "    </tr>\n",
       "    <tr>\n",
       "      <th>1</th>\n",
       "      <td>H</td>\n",
       "      <td>B</td>\n",
       "      <td>2.50</td>\n",
       "      <td>0.012047</td>\n",
       "      <td>0.036140</td>\n",
       "    </tr>\n",
       "    <tr>\n",
       "      <th>2</th>\n",
       "      <td>L</td>\n",
       "      <td>B</td>\n",
       "      <td>1.25</td>\n",
       "      <td>0.037678</td>\n",
       "      <td>0.065936</td>\n",
       "    </tr>\n",
       "    <tr>\n",
       "      <th>3</th>\n",
       "      <td>S</td>\n",
       "      <td>B</td>\n",
       "      <td>1.25</td>\n",
       "      <td>0.022555</td>\n",
       "      <td>0.039472</td>\n",
       "    </tr>\n",
       "    <tr>\n",
       "      <th>4</th>\n",
       "      <td>B</td>\n",
       "      <td>H</td>\n",
       "      <td>2.00</td>\n",
       "      <td>0.012047</td>\n",
       "      <td>0.030117</td>\n",
       "    </tr>\n",
       "    <tr>\n",
       "      <th>5</th>\n",
       "      <td>H</td>\n",
       "      <td>H</td>\n",
       "      <td>2.00</td>\n",
       "      <td>0.023591</td>\n",
       "      <td>0.058978</td>\n",
       "    </tr>\n",
       "    <tr>\n",
       "      <th>6</th>\n",
       "      <td>L</td>\n",
       "      <td>H</td>\n",
       "      <td>1.25</td>\n",
       "      <td>0.073786</td>\n",
       "      <td>0.129125</td>\n",
       "    </tr>\n",
       "    <tr>\n",
       "      <th>7</th>\n",
       "      <td>S</td>\n",
       "      <td>H</td>\n",
       "      <td>1.25</td>\n",
       "      <td>0.044171</td>\n",
       "      <td>0.077299</td>\n",
       "    </tr>\n",
       "    <tr>\n",
       "      <th>8</th>\n",
       "      <td>B</td>\n",
       "      <td>L</td>\n",
       "      <td>2.00</td>\n",
       "      <td>0.037678</td>\n",
       "      <td>0.094195</td>\n",
       "    </tr>\n",
       "    <tr>\n",
       "      <th>9</th>\n",
       "      <td>H</td>\n",
       "      <td>L</td>\n",
       "      <td>2.50</td>\n",
       "      <td>0.073786</td>\n",
       "      <td>0.221357</td>\n",
       "    </tr>\n",
       "    <tr>\n",
       "      <th>10</th>\n",
       "      <td>L</td>\n",
       "      <td>L</td>\n",
       "      <td>1.25</td>\n",
       "      <td>0.230777</td>\n",
       "      <td>0.403859</td>\n",
       "    </tr>\n",
       "    <tr>\n",
       "      <th>11</th>\n",
       "      <td>S</td>\n",
       "      <td>L</td>\n",
       "      <td>1.25</td>\n",
       "      <td>0.138152</td>\n",
       "      <td>0.241766</td>\n",
       "    </tr>\n",
       "    <tr>\n",
       "      <th>12</th>\n",
       "      <td>B</td>\n",
       "      <td>S</td>\n",
       "      <td>2.50</td>\n",
       "      <td>0.022555</td>\n",
       "      <td>0.067666</td>\n",
       "    </tr>\n",
       "    <tr>\n",
       "      <th>13</th>\n",
       "      <td>H</td>\n",
       "      <td>S</td>\n",
       "      <td>3.00</td>\n",
       "      <td>0.044171</td>\n",
       "      <td>0.154599</td>\n",
       "    </tr>\n",
       "    <tr>\n",
       "      <th>14</th>\n",
       "      <td>L</td>\n",
       "      <td>S</td>\n",
       "      <td>2.00</td>\n",
       "      <td>0.138152</td>\n",
       "      <td>0.345380</td>\n",
       "    </tr>\n",
       "    <tr>\n",
       "      <th>15</th>\n",
       "      <td>S</td>\n",
       "      <td>S</td>\n",
       "      <td>1.25</td>\n",
       "      <td>0.082703</td>\n",
       "      <td>0.144731</td>\n",
       "    </tr>\n",
       "  </tbody>\n",
       "</table>\n",
       "</div>"
      ],
      "text/plain": [
       "   lead trail   ifr     joint        pt\n",
       "0     B     B  2.00  0.006151  0.015379\n",
       "1     H     B  2.50  0.012047  0.036140\n",
       "2     L     B  1.25  0.037678  0.065936\n",
       "3     S     B  1.25  0.022555  0.039472\n",
       "4     B     H  2.00  0.012047  0.030117\n",
       "5     H     H  2.00  0.023591  0.058978\n",
       "6     L     H  1.25  0.073786  0.129125\n",
       "7     S     H  1.25  0.044171  0.077299\n",
       "8     B     L  2.00  0.037678  0.094195\n",
       "9     H     L  2.50  0.073786  0.221357\n",
       "10    L     L  1.25  0.230777  0.403859\n",
       "11    S     L  1.25  0.138152  0.241766\n",
       "12    B     S  2.50  0.022555  0.067666\n",
       "13    H     S  3.00  0.044171  0.154599\n",
       "14    L     S  2.00  0.138152  0.345380\n",
       "15    S     S  1.25  0.082703  0.144731"
      ]
     },
     "execution_count": 14,
     "metadata": {},
     "output_type": "execute_result"
    }
   ],
   "source": [
    "q1[\"pt\"] = (q1.ifr + 0.5) * q1.joint\n",
    "q1"
   ]
  },
  {
   "cell_type": "markdown",
   "metadata": {},
   "source": [
    "### Q1 Results"
   ]
  },
  {
   "cell_type": "code",
   "execution_count": 15,
   "metadata": {
    "collapsed": false
   },
   "outputs": [
    {
     "name": "stdout",
     "output_type": "stream",
     "text": [
      "Capacity for question 1 is: 28.22 aircraft per hour\n"
     ]
    }
   ],
   "source": [
    "q1_capacity = 60 / q1.pt.sum()\n",
    "print(\"Capacity for question 1 is:\", \"{:.2f}\".format(q1_capacity), \"aircraft per hour\")"
   ]
  },
  {
   "cell_type": "markdown",
   "metadata": {},
   "source": [
    "## Question 2"
   ]
  },
  {
   "cell_type": "markdown",
   "metadata": {},
   "source": [
    "> Repeat 1 using observed VFR separations (in NM) given in Table 1. In this case neglect buffers and assume that the separations > are derived from observations when the lead aircraft crosses the runway threshold.\n",
    "\n",
    "The first thing I have to do in this problem is find aircraft speeds in order to convert the VFR separation standards into time units (i.e. minutes). One simple approximation is to use average speeds for different types of aircraft. We will apply this to the trailing aircraft, since we are observing separation at the time when the lead aircraft hits the runway."
   ]
  },
  {
   "cell_type": "code",
   "execution_count": 16,
   "metadata": {
    "collapsed": false
   },
   "outputs": [
    {
     "data": {
      "text/plain": [
       "Class\n",
       "B    139.000000\n",
       "H    143.571429\n",
       "L    135.850000\n",
       "S    112.500000\n",
       "Name: ASPEEDF (kts), dtype: float64"
      ]
     },
     "execution_count": 16,
     "metadata": {},
     "output_type": "execute_result"
    }
   ],
   "source": [
    "# Get mean speeds by aircraft class\n",
    "\n",
    "speeds = pf.groupby(\"Class\").mean()[\"ASPEEDF (kts)\"]\n",
    "speeds"
   ]
  },
  {
   "cell_type": "code",
   "execution_count": 17,
   "metadata": {
    "collapsed": false
   },
   "outputs": [],
   "source": [
    "# Join to calculation dataframe\n",
    "q2 = ref.join(speeds,on=\"trail\")\n",
    "\n",
    "# Also, drop IFR columns for the purpose of this question\n",
    "q2 = q2.drop(\"ifr\",axis = 1)"
   ]
  },
  {
   "cell_type": "code",
   "execution_count": 18,
   "metadata": {
    "collapsed": false
   },
   "outputs": [
    {
     "data": {
      "text/html": [
       "<div>\n",
       "<table border=\"1\" class=\"dataframe\">\n",
       "  <thead>\n",
       "    <tr style=\"text-align: right;\">\n",
       "      <th></th>\n",
       "      <th>lead</th>\n",
       "      <th>trail</th>\n",
       "      <th>vfr</th>\n",
       "      <th>joint</th>\n",
       "      <th>ASPEEDF (kts)</th>\n",
       "    </tr>\n",
       "  </thead>\n",
       "  <tbody>\n",
       "    <tr>\n",
       "      <th>0</th>\n",
       "      <td>B</td>\n",
       "      <td>B</td>\n",
       "      <td>3.6</td>\n",
       "      <td>0.006151</td>\n",
       "      <td>139.000000</td>\n",
       "    </tr>\n",
       "    <tr>\n",
       "      <th>1</th>\n",
       "      <td>H</td>\n",
       "      <td>B</td>\n",
       "      <td>3.6</td>\n",
       "      <td>0.012047</td>\n",
       "      <td>139.000000</td>\n",
       "    </tr>\n",
       "    <tr>\n",
       "      <th>2</th>\n",
       "      <td>L</td>\n",
       "      <td>B</td>\n",
       "      <td>1.9</td>\n",
       "      <td>0.037678</td>\n",
       "      <td>139.000000</td>\n",
       "    </tr>\n",
       "    <tr>\n",
       "      <th>3</th>\n",
       "      <td>S</td>\n",
       "      <td>B</td>\n",
       "      <td>1.9</td>\n",
       "      <td>0.022555</td>\n",
       "      <td>139.000000</td>\n",
       "    </tr>\n",
       "    <tr>\n",
       "      <th>4</th>\n",
       "      <td>B</td>\n",
       "      <td>H</td>\n",
       "      <td>2.7</td>\n",
       "      <td>0.012047</td>\n",
       "      <td>143.571429</td>\n",
       "    </tr>\n",
       "    <tr>\n",
       "      <th>5</th>\n",
       "      <td>H</td>\n",
       "      <td>H</td>\n",
       "      <td>2.7</td>\n",
       "      <td>0.023591</td>\n",
       "      <td>143.571429</td>\n",
       "    </tr>\n",
       "    <tr>\n",
       "      <th>6</th>\n",
       "      <td>L</td>\n",
       "      <td>H</td>\n",
       "      <td>1.9</td>\n",
       "      <td>0.073786</td>\n",
       "      <td>143.571429</td>\n",
       "    </tr>\n",
       "    <tr>\n",
       "      <th>7</th>\n",
       "      <td>S</td>\n",
       "      <td>H</td>\n",
       "      <td>1.9</td>\n",
       "      <td>0.044171</td>\n",
       "      <td>143.571429</td>\n",
       "    </tr>\n",
       "    <tr>\n",
       "      <th>8</th>\n",
       "      <td>B</td>\n",
       "      <td>L</td>\n",
       "      <td>2.9</td>\n",
       "      <td>0.037678</td>\n",
       "      <td>135.850000</td>\n",
       "    </tr>\n",
       "    <tr>\n",
       "      <th>9</th>\n",
       "      <td>H</td>\n",
       "      <td>L</td>\n",
       "      <td>3.6</td>\n",
       "      <td>0.073786</td>\n",
       "      <td>135.850000</td>\n",
       "    </tr>\n",
       "    <tr>\n",
       "      <th>10</th>\n",
       "      <td>L</td>\n",
       "      <td>L</td>\n",
       "      <td>1.9</td>\n",
       "      <td>0.230777</td>\n",
       "      <td>135.850000</td>\n",
       "    </tr>\n",
       "    <tr>\n",
       "      <th>11</th>\n",
       "      <td>S</td>\n",
       "      <td>L</td>\n",
       "      <td>1.9</td>\n",
       "      <td>0.138152</td>\n",
       "      <td>135.850000</td>\n",
       "    </tr>\n",
       "    <tr>\n",
       "      <th>12</th>\n",
       "      <td>B</td>\n",
       "      <td>S</td>\n",
       "      <td>3.7</td>\n",
       "      <td>0.022555</td>\n",
       "      <td>112.500000</td>\n",
       "    </tr>\n",
       "    <tr>\n",
       "      <th>13</th>\n",
       "      <td>H</td>\n",
       "      <td>S</td>\n",
       "      <td>4.5</td>\n",
       "      <td>0.044171</td>\n",
       "      <td>112.500000</td>\n",
       "    </tr>\n",
       "    <tr>\n",
       "      <th>14</th>\n",
       "      <td>L</td>\n",
       "      <td>S</td>\n",
       "      <td>2.7</td>\n",
       "      <td>0.138152</td>\n",
       "      <td>112.500000</td>\n",
       "    </tr>\n",
       "    <tr>\n",
       "      <th>15</th>\n",
       "      <td>S</td>\n",
       "      <td>S</td>\n",
       "      <td>1.9</td>\n",
       "      <td>0.082703</td>\n",
       "      <td>112.500000</td>\n",
       "    </tr>\n",
       "  </tbody>\n",
       "</table>\n",
       "</div>"
      ],
      "text/plain": [
       "   lead trail  vfr     joint  ASPEEDF (kts)\n",
       "0     B     B  3.6  0.006151     139.000000\n",
       "1     H     B  3.6  0.012047     139.000000\n",
       "2     L     B  1.9  0.037678     139.000000\n",
       "3     S     B  1.9  0.022555     139.000000\n",
       "4     B     H  2.7  0.012047     143.571429\n",
       "5     H     H  2.7  0.023591     143.571429\n",
       "6     L     H  1.9  0.073786     143.571429\n",
       "7     S     H  1.9  0.044171     143.571429\n",
       "8     B     L  2.9  0.037678     135.850000\n",
       "9     H     L  3.6  0.073786     135.850000\n",
       "10    L     L  1.9  0.230777     135.850000\n",
       "11    S     L  1.9  0.138152     135.850000\n",
       "12    B     S  3.7  0.022555     112.500000\n",
       "13    H     S  4.5  0.044171     112.500000\n",
       "14    L     S  2.7  0.138152     112.500000\n",
       "15    S     S  1.9  0.082703     112.500000"
      ]
     },
     "execution_count": 18,
     "metadata": {},
     "output_type": "execute_result"
    }
   ],
   "source": [
    "q2"
   ]
  },
  {
   "cell_type": "markdown",
   "metadata": {},
   "source": [
    "Now I recalculate VFR into minutes using distance and speed:\n",
    "\n",
    "$$\n",
    "VFR_{minutes} = \\frac{VFR_{nmi}}{SPEED_{knots}} * 60 \n",
    "$$"
   ]
  },
  {
   "cell_type": "code",
   "execution_count": 19,
   "metadata": {
    "collapsed": false
   },
   "outputs": [
    {
     "data": {
      "text/html": [
       "<div>\n",
       "<table border=\"1\" class=\"dataframe\">\n",
       "  <thead>\n",
       "    <tr style=\"text-align: right;\">\n",
       "      <th></th>\n",
       "      <th>lead</th>\n",
       "      <th>trail</th>\n",
       "      <th>vfr</th>\n",
       "      <th>joint</th>\n",
       "      <th>ASPEEDF (kts)</th>\n",
       "      <th>vfr_min</th>\n",
       "    </tr>\n",
       "  </thead>\n",
       "  <tbody>\n",
       "    <tr>\n",
       "      <th>0</th>\n",
       "      <td>B</td>\n",
       "      <td>B</td>\n",
       "      <td>3.6</td>\n",
       "      <td>0.006151</td>\n",
       "      <td>139.000000</td>\n",
       "      <td>1.553957</td>\n",
       "    </tr>\n",
       "    <tr>\n",
       "      <th>1</th>\n",
       "      <td>H</td>\n",
       "      <td>B</td>\n",
       "      <td>3.6</td>\n",
       "      <td>0.012047</td>\n",
       "      <td>139.000000</td>\n",
       "      <td>1.553957</td>\n",
       "    </tr>\n",
       "    <tr>\n",
       "      <th>2</th>\n",
       "      <td>L</td>\n",
       "      <td>B</td>\n",
       "      <td>1.9</td>\n",
       "      <td>0.037678</td>\n",
       "      <td>139.000000</td>\n",
       "      <td>0.820144</td>\n",
       "    </tr>\n",
       "    <tr>\n",
       "      <th>3</th>\n",
       "      <td>S</td>\n",
       "      <td>B</td>\n",
       "      <td>1.9</td>\n",
       "      <td>0.022555</td>\n",
       "      <td>139.000000</td>\n",
       "      <td>0.820144</td>\n",
       "    </tr>\n",
       "    <tr>\n",
       "      <th>4</th>\n",
       "      <td>B</td>\n",
       "      <td>H</td>\n",
       "      <td>2.7</td>\n",
       "      <td>0.012047</td>\n",
       "      <td>143.571429</td>\n",
       "      <td>1.128358</td>\n",
       "    </tr>\n",
       "    <tr>\n",
       "      <th>5</th>\n",
       "      <td>H</td>\n",
       "      <td>H</td>\n",
       "      <td>2.7</td>\n",
       "      <td>0.023591</td>\n",
       "      <td>143.571429</td>\n",
       "      <td>1.128358</td>\n",
       "    </tr>\n",
       "    <tr>\n",
       "      <th>6</th>\n",
       "      <td>L</td>\n",
       "      <td>H</td>\n",
       "      <td>1.9</td>\n",
       "      <td>0.073786</td>\n",
       "      <td>143.571429</td>\n",
       "      <td>0.794030</td>\n",
       "    </tr>\n",
       "    <tr>\n",
       "      <th>7</th>\n",
       "      <td>S</td>\n",
       "      <td>H</td>\n",
       "      <td>1.9</td>\n",
       "      <td>0.044171</td>\n",
       "      <td>143.571429</td>\n",
       "      <td>0.794030</td>\n",
       "    </tr>\n",
       "    <tr>\n",
       "      <th>8</th>\n",
       "      <td>B</td>\n",
       "      <td>L</td>\n",
       "      <td>2.9</td>\n",
       "      <td>0.037678</td>\n",
       "      <td>135.850000</td>\n",
       "      <td>1.280824</td>\n",
       "    </tr>\n",
       "    <tr>\n",
       "      <th>9</th>\n",
       "      <td>H</td>\n",
       "      <td>L</td>\n",
       "      <td>3.6</td>\n",
       "      <td>0.073786</td>\n",
       "      <td>135.850000</td>\n",
       "      <td>1.589989</td>\n",
       "    </tr>\n",
       "    <tr>\n",
       "      <th>10</th>\n",
       "      <td>L</td>\n",
       "      <td>L</td>\n",
       "      <td>1.9</td>\n",
       "      <td>0.230777</td>\n",
       "      <td>135.850000</td>\n",
       "      <td>0.839161</td>\n",
       "    </tr>\n",
       "    <tr>\n",
       "      <th>11</th>\n",
       "      <td>S</td>\n",
       "      <td>L</td>\n",
       "      <td>1.9</td>\n",
       "      <td>0.138152</td>\n",
       "      <td>135.850000</td>\n",
       "      <td>0.839161</td>\n",
       "    </tr>\n",
       "    <tr>\n",
       "      <th>12</th>\n",
       "      <td>B</td>\n",
       "      <td>S</td>\n",
       "      <td>3.7</td>\n",
       "      <td>0.022555</td>\n",
       "      <td>112.500000</td>\n",
       "      <td>1.973333</td>\n",
       "    </tr>\n",
       "    <tr>\n",
       "      <th>13</th>\n",
       "      <td>H</td>\n",
       "      <td>S</td>\n",
       "      <td>4.5</td>\n",
       "      <td>0.044171</td>\n",
       "      <td>112.500000</td>\n",
       "      <td>2.400000</td>\n",
       "    </tr>\n",
       "    <tr>\n",
       "      <th>14</th>\n",
       "      <td>L</td>\n",
       "      <td>S</td>\n",
       "      <td>2.7</td>\n",
       "      <td>0.138152</td>\n",
       "      <td>112.500000</td>\n",
       "      <td>1.440000</td>\n",
       "    </tr>\n",
       "    <tr>\n",
       "      <th>15</th>\n",
       "      <td>S</td>\n",
       "      <td>S</td>\n",
       "      <td>1.9</td>\n",
       "      <td>0.082703</td>\n",
       "      <td>112.500000</td>\n",
       "      <td>1.013333</td>\n",
       "    </tr>\n",
       "  </tbody>\n",
       "</table>\n",
       "</div>"
      ],
      "text/plain": [
       "   lead trail  vfr     joint  ASPEEDF (kts)   vfr_min\n",
       "0     B     B  3.6  0.006151     139.000000  1.553957\n",
       "1     H     B  3.6  0.012047     139.000000  1.553957\n",
       "2     L     B  1.9  0.037678     139.000000  0.820144\n",
       "3     S     B  1.9  0.022555     139.000000  0.820144\n",
       "4     B     H  2.7  0.012047     143.571429  1.128358\n",
       "5     H     H  2.7  0.023591     143.571429  1.128358\n",
       "6     L     H  1.9  0.073786     143.571429  0.794030\n",
       "7     S     H  1.9  0.044171     143.571429  0.794030\n",
       "8     B     L  2.9  0.037678     135.850000  1.280824\n",
       "9     H     L  3.6  0.073786     135.850000  1.589989\n",
       "10    L     L  1.9  0.230777     135.850000  0.839161\n",
       "11    S     L  1.9  0.138152     135.850000  0.839161\n",
       "12    B     S  3.7  0.022555     112.500000  1.973333\n",
       "13    H     S  4.5  0.044171     112.500000  2.400000\n",
       "14    L     S  2.7  0.138152     112.500000  1.440000\n",
       "15    S     S  1.9  0.082703     112.500000  1.013333"
      ]
     },
     "execution_count": 19,
     "metadata": {},
     "output_type": "execute_result"
    }
   ],
   "source": [
    "q2[\"vfr_min\"] = (q2.vfr / q2[\"ASPEEDF (kts)\"]) * 60\n",
    "q2"
   ]
  },
  {
   "cell_type": "markdown",
   "metadata": {},
   "source": [
    "### Q2 Results\n",
    "\n",
    "Since there is no buffer, I now aggregate using the same formula:"
   ]
  },
  {
   "cell_type": "code",
   "execution_count": 20,
   "metadata": {
    "collapsed": false
   },
   "outputs": [
    {
     "name": "stdout",
     "output_type": "stream",
     "text": [
      "Capacity for question 2 is: 53.57 aircraft per hour\n"
     ]
    }
   ],
   "source": [
    "q2[\"pt\"] = (q2.vfr_min) * q2.joint\n",
    "q2_capacity = 60 / q2.pt.sum()\n",
    "print(\"Capacity for question 2 is:\", \"{:.2f}\".format(q2_capacity), \"aircraft per hour\")"
   ]
  },
  {
   "cell_type": "markdown",
   "metadata": {},
   "source": [
    "## Question 3\n",
    "\n",
    "> Repeat 2, but assume that TRACON controllers add a 15-second buffer in feeding traffic to LAX because of terminal airspace constraints.\n",
    "\n",
    "This is simple: I will just add 15 seconds (.25 minutes) to each VFR separation time."
   ]
  },
  {
   "cell_type": "code",
   "execution_count": 21,
   "metadata": {
    "collapsed": false
   },
   "outputs": [
    {
     "name": "stdout",
     "output_type": "stream",
     "text": [
      "Capacity for question 3 is: 43.80 aircraft per hour\n"
     ]
    }
   ],
   "source": [
    "q3 = q2.copy()\n",
    "\n",
    "# Add .25 minutes to VFR time\n",
    "q3[\"vfr_min\"] = (q3.vfr / q3[\"ASPEEDF (kts)\"]) * 60 + .25\n",
    "\n",
    "# Recalculate p*t and capacity\n",
    "q3[\"pt\"] = (q3.vfr_min) * q3.joint\n",
    "q3_capacity = 60 / q3.pt.sum()\n",
    "print(\"Capacity for question 3 is:\", \"{:.2f}\".format(q3_capacity), \"aircraft per hour\")"
   ]
  },
  {
   "cell_type": "markdown",
   "metadata": {},
   "source": [
    "## Question 4\n",
    "\n",
    ">LAX operates two independent parallel runways under IFR. Estimate the total delay and average delay per flight for all flights scheduled to arrive between 7 am and 12 noon."
   ]
  },
  {
   "cell_type": "code",
   "execution_count": 22,
   "metadata": {
    "collapsed": false
   },
   "outputs": [],
   "source": [
    "q4 = sc.sort_values(\"Arrival Time 2\").reset_index()"
   ]
  },
  {
   "cell_type": "code",
   "execution_count": 23,
   "metadata": {
    "collapsed": false
   },
   "outputs": [
    {
     "data": {
      "text/html": [
       "<div>\n",
       "<table border=\"1\" class=\"dataframe\">\n",
       "  <thead>\n",
       "    <tr style=\"text-align: right;\">\n",
       "      <th></th>\n",
       "      <th>index</th>\n",
       "      <th>CAR</th>\n",
       "      <th>FLNO</th>\n",
       "      <th>EQP</th>\n",
       "      <th>SEATS</th>\n",
       "      <th>ORIGIN</th>\n",
       "      <th>Arrival Time 2</th>\n",
       "      <th>Arrival Time 1</th>\n",
       "      <th>MTOW (000 lbs)</th>\n",
       "      <th>ASPEEDF (kts)</th>\n",
       "      <th>TYPE</th>\n",
       "      <th>Class</th>\n",
       "    </tr>\n",
       "  </thead>\n",
       "  <tbody>\n",
       "    <tr>\n",
       "      <th>0</th>\n",
       "      <td>213</td>\n",
       "      <td>UA3</td>\n",
       "      <td>5364</td>\n",
       "      <td>EM2</td>\n",
       "      <td>30</td>\n",
       "      <td>IPL</td>\n",
       "      <td>7.0</td>\n",
       "      <td>7:00</td>\n",
       "      <td>25.4</td>\n",
       "      <td>113</td>\n",
       "      <td>Embraer 120</td>\n",
       "      <td>S</td>\n",
       "    </tr>\n",
       "    <tr>\n",
       "      <th>1</th>\n",
       "      <td>149</td>\n",
       "      <td>RG</td>\n",
       "      <td>832</td>\n",
       "      <td>743</td>\n",
       "      <td>398</td>\n",
       "      <td>LIM</td>\n",
       "      <td>7.0</td>\n",
       "      <td>7:00</td>\n",
       "      <td>775.5</td>\n",
       "      <td>141</td>\n",
       "      <td>Boeing 747 1</td>\n",
       "      <td>H</td>\n",
       "    </tr>\n",
       "    <tr>\n",
       "      <th>2</th>\n",
       "      <td>101</td>\n",
       "      <td>OE</td>\n",
       "      <td>7302</td>\n",
       "      <td>J31</td>\n",
       "      <td>18</td>\n",
       "      <td>IYK</td>\n",
       "      <td>7.0</td>\n",
       "      <td>7:00</td>\n",
       "      <td>16.0</td>\n",
       "      <td>112</td>\n",
       "      <td>Jetstream Super31</td>\n",
       "      <td>S</td>\n",
       "    </tr>\n",
       "    <tr>\n",
       "      <th>3</th>\n",
       "      <td>214</td>\n",
       "      <td>UA3</td>\n",
       "      <td>5000</td>\n",
       "      <td>EM2</td>\n",
       "      <td>30</td>\n",
       "      <td>SBP</td>\n",
       "      <td>7.0</td>\n",
       "      <td>7:00</td>\n",
       "      <td>25.4</td>\n",
       "      <td>113</td>\n",
       "      <td>Embraer 120</td>\n",
       "      <td>S</td>\n",
       "    </tr>\n",
       "    <tr>\n",
       "      <th>4</th>\n",
       "      <td>215</td>\n",
       "      <td>UA3</td>\n",
       "      <td>5122</td>\n",
       "      <td>EM2</td>\n",
       "      <td>30</td>\n",
       "      <td>SBA</td>\n",
       "      <td>7.0</td>\n",
       "      <td>7:00</td>\n",
       "      <td>25.4</td>\n",
       "      <td>113</td>\n",
       "      <td>Embraer 120</td>\n",
       "      <td>S</td>\n",
       "    </tr>\n",
       "  </tbody>\n",
       "</table>\n",
       "</div>"
      ],
      "text/plain": [
       "   index  CAR  FLNO  EQP  SEATS ORIGIN  Arrival Time 2 Arrival Time 1  \\\n",
       "0    213  UA3  5364  EM2     30    IPL             7.0           7:00   \n",
       "1    149   RG   832  743    398    LIM             7.0           7:00   \n",
       "2    101   OE  7302  J31     18    IYK             7.0           7:00   \n",
       "3    214  UA3  5000  EM2     30    SBP             7.0           7:00   \n",
       "4    215  UA3  5122  EM2     30    SBA             7.0           7:00   \n",
       "\n",
       "   MTOW (000 lbs)  ASPEEDF (kts)               TYPE Class  \n",
       "0            25.4            113        Embraer 120     S  \n",
       "1           775.5            141       Boeing 747 1     H  \n",
       "2            16.0            112  Jetstream Super31     S  \n",
       "3            25.4            113        Embraer 120     S  \n",
       "4            25.4            113        Embraer 120     S  "
      ]
     },
     "execution_count": 23,
     "metadata": {},
     "output_type": "execute_result"
    }
   ],
   "source": [
    "# View first five sorted entries in schedule\n",
    "\n",
    "q4.head()"
   ]
  },
  {
   "cell_type": "code",
   "execution_count": 24,
   "metadata": {
    "collapsed": false
   },
   "outputs": [
    {
     "data": {
      "text/html": [
       "<div>\n",
       "<table border=\"1\" class=\"dataframe\">\n",
       "  <thead>\n",
       "    <tr style=\"text-align: right;\">\n",
       "      <th></th>\n",
       "      <th>index</th>\n",
       "      <th>CAR</th>\n",
       "      <th>FLNO</th>\n",
       "      <th>EQP</th>\n",
       "      <th>SEATS</th>\n",
       "      <th>ORIGIN</th>\n",
       "      <th>Arrival Time 2</th>\n",
       "      <th>Arrival Time 1</th>\n",
       "      <th>MTOW (000 lbs)</th>\n",
       "      <th>ASPEEDF (kts)</th>\n",
       "      <th>TYPE</th>\n",
       "      <th>Class</th>\n",
       "    </tr>\n",
       "  </thead>\n",
       "  <tbody>\n",
       "    <tr>\n",
       "      <th>301</th>\n",
       "      <td>136</td>\n",
       "      <td>OO</td>\n",
       "      <td>5533</td>\n",
       "      <td>EM2</td>\n",
       "      <td>30</td>\n",
       "      <td>FAT</td>\n",
       "      <td>12.0</td>\n",
       "      <td>12:00</td>\n",
       "      <td>25.4</td>\n",
       "      <td>113</td>\n",
       "      <td>Embraer 120</td>\n",
       "      <td>S</td>\n",
       "    </tr>\n",
       "    <tr>\n",
       "      <th>302</th>\n",
       "      <td>212</td>\n",
       "      <td>UA</td>\n",
       "      <td>875</td>\n",
       "      <td>762</td>\n",
       "      <td>204</td>\n",
       "      <td>BOS</td>\n",
       "      <td>12.0</td>\n",
       "      <td>12:00</td>\n",
       "      <td>300.0</td>\n",
       "      <td>143</td>\n",
       "      <td>Boeing 767</td>\n",
       "      <td>H</td>\n",
       "    </tr>\n",
       "    <tr>\n",
       "      <th>303</th>\n",
       "      <td>137</td>\n",
       "      <td>OO</td>\n",
       "      <td>5683</td>\n",
       "      <td>EM2</td>\n",
       "      <td>30</td>\n",
       "      <td>PSP</td>\n",
       "      <td>12.0</td>\n",
       "      <td>12:00</td>\n",
       "      <td>25.4</td>\n",
       "      <td>113</td>\n",
       "      <td>Embraer 120</td>\n",
       "      <td>S</td>\n",
       "    </tr>\n",
       "    <tr>\n",
       "      <th>304</th>\n",
       "      <td>35</td>\n",
       "      <td>AA</td>\n",
       "      <td>11</td>\n",
       "      <td>767</td>\n",
       "      <td>189</td>\n",
       "      <td>BOS</td>\n",
       "      <td>12.0</td>\n",
       "      <td>12:00</td>\n",
       "      <td>300.0</td>\n",
       "      <td>143</td>\n",
       "      <td>Boeing 767</td>\n",
       "      <td>H</td>\n",
       "    </tr>\n",
       "    <tr>\n",
       "      <th>305</th>\n",
       "      <td>138</td>\n",
       "      <td>OO</td>\n",
       "      <td>5638</td>\n",
       "      <td>EM2</td>\n",
       "      <td>30</td>\n",
       "      <td>SBA</td>\n",
       "      <td>12.0</td>\n",
       "      <td>12:00</td>\n",
       "      <td>25.4</td>\n",
       "      <td>113</td>\n",
       "      <td>Embraer 120</td>\n",
       "      <td>S</td>\n",
       "    </tr>\n",
       "  </tbody>\n",
       "</table>\n",
       "</div>"
      ],
      "text/plain": [
       "     index CAR  FLNO  EQP  SEATS ORIGIN  Arrival Time 2 Arrival Time 1  \\\n",
       "301    136  OO  5533  EM2     30    FAT            12.0          12:00   \n",
       "302    212  UA   875  762    204    BOS            12.0          12:00   \n",
       "303    137  OO  5683  EM2     30    PSP            12.0          12:00   \n",
       "304     35  AA    11  767    189    BOS            12.0          12:00   \n",
       "305    138  OO  5638  EM2     30    SBA            12.0          12:00   \n",
       "\n",
       "     MTOW (000 lbs)  ASPEEDF (kts)         TYPE Class  \n",
       "301            25.4            113  Embraer 120     S  \n",
       "302           300.0            143   Boeing 767     H  \n",
       "303            25.4            113  Embraer 120     S  \n",
       "304           300.0            143   Boeing 767     H  \n",
       "305            25.4            113  Embraer 120     S  "
      ]
     },
     "execution_count": 24,
     "metadata": {},
     "output_type": "execute_result"
    }
   ],
   "source": [
    "# View last five sorted entries in schedule\n",
    "\n",
    "q4.tail()"
   ]
  },
  {
   "cell_type": "markdown",
   "metadata": {},
   "source": [
    "I assume that given the dual runway setup, arriving aircraft will alternate runways. Therefore, in the sorted schedule above, an aircraft will land following the aircraft two rows above it in the schedule.  "
   ]
  },
  {
   "cell_type": "code",
   "execution_count": 25,
   "metadata": {
    "collapsed": false
   },
   "outputs": [
    {
     "data": {
      "text/html": [
       "<div>\n",
       "<table border=\"1\" class=\"dataframe\">\n",
       "  <thead>\n",
       "    <tr style=\"text-align: right;\">\n",
       "      <th></th>\n",
       "      <th>index</th>\n",
       "      <th>CAR</th>\n",
       "      <th>FLNO</th>\n",
       "      <th>EQP</th>\n",
       "      <th>SEATS</th>\n",
       "      <th>ORIGIN</th>\n",
       "      <th>Arrival Time 2</th>\n",
       "      <th>Arrival Time 1</th>\n",
       "      <th>MTOW (000 lbs)</th>\n",
       "      <th>ASPEEDF (kts)</th>\n",
       "      <th>TYPE</th>\n",
       "      <th>Class</th>\n",
       "    </tr>\n",
       "  </thead>\n",
       "  <tbody>\n",
       "    <tr>\n",
       "      <th>0</th>\n",
       "      <td>213</td>\n",
       "      <td>UA3</td>\n",
       "      <td>5364</td>\n",
       "      <td>EM2</td>\n",
       "      <td>30</td>\n",
       "      <td>IPL</td>\n",
       "      <td>7.0</td>\n",
       "      <td>7:00</td>\n",
       "      <td>25.4</td>\n",
       "      <td>113</td>\n",
       "      <td>Embraer 120</td>\n",
       "      <td>S</td>\n",
       "    </tr>\n",
       "    <tr>\n",
       "      <th>1</th>\n",
       "      <td>149</td>\n",
       "      <td>RG</td>\n",
       "      <td>832</td>\n",
       "      <td>743</td>\n",
       "      <td>398</td>\n",
       "      <td>LIM</td>\n",
       "      <td>7.0</td>\n",
       "      <td>7:00</td>\n",
       "      <td>775.5</td>\n",
       "      <td>141</td>\n",
       "      <td>Boeing 747 1</td>\n",
       "      <td>H</td>\n",
       "    </tr>\n",
       "    <tr>\n",
       "      <th>2</th>\n",
       "      <td>101</td>\n",
       "      <td>OE</td>\n",
       "      <td>7302</td>\n",
       "      <td>J31</td>\n",
       "      <td>18</td>\n",
       "      <td>IYK</td>\n",
       "      <td>7.0</td>\n",
       "      <td>7:00</td>\n",
       "      <td>16.0</td>\n",
       "      <td>112</td>\n",
       "      <td>Jetstream Super31</td>\n",
       "      <td>S</td>\n",
       "    </tr>\n",
       "    <tr>\n",
       "      <th>3</th>\n",
       "      <td>214</td>\n",
       "      <td>UA3</td>\n",
       "      <td>5000</td>\n",
       "      <td>EM2</td>\n",
       "      <td>30</td>\n",
       "      <td>SBP</td>\n",
       "      <td>7.0</td>\n",
       "      <td>7:00</td>\n",
       "      <td>25.4</td>\n",
       "      <td>113</td>\n",
       "      <td>Embraer 120</td>\n",
       "      <td>S</td>\n",
       "    </tr>\n",
       "    <tr>\n",
       "      <th>4</th>\n",
       "      <td>215</td>\n",
       "      <td>UA3</td>\n",
       "      <td>5122</td>\n",
       "      <td>EM2</td>\n",
       "      <td>30</td>\n",
       "      <td>SBA</td>\n",
       "      <td>7.0</td>\n",
       "      <td>7:00</td>\n",
       "      <td>25.4</td>\n",
       "      <td>113</td>\n",
       "      <td>Embraer 120</td>\n",
       "      <td>S</td>\n",
       "    </tr>\n",
       "  </tbody>\n",
       "</table>\n",
       "</div>"
      ],
      "text/plain": [
       "   index  CAR  FLNO  EQP  SEATS ORIGIN  Arrival Time 2 Arrival Time 1  \\\n",
       "0    213  UA3  5364  EM2     30    IPL             7.0           7:00   \n",
       "1    149   RG   832  743    398    LIM             7.0           7:00   \n",
       "2    101   OE  7302  J31     18    IYK             7.0           7:00   \n",
       "3    214  UA3  5000  EM2     30    SBP             7.0           7:00   \n",
       "4    215  UA3  5122  EM2     30    SBA             7.0           7:00   \n",
       "\n",
       "   MTOW (000 lbs)  ASPEEDF (kts)               TYPE Class  \n",
       "0            25.4            113        Embraer 120     S  \n",
       "1           775.5            141       Boeing 747 1     H  \n",
       "2            16.0            112  Jetstream Super31     S  \n",
       "3            25.4            113        Embraer 120     S  \n",
       "4            25.4            113        Embraer 120     S  "
      ]
     },
     "execution_count": 25,
     "metadata": {},
     "output_type": "execute_result"
    }
   ],
   "source": [
    "q4.head()"
   ]
  },
  {
   "cell_type": "code",
   "execution_count": 26,
   "metadata": {
    "collapsed": false
   },
   "outputs": [],
   "source": [
    "def calc_schedule(df):\n",
    "    \n",
    "    # create a new column for actual arrival time\n",
    "    df[\"arrival_actual\"] = 0.0\n",
    "    \n",
    "    # assign flights to runways\n",
    "    df[\"index_val\"] = df.index\n",
    "    df[\"runway\"] = df.apply(lambda row: 1 if row.index_val % 2 == 0 else 2, axis = 1)\n",
    "    df = df.drop(\"index_val\", axis = 1)\n",
    "    \n",
    "    # prepare first two arrivals\n",
    "    df.loc[0, \"arrival_actual\"] = df.loc[0, \"Arrival Time 2\"]\n",
    "    df.loc[1, \"arrival_actual\"] = df.loc[1, \"Arrival Time 2\"]\n",
    "    \n",
    "    # loop through all arrivals to runway 1\n",
    "    for i in df.index.values:\n",
    "        if (df.runway[i] == 1) & (i > 1):\n",
    "            \n",
    "            prev = max(i-2,i-4)\n",
    "            \n",
    "            # get actual arrival time of previous arrival\n",
    "            lead_time = df.arrival_actual[prev]\n",
    "            \n",
    "            # get lead and trailing aircraft class\n",
    "            lead_class = df.Class[prev]\n",
    "            trail_class = df.Class[i]\n",
    "            \n",
    "            # get separation time from reference table, add 30 seconds of buffer, convert to hours\n",
    "            separation = (ref[(ref.lead == lead_class) & (ref.trail == trail_class)][\"ifr\"].values[0] + .5) / 60\n",
    "            \n",
    "            # assign arrival time based on minimum separation \n",
    "            df.arrival_actual[i] = max(lead_time + separation, df[\"Arrival Time 2\"][i])\n",
    "    \n",
    "    # repeat above steps for runway 2\n",
    "        elif (df.runway[i] == 2) & (i > 1):\n",
    "            prev = max(i-2,i-4)\n",
    "            lead_time = df.arrival_actual[prev]\n",
    "            lead_class = df.Class[prev]\n",
    "            trail_class = df.Class[i]\n",
    "            separation = (ref[(ref.lead == lead_class) & (ref.trail == trail_class)][\"ifr\"].values[0] + .5) / 60 \n",
    "            df.arrival_actual[i] = max(lead_time + separation, df[\"Arrival Time 2\"][i])\n",
    "    \n",
    "    # calculate delay for each aircraft\n",
    "    df[\"delay\"] = round(df.arrival_actual - df[\"Arrival Time 2\"],4)\n",
    "    \n",
    "    return df"
   ]
  },
  {
   "cell_type": "code",
   "execution_count": 27,
   "metadata": {
    "collapsed": false
   },
   "outputs": [
    {
     "name": "stderr",
     "output_type": "stream",
     "text": [
      "C:\\Users\\pksohn\\Anaconda\\envs\\ipykernel_py3\\lib\\site-packages\\ipykernel\\__main__.py:32: SettingWithCopyWarning: \n",
      "A value is trying to be set on a copy of a slice from a DataFrame\n",
      "\n",
      "See the caveats in the documentation: http://pandas.pydata.org/pandas-docs/stable/indexing.html#indexing-view-versus-copy\n",
      "C:\\Users\\pksohn\\Anaconda\\envs\\ipykernel_py3\\lib\\site-packages\\ipykernel\\__main__.py:41: SettingWithCopyWarning: \n",
      "A value is trying to be set on a copy of a slice from a DataFrame\n",
      "\n",
      "See the caveats in the documentation: http://pandas.pydata.org/pandas-docs/stable/indexing.html#indexing-view-versus-copy\n"
     ]
    }
   ],
   "source": [
    "# run the function above on our schedule for Q4\n",
    "\n",
    "q4 = calc_schedule(q4)"
   ]
  },
  {
   "cell_type": "markdown",
   "metadata": {},
   "source": [
    "### Q4 Results"
   ]
  },
  {
   "cell_type": "code",
   "execution_count": 28,
   "metadata": {
    "collapsed": false
   },
   "outputs": [
    {
     "name": "stdout",
     "output_type": "stream",
     "text": [
      "The total delay for this schedule between 7am and 12pm is 106.2382 hours\n",
      "The mean delay for this schedule between 7am and 12pm is 0.347183660131 hours\n"
     ]
    }
   ],
   "source": [
    "print(\"The total delay for this schedule between 7am and 12pm is\", q4.delay.sum(), \"hours\")\n",
    "print(\"The mean delay for this schedule between 7am and 12pm is\", q4.delay.mean(), \"hours\")"
   ]
  },
  {
   "cell_type": "markdown",
   "metadata": {},
   "source": [
    "## Question 5\n",
    "\n",
    "> Estimate the incremental delay, under IFR, resulting from US3 flight 4759 under IFR. Again consider only flights scheduled to arrive between 7 am and 12 noon.\n",
    "\n",
    "I estimate the delay from including this flight by removing it from the schedule, checking the total delay, and comparing from before."
   ]
  },
  {
   "cell_type": "code",
   "execution_count": 29,
   "metadata": {
    "collapsed": false
   },
   "outputs": [
    {
     "data": {
      "text/html": [
       "<div>\n",
       "<table border=\"1\" class=\"dataframe\">\n",
       "  <thead>\n",
       "    <tr style=\"text-align: right;\">\n",
       "      <th></th>\n",
       "      <th>CAR</th>\n",
       "      <th>FLNO</th>\n",
       "      <th>EQP</th>\n",
       "      <th>SEATS</th>\n",
       "      <th>ORIGIN</th>\n",
       "      <th>Arrival Time 2</th>\n",
       "      <th>Arrival Time 1</th>\n",
       "      <th>MTOW (000 lbs)</th>\n",
       "      <th>ASPEEDF (kts)</th>\n",
       "      <th>TYPE</th>\n",
       "      <th>Class</th>\n",
       "    </tr>\n",
       "  </thead>\n",
       "  <tbody>\n",
       "    <tr>\n",
       "      <th>263</th>\n",
       "      <td>US3</td>\n",
       "      <td>4759</td>\n",
       "      <td>J31</td>\n",
       "      <td>18</td>\n",
       "      <td>SAN</td>\n",
       "      <td>10.83</td>\n",
       "      <td>10:50</td>\n",
       "      <td>16.0</td>\n",
       "      <td>112</td>\n",
       "      <td>Jetstream Super31</td>\n",
       "      <td>S</td>\n",
       "    </tr>\n",
       "  </tbody>\n",
       "</table>\n",
       "</div>"
      ],
      "text/plain": [
       "     CAR  FLNO  EQP  SEATS ORIGIN  Arrival Time 2 Arrival Time 1  \\\n",
       "263  US3  4759  J31     18    SAN           10.83          10:50   \n",
       "\n",
       "     MTOW (000 lbs)  ASPEEDF (kts)               TYPE Class  \n",
       "263            16.0            112  Jetstream Super31     S  "
      ]
     },
     "execution_count": 29,
     "metadata": {},
     "output_type": "execute_result"
    }
   ],
   "source": [
    "# get and sort schedule\n",
    "\n",
    "q5 = sc.sort_values(\"Arrival Time 2\")\n",
    "\n",
    "# Find the row that has this flight\n",
    "\n",
    "q5[q5.FLNO == 4759]"
   ]
  },
  {
   "cell_type": "code",
   "execution_count": 30,
   "metadata": {
    "collapsed": false
   },
   "outputs": [
    {
     "name": "stdout",
     "output_type": "stream",
     "text": [
      "306\n",
      "305\n"
     ]
    }
   ],
   "source": [
    "# drop this row\n",
    "\n",
    "print(len(q5))\n",
    "q5 = q5.drop(263)\n",
    "print(len(q5))\n",
    "\n",
    "# reindex\n",
    "q5 = q5.reset_index()"
   ]
  },
  {
   "cell_type": "code",
   "execution_count": 31,
   "metadata": {
    "collapsed": false
   },
   "outputs": [
    {
     "name": "stderr",
     "output_type": "stream",
     "text": [
      "C:\\Users\\pksohn\\Anaconda\\envs\\ipykernel_py3\\lib\\site-packages\\ipykernel\\__main__.py:32: SettingWithCopyWarning: \n",
      "A value is trying to be set on a copy of a slice from a DataFrame\n",
      "\n",
      "See the caveats in the documentation: http://pandas.pydata.org/pandas-docs/stable/indexing.html#indexing-view-versus-copy\n",
      "C:\\Users\\pksohn\\Anaconda\\envs\\ipykernel_py3\\lib\\site-packages\\ipykernel\\__main__.py:41: SettingWithCopyWarning: \n",
      "A value is trying to be set on a copy of a slice from a DataFrame\n",
      "\n",
      "See the caveats in the documentation: http://pandas.pydata.org/pandas-docs/stable/indexing.html#indexing-view-versus-copy\n"
     ]
    },
    {
     "name": "stdout",
     "output_type": "stream",
     "text": [
      "The total delay for this schedule between 7am and 12pm is 103.8842 hours\n",
      "The mean delay for this schedule between 7am and 12pm is 0.340603934426 hours\n"
     ]
    }
   ],
   "source": [
    "# run the schedule generation and delay calculation \n",
    "\n",
    "q5 = calc_schedule(q5)\n",
    "print(\"The total delay for this schedule between 7am and 12pm is\", q5.delay.sum(), \"hours\")\n",
    "print(\"The mean delay for this schedule between 7am and 12pm is\", q5.delay.mean(), \"hours\")"
   ]
  },
  {
   "cell_type": "markdown",
   "metadata": {},
   "source": [
    "### Q5 Results\n",
    "\n",
    "The total delay for the full schedule was 106.2382 hours. When flight 4659 was removed, the total delay was 103.8842 hours. The difference is 2.35 hours, which is the incremental delay of that flight."
   ]
  },
  {
   "cell_type": "markdown",
   "metadata": {},
   "source": [
    "## Question 6\n",
    "> Estimate how the IFR delay at LAX would change if demand grew 20%. Again consider only flights scheduled to arrive between 7 am and 12 noon.\n",
    "\n",
    "For this question, I will add flights evenly spaced between 7am and 12pm, and recalculate demand. "
   ]
  },
  {
   "cell_type": "code",
   "execution_count": 32,
   "metadata": {
    "collapsed": false
   },
   "outputs": [
    {
     "name": "stdout",
     "output_type": "stream",
     "text": [
      "61.2 flights\n"
     ]
    }
   ],
   "source": [
    "# What is 20% of demand?\n",
    "\n",
    "print (len(sc) * 0.2, \"flights\")"
   ]
  },
  {
   "cell_type": "code",
   "execution_count": 33,
   "metadata": {
    "collapsed": false
   },
   "outputs": [
    {
     "name": "stdout",
     "output_type": "stream",
     "text": [
      "[  7.           7.08196721   7.16393443   7.24590164   7.32786885\n",
      "   7.40983607   7.49180328   7.57377049   7.6557377    7.73770492\n",
      "   7.81967213   7.90163934   7.98360656   8.06557377   8.14754098\n",
      "   8.2295082    8.31147541   8.39344262   8.47540984   8.55737705\n",
      "   8.63934426   8.72131148   8.80327869   8.8852459    8.96721311\n",
      "   9.04918033   9.13114754   9.21311475   9.29508197   9.37704918\n",
      "   9.45901639   9.54098361   9.62295082   9.70491803   9.78688525\n",
      "   9.86885246   9.95081967  10.03278689  10.1147541   10.19672131\n",
      "  10.27868852  10.36065574  10.44262295  10.52459016  10.60655738\n",
      "  10.68852459  10.7704918   10.85245902  10.93442623  11.01639344\n",
      "  11.09836066  11.18032787  11.26229508  11.3442623   11.42622951\n",
      "  11.50819672  11.59016393  11.67213115  11.75409836  11.83606557\n",
      "  11.91803279  12.        ]\n"
     ]
    }
   ],
   "source": [
    "# Evenly space 61 flights between 7 and 12\n",
    "new_headway = (12-7) / 61\n",
    "new_times = np.arange(start = 7, stop = 12, step = new_headway)\n",
    "\n",
    "# show newly generated times\n",
    "print(new_times)"
   ]
  },
  {
   "cell_type": "code",
   "execution_count": 34,
   "metadata": {
    "collapsed": false
   },
   "outputs": [],
   "source": [
    "# Generate new dataframe of flights\n",
    "\n",
    "new_flights = pd.DataFrame(new_times, columns = [\"Arrival Time 2\"])"
   ]
  },
  {
   "cell_type": "code",
   "execution_count": 35,
   "metadata": {
    "collapsed": false
   },
   "outputs": [],
   "source": [
    "# Use random number generation to assign each new flight to a aircraft class\n",
    "\n",
    "def ac_class(row):\n",
    "    \n",
    "    # Probabilities of classes from original data; add cumulatively for random number gen\n",
    "    B = 0.078431\n",
    "    H = B + 0.153595\n",
    "    L = H + 0.480392\n",
    "    S = L + 0.287582\n",
    "    \n",
    "    # generate random number between 0 and 1\n",
    "    rand = np.random.random_sample()\n",
    "    \n",
    "    # Assign to an aircraft class based on random number draw\n",
    "    if rand <= B:\n",
    "        return \"B\"\n",
    "    elif (rand > B) & (rand <= H):\n",
    "        return \"H\"\n",
    "    elif (rand > H) & (rand <= L):\n",
    "        return \"L\"\n",
    "    else:\n",
    "        return \"S\"\n",
    "\n",
    "# Run the above function on the new flights dataframe\n",
    "\n",
    "new_flights[\"Class\"] = new_flights.apply(ac_class,axis=1)\n",
    "\n",
    "# Label new flights\n",
    "\n",
    "new_flights[\"TYPE\"] = \"(Imputed Flight)\""
   ]
  },
  {
   "cell_type": "code",
   "execution_count": 36,
   "metadata": {
    "collapsed": false
   },
   "outputs": [],
   "source": [
    "# get and sort original schedule and add new flights\n",
    "# sort by arrival time and reset index \n",
    "\n",
    "q6 = sc.append(new_flights).sort_values(\"Arrival Time 2\").reset_index()"
   ]
  },
  {
   "cell_type": "code",
   "execution_count": 37,
   "metadata": {
    "collapsed": false
   },
   "outputs": [
    {
     "data": {
      "text/html": [
       "<div>\n",
       "<table border=\"1\" class=\"dataframe\">\n",
       "  <thead>\n",
       "    <tr style=\"text-align: right;\">\n",
       "      <th></th>\n",
       "      <th>index</th>\n",
       "      <th>ASPEEDF (kts)</th>\n",
       "      <th>Arrival Time 1</th>\n",
       "      <th>Arrival Time 2</th>\n",
       "      <th>CAR</th>\n",
       "      <th>Class</th>\n",
       "      <th>EQP</th>\n",
       "      <th>FLNO</th>\n",
       "      <th>MTOW (000 lbs)</th>\n",
       "      <th>ORIGIN</th>\n",
       "      <th>SEATS</th>\n",
       "      <th>TYPE</th>\n",
       "    </tr>\n",
       "  </thead>\n",
       "  <tbody>\n",
       "    <tr>\n",
       "      <th>0</th>\n",
       "      <td>149</td>\n",
       "      <td>141.0</td>\n",
       "      <td>7:00</td>\n",
       "      <td>7.0</td>\n",
       "      <td>RG</td>\n",
       "      <td>H</td>\n",
       "      <td>743</td>\n",
       "      <td>832.0</td>\n",
       "      <td>775.5</td>\n",
       "      <td>LIM</td>\n",
       "      <td>398.0</td>\n",
       "      <td>Boeing 747 1</td>\n",
       "    </tr>\n",
       "    <tr>\n",
       "      <th>1</th>\n",
       "      <td>215</td>\n",
       "      <td>113.0</td>\n",
       "      <td>7:00</td>\n",
       "      <td>7.0</td>\n",
       "      <td>UA3</td>\n",
       "      <td>S</td>\n",
       "      <td>EM2</td>\n",
       "      <td>5122.0</td>\n",
       "      <td>25.4</td>\n",
       "      <td>SBA</td>\n",
       "      <td>30.0</td>\n",
       "      <td>Embraer 120</td>\n",
       "    </tr>\n",
       "    <tr>\n",
       "      <th>2</th>\n",
       "      <td>0</td>\n",
       "      <td>NaN</td>\n",
       "      <td>NaN</td>\n",
       "      <td>7.0</td>\n",
       "      <td>NaN</td>\n",
       "      <td>L</td>\n",
       "      <td>NaN</td>\n",
       "      <td>NaN</td>\n",
       "      <td>NaN</td>\n",
       "      <td>NaN</td>\n",
       "      <td>NaN</td>\n",
       "      <td>(Imputed Flight)</td>\n",
       "    </tr>\n",
       "    <tr>\n",
       "      <th>3</th>\n",
       "      <td>214</td>\n",
       "      <td>113.0</td>\n",
       "      <td>7:00</td>\n",
       "      <td>7.0</td>\n",
       "      <td>UA3</td>\n",
       "      <td>S</td>\n",
       "      <td>EM2</td>\n",
       "      <td>5000.0</td>\n",
       "      <td>25.4</td>\n",
       "      <td>SBP</td>\n",
       "      <td>30.0</td>\n",
       "      <td>Embraer 120</td>\n",
       "    </tr>\n",
       "    <tr>\n",
       "      <th>4</th>\n",
       "      <td>266</td>\n",
       "      <td>140.0</td>\n",
       "      <td>7:00</td>\n",
       "      <td>7.0</td>\n",
       "      <td>VP</td>\n",
       "      <td>H</td>\n",
       "      <td>M11</td>\n",
       "      <td>896.0</td>\n",
       "      <td>602.5</td>\n",
       "      <td>GRU</td>\n",
       "      <td>290.0</td>\n",
       "      <td>Douglas MD 11</td>\n",
       "    </tr>\n",
       "  </tbody>\n",
       "</table>\n",
       "</div>"
      ],
      "text/plain": [
       "   index  ASPEEDF (kts) Arrival Time 1  Arrival Time 2  CAR Class  EQP  \\\n",
       "0    149          141.0           7:00             7.0   RG     H  743   \n",
       "1    215          113.0           7:00             7.0  UA3     S  EM2   \n",
       "2      0            NaN            NaN             7.0  NaN     L  NaN   \n",
       "3    214          113.0           7:00             7.0  UA3     S  EM2   \n",
       "4    266          140.0           7:00             7.0   VP     H  M11   \n",
       "\n",
       "     FLNO  MTOW (000 lbs) ORIGIN  SEATS              TYPE  \n",
       "0   832.0           775.5    LIM  398.0      Boeing 747 1  \n",
       "1  5122.0            25.4    SBA   30.0       Embraer 120  \n",
       "2     NaN             NaN    NaN    NaN  (Imputed Flight)  \n",
       "3  5000.0            25.4    SBP   30.0       Embraer 120  \n",
       "4   896.0           602.5    GRU  290.0     Douglas MD 11  "
      ]
     },
     "execution_count": 37,
     "metadata": {},
     "output_type": "execute_result"
    }
   ],
   "source": [
    "# Now we have a schedule from 7 - 11 including newly generated flights\n",
    "\n",
    "q6.head()"
   ]
  },
  {
   "cell_type": "markdown",
   "metadata": {},
   "source": [
    "### Q6 Results"
   ]
  },
  {
   "cell_type": "code",
   "execution_count": 38,
   "metadata": {
    "collapsed": false
   },
   "outputs": [
    {
     "name": "stderr",
     "output_type": "stream",
     "text": [
      "C:\\Users\\pksohn\\Anaconda\\envs\\ipykernel_py3\\lib\\site-packages\\ipykernel\\__main__.py:32: SettingWithCopyWarning: \n",
      "A value is trying to be set on a copy of a slice from a DataFrame\n",
      "\n",
      "See the caveats in the documentation: http://pandas.pydata.org/pandas-docs/stable/indexing.html#indexing-view-versus-copy\n",
      "C:\\Users\\pksohn\\Anaconda\\envs\\ipykernel_py3\\lib\\site-packages\\ipykernel\\__main__.py:41: SettingWithCopyWarning: \n",
      "A value is trying to be set on a copy of a slice from a DataFrame\n",
      "\n",
      "See the caveats in the documentation: http://pandas.pydata.org/pandas-docs/stable/indexing.html#indexing-view-versus-copy\n"
     ]
    },
    {
     "name": "stdout",
     "output_type": "stream",
     "text": [
      "The total delay for this schedule between 7am and 12pm is 192.4619 hours\n",
      "The mean delay for this schedule between 7am and 12pm is 0.522994293478 hours\n"
     ]
    }
   ],
   "source": [
    "# run the schedule generation and delay calculation \n",
    "\n",
    "q6 = calc_schedule(q6)\n",
    "print(\"The total delay for this schedule between 7am and 12pm is\", q6.delay.sum(), \"hours\")\n",
    "print(\"The mean delay for this schedule between 7am and 12pm is\", q6.delay.mean(), \"hours\")"
   ]
  },
  {
   "cell_type": "markdown",
   "metadata": {
    "collapsed": true
   },
   "source": [
    "## Question 7"
   ]
  },
  {
   "cell_type": "markdown",
   "metadata": {},
   "source": [
    ">Now assume that some of the arrivals into LAX are delayed due to a Ground Delay\n",
    "Program (GDP) being in effect. The GDP effectively meters the arrival of aircraft into\n",
    "LAX during a period of reduced capacity. We will consider a GDP resulting from low\n",
    "visibility, which results in a reduced Airport Acceptance Rate (AAR) equal to the IFR\n",
    "capacity (problem 1) from 7 am-11 am, after which the capacity (and AAR) recovers to\n",
    "its VFR level (problem 3). The start time for the GDP will be 9:30 am, when demand\n",
    "begins to exceed capacity. Flights that originate from airports far enough away are\n",
    "exempt from the GDP. A list of origin airports for which flights are exempt is found in\n",
    "the GDP worksheet in the excel document. Assume a non-GDP AAR using the value\n",
    "calculated for VFR separations in problem 3.\n",
    "\n",
    "I'll split this part into the three sections:"
   ]
  },
  {
   "cell_type": "markdown",
   "metadata": {},
   "source": [
    "### Q7, part A\n",
    ">Generate the new schedule of arrivals by assigning slots to flights until the delay\n",
    "clears, assuming flights originating from exempt airports have priority over\n",
    "flights that are not exempt, and a Ration-By-Schedule method is used to assign\n",
    "the slots. (Note: Not only the flights planned to arrive during the low capacity\n",
    "period will be delayed. Why is this?)\n",
    "\n",
    "There are a couple of key steps here:\n",
    "\n",
    "_Figure out how many slots are available in each hour throughout the day_  \n",
    "For this, I will use the IFR capacity (28.22 aircraft per hour) from Q1, and the VFR capacity (43.95 aircraft per hour) from Q3. There are two runways so the numbers above are doubled.\n",
    "\n",
    "_Assign flights to slots based on exempt status_  \n",
    "Exempt flights will get priority."
   ]
  },
  {
   "cell_type": "code",
   "execution_count": 39,
   "metadata": {
    "collapsed": false
   },
   "outputs": [
    {
     "name": "stderr",
     "output_type": "stream",
     "text": [
      "C:\\Users\\pksohn\\Anaconda\\envs\\ipykernel_py3\\lib\\site-packages\\ipykernel\\__main__.py:5: SettingWithCopyWarning: \n",
      "A value is trying to be set on a copy of a slice from a DataFrame\n",
      "\n",
      "See the caveats in the documentation: http://pandas.pydata.org/pandas-docs/stable/indexing.html#indexing-view-versus-copy\n"
     ]
    }
   ],
   "source": [
    "# Generate a copy of the original full-day schedule\n",
    "q7 = sched.merge(pf,on=\"EQP\",how=\"left\")\n",
    "\n",
    "# Recode class variable for Boeing 757s to put them in their own category\n",
    "q7[\"Class\"][q7.TYPE == \"Boeing 757\"] = \"B\"\n",
    "\n",
    "# sort values by arrival time and reset index\n",
    "q7 = q7.sort_values(\"Arrival Time 2\").reset_index()"
   ]
  },
  {
   "cell_type": "code",
   "execution_count": 40,
   "metadata": {
    "collapsed": true
   },
   "outputs": [],
   "source": [
    "# read list of exempt origins from excel file, create dummy variable for 1 = exempt \n",
    "\n",
    "exempt = pd.read_csv(\"Exempt.csv\")[\"Exempt Origins\"].tolist()\n",
    "q7[\"exempt\"] = q7.apply(lambda row: 1 if row[\"ORIGIN\"] in exempt else 0, axis = 1)"
   ]
  },
  {
   "cell_type": "code",
   "execution_count": 41,
   "metadata": {
    "collapsed": false
   },
   "outputs": [],
   "source": [
    "# Generate a dataframe of theoretical slots\n",
    "\n",
    "IFR = 28.22\n",
    "VFR = 43.95\n",
    "\n",
    "# Before 7: VFR\n",
    "slots_A = [i for i in np.arange(0,7,1/(VFR*2))]\n",
    "\n",
    "# Between 7 and 11: IFR\n",
    "slots_B = [i for i in np.arange(7,11,1/(IFR*2))]\n",
    "\n",
    "# After 11: VFR\n",
    "slots_C = [i for i in np.arange(11,24,1/(VFR*2))]\n",
    "\n",
    "# Create dataframe from the above data\n",
    "slots = pd.DataFrame(slots_A + slots_B + slots_C, columns = [\"scheduled\"])\n",
    "slots[\"assigned\"] = None"
   ]
  },
  {
   "cell_type": "markdown",
   "metadata": {},
   "source": [
    "In order to assign flights to slots, I run through the following procedure:\n",
    "\n",
    "* Loop through all flights before 9:30 and assign to the earliest unassigned slot after the scheduled arrival time\n",
    "* Loop through all _exempt_ flights at 9:30 or later and assign to the earliest unassigned slot after the scheduled arrival time\n",
    "* Loop through all _nonexempt_ flights at 9:30 or later and assign to the earliest unassigned slot after the scheduled arrival time\n",
    "\n",
    "The function below also calculates the delay (difference between scheduled and assigned arrival time) for each flight."
   ]
  },
  {
   "cell_type": "code",
   "execution_count": 42,
   "metadata": {
    "collapsed": true
   },
   "outputs": [],
   "source": [
    "def gdp(df, slots):\n",
    "\n",
    "    \n",
    "    # loop through flights before 9:30 first\n",
    "    early = df[df[\"Arrival Time 2\"] < 9.5]\n",
    "        \n",
    "    for i in early.index.values:\n",
    "        \n",
    "        # get scheduled arrival time of i\n",
    "        s = early.loc[i, \"Arrival Time 2\"]\n",
    "        \n",
    "        # get earliest unassigned slot time later than scheduled arrival time\n",
    "        j = slots[(slots.scheduled > s) & (pd.isnull(slots.assigned))].scheduled.argmin()\n",
    "        \n",
    "        # assign\n",
    "        slots.loc[j,\"assigned\"] = i\n",
    "    \n",
    "    # Loop through flights starting at 9:30 - exempt first - then repeat above steps\n",
    "    exempt = df[(df[\"Arrival Time 2\"] >= 9.5) & (df.exempt == 1)]\n",
    "    \n",
    "    for i in exempt.index.values:\n",
    "        s = exempt.loc[i, \"Arrival Time 2\"]\n",
    "        j = slots[(slots.scheduled > s) & (pd.isnull(slots.assigned))].scheduled.argmin()\n",
    "        slots.loc[j,\"assigned\"] = i\n",
    "        \n",
    "    # Loop through flights starting at 9:30 - nonexempt - then repeat above steps\n",
    "    nonexempt = df[(df[\"Arrival Time 2\"] >= 9.5) & (df.exempt == 0)]\n",
    "    \n",
    "    for i in nonexempt.index.values:\n",
    "        s = nonexempt.loc[i, \"Arrival Time 2\"]\n",
    "        j = slots[(slots.scheduled > s) & (pd.isnull(slots.assigned))].scheduled.argmin()\n",
    "        slots.loc[j,\"assigned\"] = i\n",
    "        \n",
    "    # Loop through all assigned slots and merge times back into original schedule for delay calculation\n",
    "    for i in slots[\"assigned\"].dropna(axis = 0):\n",
    "        df.loc[i,\"scheduled\"] = slots[slots.assigned == i].iloc[0][\"scheduled\"]\n",
    "        \n",
    "    # Calculate delay\n",
    "    df[\"delay\"] = round(df.scheduled - df[\"Arrival Time 2\"], 4)\n",
    "        \n",
    "    return df, slots"
   ]
  },
  {
   "cell_type": "code",
   "execution_count": 43,
   "metadata": {
    "collapsed": false
   },
   "outputs": [],
   "source": [
    "# Run the function above\n",
    "\n",
    "q7, slots = gdp(q7, slots)"
   ]
  },
  {
   "cell_type": "code",
   "execution_count": 44,
   "metadata": {
    "collapsed": false
   },
   "outputs": [
    {
     "data": {
      "image/png": "[encoded data removed]",
      "text/plain": [
       "<matplotlib.figure.Figure at 0x1a5f2cbff60>"
      ]
     },
     "metadata": {},
     "output_type": "display_data"
    }
   ],
   "source": [
    "# Plot delays over the course of the day\n",
    "\n",
    "q7_NE = q7[q7[\"exempt\"] == 0]\n",
    "\n",
    "plt.figure(figsize=(15,5))\n",
    "plt.plot( q7_NE[\"Arrival Time 2\"], q7_NE[\"delay\"], 'g-')\n",
    "\n",
    "plt.xticks(np.arange(0,24,1.0))\n",
    "plt.xlim(0,24)\n",
    "plt.xlabel(\"Hour of Day\", fontsize=16)\n",
    "plt.ylabel(\"Delay (number of hours)\", fontsize=16)\n",
    "plt.title(\"Arrival delay over the course of the day (non-exempt flights)\", fontsize=16)\n",
    "\n",
    "plt.show()"
   ]
  },
  {
   "cell_type": "code",
   "execution_count": 45,
   "metadata": {
    "collapsed": false
   },
   "outputs": [
    {
     "name": "stdout",
     "output_type": "stream",
     "text": [
      "Total Delay is 89.00 hours\n"
     ]
    }
   ],
   "source": [
    "print(\"Total Delay is\", \"{:.2f}\".format(q7.delay.sum()), \"hours\")"
   ]
  },
  {
   "cell_type": "markdown",
   "metadata": {},
   "source": [
    "### Q7, part B"
   ]
  },
  {
   "cell_type": "markdown",
   "metadata": {},
   "source": [
    ">The GDP end time is when the airport is expected to catch up with the backlog of\n",
    "demand created by the low capacity period. Approximately when will this be?\n",
    "\n",
    "Based on the chart above, it looks like the long period of delay ends between 12:20 and 12:30, so I inspect this range manually. Keep in mind that the chart above only plots delay for non-exempt flights, since delay is practically 0 for exempt flights. "
   ]
  },
  {
   "cell_type": "code",
   "execution_count": 46,
   "metadata": {
    "collapsed": false
   },
   "outputs": [
    {
     "data": {
      "text/html": [
       "<div>\n",
       "<table border=\"1\" class=\"dataframe\">\n",
       "  <thead>\n",
       "    <tr style=\"text-align: right;\">\n",
       "      <th></th>\n",
       "      <th>index</th>\n",
       "      <th>CAR</th>\n",
       "      <th>FLNO</th>\n",
       "      <th>EQP</th>\n",
       "      <th>SEATS</th>\n",
       "      <th>ORIGIN</th>\n",
       "      <th>Arrival Time 2</th>\n",
       "      <th>Arrival Time 1</th>\n",
       "      <th>MTOW (000 lbs)</th>\n",
       "      <th>ASPEEDF (kts)</th>\n",
       "      <th>TYPE</th>\n",
       "      <th>Class</th>\n",
       "      <th>exempt</th>\n",
       "      <th>scheduled</th>\n",
       "      <th>delay</th>\n",
       "    </tr>\n",
       "  </thead>\n",
       "  <tbody>\n",
       "    <tr>\n",
       "      <th>366</th>\n",
       "      <td>591</td>\n",
       "      <td>UA</td>\n",
       "      <td>864</td>\n",
       "      <td>757</td>\n",
       "      <td>188</td>\n",
       "      <td>SAL</td>\n",
       "      <td>12.23</td>\n",
       "      <td>12:14</td>\n",
       "      <td>230.0</td>\n",
       "      <td>139</td>\n",
       "      <td>Boeing 757</td>\n",
       "      <td>B</td>\n",
       "      <td>0</td>\n",
       "      <td>12.422071</td>\n",
       "      <td>0.1921</td>\n",
       "    </tr>\n",
       "    <tr>\n",
       "      <th>367</th>\n",
       "      <td>919</td>\n",
       "      <td>WN</td>\n",
       "      <td>598</td>\n",
       "      <td>733</td>\n",
       "      <td>137</td>\n",
       "      <td>OAK</td>\n",
       "      <td>12.25</td>\n",
       "      <td>12:15</td>\n",
       "      <td>124.5</td>\n",
       "      <td>138</td>\n",
       "      <td>Boeing 737</td>\n",
       "      <td>L</td>\n",
       "      <td>0</td>\n",
       "      <td>12.433447</td>\n",
       "      <td>0.1834</td>\n",
       "    </tr>\n",
       "    <tr>\n",
       "      <th>369</th>\n",
       "      <td>748</td>\n",
       "      <td>UA3</td>\n",
       "      <td>5228</td>\n",
       "      <td>EM2</td>\n",
       "      <td>30</td>\n",
       "      <td>SAN</td>\n",
       "      <td>12.28</td>\n",
       "      <td>12:17</td>\n",
       "      <td>25.4</td>\n",
       "      <td>113</td>\n",
       "      <td>Embraer 120</td>\n",
       "      <td>S</td>\n",
       "      <td>0</td>\n",
       "      <td>12.444824</td>\n",
       "      <td>0.1648</td>\n",
       "    </tr>\n",
       "    <tr>\n",
       "      <th>370</th>\n",
       "      <td>593</td>\n",
       "      <td>UA</td>\n",
       "      <td>2960</td>\n",
       "      <td>733</td>\n",
       "      <td>128</td>\n",
       "      <td>PHX</td>\n",
       "      <td>12.32</td>\n",
       "      <td>12:19</td>\n",
       "      <td>124.5</td>\n",
       "      <td>138</td>\n",
       "      <td>Boeing 737</td>\n",
       "      <td>L</td>\n",
       "      <td>0</td>\n",
       "      <td>12.456200</td>\n",
       "      <td>0.1362</td>\n",
       "    </tr>\n",
       "    <tr>\n",
       "      <th>371</th>\n",
       "      <td>387</td>\n",
       "      <td>OE</td>\n",
       "      <td>7019</td>\n",
       "      <td>J31</td>\n",
       "      <td>18</td>\n",
       "      <td>SNA</td>\n",
       "      <td>12.33</td>\n",
       "      <td>12:20</td>\n",
       "      <td>16.0</td>\n",
       "      <td>112</td>\n",
       "      <td>Jetstream Super31</td>\n",
       "      <td>S</td>\n",
       "      <td>0</td>\n",
       "      <td>12.467577</td>\n",
       "      <td>0.1376</td>\n",
       "    </tr>\n",
       "    <tr>\n",
       "      <th>373</th>\n",
       "      <td>594</td>\n",
       "      <td>UA</td>\n",
       "      <td>607</td>\n",
       "      <td>320</td>\n",
       "      <td>144</td>\n",
       "      <td>ORD</td>\n",
       "      <td>12.47</td>\n",
       "      <td>12:28</td>\n",
       "      <td>162.0</td>\n",
       "      <td>139</td>\n",
       "      <td>Airbus 320</td>\n",
       "      <td>L</td>\n",
       "      <td>0</td>\n",
       "      <td>12.478953</td>\n",
       "      <td>0.0090</td>\n",
       "    </tr>\n",
       "    <tr>\n",
       "      <th>374</th>\n",
       "      <td>242</td>\n",
       "      <td>DL</td>\n",
       "      <td>520</td>\n",
       "      <td>M90</td>\n",
       "      <td>152</td>\n",
       "      <td>TUS</td>\n",
       "      <td>12.48</td>\n",
       "      <td>12:29</td>\n",
       "      <td>156.0</td>\n",
       "      <td>139</td>\n",
       "      <td>Douglas MD 90</td>\n",
       "      <td>L</td>\n",
       "      <td>0</td>\n",
       "      <td>12.490330</td>\n",
       "      <td>0.0103</td>\n",
       "    </tr>\n",
       "  </tbody>\n",
       "</table>\n",
       "</div>"
      ],
      "text/plain": [
       "     index  CAR  FLNO  EQP  SEATS ORIGIN  Arrival Time 2 Arrival Time 1  \\\n",
       "366    591   UA   864  757    188    SAL           12.23          12:14   \n",
       "367    919   WN   598  733    137    OAK           12.25          12:15   \n",
       "369    748  UA3  5228  EM2     30    SAN           12.28          12:17   \n",
       "370    593   UA  2960  733    128    PHX           12.32          12:19   \n",
       "371    387   OE  7019  J31     18    SNA           12.33          12:20   \n",
       "373    594   UA   607  320    144    ORD           12.47          12:28   \n",
       "374    242   DL   520  M90    152    TUS           12.48          12:29   \n",
       "\n",
       "     MTOW (000 lbs)  ASPEEDF (kts)               TYPE Class  exempt  \\\n",
       "366           230.0            139         Boeing 757     B       0   \n",
       "367           124.5            138         Boeing 737     L       0   \n",
       "369            25.4            113        Embraer 120     S       0   \n",
       "370           124.5            138         Boeing 737     L       0   \n",
       "371            16.0            112  Jetstream Super31     S       0   \n",
       "373           162.0            139         Airbus 320     L       0   \n",
       "374           156.0            139      Douglas MD 90     L       0   \n",
       "\n",
       "     scheduled   delay  \n",
       "366  12.422071  0.1921  \n",
       "367  12.433447  0.1834  \n",
       "369  12.444824  0.1648  \n",
       "370  12.456200  0.1362  \n",
       "371  12.467577  0.1376  \n",
       "373  12.478953  0.0090  \n",
       "374  12.490330  0.0103  "
      ]
     },
     "execution_count": 46,
     "metadata": {},
     "output_type": "execute_result"
    }
   ],
   "source": [
    "q7_NE[(q7_NE[\"Arrival Time 2\"] > 12.2) & (q7_NE[\"Arrival Time 2\"] < 12.5)]"
   ]
  },
  {
   "cell_type": "markdown",
   "metadata": {},
   "source": [
    "It looks like UA flight 594 is the first to arrive as scheduled after a long period of delayed arrivals. So I'll say that the GDP end time is approximately __12:30__."
   ]
  },
  {
   "cell_type": "code",
   "execution_count": 47,
   "metadata": {
    "collapsed": false
   },
   "outputs": [
    {
     "data": {
      "image/png": "[encoded data removed]",
      "text/plain": [
       "<matplotlib.figure.Figure at 0x1a5f2cbf908>"
      ]
     },
     "metadata": {},
     "output_type": "display_data"
    }
   ],
   "source": [
    "# Plot delays over the course of the day\n",
    "\n",
    "q7_NE = q7[q7[\"exempt\"] == 0]\n",
    "\n",
    "plt.figure(figsize=(15,5))\n",
    "plt.plot( q7_NE[\"Arrival Time 2\"], q7_NE[\"delay\"], 'g-')\n",
    "\n",
    "plt.xticks(np.arange(0,24,1.0))\n",
    "plt.xlim(0,24)\n",
    "plt.xlabel(\"Hour of Day\", fontsize=16)\n",
    "plt.ylabel(\"Delay (number of hours)\", fontsize=16)\n",
    "plt.title(\"Arrival delay over the course of the day (non-exempt flights)\", fontsize=16)\n",
    "\n",
    "plt.axvline(x = 9.5, linewidth = 4, color = 'r', alpha = 0.25)\n",
    "plt.annotate('GDP start time', xy=(9.5, .5), xytext=(5.5, .4),\n",
    "            arrowprops=dict(facecolor='black', shrink=0.05),\n",
    "            )\n",
    "\n",
    "plt.axvline(x = 12.5, linewidth = 4, alpha = 0.25)\n",
    "plt.annotate('GDP end time', xy=(12.5, .5), xytext=(14.5, .4),\n",
    "            arrowprops=dict(facecolor='black', shrink=0.05),\n",
    "            )\n",
    "\n",
    "plt.show()"
   ]
  },
  {
   "cell_type": "markdown",
   "metadata": {},
   "source": [
    "### Q7, part C\n",
    "\n",
    ">Now consider only the flights operated by United or its regional carrier (UA or\n",
    "UA3) during the GDP. Since United “owns” these slots, they can swap the flights\n",
    "that belong to certain slots. However, the reassigned slot time cannot be earlier\n",
    "than the original scheduled arrival time. United can also cancel flights to free up\n",
    "slots for later flights. Select a schedule of arrivals that (approximately) minimizes\n",
    "the total passenger delay for all United flights. Assume all flights operate at 80%\n",
    "load factor, and assume that a cancellation is equivalent to 2 hours of flight delay\n",
    "for each passenger on board the cancelled flight. How much passenger delay is\n",
    "saved by allowing United to shuffle its flights around? Clearly explain the\n",
    "procedure or algorithm you use to solve this problem.\n",
    "\n",
    "For this problem, I first subset the schedule to United or United regional flights only:"
   ]
  },
  {
   "cell_type": "code",
   "execution_count": 48,
   "metadata": {
    "collapsed": false
   },
   "outputs": [],
   "source": [
    "united = q7.loc[(q7[\"CAR\"] == \"UA\") | (q7[\"CAR\"] == \"UA3\")]"
   ]
  },
  {
   "cell_type": "markdown",
   "metadata": {},
   "source": [
    "Then I calculate passenger delay for all of these flights, and calculate the total for comparison after switching:"
   ]
  },
  {
   "cell_type": "code",
   "execution_count": 49,
   "metadata": {
    "collapsed": false
   },
   "outputs": [
    {
     "name": "stdout",
     "output_type": "stream",
     "text": [
      "Total Delay is 2117.54 hours\n"
     ]
    },
    {
     "name": "stderr",
     "output_type": "stream",
     "text": [
      "C:\\Users\\pksohn\\Anaconda\\envs\\ipykernel_py3\\lib\\site-packages\\ipykernel\\__main__.py:1: SettingWithCopyWarning: \n",
      "A value is trying to be set on a copy of a slice from a DataFrame.\n",
      "Try using .loc[row_indexer,col_indexer] = value instead\n",
      "\n",
      "See the caveats in the documentation: http://pandas.pydata.org/pandas-docs/stable/indexing.html#indexing-view-versus-copy\n",
      "  if __name__ == '__main__':\n"
     ]
    }
   ],
   "source": [
    "united[\"paxdelay\"] = united.delay * (0.8 * united.SEATS)\n",
    "print(\"Total Delay is\", \"{:.2f}\".format(united.paxdelay.sum()), \"hours\")"
   ]
  },
  {
   "cell_type": "markdown",
   "metadata": {},
   "source": [
    "The algorithm for switching flights is below. The steps are:\n",
    "* Select a flight to potentially move up in the schedule\n",
    "* Identify all possible flights it could switch with (i.e. cannot be scheduled to leave before original arrival time, it cannot \"switch with itself\")\n",
    "* For all candidate flights, identify passenger delay reduction if you make the switch (for the selected flight)\n",
    "* For all candidate flights, identify passenger delay reduction if you make the switch (for the candidate flight)\n",
    "* Select the switch with the maximum passenger delay reduction\n",
    "* Repeat the above for all flights affected by GDP"
   ]
  },
  {
   "cell_type": "code",
   "execution_count": 50,
   "metadata": {
    "collapsed": true
   },
   "outputs": [],
   "source": [
    "def switch(idx,united):\n",
    "    \n",
    "    # create list of flights during GDP\n",
    "    # temporary dataframe\n",
    "    df = united[(united[\"Arrival Time 2\"] > 9.5) & (united[\"Arrival Time 2\"] < 12.5)].sort_values(\"paxdelay\", ascending=False)\n",
    "    \n",
    "    # store important variables of flight to move up:\n",
    "    arr = df.loc[idx,\"Arrival Time 2\"] # original arrival time\n",
    "    sch = df.loc[idx,\"scheduled\"] # scheduled arrival time under GDP\n",
    "    pdl = df.loc[idx,\"paxdelay\"] # passenger delay\n",
    "    \n",
    "    # remove the flight itself from candidate flights:\n",
    "    df = df[df.index != idx]\n",
    "    \n",
    "    # remove flights that are scheduled to arrive earlier than original arrival time\n",
    "    df = df[df.scheduled > arr]\n",
    "    \n",
    "    if len(df) > 0:\n",
    "        \n",
    "        # create new dataframe for testing possibilities \n",
    "        test = df.copy()\n",
    "        \n",
    "        # calculate pax delay savings for selected flight, given each possible switch\n",
    "        test[\"idxdelaydiff\"] = pdl - ((test.scheduled - arr) * test.SEATS * 0.8)\n",
    "        \n",
    "        # set the scheduled arrival for each candidate flight to be the same as for the selected flight\n",
    "        test[\"testscheduled\"] = sch\n",
    "        \n",
    "        # calculate new pax delay (use minimum of 2 hours and calculated delay for each pax)\n",
    "        test[\"newpaxdelay\"] = test.apply(lambda row: min(2, row.testscheduled - row[\"Arrival Time 2\"]) * row.SEATS * 0.8, axis = 1)\n",
    "        \n",
    "        # calculate difference in delay\n",
    "        test[\"paxdelaydiff\"] = test.paxdelay - test.newpaxdelay\n",
    "        \n",
    "        # add up pax delay savings\n",
    "        test[\"diff_sum\"] = test[\"paxdelaydiff\"] + test[\"idxdelaydiff\"]\n",
    "        \n",
    "        # identify the switch with largest savings\n",
    "        best = test[\"diff_sum\"].max()\n",
    "        \n",
    "        # prevent switches that make the situation worse\n",
    "        if best > 0:\n",
    "            \n",
    "            # execute the switch in the original schedule\n",
    "            switch = test[\"diff_sum\"].argmax()\n",
    "            switch_sched = test.loc[switch,\"scheduled\"]\n",
    "            united.loc[switch, \"scheduled\"] = sch\n",
    "            united.loc[idx, \"scheduled\"] = switch_sched\n",
    "    \n",
    "    return united"
   ]
  },
  {
   "cell_type": "code",
   "execution_count": 51,
   "metadata": {
    "collapsed": false
   },
   "outputs": [
    {
     "name": "stderr",
     "output_type": "stream",
     "text": [
      "C:\\Users\\pksohn\\Anaconda\\envs\\ipykernel_py3\\lib\\site-packages\\pandas\\core\\indexing.py:461: SettingWithCopyWarning: \n",
      "A value is trying to be set on a copy of a slice from a DataFrame.\n",
      "Try using .loc[row_indexer,col_indexer] = value instead\n",
      "\n",
      "See the caveats in the documentation: http://pandas.pydata.org/pandas-docs/stable/indexing.html#indexing-view-versus-copy\n",
      "  self.obj[item] = s\n"
     ]
    }
   ],
   "source": [
    "# get list of flights affected by GDP\n",
    "gdp = united[(united[\"Arrival Time 2\"] > 9.5) & (united[\"Arrival Time 2\"] < 12.5)].sort_values(\"paxdelay\", ascending=False)\n",
    "\n",
    "# execute switches\n",
    "for i in gdp.index.values:\n",
    "    united = switch(i, united)"
   ]
  },
  {
   "cell_type": "code",
   "execution_count": 52,
   "metadata": {
    "collapsed": false
   },
   "outputs": [
    {
     "name": "stdout",
     "output_type": "stream",
     "text": [
      "Total Delay is 1867.31 hours\n"
     ]
    },
    {
     "name": "stderr",
     "output_type": "stream",
     "text": [
      "C:\\Users\\pksohn\\Anaconda\\envs\\ipykernel_py3\\lib\\site-packages\\ipykernel\\__main__.py:3: SettingWithCopyWarning: \n",
      "A value is trying to be set on a copy of a slice from a DataFrame.\n",
      "Try using .loc[row_indexer,col_indexer] = value instead\n",
      "\n",
      "See the caveats in the documentation: http://pandas.pydata.org/pandas-docs/stable/indexing.html#indexing-view-versus-copy\n",
      "  app.launch_new_instance()\n",
      "C:\\Users\\pksohn\\Anaconda\\envs\\ipykernel_py3\\lib\\site-packages\\ipykernel\\__main__.py:4: SettingWithCopyWarning: \n",
      "A value is trying to be set on a copy of a slice from a DataFrame.\n",
      "Try using .loc[row_indexer,col_indexer] = value instead\n",
      "\n",
      "See the caveats in the documentation: http://pandas.pydata.org/pandas-docs/stable/indexing.html#indexing-view-versus-copy\n"
     ]
    }
   ],
   "source": [
    "# recalculate delay\n",
    "\n",
    "united[\"delay\"] = round(united.scheduled - united[\"Arrival Time 2\"], 4)\n",
    "united[\"paxdelay\"] = united.delay * (0.8 * united.SEATS)\n",
    "print(\"Total Delay is\", \"{:.2f}\".format(united.paxdelay.sum()), \"hours\")"
   ]
  },
  {
   "cell_type": "markdown",
   "metadata": {},
   "source": [
    "### Q7, part C\n",
    "\n",
    "It turns out that my slot-switching algorithm reduced total passenger delay by about __250 hours__ (2117.54 - 1867.31)."
   ]
  }
 ],
 "metadata": {
  "kernelspec": {
   "display_name": "Python 3",
   "language": "python",
   "name": "python3"
  },
  "language_info": {
   "codemirror_mode": {
    "name": "ipython",
    "version": 3
   },
   "file_extension": ".py",
   "mimetype": "text/x-python",
   "name": "python",
   "nbconvert_exporter": "python",
   "pygments_lexer": "ipython3",
   "version": "3.5.1"
  }
 },
 "nbformat": 4,
 "nbformat_minor": 0
}
