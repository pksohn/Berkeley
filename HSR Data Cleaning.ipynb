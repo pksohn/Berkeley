{
 "cells": [
  {
   "cell_type": "code",
   "execution_count": 85,
   "metadata": {
    "collapsed": true
   },
   "outputs": [],
   "source": [
    "import pandas as pd, numpy as np"
   ]
  },
  {
   "cell_type": "code",
   "execution_count": 86,
   "metadata": {
    "collapsed": false
   },
   "outputs": [
    {
     "name": "stderr",
     "output_type": "stream",
     "text": [
      "C:\\Users\\pksohn\\Anaconda\\envs\\ipykernel_py3\\lib\\site-packages\\IPython\\core\\interactiveshell.py:2723: DtypeWarning: Columns (43) have mixed types. Specify dtype option on import or set low_memory=False.\n",
      "  interactivity=interactivity, compiler=compiler, result=result)\n"
     ]
    }
   ],
   "source": [
    "# read in CSV version of HSR dataset\n",
    "\n",
    "raw = pd.read_csv(\"FD25 - CAHSR - 2013_RPSP_Data_Public.csv\", encoding = 'iso-8859-1')"
   ]
  },
  {
   "cell_type": "code",
   "execution_count": 87,
   "metadata": {
    "collapsed": false
   },
   "outputs": [
    {
     "data": {
      "text/html": [
       "<div>\n",
       "<table border=\"1\" class=\"dataframe\">\n",
       "  <thead>\n",
       "    <tr style=\"text-align: right;\">\n",
       "      <th></th>\n",
       "      <th>MODE</th>\n",
       "      <th>SYSTEM</th>\n",
       "      <th>UNID</th>\n",
       "      <th>SAQ</th>\n",
       "      <th>Interview Date</th>\n",
       "      <th>Month of Travel TXT</th>\n",
       "      <th>Year of Travel</th>\n",
       "      <th>System Location</th>\n",
       "      <th>Airline</th>\n",
       "      <th>AIRPORT</th>\n",
       "      <th>...</th>\n",
       "      <th>E6_HSRail_Frequency</th>\n",
       "      <th>E6_HSRail_Access</th>\n",
       "      <th>E6_HSRail_Egress</th>\n",
       "      <th>E6_Air_Travel_Time</th>\n",
       "      <th>E6_Air_Cost</th>\n",
       "      <th>E6_Air_Reliability</th>\n",
       "      <th>E6_Air_Frequency</th>\n",
       "      <th>E6_Air_Access</th>\n",
       "      <th>E6_Air_Egress</th>\n",
       "      <th>E6_EXPNO</th>\n",
       "    </tr>\n",
       "  </thead>\n",
       "  <tbody>\n",
       "    <tr>\n",
       "      <th>0</th>\n",
       "      <td>AIR</td>\n",
       "      <td>SFO</td>\n",
       "      <td>10001</td>\n",
       "      <td>2</td>\n",
       "      <td>20130620</td>\n",
       "      <td>June</td>\n",
       "      <td>2013.0</td>\n",
       "      <td>1</td>\n",
       "      <td>3.0</td>\n",
       "      <td>8.0</td>\n",
       "      <td>...</td>\n",
       "      <td>25</td>\n",
       "      <td>45</td>\n",
       "      <td>40</td>\n",
       "      <td>95</td>\n",
       "      <td>90.0</td>\n",
       "      <td>95.0</td>\n",
       "      <td>20</td>\n",
       "      <td>40</td>\n",
       "      <td>50</td>\n",
       "      <td>44</td>\n",
       "    </tr>\n",
       "    <tr>\n",
       "      <th>1</th>\n",
       "      <td>AIR</td>\n",
       "      <td>SFO</td>\n",
       "      <td>10002</td>\n",
       "      <td>2</td>\n",
       "      <td>20130620</td>\n",
       "      <td>June</td>\n",
       "      <td>2013.0</td>\n",
       "      <td>1</td>\n",
       "      <td>3.0</td>\n",
       "      <td>8.0</td>\n",
       "      <td>...</td>\n",
       "      <td>25</td>\n",
       "      <td>25</td>\n",
       "      <td>50</td>\n",
       "      <td>80</td>\n",
       "      <td>65.0</td>\n",
       "      <td>95.0</td>\n",
       "      <td>30</td>\n",
       "      <td>30</td>\n",
       "      <td>40</td>\n",
       "      <td>38</td>\n",
       "    </tr>\n",
       "    <tr>\n",
       "      <th>2</th>\n",
       "      <td>AIR</td>\n",
       "      <td>SFO</td>\n",
       "      <td>10003</td>\n",
       "      <td>1</td>\n",
       "      <td>20130620</td>\n",
       "      <td>June</td>\n",
       "      <td>2013.0</td>\n",
       "      <td>1</td>\n",
       "      <td>3.0</td>\n",
       "      <td>8.0</td>\n",
       "      <td>...</td>\n",
       "      <td>35</td>\n",
       "      <td>30</td>\n",
       "      <td>60</td>\n",
       "      <td>95</td>\n",
       "      <td>145.0</td>\n",
       "      <td>70.0</td>\n",
       "      <td>30</td>\n",
       "      <td>40</td>\n",
       "      <td>40</td>\n",
       "      <td>20</td>\n",
       "    </tr>\n",
       "    <tr>\n",
       "      <th>3</th>\n",
       "      <td>AIR</td>\n",
       "      <td>SFO</td>\n",
       "      <td>10004</td>\n",
       "      <td>1</td>\n",
       "      <td>20130620</td>\n",
       "      <td>June</td>\n",
       "      <td>2013.0</td>\n",
       "      <td>1</td>\n",
       "      <td>3.0</td>\n",
       "      <td>8.0</td>\n",
       "      <td>...</td>\n",
       "      <td>20</td>\n",
       "      <td>30</td>\n",
       "      <td>30</td>\n",
       "      <td>110</td>\n",
       "      <td>115.0</td>\n",
       "      <td>95.0</td>\n",
       "      <td>30</td>\n",
       "      <td>50</td>\n",
       "      <td>40</td>\n",
       "      <td>50</td>\n",
       "    </tr>\n",
       "    <tr>\n",
       "      <th>4</th>\n",
       "      <td>AIR</td>\n",
       "      <td>SFO</td>\n",
       "      <td>10005</td>\n",
       "      <td>1</td>\n",
       "      <td>20130620</td>\n",
       "      <td>June</td>\n",
       "      <td>2013.0</td>\n",
       "      <td>1</td>\n",
       "      <td>3.0</td>\n",
       "      <td>8.0</td>\n",
       "      <td>...</td>\n",
       "      <td>20</td>\n",
       "      <td>30</td>\n",
       "      <td>30</td>\n",
       "      <td>110</td>\n",
       "      <td>115.0</td>\n",
       "      <td>95.0</td>\n",
       "      <td>30</td>\n",
       "      <td>50</td>\n",
       "      <td>40</td>\n",
       "      <td>50</td>\n",
       "    </tr>\n",
       "  </tbody>\n",
       "</table>\n",
       "<p>5 rows × 193 columns</p>\n",
       "</div>"
      ],
      "text/plain": [
       "  MODE SYSTEM   UNID  SAQ  Interview Date Month of Travel TXT  Year of Travel  \\\n",
       "0  AIR    SFO  10001    2        20130620                June          2013.0   \n",
       "1  AIR    SFO  10002    2        20130620                June          2013.0   \n",
       "2  AIR    SFO  10003    1        20130620                June          2013.0   \n",
       "3  AIR    SFO  10004    1        20130620                June          2013.0   \n",
       "4  AIR    SFO  10005    1        20130620                June          2013.0   \n",
       "\n",
       "  System Location  Airline  AIRPORT    ...     E6_HSRail_Frequency  \\\n",
       "0               1      3.0      8.0    ...                      25   \n",
       "1               1      3.0      8.0    ...                      25   \n",
       "2               1      3.0      8.0    ...                      35   \n",
       "3               1      3.0      8.0    ...                      20   \n",
       "4               1      3.0      8.0    ...                      20   \n",
       "\n",
       "   E6_HSRail_Access  E6_HSRail_Egress  E6_Air_Travel_Time  E6_Air_Cost  \\\n",
       "0                45                40                  95         90.0   \n",
       "1                25                50                  80         65.0   \n",
       "2                30                60                  95        145.0   \n",
       "3                30                30                 110        115.0   \n",
       "4                30                30                 110        115.0   \n",
       "\n",
       "   E6_Air_Reliability  E6_Air_Frequency  E6_Air_Access  E6_Air_Egress  \\\n",
       "0                95.0                20             40             50   \n",
       "1                95.0                30             30             40   \n",
       "2                70.0                30             40             40   \n",
       "3                95.0                30             50             40   \n",
       "4                95.0                30             50             40   \n",
       "\n",
       "   E6_EXPNO  \n",
       "0        44  \n",
       "1        38  \n",
       "2        20  \n",
       "3        50  \n",
       "4        50  \n",
       "\n",
       "[5 rows x 193 columns]"
      ]
     },
     "execution_count": 87,
     "metadata": {},
     "output_type": "execute_result"
    }
   ],
   "source": [
    "raw.head()"
   ]
  },
  {
   "cell_type": "code",
   "execution_count": 88,
   "metadata": {
    "collapsed": true
   },
   "outputs": [],
   "source": [
    "# get SP variable names\n",
    "vars_E6 = [\"E6_Auto_Travel_Time\", \"E6_Auto_Cost\", \"E6_Auto_Reliability\" ,\"E6_HSRail_Travel_Time\" , \"E6_HSRail_Cost\", \n",
    "           \"E6_HSRail_Reliability\", \"E6_HSRail_Frequency\", \"E6_HSRail_Access\", \"E6_HSRail_Egress\",\"E6_Air_Travel_Time\", \n",
    "           \"E6_Air_Cost\", \"E6_Air_Reliability\", \"E6_Air_Frequency\", \"E6_Air_Access\", \"E6_Air_Egress\", \"E6_EXPNO\"]\n",
    "\n",
    "# strip \"E6_\" from above variable names\n",
    "SP = [w.replace(\"E6_\",\"\") for w in vars_E6]\n",
    "\n",
    "# get the core variable names\n",
    "base_vars = raw.columns[0:97].tolist()\n",
    "\n",
    "# create an empty dataframe to append to\n",
    "df = pd.DataFrame()"
   ]
  },
  {
   "cell_type": "code",
   "execution_count": 91,
   "metadata": {
    "collapsed": false
   },
   "outputs": [
    {
     "name": "stderr",
     "output_type": "stream",
     "text": [
      "C:\\Users\\pksohn\\Anaconda\\envs\\ipykernel_py3\\lib\\site-packages\\ipykernel\\__main__.py:9: SettingWithCopyWarning: \n",
      "A value is trying to be set on a copy of a slice from a DataFrame.\n",
      "Try using .loc[row_indexer,col_indexer] = value instead\n",
      "\n",
      "See the caveats in the documentation: http://pandas.pydata.org/pandas-docs/stable/indexing.html#indexing-view-versus-copy\n"
     ]
    }
   ],
   "source": [
    "# this loop creates one row for each SP choice\n",
    "\n",
    "for i in range(1,7):\n",
    "    \n",
    "    # get the string for each SP choice (e.g. \"E6_\")\n",
    "    prefix = \"E\" + str(i) + \"_\"\n",
    "    \n",
    "    # get the SP variables for choice i\n",
    "    iter_vars = [prefix + w for w in SP]\n",
    "    \n",
    "    # dataframe with only base variables and SP vars for choice i\n",
    "    temp_df = raw[base_vars + iter_vars]\n",
    "    \n",
    "    # create a variable denoting which choice in each row\n",
    "    temp_df[\"SP_exp\"] = i\n",
    "    \n",
    "    # drop the prefixes\n",
    "    temp_df = temp_df.rename(columns = {col: col.replace(prefix,\"\") for col in temp_df.columns})\n",
    "    \n",
    "    # append to master dataframe\n",
    "    df = df.append(temp_df,ignore_index=True)"
   ]
  },
  {
   "cell_type": "code",
   "execution_count": 111,
   "metadata": {
    "collapsed": false
   },
   "outputs": [],
   "source": [
    "# create a numeric approximation of income categories using midpoints\n",
    "\n",
    "income_dict = {\n",
    "    1: 2500,\n",
    "    2: np.mean([5000,25000]),\n",
    "    3: np.mean([25000,50000]),\n",
    "    4: np.mean([50000,75000]),\n",
    "    5: np.mean([75000,100000]),\n",
    "    6: np.mean([100000,150000]),\n",
    "    7: np.mean([150000,200000]),\n",
    "    8: 250000,\n",
    "    9: None,\n",
    "    10: None,\n",
    "    0: None\n",
    "}\n",
    "\n",
    "df[\"hh_income\"] = df.apply(lambda row: income_dict[row[\"HHINC\"]],axis=1)\n",
    "\n",
    "# create per-capita income variable\n",
    "\n",
    "df[\"per_cap_income\"] = df.apply(lambda row: row[\"hh_income\"] / row[\"HHSIZE\"] if (row[\"HHSIZE\"] < 7) &  (row[\"HHSIZE\"] != 0) else None, axis = 1)"
   ]
  },
  {
   "cell_type": "markdown",
   "metadata": {},
   "source": [
    "Formula for expenditure rate from \"INTRODUCING THE EXPENDITURE RATE IN THE ESTIMATION OF MODE CHOICE MODELS\", Jara-Diaz, S R and\n",
    "De DOIS ORTUZAR, J, 1989:\n",
    "\n",
    "$$\n",
    "g = k * \\frac{PCFI}{168 - W}\n",
    "$$\n",
    "\n",
    "Where g is expenditure rate, k is a constant to express g in certain units (here we will use $/hr), PCFI is per capita family income, W is working hours in a week, and 168 is the number of hours in a week."
   ]
  },
  {
   "cell_type": "code",
   "execution_count": 131,
   "metadata": {
    "collapsed": false
   },
   "outputs": [
    {
     "name": "stderr",
     "output_type": "stream",
     "text": [
      "C:\\Users\\pksohn\\Anaconda\\envs\\ipykernel_py3\\lib\\site-packages\\ipykernel\\__main__.py:4: SettingWithCopyWarning: \n",
      "A value is trying to be set on a copy of a slice from a DataFrame\n",
      "\n",
      "See the caveats in the documentation: http://pandas.pydata.org/pandas-docs/stable/indexing.html#indexing-view-versus-copy\n"
     ]
    }
   ],
   "source": [
    "# create expenditure rate variable\n",
    "\n",
    "df[\"empstat_miss\"] = df[\"EMPSTAT\"]\n",
    "df.empstat_miss[(df.empstat_miss == 7) | (df.empstat_miss == 8) | (df.empstat_miss == 9) | (df.empstat_miss == 0)] = None\n",
    "\n",
    "workweek_dict = {\n",
    "    1: 40,\n",
    "    2: 20,\n",
    "    3: 0,\n",
    "    4: 40,\n",
    "    5: 0,\n",
    "    6: 40,\n",
    "    7: 20\n",
    "}\n",
    "\n",
    "df[\"avail_time\"] = df.apply(lambda row: 168 - workweek_dict[row[\"empstat_miss\"]] if ~ np.isnan(row[\"empstat_miss\"]) else None, axis = 1)\n",
    "df[\"exp_rate\"] = df.apply(lambda row: ((row[\"per_cap_income\"] / 52) / row[\"avail_time\"]) , axis = 1)\n"
   ]
  },
  {
   "cell_type": "code",
   "execution_count": 132,
   "metadata": {
    "collapsed": false
   },
   "outputs": [
    {
     "data": {
      "text/plain": [
       "count    20382.000000\n",
       "mean         8.185387\n",
       "std          6.476089\n",
       "min          0.047695\n",
       "25%          3.286508\n",
       "50%          6.573017\n",
       "75%         10.016026\n",
       "max         37.560096\n",
       "Name: exp_rate, dtype: float64"
      ]
     },
     "execution_count": 132,
     "metadata": {},
     "output_type": "execute_result"
    }
   ],
   "source": [
    "df.exp_rate.describe()"
   ]
  },
  {
   "cell_type": "code",
   "execution_count": 154,
   "metadata": {
    "collapsed": false
   },
   "outputs": [],
   "source": [
    "# Travel Cost variables\n",
    "\n",
    "# CAR\n",
    "df[\"CV_OVER_G_Car\"] = (df.COST_GAS + df.TOLL_MAIN + df.COST_OTHAUTO) / df.exp_rate\n",
    "df[\"CV2_OVER_GI_Car\"] = (df[\"CV_OVER_G_Car\"] ** 2) / (df.exp_rate * df.per_cap_income)\n",
    "# income variable used is per-capita family income\n",
    "\n",
    "# AIR RP\n",
    "df[\"AIRFARE_num\"] = df.AIRFARE\n",
    "df.AIRFARE_num = pd.to_numeric(df.AIRFARE_num, errors= \"coerce\")\n",
    "df[\"CV_OVER_G_Air_RP\"] = df.AIRFARE_num.astype(float) + df.ACC_PRK + df.ACC_TOLL + df.ACC_FARE+ df.EGR_PRK + df.EGR_TOLL + df.EGR_FARE\n",
    "df[\"CV2_OVER_GI_Air_RP\"] = (df[\"CV_OVER_G_Air_RP\"] ** 2) / (df.exp_rate * df.per_cap_income)\n",
    "\n",
    "# RAIL\n",
    "df[\"CV_OVER_G_HS_Rail\"] = df.HSRail_Cost\n",
    "df[\"CV2_OVER_GI_HS_Rail\"] =  (df[\"CV_OVER_G_HS_Rail\"] ** 2) / (df.exp_rate * df.per_cap_income)\n",
    "\n",
    "# AIR SP\n",
    "df[\"CV_OVER_G_Air_SP\"] = df.Air_Cost\n",
    "df[\"CV2_OVER_GI_Air_SP\"] = (df[\"CV_OVER_G_Air_SP\"] ** 2) / (df.exp_rate * df.per_cap_income)"
   ]
  },
  {
   "cell_type": "code",
   "execution_count": 160,
   "metadata": {
    "collapsed": false
   },
   "outputs": [],
   "source": [
    "# Convert categorical access time variables to numeric\n",
    "\n",
    "access_capital_caltrain = {\n",
    "    1: np.mean([0,5]),\n",
    "    2: np.mean([5,9]),\n",
    "    3: np.mean([10,14]),\n",
    "    4: np.mean([15,19]),\n",
    "    5: np.mean([20,29]),\n",
    "    6: 40,\n",
    "    7: None,\n",
    "    0: None\n",
    "}\n",
    "\n",
    "access_metrolink = {\n",
    "    1: np.mean([0,5]),\n",
    "    2: np.mean([5,9]),\n",
    "    3: np.mean([10,14]),\n",
    "    4: np.mean([15,19]),\n",
    "    5: np.mean([20,29]),\n",
    "    6: np.mean([30,44]),\n",
    "    7: np.mean([45,59]),\n",
    "    8: 75,\n",
    "    9: None,\n",
    "    0: None\n",
    "}\n",
    "\n",
    "access_air = {\n",
    "    1: np.mean([0,15]),\n",
    "    2: np.mean([15,19]),\n",
    "    3: np.mean([20,29]),\n",
    "    4: np.mean([30,44]),\n",
    "    5: np.mean([45,59]),\n",
    "    6: np.mean([60,74]),\n",
    "    7: np.mean([75,89]),\n",
    "    8: np.mean([90,119]),\n",
    "    9: np.mean([120,180]),\n",
    "    10: 210,\n",
    "    11: None,\n",
    "    0: None\n",
    "}\n",
    "\n",
    "def access_time(row):\n",
    "    if row[\"MODE\"] == \"AIR\":\n",
    "        return access_air[row[\"T2ACESS\"]]\n",
    "    elif (row[\"MODE\"] == \"RAIL\") & ((row[\"SYSTEM\"] == \"CALTRAIN\") | (row[\"SYSTEM\"] == \"CAPITOL CORRIDOR\")):\n",
    "        return access_capital_caltrain[row[\"T2ACESS\"]]\n",
    "    elif (row[\"MODE\"] == \"RAIL\") & ((row[\"SYSTEM\"] == \"METROLINK\") | (row[\"SYSTEM\"] == \"AMTRAK CENTRAL CA\")):\n",
    "        return access_metrolink[row[\"T2ACESS\"]]\n",
    "\n",
    "df[\"access_time\"] = None\n",
    "df[\"access_time\"] = df.apply(access_time,axis=1)"
   ]
  },
  {
   "cell_type": "code",
   "execution_count": 163,
   "metadata": {
    "collapsed": false
   },
   "outputs": [],
   "source": [
    "# Convert categorical access time variables to numeric - PART II\n",
    "\n",
    "fndes_rail = {\n",
    "    1: np.mean([0,5]),\n",
    "    2: np.mean([5,9]),\n",
    "    3: np.mean([10,14]),\n",
    "    4: np.mean([15,19]),\n",
    "    5: np.mean([20,29]),\n",
    "    6: 40,\n",
    "    7: None,\n",
    "    0: None\n",
    "}\n",
    "\n",
    "\n",
    "fndes_air = {\n",
    "    1: np.mean([0,15]),\n",
    "    2: np.mean([15,19]),\n",
    "    3: np.mean([20,29]),\n",
    "    4: np.mean([30,44]),\n",
    "    5: np.mean([45,59]),\n",
    "    6: np.mean([60,74]),\n",
    "    7: np.mean([75,89]),\n",
    "    8: np.mean([90,119]),\n",
    "    9: np.mean([120,180]),\n",
    "    10: 210,\n",
    "    11: None,\n",
    "    0: None\n",
    "}\n",
    "\n",
    "def fndes_time(row):\n",
    "    if row[\"MODE\"] == \"AIR\":\n",
    "        return fndes_air[row[\"T2FNDES\"]]\n",
    "    elif row[\"MODE\"] == \"RAIL\":\n",
    "        return fndes_rail[row[\"T2FNDES\"]]\n",
    "\n",
    "df[\"fndes_time\"] = None\n",
    "df[\"fndes_time\"] = df.apply(fndes_time,axis=1)"
   ]
  },
  {
   "cell_type": "code",
   "execution_count": 164,
   "metadata": {
    "collapsed": true
   },
   "outputs": [],
   "source": [
    "# Convert categorical board time variables to numeric\n",
    "\n",
    "\n",
    "def board_time(row):\n",
    "    if row[\"MODE\"] == \"AIR\":\n",
    "        return access_air[row[\"T2BRD\"]]\n",
    "    elif row[\"MODE\"] == \"RAIL\":\n",
    "        return access_capital_caltrain[row[\"T2BRD\"]]\n",
    "\n",
    "df[\"brd_time\"] = None\n",
    "df[\"brd_time\"] = df.apply(board_time,axis=1)"
   ]
  },
  {
   "cell_type": "code",
   "execution_count": 165,
   "metadata": {
    "collapsed": true
   },
   "outputs": [],
   "source": [
    "df.to_csv(\"HSR_dataset.dat\",sep='\\t')"
   ]
  },
  {
   "cell_type": "code",
   "execution_count": null,
   "metadata": {
    "collapsed": true
   },
   "outputs": [],
   "source": [
    "# Filter dataset for LA/SF market\n",
    "\n",
    "# NEed to discuss - dependent on mode"
   ]
  }
 ],
 "metadata": {
  "kernelspec": {
   "display_name": "Python 3",
   "language": "python",
   "name": "python3"
  },
  "language_info": {
   "codemirror_mode": {
    "name": "ipython",
    "version": 3
   },
   "file_extension": ".py",
   "mimetype": "text/x-python",
   "name": "python",
   "nbconvert_exporter": "python",
   "pygments_lexer": "ipython3",
   "version": "3.5.1"
  }
 },
 "nbformat": 4,
 "nbformat_minor": 0
}
