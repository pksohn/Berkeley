{
 "metadata": {
  "name": "",
  "signature": "sha256:101a8cfd605d75cfb2c2d8700f8854a22b20189da90cff10bdcce3ef1a5eef36"
 },
 "nbformat": 3,
 "nbformat_minor": 0,
 "worksheets": [
  {
   "cells": [
    {
     "cell_type": "markdown",
     "metadata": {},
     "source": [
      "Calculates rough per-capita VMT for a set of census tracts from the California Household Travel Survey.\n",
      "\n",
      "Methodology:\n",
      "\n",
      "Persons-level dataset was cleaned by:\n",
      "* Removing duplicate trips using trip distance as \"unique\" identifier (this is rough but should work since trip distance is calculated to 6 decimal places)\n",
      "* Removing trips that did not have a vehicle number associated with it\n",
      "\n",
      "The household home census tract for each person that took a trip was added to the place dataset. Trips were then filtered by geography. The per-capita VMT number is the sum of unique vehicle distances for those that live in the census tracts, divided by the number of people in the dataset that live in the census tracts."
     ]
    },
    {
     "cell_type": "code",
     "collapsed": false,
     "input": [
      "import pandas as pd, os, re, numpy as np, collections as co\n",
      "import matplotlib.pyplot as plt\n",
      "import vincent, tabulate"
     ],
     "language": "python",
     "metadata": {},
     "outputs": [],
     "prompt_number": 135
    },
    {
     "cell_type": "code",
     "collapsed": false,
     "input": [
      "# manually set directory\n",
      "dir = \"C:\\\\Users\\\\pksohn\\\\Box Sync\\\\ARB-SG project\\\\3 Case Studies\\\\VMT analysis\\\\CHTS Python Analysis for per capita VMT\"\n",
      "os.chdir(dir)"
     ],
     "language": "python",
     "metadata": {},
     "outputs": [],
     "prompt_number": 136
    },
    {
     "cell_type": "code",
     "collapsed": false,
     "input": [
      "# manually set file name for list of relevant tracts\n",
      "\n",
      "geo = pd.read_csv(\"tracts_SJ_expanded.csv\", dtype={'tracts':'str'})"
     ],
     "language": "python",
     "metadata": {},
     "outputs": [],
     "prompt_number": 137
    },
    {
     "cell_type": "code",
     "collapsed": false,
     "input": [
      "geo"
     ],
     "language": "python",
     "metadata": {},
     "outputs": [
      {
       "html": [
        "<div style=\"max-height:1000px;max-width:1500px;overflow:auto;\">\n",
        "<table border=\"1\" class=\"dataframe\">\n",
        "  <thead>\n",
        "    <tr style=\"text-align: right;\">\n",
        "      <th></th>\n",
        "      <th>tracts</th>\n",
        "    </tr>\n",
        "  </thead>\n",
        "  <tbody>\n",
        "    <tr>\n",
        "      <th>0</th>\n",
        "      <td> 06085500300</td>\n",
        "    </tr>\n",
        "    <tr>\n",
        "      <th>1</th>\n",
        "      <td> 06085501900</td>\n",
        "    </tr>\n",
        "    <tr>\n",
        "      <th>2</th>\n",
        "      <td> 06085500600</td>\n",
        "    </tr>\n",
        "    <tr>\n",
        "      <th>3</th>\n",
        "      <td> 06085500800</td>\n",
        "    </tr>\n",
        "    <tr>\n",
        "      <th>4</th>\n",
        "      <td> 06085500500</td>\n",
        "    </tr>\n",
        "    <tr>\n",
        "      <th>5</th>\n",
        "      <td> 06085500200</td>\n",
        "    </tr>\n",
        "    <tr>\n",
        "      <th>6</th>\n",
        "      <td> 06085501800</td>\n",
        "    </tr>\n",
        "    <tr>\n",
        "      <th>7</th>\n",
        "      <td> 06085502002</td>\n",
        "    </tr>\n",
        "  </tbody>\n",
        "</table>\n",
        "</div>"
       ],
       "metadata": {},
       "output_type": "pyout",
       "prompt_number": 138,
       "text": [
        "        tracts\n",
        "0  06085500300\n",
        "1  06085501900\n",
        "2  06085500600\n",
        "3  06085500800\n",
        "4  06085500500\n",
        "5  06085500200\n",
        "6  06085501800\n",
        "7  06085502002"
       ]
      }
     ],
     "prompt_number": 138
    },
    {
     "cell_type": "code",
     "collapsed": false,
     "input": [
      "households = pd.read_csv('households.csv', dtype={'hctract':'string'})\n",
      "persons = pd.read_csv('persons.csv')\n",
      "places = pd.read_csv('place.csv')\n",
      "activity = pd.read_csv('activitiy.csv')"
     ],
     "language": "python",
     "metadata": {},
     "outputs": [],
     "prompt_number": 139
    },
    {
     "cell_type": "code",
     "collapsed": false,
     "input": [
      "places[['sampn','perno','plano','tottr','hhmem','mode','vehno','tripdistance']].head()"
     ],
     "language": "python",
     "metadata": {},
     "outputs": [
      {
       "html": [
        "<div style=\"max-height:1000px;max-width:1500px;overflow:auto;\">\n",
        "<table border=\"1\" class=\"dataframe\">\n",
        "  <thead>\n",
        "    <tr style=\"text-align: right;\">\n",
        "      <th></th>\n",
        "      <th>sampn</th>\n",
        "      <th>perno</th>\n",
        "      <th>plano</th>\n",
        "      <th>tottr</th>\n",
        "      <th>hhmem</th>\n",
        "      <th>mode</th>\n",
        "      <th>vehno</th>\n",
        "      <th>tripdistance</th>\n",
        "    </tr>\n",
        "  </thead>\n",
        "  <tbody>\n",
        "    <tr>\n",
        "      <th>0</th>\n",
        "      <td> 1031985</td>\n",
        "      <td> 1</td>\n",
        "      <td> 1</td>\n",
        "      <td>NaN</td>\n",
        "      <td>NaN</td>\n",
        "      <td>NaN</td>\n",
        "      <td>NaN</td>\n",
        "      <td>       NaN</td>\n",
        "    </tr>\n",
        "    <tr>\n",
        "      <th>1</th>\n",
        "      <td> 1031985</td>\n",
        "      <td> 2</td>\n",
        "      <td> 1</td>\n",
        "      <td>NaN</td>\n",
        "      <td>NaN</td>\n",
        "      <td>NaN</td>\n",
        "      <td>NaN</td>\n",
        "      <td>       NaN</td>\n",
        "    </tr>\n",
        "    <tr>\n",
        "      <th>2</th>\n",
        "      <td> 1031985</td>\n",
        "      <td> 1</td>\n",
        "      <td> 2</td>\n",
        "      <td>  2</td>\n",
        "      <td>  0</td>\n",
        "      <td>  6</td>\n",
        "      <td> 97</td>\n",
        "      <td> 13.428271</td>\n",
        "    </tr>\n",
        "    <tr>\n",
        "      <th>3</th>\n",
        "      <td> 1031985</td>\n",
        "      <td> 2</td>\n",
        "      <td> 2</td>\n",
        "      <td>  1</td>\n",
        "      <td>  0</td>\n",
        "      <td>  5</td>\n",
        "      <td>  1</td>\n",
        "      <td>  5.125960</td>\n",
        "    </tr>\n",
        "    <tr>\n",
        "      <th>4</th>\n",
        "      <td> 1031985</td>\n",
        "      <td> 2</td>\n",
        "      <td> 3</td>\n",
        "      <td>  1</td>\n",
        "      <td>  0</td>\n",
        "      <td>  5</td>\n",
        "      <td>  1</td>\n",
        "      <td>  5.126981</td>\n",
        "    </tr>\n",
        "  </tbody>\n",
        "</table>\n",
        "</div>"
       ],
       "metadata": {},
       "output_type": "pyout",
       "prompt_number": 140,
       "text": [
        "     sampn  perno  plano  tottr  hhmem  mode  vehno  tripdistance\n",
        "0  1031985      1      1    NaN    NaN   NaN    NaN           NaN\n",
        "1  1031985      2      1    NaN    NaN   NaN    NaN           NaN\n",
        "2  1031985      1      2      2      0     6     97     13.428271\n",
        "3  1031985      2      2      1      0     5      1      5.125960\n",
        "4  1031985      2      3      1      0     5      1      5.126981"
       ]
      }
     ],
     "prompt_number": 140
    },
    {
     "cell_type": "heading",
     "level": 5,
     "metadata": {},
     "source": [
      "Data cleaning: Places"
     ]
    },
    {
     "cell_type": "code",
     "collapsed": false,
     "input": [
      "# Drop places with tripdistance = NaN\n",
      "places = places[places['tripdistance'].notnull()]\n",
      "places[['sampn','perno','plano','tottr','hhmem','mode','vehno','tripdistance']].head()"
     ],
     "language": "python",
     "metadata": {},
     "outputs": [
      {
       "html": [
        "<div style=\"max-height:1000px;max-width:1500px;overflow:auto;\">\n",
        "<table border=\"1\" class=\"dataframe\">\n",
        "  <thead>\n",
        "    <tr style=\"text-align: right;\">\n",
        "      <th></th>\n",
        "      <th>sampn</th>\n",
        "      <th>perno</th>\n",
        "      <th>plano</th>\n",
        "      <th>tottr</th>\n",
        "      <th>hhmem</th>\n",
        "      <th>mode</th>\n",
        "      <th>vehno</th>\n",
        "      <th>tripdistance</th>\n",
        "    </tr>\n",
        "  </thead>\n",
        "  <tbody>\n",
        "    <tr>\n",
        "      <th>2 </th>\n",
        "      <td> 1031985</td>\n",
        "      <td> 1</td>\n",
        "      <td> 2</td>\n",
        "      <td> 2</td>\n",
        "      <td> 0</td>\n",
        "      <td> 6</td>\n",
        "      <td> 97</td>\n",
        "      <td> 13.428271</td>\n",
        "    </tr>\n",
        "    <tr>\n",
        "      <th>3 </th>\n",
        "      <td> 1031985</td>\n",
        "      <td> 2</td>\n",
        "      <td> 2</td>\n",
        "      <td> 1</td>\n",
        "      <td> 0</td>\n",
        "      <td> 5</td>\n",
        "      <td>  1</td>\n",
        "      <td>  5.125960</td>\n",
        "    </tr>\n",
        "    <tr>\n",
        "      <th>4 </th>\n",
        "      <td> 1031985</td>\n",
        "      <td> 2</td>\n",
        "      <td> 3</td>\n",
        "      <td> 1</td>\n",
        "      <td> 0</td>\n",
        "      <td> 5</td>\n",
        "      <td>  1</td>\n",
        "      <td>  5.126981</td>\n",
        "    </tr>\n",
        "    <tr>\n",
        "      <th>5 </th>\n",
        "      <td> 1031985</td>\n",
        "      <td> 1</td>\n",
        "      <td> 3</td>\n",
        "      <td> 2</td>\n",
        "      <td> 0</td>\n",
        "      <td> 6</td>\n",
        "      <td> 97</td>\n",
        "      <td> 12.975526</td>\n",
        "    </tr>\n",
        "    <tr>\n",
        "      <th>11</th>\n",
        "      <td> 1032036</td>\n",
        "      <td> 2</td>\n",
        "      <td> 2</td>\n",
        "      <td> 2</td>\n",
        "      <td> 0</td>\n",
        "      <td> 6</td>\n",
        "      <td> 97</td>\n",
        "      <td> 10.466616</td>\n",
        "    </tr>\n",
        "  </tbody>\n",
        "</table>\n",
        "</div>"
       ],
       "metadata": {},
       "output_type": "pyout",
       "prompt_number": 141,
       "text": [
        "      sampn  perno  plano  tottr  hhmem  mode  vehno  tripdistance\n",
        "2   1031985      1      2      2      0     6     97     13.428271\n",
        "3   1031985      2      2      1      0     5      1      5.125960\n",
        "4   1031985      2      3      1      0     5      1      5.126981\n",
        "5   1031985      1      3      2      0     6     97     12.975526\n",
        "11  1032036      2      2      2      0     6     97     10.466616"
       ]
      }
     ],
     "prompt_number": 141
    },
    {
     "cell_type": "code",
     "collapsed": false,
     "input": [
      "# Remove duplicate trip distances\n",
      "# This is simply assuming that any two trips with the same trip distance (to 6 decimal places) is a duplicate trip (i.e. two household members in the same car)\n",
      "\n",
      "places = places.drop_duplicates(subset='tripdistance')\n",
      "places[['sampn','perno','plano','tottr','hhmem','mode','vehno','tripdistance']].head()\n",
      "print len(places)"
     ],
     "language": "python",
     "metadata": {},
     "outputs": [
      {
       "output_type": "stream",
       "stream": "stdout",
       "text": [
        "232753\n"
       ]
      }
     ],
     "prompt_number": 142
    },
    {
     "cell_type": "code",
     "collapsed": false,
     "input": [
      "# Drop places with vehno = NaN (assuming that all vehicle trips have a vehicle number)\n",
      "# Vehno is unique household vehicle number. 97 is \"non-household vehicle\", only recorded if mode is auto driver, passenger, carpool, or motocycle.\n",
      "\n",
      "places = places[places['vehno'].notnull()]\n",
      "places[['sampn','perno','plano','tottr','hhmem','mode','vehno','tripdistance']].head()\n",
      "print len(places)\n",
      "print places.vehno.unique()"
     ],
     "language": "python",
     "metadata": {},
     "outputs": [
      {
       "output_type": "stream",
       "stream": "stdout",
       "text": [
        "195451\n",
        "[ 97.   1.   2.   3.   4.   5.   7.   6.   8.]\n"
       ]
      }
     ],
     "prompt_number": 143
    },
    {
     "cell_type": "heading",
     "level": 5,
     "metadata": {},
     "source": [
      "Data Cleaning: Households"
     ]
    },
    {
     "cell_type": "code",
     "collapsed": false,
     "input": [
      "# get home location from household level data\n",
      "\n",
      "households = households.rename(columns = {'sampno':'sampn'})\n",
      "households.ctfip = str(0) + households.ctfip.astype(str)\n",
      "households = households.set_index(households.sampn)"
     ],
     "language": "python",
     "metadata": {},
     "outputs": [],
     "prompt_number": 144
    },
    {
     "cell_type": "code",
     "collapsed": false,
     "input": [
      "# clean census tract FIPS codes and create geoid\n",
      "\n",
      "def tract_clean(df):\n",
      "    \n",
      "    df['hctract'] = df['hctract'].astype(str)\n",
      "    \n",
      "    df.hctract.loc[df.hctract.str.len() == 3] = \"000\" + df.hctract.loc[df.hctract.str.len() == 3]\n",
      "    df.hctract.loc[df.hctract.str.len() == 4] = \"00\" + df.hctract.loc[df.hctract.str.len() == 4]\n",
      "    df.hctract.loc[df.hctract.str.len() == 5] = \"0\" + df.hctract.loc[df.hctract.str.len() == 5]\n",
      "    \n",
      "    df['geoid'] = df.ctfip + df.hctract\n",
      "        \n",
      "    return df"
     ],
     "language": "python",
     "metadata": {},
     "outputs": [],
     "prompt_number": 145
    },
    {
     "cell_type": "code",
     "collapsed": false,
     "input": [
      "households = tract_clean(households)"
     ],
     "language": "python",
     "metadata": {},
     "outputs": [],
     "prompt_number": 146
    },
    {
     "cell_type": "code",
     "collapsed": false,
     "input": [
      "households[['sampn','ctfip','hctract','geoid']].head()"
     ],
     "language": "python",
     "metadata": {},
     "outputs": [
      {
       "html": [
        "<div style=\"max-height:1000px;max-width:1500px;overflow:auto;\">\n",
        "<table border=\"1\" class=\"dataframe\">\n",
        "  <thead>\n",
        "    <tr style=\"text-align: right;\">\n",
        "      <th></th>\n",
        "      <th>sampn</th>\n",
        "      <th>ctfip</th>\n",
        "      <th>hctract</th>\n",
        "      <th>geoid</th>\n",
        "    </tr>\n",
        "    <tr>\n",
        "      <th>sampn</th>\n",
        "      <th></th>\n",
        "      <th></th>\n",
        "      <th></th>\n",
        "      <th></th>\n",
        "    </tr>\n",
        "  </thead>\n",
        "  <tbody>\n",
        "    <tr>\n",
        "      <th>1031985</th>\n",
        "      <td> 1031985</td>\n",
        "      <td> 06095</td>\n",
        "      <td> 252202</td>\n",
        "      <td> 06095252202</td>\n",
        "    </tr>\n",
        "    <tr>\n",
        "      <th>1032036</th>\n",
        "      <td> 1032036</td>\n",
        "      <td> 06073</td>\n",
        "      <td> 017030</td>\n",
        "      <td> 06073017030</td>\n",
        "    </tr>\n",
        "    <tr>\n",
        "      <th>1032053</th>\n",
        "      <td> 1032053</td>\n",
        "      <td> 06047</td>\n",
        "      <td> 001602</td>\n",
        "      <td> 06047001602</td>\n",
        "    </tr>\n",
        "    <tr>\n",
        "      <th>1032425</th>\n",
        "      <td> 1032425</td>\n",
        "      <td> 06083</td>\n",
        "      <td> 002930</td>\n",
        "      <td> 06083002930</td>\n",
        "    </tr>\n",
        "    <tr>\n",
        "      <th>1032558</th>\n",
        "      <td> 1032558</td>\n",
        "      <td> 06037</td>\n",
        "      <td> 242300</td>\n",
        "      <td> 06037242300</td>\n",
        "    </tr>\n",
        "  </tbody>\n",
        "</table>\n",
        "</div>"
       ],
       "metadata": {},
       "output_type": "pyout",
       "prompt_number": 147,
       "text": [
        "           sampn  ctfip hctract        geoid\n",
        "sampn                                       \n",
        "1031985  1031985  06095  252202  06095252202\n",
        "1032036  1032036  06073  017030  06073017030\n",
        "1032053  1032053  06047  001602  06047001602\n",
        "1032425  1032425  06083  002930  06083002930\n",
        "1032558  1032558  06037  242300  06037242300"
       ]
      }
     ],
     "prompt_number": 147
    },
    {
     "cell_type": "heading",
     "level": 5,
     "metadata": {},
     "source": [
      "Joining Data"
     ]
    },
    {
     "cell_type": "code",
     "collapsed": false,
     "input": [
      "# join geoid to place level\n",
      "\n",
      "places = places.join(households['geoid'],on = 'sampn',how = 'left')"
     ],
     "language": "python",
     "metadata": {},
     "outputs": [],
     "prompt_number": 148
    },
    {
     "cell_type": "code",
     "collapsed": false,
     "input": [
      "# filter persons dataset for tracts\n",
      "\n",
      "places_geo = places[places.geoid.isin(geo.tracts)]"
     ],
     "language": "python",
     "metadata": {},
     "outputs": [],
     "prompt_number": 149
    },
    {
     "cell_type": "code",
     "collapsed": false,
     "input": [
      "print len(places_geo)\n",
      "print len(households[households.geoid.isin(geo.tracts)])"
     ],
     "language": "python",
     "metadata": {},
     "outputs": [
      {
       "output_type": "stream",
       "stream": "stdout",
       "text": [
        "308\n",
        "52\n"
       ]
      }
     ],
     "prompt_number": 150
    },
    {
     "cell_type": "code",
     "collapsed": false,
     "input": [
      "# calculate sum of trip distances in geo\n",
      "\n",
      "tripsum = places_geo.tripdistance.sum()\n",
      "print tripsum"
     ],
     "language": "python",
     "metadata": {},
     "outputs": [
      {
       "output_type": "stream",
       "stream": "stdout",
       "text": [
        "3576.016485\n"
       ]
      }
     ],
     "prompt_number": 151
    },
    {
     "cell_type": "code",
     "collapsed": false,
     "input": [
      "# join geoid to persons dataset\n",
      "\n",
      "persons = persons.join(households['geoid'],on = 'sampn',how = 'left')"
     ],
     "language": "python",
     "metadata": {},
     "outputs": [],
     "prompt_number": 152
    },
    {
     "cell_type": "code",
     "collapsed": false,
     "input": [
      "# should check whether persons with incomplete had trips reported in the place-level data\n",
      "# it appears that there are no trips recorded in the place level dataset for persons that had a \"1\" for incomplete in the persons dataset\n",
      "\n",
      "persons['perno_unique'] = persons.sampn + persons.perno\n",
      "places['perno_unique'] = places.sampn + places.perno\n",
      "places = places.join(persons['incomplete'],on = 'perno_unique',how = 'left')\n",
      "places['incomplete'].value_counts()"
     ],
     "language": "python",
     "metadata": {},
     "outputs": [
      {
       "metadata": {},
       "output_type": "pyout",
       "prompt_number": 153,
       "text": [
        "Series([], dtype: int64)"
       ]
      }
     ],
     "prompt_number": 153
    },
    {
     "cell_type": "code",
     "collapsed": false,
     "input": [
      "# incomplete = 1 if person did not report travel\n",
      "\n",
      "persons['incomplete'].value_counts()"
     ],
     "language": "python",
     "metadata": {},
     "outputs": [
      {
       "metadata": {},
       "output_type": "pyout",
       "prompt_number": 154,
       "text": [
        "1    335\n",
        "dtype: int64"
       ]
      }
     ],
     "prompt_number": 154
    },
    {
     "cell_type": "heading",
     "level": 5,
     "metadata": {},
     "source": [
      "Calculation"
     ]
    },
    {
     "cell_type": "code",
     "collapsed": false,
     "input": [
      "# get dataset of persons that are in a household that is located in the specified census tracts\n",
      "\n",
      "persons_geo = persons[persons.geoid.isin(geo.tracts)]"
     ],
     "language": "python",
     "metadata": {},
     "outputs": [],
     "prompt_number": 155
    },
    {
     "cell_type": "code",
     "collapsed": false,
     "input": [
      "# get number of persons in that geography, excluding those that had an incomplete = 1\n",
      "\n",
      "personslen = len(persons_geo[persons_geo.incomplete != 1])"
     ],
     "language": "python",
     "metadata": {},
     "outputs": [],
     "prompt_number": 156
    },
    {
     "cell_type": "code",
     "collapsed": false,
     "input": [
      "print tripsum/personslen"
     ],
     "language": "python",
     "metadata": {},
     "outputs": [
      {
       "output_type": "stream",
       "stream": "stdout",
       "text": [
        "25.1832146831\n"
       ]
      }
     ],
     "prompt_number": 157
    },
    {
     "cell_type": "heading",
     "level": 5,
     "metadata": {},
     "source": [
      "Alternate Calculation (using Janice's method)"
     ]
    },
    {
     "cell_type": "code",
     "collapsed": false,
     "input": [
      "# load datasets again\n",
      "\n",
      "households2 = pd.read_csv('households.csv', dtype={'hctract':'string'})\n",
      "persons2 = pd.read_csv('persons.csv')\n",
      "places2 = pd.read_csv('place.csv')"
     ],
     "language": "python",
     "metadata": {},
     "outputs": [],
     "prompt_number": 158
    },
    {
     "cell_type": "code",
     "collapsed": false,
     "input": [
      "# Drop places with tripdistance = NaN\n",
      "places2 = places2[places2['tripdistance'].notnull()]"
     ],
     "language": "python",
     "metadata": {},
     "outputs": [],
     "prompt_number": 159
    },
    {
     "cell_type": "code",
     "collapsed": false,
     "input": [
      "# Remove duplicate trip distances\n",
      "# Creates unique identifier using arrival time, place name, and number of household members in vehicle  \n",
      "\n",
      "places2['arr_time'] = places2.arr_hr + places2.arr_min\n",
      "places2['uniqueid'] = places2.arr_time.astype('str') + places2.sampn.astype('str') + places2.hhmem.astype('str') + places2.pname\n",
      "len(places2)"
     ],
     "language": "python",
     "metadata": {},
     "outputs": [
      {
       "metadata": {},
       "output_type": "pyout",
       "prompt_number": 160,
       "text": [
        "349385"
       ]
      }
     ],
     "prompt_number": 160
    },
    {
     "cell_type": "code",
     "collapsed": false,
     "input": [
      "# drop duplicate identifiers\n",
      "\n",
      "places2 = places2.drop_duplicates(subset='uniqueid')\n",
      "len(places2)"
     ],
     "language": "python",
     "metadata": {},
     "outputs": [
      {
       "metadata": {},
       "output_type": "pyout",
       "prompt_number": 161,
       "text": [
        "260523"
       ]
      }
     ],
     "prompt_number": 161
    },
    {
     "cell_type": "code",
     "collapsed": false,
     "input": [
      "# drop cases where there is no vehicle number (consistent with first method)\n",
      "\n",
      "places2 = places2[places2['vehno'].notnull()]\n",
      "print len(places2)\n",
      "print places2.vehno.unique()"
     ],
     "language": "python",
     "metadata": {},
     "outputs": [
      {
       "output_type": "stream",
       "stream": "stdout",
       "text": [
        "206845\n",
        "[ 97.   1.   2.   3.   4.   5.   7.   6.   8.]\n"
       ]
      }
     ],
     "prompt_number": 162
    },
    {
     "cell_type": "code",
     "collapsed": false,
     "input": [
      "# get home location from household level data\n",
      "\n",
      "households2 = households2.rename(columns = {'sampno':'sampn'})\n",
      "households2.ctfip = str(0) + households2.ctfip.astype(str)\n",
      "households2 = households2.set_index(households.sampn)\n",
      "households2 = tract_clean(households2)\n",
      "\n",
      "# join geoid to place level\n",
      "\n",
      "places2 = places2.join(households2['geoid'],on = 'sampn',how = 'left')\n",
      "\n",
      "# filter persons dataset for tracts\n",
      "\n",
      "places2_geo = places2[places2.geoid.isin(geo.tracts)]"
     ],
     "language": "python",
     "metadata": {},
     "outputs": [],
     "prompt_number": 163
    },
    {
     "cell_type": "code",
     "collapsed": false,
     "input": [
      "# calculate sum of trip distances in geo\n",
      "\n",
      "tripsum2 = places2_geo.tripdistance.sum()\n",
      "print tripsum2"
     ],
     "language": "python",
     "metadata": {},
     "outputs": [
      {
       "output_type": "stream",
       "stream": "stdout",
       "text": [
        "3416.357488\n"
       ]
      }
     ],
     "prompt_number": 164
    },
    {
     "cell_type": "code",
     "collapsed": false,
     "input": [
      "# join geoid to persons dataset\n",
      "\n",
      "persons2 = persons2.join(households2['geoid'],on = 'sampn',how = 'left')"
     ],
     "language": "python",
     "metadata": {},
     "outputs": [],
     "prompt_number": 165
    },
    {
     "cell_type": "code",
     "collapsed": false,
     "input": [
      "# should check whether persons with incomplete had trips reported in the place-level data\n",
      "# it appears that there are no trips recorded in the place level dataset for persons that had a \"1\" for incomplete in the persons dataset\n",
      "\n",
      "persons2['perno_unique'] = persons2.sampn + persons2.perno\n",
      "places2['perno_unique'] = places2.sampn + places2.perno\n",
      "places2 = places2.join(persons2['incomplete'],on = 'perno_unique',how = 'left')\n",
      "places2['incomplete'].value_counts()"
     ],
     "language": "python",
     "metadata": {},
     "outputs": [
      {
       "metadata": {},
       "output_type": "pyout",
       "prompt_number": 166,
       "text": [
        "Series([], dtype: int64)"
       ]
      }
     ],
     "prompt_number": 166
    },
    {
     "cell_type": "code",
     "collapsed": false,
     "input": [
      "# incomplete = 1 if person did not report travel\n",
      "\n",
      "persons2['incomplete'].value_counts()"
     ],
     "language": "python",
     "metadata": {},
     "outputs": [
      {
       "metadata": {},
       "output_type": "pyout",
       "prompt_number": 167,
       "text": [
        "1    335\n",
        "dtype: int64"
       ]
      }
     ],
     "prompt_number": 167
    },
    {
     "cell_type": "code",
     "collapsed": false,
     "input": [
      "# get dataset of persons that are in a household that is located in the specified census tracts\n",
      "\n",
      "persons2_geo = persons2[persons2.geoid.isin(geo.tracts)]"
     ],
     "language": "python",
     "metadata": {},
     "outputs": [],
     "prompt_number": 168
    },
    {
     "cell_type": "code",
     "collapsed": false,
     "input": [
      "# get number of persons in that geography, excluding those that had an incomplete = 1\n",
      "\n",
      "persons2len = len(persons2_geo[persons2_geo.incomplete != 1])"
     ],
     "language": "python",
     "metadata": {},
     "outputs": [],
     "prompt_number": 169
    },
    {
     "cell_type": "code",
     "collapsed": false,
     "input": [
      "print tripsum2/persons2len"
     ],
     "language": "python",
     "metadata": {},
     "outputs": [
      {
       "output_type": "stream",
       "stream": "stdout",
       "text": [
        "24.0588555493\n"
       ]
      }
     ],
     "prompt_number": 170
    },
    {
     "cell_type": "heading",
     "level": 5,
     "metadata": {},
     "source": [
      "Personal Commercial VMT"
     ]
    },
    {
     "cell_type": "code",
     "collapsed": false,
     "input": [
      "# join geoid to activity dataset and filter by geography\n",
      "\n",
      "activity = activity.rename(columns = {'sampno':'sampn'})\n",
      "activity = activity.join(households['geoid'],on = 'sampn',how = 'left')\n",
      "activity_geo = activity[activity.geoid.isin(geo.tracts)]"
     ],
     "language": "python",
     "metadata": {},
     "outputs": [],
     "prompt_number": 171
    },
    {
     "cell_type": "code",
     "collapsed": false,
     "input": [
      "# create column \"apurp_comm\" that is \"1\" for personal commercial activities (see next cell for description of which activities are included)\n",
      "\n",
      "def commercial(places,activity):\n",
      "    \n",
      "    # create unique place identifier for both place and activity datasets\n",
      "    activity['place_id'] = activity.sampn.astype('str') + activity.perno.astype('str') + activity.plano.astype('str')\n",
      "    places['place_id'] = places.sampn.astype('str') + places.perno.astype('str') + places.plano.astype('str')\n",
      "\n",
      "    # identify places that had at least one personal commercial activity\n",
      "    places['apurp_comm'] = 0\n",
      "    for i in places.index.values:\n",
      "        c = 0\n",
      "        p = places.place_id.loc[i]\n",
      "        for a in activity.apurp[activity.place_id == p]:\n",
      "            if (a >= 28) & (a <= 37):\n",
      "                c += 1\n",
      "        if c > 0:\n",
      "            places['apurp_comm'].loc[i] = 1\n",
      "        else:\n",
      "            places['apurp_comm'].loc[i] = 0\n",
      "    \n",
      "    return places"
     ],
     "language": "python",
     "metadata": {},
     "outputs": [],
     "prompt_number": 172
    },
    {
     "cell_type": "code",
     "collapsed": false,
     "input": [
      "# The following \"personal commercial\" activity types are included in this calculation:\n",
      "\n",
      "# 27 # routine shopping  \n",
      "# 28 # shopping for major purchases\n",
      "# 29 # household errands (e.g. bank or dry cleaning)\n",
      "# 30 # personal business (e.g. government office, attorney, accountant)\n",
      "# 31 # eat meal at restaurant/diner\n",
      "# 32 # health care\n",
      "# 33 # civic/religious activities\n",
      "# 34 # outdoor exercise\n",
      "# 35 # indoor exercise\n",
      "# 36 # entertainment\n",
      "# 37 # social/visit friends or relatives"
     ],
     "language": "python",
     "metadata": {},
     "outputs": [],
     "prompt_number": 173
    },
    {
     "cell_type": "code",
     "collapsed": false,
     "input": [
      "# Calculate trip distance sum for commercial trips\n",
      "\n",
      "places_geo = commercial(places_geo,activity_geo)\n",
      "places_geo_comm = places_geo[places_geo.apurp_comm == 1]\n",
      "tripsum_comm = places_geo_comm.tripdistance.sum()"
     ],
     "language": "python",
     "metadata": {},
     "outputs": [],
     "prompt_number": 174
    },
    {
     "cell_type": "code",
     "collapsed": false,
     "input": [
      "# personal commercial VMT (use same number of persons as in overall VMT calculation)\n",
      "\n",
      "print tripsum_comm/personslen"
     ],
     "language": "python",
     "metadata": {},
     "outputs": [
      {
       "output_type": "stream",
       "stream": "stdout",
       "text": [
        "7.67648038028\n"
       ]
      }
     ],
     "prompt_number": 175
    }
   ],
   "metadata": {}
  }
 ]
}