{
 "metadata": {
  "name": "",
  "signature": "sha256:5e46549db3eda3ffb54b0b8304747e495a6f42009992f807c602efd81f26cef0"
 },
 "nbformat": 3,
 "nbformat_minor": 0,
 "worksheets": [
  {
   "cells": [
    {
     "cell_type": "markdown",
     "metadata": {},
     "source": [
      "Calculates rough per-capita VMT for a set of census tracts from the California Household Travel Survey.\n",
      "\n",
      "Methodology:\n",
      "\n",
      "Persons-level dataset was cleaned by:\n",
      "* Removing duplicate trips using trip distance as \"unique\" identifier (this is rough but should work since trip distance is calculated to 6 decimal places)\n",
      "* Removing trips that did not have a vehicle number associated with it\n",
      "\n",
      "The household home census tract for each person that took a trip was added to the place dataset. Trips were then filtered by geography. The per-capita VMT number is the sum of unique vehicle distances for those that live in the census tracts, divided by the number of people in the dataset that live in the census tracts."
     ]
    },
    {
     "cell_type": "code",
     "collapsed": false,
     "input": [
      "import pandas as pd, os, re, numpy as np, collections as co\n",
      "import matplotlib.pyplot as plt\n",
      "import vincent, tabulate"
     ],
     "language": "python",
     "metadata": {},
     "outputs": [],
     "prompt_number": 1
    },
    {
     "cell_type": "code",
     "collapsed": false,
     "input": [
      "# manually set directory\n",
      "dir = \"C:\\Users\\pksohn\\Box Sync\\Berkeley Coursework\\CP201A Planning Methods Gateway Fall\\Assignments\\Final\\Python\\CHTS Python Analysis for per capita VMT\"\n",
      "os.chdir(dir)"
     ],
     "language": "python",
     "metadata": {},
     "outputs": [],
     "prompt_number": 2
    },
    {
     "cell_type": "code",
     "collapsed": false,
     "input": [
      "# manually set file name for list of relevant tracts\n",
      "\n",
      "geo = pd.read_csv(\"tracts_oakland.csv\", dtype={'tracts':'str'})"
     ],
     "language": "python",
     "metadata": {},
     "outputs": [],
     "prompt_number": 3
    },
    {
     "cell_type": "code",
     "collapsed": false,
     "input": [
      "geo.head()"
     ],
     "language": "python",
     "metadata": {},
     "outputs": [
      {
       "html": [
        "<div style=\"max-height:1000px;max-width:1500px;overflow:auto;\">\n",
        "<table border=\"1\" class=\"dataframe\">\n",
        "  <thead>\n",
        "    <tr style=\"text-align: right;\">\n",
        "      <th></th>\n",
        "      <th>tracts</th>\n",
        "    </tr>\n",
        "  </thead>\n",
        "  <tbody>\n",
        "    <tr>\n",
        "      <th>0</th>\n",
        "      <td> 06001990000</td>\n",
        "    </tr>\n",
        "    <tr>\n",
        "      <th>1</th>\n",
        "      <td> 06001981900</td>\n",
        "    </tr>\n",
        "    <tr>\n",
        "      <th>2</th>\n",
        "      <td> 06001982000</td>\n",
        "    </tr>\n",
        "    <tr>\n",
        "      <th>3</th>\n",
        "      <td> 06001983200</td>\n",
        "    </tr>\n",
        "    <tr>\n",
        "      <th>4</th>\n",
        "      <td> 06001402600</td>\n",
        "    </tr>\n",
        "  </tbody>\n",
        "</table>\n",
        "</div>"
       ],
       "metadata": {},
       "output_type": "pyout",
       "prompt_number": 5,
       "text": [
        "        tracts\n",
        "0  06001990000\n",
        "1  06001981900\n",
        "2  06001982000\n",
        "3  06001983200\n",
        "4  06001402600"
       ]
      }
     ],
     "prompt_number": 5
    },
    {
     "cell_type": "code",
     "collapsed": false,
     "input": [
      "households = pd.read_csv('households.csv', dtype={'hctract':'string'})\n",
      "persons = pd.read_csv('persons.csv')\n",
      "places = pd.read_csv('place.csv')\n",
      "activity = pd.read_csv('activitiy.csv')"
     ],
     "language": "python",
     "metadata": {},
     "outputs": [
      {
       "output_type": "stream",
       "stream": "stderr",
       "text": [
        "C:\\Users\\pksohn\\Anaconda\\lib\\site-packages\\pandas\\io\\parsers.py:1154: DtypeWarning: Columns (25,27) have mixed types. Specify dtype option on import or set low_memory=False.\n",
        "  data = self._reader.read(nrows)\n",
        "C:\\Users\\pksohn\\Anaconda\\lib\\site-packages\\pandas\\io\\parsers.py:1154: DtypeWarning: Columns (40,60,93,97,104) have mixed types. Specify dtype option on import or set low_memory=False.\n",
        "  data = self._reader.read(nrows)\n"
       ]
      },
      {
       "output_type": "stream",
       "stream": "stderr",
       "text": [
        "C:\\Users\\pksohn\\Anaconda\\lib\\site-packages\\pandas\\io\\parsers.py:1154: DtypeWarning: Columns (22,37) have mixed types. Specify dtype option on import or set low_memory=False.\n",
        "  data = self._reader.read(nrows)\n"
       ]
      }
     ],
     "prompt_number": 6
    },
    {
     "cell_type": "code",
     "collapsed": false,
     "input": [
      "df = geo.set_index(\"tracts\")"
     ],
     "language": "python",
     "metadata": {},
     "outputs": [],
     "prompt_number": 7
    },
    {
     "cell_type": "heading",
     "level": 5,
     "metadata": {},
     "source": [
      "Data Cleaning: Households"
     ]
    },
    {
     "cell_type": "code",
     "collapsed": false,
     "input": [
      "# get home location from household level data\n",
      "\n",
      "households = households.rename(columns = {'sampno':'sampn'})\n",
      "households.ctfip = str(0) + households.ctfip.astype(str)\n",
      "households = households.set_index(households.sampn)"
     ],
     "language": "python",
     "metadata": {},
     "outputs": [],
     "prompt_number": 9
    },
    {
     "cell_type": "code",
     "collapsed": false,
     "input": [
      "# clean census tract FIPS codes and create geoid\n",
      "\n",
      "def tract_clean(df):\n",
      "    \n",
      "    df['hctract'] = df['hctract'].astype(str)\n",
      "    \n",
      "    df.hctract.loc[df.hctract.str.len() == 3] = \"000\" + df.hctract.loc[df.hctract.str.len() == 3]\n",
      "    df.hctract.loc[df.hctract.str.len() == 4] = \"00\" + df.hctract.loc[df.hctract.str.len() == 4]\n",
      "    df.hctract.loc[df.hctract.str.len() == 5] = \"0\" + df.hctract.loc[df.hctract.str.len() == 5]\n",
      "    \n",
      "    df['geoid'] = df.ctfip + df.hctract\n",
      "        \n",
      "    return df"
     ],
     "language": "python",
     "metadata": {},
     "outputs": [],
     "prompt_number": 10
    },
    {
     "cell_type": "code",
     "collapsed": false,
     "input": [
      "households = tract_clean(households)"
     ],
     "language": "python",
     "metadata": {},
     "outputs": [
      {
       "output_type": "stream",
       "stream": "stderr",
       "text": [
        "C:\\Users\\pksohn\\Anaconda\\lib\\site-packages\\pandas\\core\\indexing.py:121: SettingWithCopyWarning: \n",
        "A value is trying to be set on a copy of a slice from a DataFrame\n",
        "\n",
        "See the the caveats in the documentation: http://pandas.pydata.org/pandas-docs/stable/indexing.html#indexing-view-versus-copy\n",
        "  self._setitem_with_indexer(indexer, value)\n"
       ]
      }
     ],
     "prompt_number": 11
    },
    {
     "cell_type": "code",
     "collapsed": false,
     "input": [
      "households[['sampn','ctfip','hctract','geoid']].head()"
     ],
     "language": "python",
     "metadata": {},
     "outputs": [
      {
       "html": [
        "<div style=\"max-height:1000px;max-width:1500px;overflow:auto;\">\n",
        "<table border=\"1\" class=\"dataframe\">\n",
        "  <thead>\n",
        "    <tr style=\"text-align: right;\">\n",
        "      <th></th>\n",
        "      <th>sampn</th>\n",
        "      <th>ctfip</th>\n",
        "      <th>hctract</th>\n",
        "      <th>geoid</th>\n",
        "    </tr>\n",
        "    <tr>\n",
        "      <th>sampn</th>\n",
        "      <th></th>\n",
        "      <th></th>\n",
        "      <th></th>\n",
        "      <th></th>\n",
        "    </tr>\n",
        "  </thead>\n",
        "  <tbody>\n",
        "    <tr>\n",
        "      <th>1031985</th>\n",
        "      <td> 1031985</td>\n",
        "      <td> 06095</td>\n",
        "      <td> 252202</td>\n",
        "      <td> 06095252202</td>\n",
        "    </tr>\n",
        "    <tr>\n",
        "      <th>1032036</th>\n",
        "      <td> 1032036</td>\n",
        "      <td> 06073</td>\n",
        "      <td> 017030</td>\n",
        "      <td> 06073017030</td>\n",
        "    </tr>\n",
        "    <tr>\n",
        "      <th>1032053</th>\n",
        "      <td> 1032053</td>\n",
        "      <td> 06047</td>\n",
        "      <td> 001602</td>\n",
        "      <td> 06047001602</td>\n",
        "    </tr>\n",
        "    <tr>\n",
        "      <th>1032425</th>\n",
        "      <td> 1032425</td>\n",
        "      <td> 06083</td>\n",
        "      <td> 002930</td>\n",
        "      <td> 06083002930</td>\n",
        "    </tr>\n",
        "    <tr>\n",
        "      <th>1032558</th>\n",
        "      <td> 1032558</td>\n",
        "      <td> 06037</td>\n",
        "      <td> 242300</td>\n",
        "      <td> 06037242300</td>\n",
        "    </tr>\n",
        "  </tbody>\n",
        "</table>\n",
        "</div>"
       ],
       "metadata": {},
       "output_type": "pyout",
       "prompt_number": 22,
       "text": [
        "           sampn  ctfip hctract        geoid\n",
        "sampn                                       \n",
        "1031985  1031985  06095  252202  06095252202\n",
        "1032036  1032036  06073  017030  06073017030\n",
        "1032053  1032053  06047  001602  06047001602\n",
        "1032425  1032425  06083  002930  06083002930\n",
        "1032558  1032558  06037  242300  06037242300"
       ]
      }
     ],
     "prompt_number": 22
    },
    {
     "cell_type": "heading",
     "level": 5,
     "metadata": {},
     "source": [
      "Joining Data"
     ]
    },
    {
     "cell_type": "code",
     "collapsed": false,
     "input": [
      "# join geoid to place level\n",
      "\n",
      "places = places.join(households['geoid'],on = 'sampn',how = 'left')"
     ],
     "language": "python",
     "metadata": {},
     "outputs": [],
     "prompt_number": 12
    },
    {
     "cell_type": "code",
     "collapsed": false,
     "input": [
      "# filter persons dataset for tracts\n",
      "\n",
      "places_geo = places[places.geoid.isin(geo.tracts)]"
     ],
     "language": "python",
     "metadata": {},
     "outputs": [],
     "prompt_number": 13
    },
    {
     "cell_type": "heading",
     "level": 4,
     "metadata": {},
     "source": [
      "Mode split"
     ]
    },
    {
     "cell_type": "code",
     "collapsed": false,
     "input": [
      "for i in df.index.values:\n",
      "    df['trips'].loc[i] = len(places_geo[places_geo.geoid == i])"
     ],
     "language": "python",
     "metadata": {},
     "outputs": [],
     "prompt_number": 41
    },
    {
     "cell_type": "code",
     "collapsed": false,
     "input": [
      "for i in df.index.values:\n",
      "    df['biketrips'].loc[i] = len(places_geo[(places_geo.geoid == i) & (places_geo['mode'] == 2)])"
     ],
     "language": "python",
     "metadata": {},
     "outputs": [],
     "prompt_number": 46
    },
    {
     "cell_type": "code",
     "collapsed": false,
     "input": [
      "df['CHTS_bikeprop'] = df.biketrips/df.trips"
     ],
     "language": "python",
     "metadata": {},
     "outputs": [],
     "prompt_number": 50
    },
    {
     "cell_type": "code",
     "collapsed": false,
     "input": [
      "df.to_csv(\"CHTSbike.csv\")"
     ],
     "language": "python",
     "metadata": {},
     "outputs": [],
     "prompt_number": 52
    }
   ],
   "metadata": {}
  }
 ]
}